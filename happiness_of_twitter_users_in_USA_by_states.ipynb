{
 "cells": [
  {
   "cell_type": "markdown",
   "metadata": {
    "nbpresent": {
     "id": "6c10e8af-33e7-4c50-ba43-497b008f4f08"
    }
   },
   "source": [
    "\n",
    "                                          Python 3,
    "                                            23-09-2016\n",
    "Happiness ranking of twitter users in USA by states\n",
    "============\n",
    "\n",
    "> Author: **Gabriel Piles González**\n",
    "\n",
    "\n",
    "***\n",
    "\n",
    "\n",
    "The porpouse of this notebook is to compare the happiness of the twitter users in the USA by states. The sample is obtain by the API of twitter. It is going to be follow the following points.\n",
    "\n",
    "1. Load files: states list and words ratings\n",
    "2. Helper functions\n",
    "3. Execute analysis\n",
    "4. Results: Numbers of twitts\n",
    "5. Results: Happiness of twitter users in USA by states\n",
    "6. Conclusions and observations\n",
    "\n",
    "\n",
    "***\n",
    "\n",
    "\n",
    "### 1. Load files: states list and words ratings ###"
   ]
  },
  {
   "cell_type": "code",
   "execution_count": 125,
   "metadata": {
    "collapsed": false
   },
   "outputs": [
    {
     "name": "stdout",
     "output_type": "stream",
     "text": [
      "{'ID': 'Idaho', 'CT': 'Connecticut', 'AZ': 'Arizona', 'NV': 'Nevada', 'KY': 'Kentucky', 'NY': 'New York', 'OH': 'Ohio', 'NM': 'New Mexico', 'DE': 'Delaware', 'NC': 'North Carolina', 'MO': 'Missouri', 'MS': 'Mississippi', 'ME': 'Maine', 'KS': 'Kansas', 'IL': 'Illinois', 'TX': 'Texas', 'AR': 'Arkansas', 'PA': 'Pennsylvania', 'MI': 'Michigan', 'RI': 'Rhode Island', 'VA': 'Virginia', 'UT': 'Utah', 'AK': 'Alaska', 'AL': 'Alabama', 'IN': 'Indiana', 'ND': 'North Dakota', 'MT': 'Montana', 'WA': 'Washington', 'CO': 'Colorado', 'WV': 'West Virginia', 'WI': 'Wisconsin', 'TN': 'Tennessee', 'SD': 'South Dakota', 'NE': 'Nebraska', 'OK': 'Oklahoma', 'HI': 'Hawaii', 'GA': 'Georgia', 'FL': 'Florida', 'LA': 'Louisiana', 'WY': 'Wyoming', 'IA': 'Iowa', 'NH': 'New Hampshire', 'OR': 'Oregon', 'SC': 'South Carolina', 'CA': 'California', 'NJ': 'New Jersey', 'MN': 'Minnesota', 'MD': 'Maryland', 'MA': 'Massachusetts', 'VT': 'Vermont'}\n"
     ]
    }
   ],
   "source": [
    "# To load the states from a file\n",
    "\n",
    "states_text = open('USA_states.txt', 'r')\n",
    "states_dictionary = {}\n",
    "for each_state_text in states_text:\n",
    "    tokens=each_state_text.split(\"\\t\")\n",
    "    states_dictionary[tokens[1]] = tokens[0]\n",
    "\n",
    "states_text = open('USA_states.txt', 'r')\n",
    "states_by_code = {}\n",
    "for each_state_text in states_text:\n",
    "    tokens=each_state_text.split(\"\\t\")\n",
    "    states_by_code[tokens[0]] = tokens[1]\n",
    "\n",
    "# If the states are already loaded It is possible to do this\n",
    "# states_dictionary = {'Michigan': 'MI', 'Vermont': 'VT', 'West': 'WV', 'Maine': 'ME', 'California': 'CA', 'Alabama': 'AL', 'Hawaii': 'HI', 'Colorado': 'CO', 'New': 'NY', 'Louisiana': 'LA', 'Rhode': 'RI', 'Mississippi': 'MS', 'Illinois': 'IL', 'Alaska': 'AK', 'Arkansas': 'AR', 'Missouri': 'MO', 'Montana': 'MT', 'Utah': 'UT', 'Connecticut': 'CT', 'Minnesota': 'MN', 'Virginia': 'VA', 'Oregon': 'OR', 'Wyoming': 'WY', 'Massachusetts': 'MA', 'Iowa': 'IA', 'Georgia': 'GA', 'Nevada': 'NV', 'Indiana': 'IN', 'Washington': 'WA', 'North': 'ND', 'Oklahoma': 'OK', 'Wisconsin': 'WI', 'Maryland': 'MD', 'Kentucky': 'KY', 'Tennessee': 'TN', 'Texas': 'TX', 'Kansas': 'KS', 'South': 'SD', 'Delaware': 'DE', 'Arizona': 'AZ', 'Idaho': 'ID', 'Ohio': 'OH', 'Pennsylvania': 'PA', 'Florida': 'FL', 'Nebraska': 'NE'}\n",
    "print(states_by_code)"
   ]
  },
  {
   "cell_type": "code",
   "execution_count": 31,
   "metadata": {
    "collapsed": false
   },
   "outputs": [
    {
     "name": "stdout",
     "output_type": "stream",
     "text": [
      "abandon -2\n",
      "abandoned -2\n",
      "abandons -2\n",
      "abducted -2\n",
      "abduction -2\n",
      "-3\n"
     ]
    }
   ],
   "source": [
    "# To load the word rating happiness\n",
    "\n",
    "words_ratings = open('AFINN-111.txt', 'r')\n",
    "words_ratings_dictionary = {}\n",
    "for each_rating in words_ratings:\n",
    "    tokens=each_rating.split(\"\\t\")\n",
    "    words_ratings_dictionary[tokens[0]] = int(tokens[1])\n",
    "\n",
    "for key in sorted(words_ratings_dictionary)[:5]:\n",
    "    print(key, str(words_ratings_dictionary[key]))\n",
    "print(words_ratings_dictionary[\"can't stand\"])"
   ]
  },
  {
   "cell_type": "markdown",
   "metadata": {},
   "source": [
    "\n",
    "\n",
    "***\n",
    "\n",
    "\n",
    "### 2. Helper functions ###\n",
    "\n",
    "It is going to be defined 6 functions in order to help to do the analysis.\n",
    "\n",
    "1. **initialize_dictionary:** for initiate a states dictionary\n",
    "2. **USA_twitt:** return true if it is a twitt from USA and false otherwise\n",
    "3. **get_state_of_USA:** return the state of the twitt passed as a parameter\n",
    "4. **twitt_evaluation:** return a number that reperesents the happiness of a twitt\n",
    "5. **plot_happiness:** create a bar chart\n",
    "6. **check_happiness:** this function loops through the lines of a file that contains twitts and store the number of twitts per state and the total happiness per state. It returns the number of twitts evaluated.\n"
   ]
  },
  {
   "cell_type": "code",
   "execution_count": 32,
   "metadata": {
    "collapsed": false
   },
   "outputs": [],
   "source": [
    "def initialize_dictionary(dictionary):\n",
    "    dictionary_out = {}\n",
    "    for each_key, each_value in dictionary.items():\n",
    "        dictionary_out[each_value] = 0\n",
    "    return dictionary_out"
   ]
  },
  {
   "cell_type": "code",
   "execution_count": 33,
   "metadata": {
    "collapsed": true
   },
   "outputs": [],
   "source": [
    "import json\n",
    "\n",
    "def USA_twitt(twitt):\n",
    "    place = twitt.get('place')\n",
    "    if not place:\n",
    "        return False\n",
    "    countrie_code = twitt.get('place').get('country_code')\n",
    "    if countrie_code == \"US\":\n",
    "        return True\n",
    "    return False\n"
   ]
  },
  {
   "cell_type": "code",
   "execution_count": 46,
   "metadata": {
    "collapsed": false
   },
   "outputs": [],
   "source": [
    "def get_state_of_USA(twitt):\n",
    "    place_full_text = twitt.get('place').get('full_name')\n",
    "    tokens = place_full_text.split(', ')\n",
    "    if len(tokens) < 2:\n",
    "        return None\n",
    "    if tokens[1] == \"USA\":\n",
    "        if tokens[0] in states_dictionary:\n",
    "            return states_dictionary[tokens[0]]\n",
    "        else:\n",
    "            return None\n",
    "    return tokens[1]"
   ]
  },
  {
   "cell_type": "code",
   "execution_count": 103,
   "metadata": {
    "collapsed": false
   },
   "outputs": [
    {
     "data": {
      "text/plain": [
       "-3"
      ]
     },
     "execution_count": 103,
     "metadata": {},
     "output_type": "execute_result"
    }
   ],
   "source": [
    "import re\n",
    "def twitt_evaluation(twitt_text):\n",
    "    rating = 0\n",
    "    words = twitt_text.split(' ')\n",
    "    for each_word in words:\n",
    "        clean_word = re.sub('\\W+','', each_word )\n",
    "        if clean_word in words_ratings_dictionary:\n",
    "            rating += words_ratings_dictionary[clean_word]\n",
    "    return rating\n",
    "twitt_evaluation('well! surprise bad man!!!')"
   ]
  },
  {
   "cell_type": "code",
   "execution_count": 138,
   "metadata": {
    "collapsed": true
   },
   "outputs": [],
   "source": [
    "from bokeh.charts import Bar, output_notebook, show\n",
    "\n",
    "def plot_bar_chart(name, data, values, labels):\n",
    "        # It is going to be plot in the notebook\n",
    "        output_notebook()\n",
    "\n",
    "        fig = Bar(data, values=values, label=labels, title=name, plot_width=900, legend=False)\n",
    "        \n",
    "        show(fig)"
   ]
  },
  {
   "cell_type": "code",
   "execution_count": 107,
   "metadata": {
    "collapsed": true
   },
   "outputs": [],
   "source": [
    "import os.path\n",
    "\n",
    "def check_happiness(file, happiness_by_state, number_twitts_by_state):\n",
    "    twitts_data = open(file, 'r')\n",
    "    number_twitts=0\n",
    "    for each_twitt in twitts_data:\n",
    "        number_twitts+=1\n",
    "        twitt_json = json.loads(each_twitt)\n",
    "        if not USA_twitt(twitt_json):\n",
    "            continue\n",
    "        rating = twitt_evaluation(twitt_json.get('text'))\n",
    "        if rating == 0:\n",
    "            continue\n",
    "        state = get_state_of_USA(twitt_json)\n",
    "        if not state:\n",
    "            continue\n",
    "        if state in happiness_by_state:\n",
    "            happiness_by_state[state] += rating\n",
    "            number_twitts_by_state[state] +=1\n",
    "    return(number_twitts)"
   ]
  },
  {
   "cell_type": "markdown",
   "metadata": {},
   "source": [
    "\n",
    "***\n",
    "\n",
    "### 3. Execute analysis ###\n",
    "\n",
    "The next section loops through a set of files containing lines of twitts and evaluate each file"
   ]
  },
  {
   "cell_type": "code",
   "execution_count": 109,
   "metadata": {
    "collapsed": false,
    "nbpresent": {
     "id": "c82dc840-9cbc-4af5-b97a-758bd12021ec"
    }
   },
   "outputs": [],
   "source": [
    "happiness_by_state = initialize_dictionary(states_dictionary)\n",
    "number_twitts_by_state = initialize_dictionary(states_dictionary)\n",
    "\n",
    "number_twitts_evaluated = 0\n",
    "number_files = 0\n",
    "for i in range(209):\n",
    "    file_name = \"twitts_sample_\" + str(i)\n",
    "    if os.path.exists(file_name):\n",
    "        number_files += 1\n",
    "        number_twitts_evaluated += check_happiness(file_name, happiness_by_state, number_twitts_by_state)"
   ]
  },
  {
   "cell_type": "markdown",
   "metadata": {},
   "source": [
    "\n",
    "***\n",
    "\n",
    "### 4. Results: Numbers of twitts ###\n",
    "\n",
    "The results obtained are the following."
   ]
  },
  {
   "cell_type": "code",
   "execution_count": 139,
   "metadata": {
    "collapsed": false
   },
   "outputs": [
    {
     "name": "stdout",
     "output_type": "stream",
     "text": [
      "------------------------------------------------------------\n",
      "\n",
      "Number of twitts evaluated: 241941\n",
      "Number of twitts with valid information: 1107\n",
      "\n",
      "------------------------------------------------------------\n",
      "\n",
      "Percentage of valid twitts: 0.46%\n",
      "\n"
     ]
    },
    {
     "data": {
      "text/html": [
       "\n",
       "    <div class=\"bk-root\">\n",
       "        <a href=\"http://bokeh.pydata.org\" target=\"_blank\" class=\"bk-logo bk-logo-small bk-logo-notebook\"></a>\n",
       "        <span id=\"f8676c82-6625-49f7-94eb-47dc0b51bf3d\">Loading BokehJS ...</span>\n",
       "    </div>"
      ]
     },
     "metadata": {},
     "output_type": "display_data"
    },
    {
     "data": {
      "application/javascript": [
       "\n",
       "(function(global) {\n",
       "  function now() {\n",
       "    return new Date();\n",
       "  }\n",
       "\n",
       "  if (typeof (window._bokeh_onload_callbacks) === \"undefined\") {\n",
       "    window._bokeh_onload_callbacks = [];\n",
       "  }\n",
       "\n",
       "  function run_callbacks() {\n",
       "    window._bokeh_onload_callbacks.forEach(function(callback) { callback() });\n",
       "    delete window._bokeh_onload_callbacks\n",
       "    console.info(\"Bokeh: all callbacks have finished\");\n",
       "  }\n",
       "\n",
       "  function load_libs(js_urls, callback) {\n",
       "    window._bokeh_onload_callbacks.push(callback);\n",
       "    if (window._bokeh_is_loading > 0) {\n",
       "      console.log(\"Bokeh: BokehJS is being loaded, scheduling callback at\", now());\n",
       "      return null;\n",
       "    }\n",
       "    if (js_urls == null || js_urls.length === 0) {\n",
       "      run_callbacks();\n",
       "      return null;\n",
       "    }\n",
       "    console.log(\"Bokeh: BokehJS not loaded, scheduling load and callback at\", now());\n",
       "    window._bokeh_is_loading = js_urls.length;\n",
       "    for (var i = 0; i < js_urls.length; i++) {\n",
       "      var url = js_urls[i];\n",
       "      var s = document.createElement('script');\n",
       "      s.src = url;\n",
       "      s.async = false;\n",
       "      s.onreadystatechange = s.onload = function() {\n",
       "        window._bokeh_is_loading--;\n",
       "        if (window._bokeh_is_loading === 0) {\n",
       "          console.log(\"Bokeh: all BokehJS libraries loaded\");\n",
       "          run_callbacks()\n",
       "        }\n",
       "      };\n",
       "      s.onerror = function() {\n",
       "        console.warn(\"failed to load library \" + url);\n",
       "      };\n",
       "      console.log(\"Bokeh: injecting script tag for BokehJS library: \", url);\n",
       "      document.getElementsByTagName(\"head\")[0].appendChild(s);\n",
       "    }\n",
       "  };\n",
       "\n",
       "  var js_urls = ['https://cdn.pydata.org/bokeh/release/bokeh-0.12.0.min.js', 'https://cdn.pydata.org/bokeh/release/bokeh-widgets-0.12.0.min.js', 'https://cdn.pydata.org/bokeh/release/bokeh-compiler-0.12.0.min.js'];\n",
       "\n",
       "  var inline_js = [\n",
       "    function(Bokeh) {\n",
       "      Bokeh.set_log_level(\"info\");\n",
       "    },\n",
       "    \n",
       "    function(Bokeh) {\n",
       "      Bokeh.$(\"#f8676c82-6625-49f7-94eb-47dc0b51bf3d\").text(\"BokehJS successfully loaded\");\n",
       "    },\n",
       "    function(Bokeh) {\n",
       "      console.log(\"Bokeh: injecting CSS: https://cdn.pydata.org/bokeh/release/bokeh-0.12.0.min.css\");\n",
       "      Bokeh.embed.inject_css(\"https://cdn.pydata.org/bokeh/release/bokeh-0.12.0.min.css\");\n",
       "      console.log(\"Bokeh: injecting CSS: https://cdn.pydata.org/bokeh/release/bokeh-widgets-0.12.0.min.css\");\n",
       "      Bokeh.embed.inject_css(\"https://cdn.pydata.org/bokeh/release/bokeh-widgets-0.12.0.min.css\");\n",
       "    }\n",
       "  ];\n",
       "\n",
       "  function run_inline_js() {\n",
       "    for (var i = 0; i < inline_js.length; i++) {\n",
       "      inline_js[i](window.Bokeh);\n",
       "    }\n",
       "  }\n",
       "\n",
       "  if (window._bokeh_is_loading === 0) {\n",
       "    console.log(\"Bokeh: BokehJS loaded, going straight to plotting\");\n",
       "    run_inline_js();\n",
       "  } else {\n",
       "    load_libs(js_urls, function() {\n",
       "      console.log(\"Bokeh: BokehJS plotting callback run at\", now());\n",
       "      run_inline_js();\n",
       "    });\n",
       "  }\n",
       "}(this));"
      ]
     },
     "metadata": {},
     "output_type": "display_data"
    },
    {
     "data": {
      "text/html": [
       "\n",
       "\n",
       "    <div class=\"bk-root\">\n",
       "        <div class=\"plotdiv\" id=\"acca909b-702a-45a3-843f-9b0d2e620ae7\"></div>\n",
       "    </div>\n",
       "<script type=\"text/javascript\">\n",
       "  \n",
       "  (function(global) {\n",
       "    function now() {\n",
       "      return new Date();\n",
       "    }\n",
       "  \n",
       "    if (typeof (window._bokeh_onload_callbacks) === \"undefined\") {\n",
       "      window._bokeh_onload_callbacks = [];\n",
       "    }\n",
       "  \n",
       "    function run_callbacks() {\n",
       "      window._bokeh_onload_callbacks.forEach(function(callback) { callback() });\n",
       "      delete window._bokeh_onload_callbacks\n",
       "      console.info(\"Bokeh: all callbacks have finished\");\n",
       "    }\n",
       "  \n",
       "    function load_libs(js_urls, callback) {\n",
       "      window._bokeh_onload_callbacks.push(callback);\n",
       "      if (window._bokeh_is_loading > 0) {\n",
       "        console.log(\"Bokeh: BokehJS is being loaded, scheduling callback at\", now());\n",
       "        return null;\n",
       "      }\n",
       "      if (js_urls == null || js_urls.length === 0) {\n",
       "        run_callbacks();\n",
       "        return null;\n",
       "      }\n",
       "      console.log(\"Bokeh: BokehJS not loaded, scheduling load and callback at\", now());\n",
       "      window._bokeh_is_loading = js_urls.length;\n",
       "      for (var i = 0; i < js_urls.length; i++) {\n",
       "        var url = js_urls[i];\n",
       "        var s = document.createElement('script');\n",
       "        s.src = url;\n",
       "        s.async = false;\n",
       "        s.onreadystatechange = s.onload = function() {\n",
       "          window._bokeh_is_loading--;\n",
       "          if (window._bokeh_is_loading === 0) {\n",
       "            console.log(\"Bokeh: all BokehJS libraries loaded\");\n",
       "            run_callbacks()\n",
       "          }\n",
       "        };\n",
       "        s.onerror = function() {\n",
       "          console.warn(\"failed to load library \" + url);\n",
       "        };\n",
       "        console.log(\"Bokeh: injecting script tag for BokehJS library: \", url);\n",
       "        document.getElementsByTagName(\"head\")[0].appendChild(s);\n",
       "      }\n",
       "    };var element = document.getElementById(\"acca909b-702a-45a3-843f-9b0d2e620ae7\");\n",
       "    if (element == null) {\n",
       "      console.log(\"Bokeh: ERROR: autoload.js configured with elementid 'acca909b-702a-45a3-843f-9b0d2e620ae7' but no matching script tag was found. \")\n",
       "      return false;\n",
       "    }\n",
       "  \n",
       "    var js_urls = [];\n",
       "  \n",
       "    var inline_js = [\n",
       "      function(Bokeh) {\n",
       "        Bokeh.$(function() {\n",
       "            var docs_json = {\"3471c5f4-9038-4054-89a3-bb0824f0958d\":{\"roots\":{\"references\":[{\"attributes\":{\"fill_alpha\":{\"field\":\"fill_alpha\"},\"fill_color\":{\"field\":\"color\"},\"height\":{\"field\":\"height\",\"units\":\"data\"},\"line_color\":{\"field\":\"line_color\"},\"width\":{\"field\":\"width\",\"units\":\"data\"},\"x\":{\"field\":\"x\"},\"y\":{\"field\":\"y\"}},\"id\":\"ea831bcc-34b6-4ad0-ade7-2a6bdb0a7d26\",\"type\":\"Rect\"},{\"attributes\":{\"fill_alpha\":{\"field\":\"fill_alpha\"},\"fill_color\":{\"field\":\"color\"},\"height\":{\"field\":\"height\",\"units\":\"data\"},\"line_color\":{\"field\":\"line_color\"},\"width\":{\"field\":\"width\",\"units\":\"data\"},\"x\":{\"field\":\"x\"},\"y\":{\"field\":\"y\"}},\"id\":\"9e948199-8ba7-4bd1-87d9-79e13275a236\",\"type\":\"Rect\"},{\"attributes\":{\"callback\":null,\"column_names\":[\"line_alpha\",\"color\",\"height\",\"y\",\"label\",\"fill_alpha\",\"x\",\"width\",\"line_color\"],\"data\":{\"chart_index\":[{\"labels\":\"Arizona\"}],\"color\":[\"#f22c40\"],\"fill_alpha\":[0.8],\"height\":[19.0],\"label\":[{\"labels\":\"Arizona\"}],\"labels\":[\"Arizona\"],\"line_alpha\":[1.0],\"line_color\":[\"white\"],\"width\":[0.8],\"x\":[\"Arizona\"],\"y\":[9.5]}},\"id\":\"e6113cda-6522-4fe4-8ff9-800acd8a3eb8\",\"type\":\"ColumnDataSource\"},{\"attributes\":{\"callback\":null,\"column_names\":[\"line_alpha\",\"color\",\"height\",\"y\",\"label\",\"fill_alpha\",\"x\",\"width\",\"line_color\"],\"data\":{\"chart_index\":[{\"labels\":\"West Virginia\"}],\"color\":[\"#f22c40\"],\"fill_alpha\":[0.8],\"height\":[7.0],\"label\":[{\"labels\":\"West Virginia\"}],\"labels\":[\"West Virginia\"],\"line_alpha\":[1.0],\"line_color\":[\"white\"],\"width\":[0.8],\"x\":[\"West Virginia\"],\"y\":[3.5]}},\"id\":\"59a7379a-4826-4939-8467-53cc0ebc18f9\",\"type\":\"ColumnDataSource\"},{\"attributes\":{\"callback\":null,\"column_names\":[\"line_alpha\",\"color\",\"height\",\"y\",\"label\",\"fill_alpha\",\"x\",\"width\",\"line_color\"],\"data\":{\"chart_index\":[{\"labels\":\"Georgia\"}],\"color\":[\"#f22c40\"],\"fill_alpha\":[0.8],\"height\":[40.0],\"label\":[{\"labels\":\"Georgia\"}],\"labels\":[\"Georgia\"],\"line_alpha\":[1.0],\"line_color\":[\"white\"],\"width\":[0.8],\"x\":[\"Georgia\"],\"y\":[20.0]}},\"id\":\"969da849-8480-46fe-9fdf-2b3135a01de5\",\"type\":\"ColumnDataSource\"},{\"attributes\":{\"data_source\":{\"id\":\"fc5c705f-f1f9-4962-b070-0274b6764a24\",\"type\":\"ColumnDataSource\"},\"glyph\":{\"id\":\"fe37c801-5329-4946-b467-eea2ed1b7334\",\"type\":\"Rect\"},\"hover_glyph\":null,\"nonselection_glyph\":null,\"selection_glyph\":null},\"id\":\"d2060b93-b9b2-4c81-8cf6-17ddfbd58433\",\"type\":\"GlyphRenderer\"},{\"attributes\":{\"active_drag\":\"auto\",\"active_scroll\":\"auto\",\"active_tap\":\"auto\",\"tools\":[{\"id\":\"79b9c183-d305-4253-9753-e7ba705e338f\",\"type\":\"PanTool\"},{\"id\":\"b1784773-42d3-4dc8-a26b-a438c94bb9bf\",\"type\":\"WheelZoomTool\"},{\"id\":\"82755692-034f-4df8-adbd-0a72e2af9d04\",\"type\":\"BoxZoomTool\"},{\"id\":\"d58552b7-b97c-4991-b4c1-7315598f873f\",\"type\":\"SaveTool\"},{\"id\":\"ecd09f04-a689-47a3-bbcc-fcee9d09fbb0\",\"type\":\"ResetTool\"},{\"id\":\"588cd478-3dff-4a51-80bb-7cc360172f4b\",\"type\":\"HelpTool\"}]},\"id\":\"7d434608-ad99-4d53-ae9e-4c3454598b27\",\"type\":\"Toolbar\"},{\"attributes\":{\"callback\":null,\"column_names\":[\"line_alpha\",\"color\",\"height\",\"y\",\"label\",\"fill_alpha\",\"x\",\"width\",\"line_color\"],\"data\":{\"chart_index\":[{\"labels\":\"California\"}],\"color\":[\"#f22c40\"],\"fill_alpha\":[0.8],\"height\":[117.0],\"label\":[{\"labels\":\"California\"}],\"labels\":[\"California\"],\"line_alpha\":[1.0],\"line_color\":[\"white\"],\"width\":[0.8],\"x\":[\"California\"],\"y\":[58.5]}},\"id\":\"a617b236-c52c-48d0-8a4b-6dc5cbbbefc4\",\"type\":\"ColumnDataSource\"},{\"attributes\":{\"callback\":null,\"column_names\":[\"line_alpha\",\"color\",\"height\",\"y\",\"label\",\"fill_alpha\",\"x\",\"width\",\"line_color\"],\"data\":{\"chart_index\":[{\"labels\":\"New Jersey\"}],\"color\":[\"#f22c40\"],\"fill_alpha\":[0.8],\"height\":[35.0],\"label\":[{\"labels\":\"New Jersey\"}],\"labels\":[\"New Jersey\"],\"line_alpha\":[1.0],\"line_color\":[\"white\"],\"width\":[0.8],\"x\":[\"New Jersey\"],\"y\":[17.5]}},\"id\":\"e51b4123-a9c4-4e20-b454-87831a65b8b4\",\"type\":\"ColumnDataSource\"},{\"attributes\":{\"fill_alpha\":{\"field\":\"fill_alpha\"},\"fill_color\":{\"field\":\"color\"},\"height\":{\"field\":\"height\",\"units\":\"data\"},\"line_color\":{\"field\":\"line_color\"},\"width\":{\"field\":\"width\",\"units\":\"data\"},\"x\":{\"field\":\"x\"},\"y\":{\"field\":\"y\"}},\"id\":\"01587ee0-8dc4-4851-b2e7-96069bf92155\",\"type\":\"Rect\"},{\"attributes\":{\"data_source\":{\"id\":\"969da849-8480-46fe-9fdf-2b3135a01de5\",\"type\":\"ColumnDataSource\"},\"glyph\":{\"id\":\"8016e0da-98b4-4e4c-8cfc-84f8109f1666\",\"type\":\"Rect\"},\"hover_glyph\":null,\"nonselection_glyph\":null,\"selection_glyph\":null},\"id\":\"aa3e25e4-66f4-432e-87f9-1ccd580be383\",\"type\":\"GlyphRenderer\"},{\"attributes\":{\"fill_alpha\":{\"field\":\"fill_alpha\"},\"fill_color\":{\"field\":\"color\"},\"height\":{\"field\":\"height\",\"units\":\"data\"},\"line_color\":{\"field\":\"line_color\"},\"width\":{\"field\":\"width\",\"units\":\"data\"},\"x\":{\"field\":\"x\"},\"y\":{\"field\":\"y\"}},\"id\":\"35212c4f-e822-44bd-bdde-a63fdc806ce9\",\"type\":\"Rect\"},{\"attributes\":{\"plot\":{\"id\":\"0b92f6e3-021d-4a86-b218-40e95a58275e\",\"subtype\":\"Chart\",\"type\":\"Plot\"}},\"id\":\"b1784773-42d3-4dc8-a26b-a438c94bb9bf\",\"type\":\"WheelZoomTool\"},{\"attributes\":{\"data_source\":{\"id\":\"dc9218b2-111b-420f-b4b9-ab83469a8652\",\"type\":\"ColumnDataSource\"},\"glyph\":{\"id\":\"c28aed80-ba5f-406f-bc89-267206c874cc\",\"type\":\"Rect\"},\"hover_glyph\":null,\"nonselection_glyph\":null,\"selection_glyph\":null},\"id\":\"6e37d6f0-6b9f-4583-be0a-82fcd5feadf6\",\"type\":\"GlyphRenderer\"},{\"attributes\":{\"callback\":null,\"column_names\":[\"line_alpha\",\"color\",\"height\",\"y\",\"label\",\"fill_alpha\",\"x\",\"width\",\"line_color\"],\"data\":{\"chart_index\":[{\"labels\":\"Wisconsin\"}],\"color\":[\"#f22c40\"],\"fill_alpha\":[0.8],\"height\":[15.0],\"label\":[{\"labels\":\"Wisconsin\"}],\"labels\":[\"Wisconsin\"],\"line_alpha\":[1.0],\"line_color\":[\"white\"],\"width\":[0.8],\"x\":[\"Wisconsin\"],\"y\":[7.5]}},\"id\":\"cea09ed1-6a4c-40a4-8bf7-b3d0b1e03528\",\"type\":\"ColumnDataSource\"},{\"attributes\":{\"callback\":null,\"column_names\":[\"line_alpha\",\"color\",\"height\",\"y\",\"label\",\"fill_alpha\",\"x\",\"width\",\"line_color\"],\"data\":{\"chart_index\":[{\"labels\":\"Texas\"}],\"color\":[\"#f22c40\"],\"fill_alpha\":[0.8],\"height\":[119.0],\"label\":[{\"labels\":\"Texas\"}],\"labels\":[\"Texas\"],\"line_alpha\":[1.0],\"line_color\":[\"white\"],\"width\":[0.8],\"x\":[\"Texas\"],\"y\":[59.5]}},\"id\":\"179cbbf0-7597-4317-ad11-67a1a6e707c7\",\"type\":\"ColumnDataSource\"},{\"attributes\":{\"callback\":null,\"column_names\":[\"line_alpha\",\"color\",\"height\",\"y\",\"label\",\"fill_alpha\",\"x\",\"width\",\"line_color\"],\"data\":{\"chart_index\":[{\"labels\":\"Tennessee\"}],\"color\":[\"#f22c40\"],\"fill_alpha\":[0.8],\"height\":[23.0],\"label\":[{\"labels\":\"Tennessee\"}],\"labels\":[\"Tennessee\"],\"line_alpha\":[1.0],\"line_color\":[\"white\"],\"width\":[0.8],\"x\":[\"Tennessee\"],\"y\":[11.5]}},\"id\":\"bf58e38d-c6df-401f-8bdc-cb1858a65a82\",\"type\":\"ColumnDataSource\"},{\"attributes\":{\"callback\":null,\"column_names\":[\"line_alpha\",\"color\",\"height\",\"y\",\"label\",\"fill_alpha\",\"x\",\"width\",\"line_color\"],\"data\":{\"chart_index\":[{\"labels\":\"Oklahoma\"}],\"color\":[\"#f22c40\"],\"fill_alpha\":[0.8],\"height\":[9.0],\"label\":[{\"labels\":\"Oklahoma\"}],\"labels\":[\"Oklahoma\"],\"line_alpha\":[1.0],\"line_color\":[\"white\"],\"width\":[0.8],\"x\":[\"Oklahoma\"],\"y\":[4.5]}},\"id\":\"d6ffe5ec-63cf-4bd3-bb38-24d21cb76ffe\",\"type\":\"ColumnDataSource\"},{\"attributes\":{\"fill_alpha\":{\"field\":\"fill_alpha\"},\"fill_color\":{\"field\":\"color\"},\"height\":{\"field\":\"height\",\"units\":\"data\"},\"line_color\":{\"field\":\"line_color\"},\"width\":{\"field\":\"width\",\"units\":\"data\"},\"x\":{\"field\":\"x\"},\"y\":{\"field\":\"y\"}},\"id\":\"9d5783a0-b8f7-471b-b42f-3090e6d51ed5\",\"type\":\"Rect\"},{\"attributes\":{\"data_source\":{\"id\":\"e6113cda-6522-4fe4-8ff9-800acd8a3eb8\",\"type\":\"ColumnDataSource\"},\"glyph\":{\"id\":\"234da9dc-347d-4c93-97cf-2fe00c4f437b\",\"type\":\"Rect\"},\"hover_glyph\":null,\"nonselection_glyph\":null,\"selection_glyph\":null},\"id\":\"5ac55d03-49b8-4a7d-aec1-94eee6884307\",\"type\":\"GlyphRenderer\"},{\"attributes\":{\"data_source\":{\"id\":\"d7944384-5194-4882-9b8f-f8ef20e32a21\",\"type\":\"ColumnDataSource\"},\"glyph\":{\"id\":\"f2948079-9a92-4151-bd95-1a94d40ebd26\",\"type\":\"Rect\"},\"hover_glyph\":null,\"nonselection_glyph\":null,\"selection_glyph\":null},\"id\":\"058c7835-4f43-4dd7-a6ab-d06c7af63d8d\",\"type\":\"GlyphRenderer\"},{\"attributes\":{\"callback\":null,\"column_names\":[\"line_alpha\",\"color\",\"height\",\"y\",\"label\",\"fill_alpha\",\"x\",\"width\",\"line_color\"],\"data\":{\"chart_index\":[{\"labels\":\"Missouri\"}],\"color\":[\"#f22c40\"],\"fill_alpha\":[0.8],\"height\":[17.0],\"label\":[{\"labels\":\"Missouri\"}],\"labels\":[\"Missouri\"],\"line_alpha\":[1.0],\"line_color\":[\"white\"],\"width\":[0.8],\"x\":[\"Missouri\"],\"y\":[8.5]}},\"id\":\"ac4d1f11-c74e-40e9-9582-c39b5b500d77\",\"type\":\"ColumnDataSource\"},{\"attributes\":{\"fill_alpha\":{\"field\":\"fill_alpha\"},\"fill_color\":{\"field\":\"color\"},\"height\":{\"field\":\"height\",\"units\":\"data\"},\"line_color\":{\"field\":\"line_color\"},\"width\":{\"field\":\"width\",\"units\":\"data\"},\"x\":{\"field\":\"x\"},\"y\":{\"field\":\"y\"}},\"id\":\"ecef5330-ad26-4a68-a4a6-d15c7ded8110\",\"type\":\"Rect\"},{\"attributes\":{\"fill_alpha\":{\"field\":\"fill_alpha\"},\"fill_color\":{\"field\":\"color\"},\"height\":{\"field\":\"height\",\"units\":\"data\"},\"line_color\":{\"field\":\"line_color\"},\"width\":{\"field\":\"width\",\"units\":\"data\"},\"x\":{\"field\":\"x\"},\"y\":{\"field\":\"y\"}},\"id\":\"0775a210-c401-4e05-ba3c-d5366a343017\",\"type\":\"Rect\"},{\"attributes\":{\"axis_label\":\"Sum( Values )\",\"formatter\":{\"id\":\"4a70d8f1-14d2-4bcb-b840-851abbf5010a\",\"type\":\"BasicTickFormatter\"},\"plot\":{\"id\":\"0b92f6e3-021d-4a86-b218-40e95a58275e\",\"subtype\":\"Chart\",\"type\":\"Plot\"},\"ticker\":{\"id\":\"480bf67e-c61b-45fd-b1d2-9e3bebe602a6\",\"type\":\"BasicTicker\"}},\"id\":\"130e9364-a5a4-49a2-947c-7fe792a592d8\",\"type\":\"LinearAxis\"},{\"attributes\":{\"data_source\":{\"id\":\"0fb3e9f3-6a1a-401e-b059-34a7d94814fd\",\"type\":\"ColumnDataSource\"},\"glyph\":{\"id\":\"9d5783a0-b8f7-471b-b42f-3090e6d51ed5\",\"type\":\"Rect\"},\"hover_glyph\":null,\"nonselection_glyph\":null,\"selection_glyph\":null},\"id\":\"315ec979-ea0b-4d95-a6bc-be67105c50d7\",\"type\":\"GlyphRenderer\"},{\"attributes\":{\"data_source\":{\"id\":\"182f3d97-d028-4013-9141-6ed8813a3162\",\"type\":\"ColumnDataSource\"},\"glyph\":{\"id\":\"40bab664-715b-4cb2-837b-030723b3ecdd\",\"type\":\"Rect\"},\"hover_glyph\":null,\"nonselection_glyph\":null,\"selection_glyph\":null},\"id\":\"a77dd0ea-5fa2-4bd2-845f-6ba0489559c3\",\"type\":\"GlyphRenderer\"},{\"attributes\":{\"data_source\":{\"id\":\"cd96438d-3a2c-4adf-90c5-b9e8f7e0bc10\",\"type\":\"ColumnDataSource\"},\"glyph\":{\"id\":\"d7f5ab27-1fd1-4f38-a5fd-58ba0c683778\",\"type\":\"Rect\"},\"hover_glyph\":null,\"nonselection_glyph\":null,\"selection_glyph\":null},\"id\":\"b6adface-c9cf-41d5-9aad-e225609edf3e\",\"type\":\"GlyphRenderer\"},{\"attributes\":{\"plot\":{\"id\":\"0b92f6e3-021d-4a86-b218-40e95a58275e\",\"subtype\":\"Chart\",\"type\":\"Plot\"}},\"id\":\"ecd09f04-a689-47a3-bbcc-fcee9d09fbb0\",\"type\":\"ResetTool\"},{\"attributes\":{\"fill_alpha\":{\"field\":\"fill_alpha\"},\"fill_color\":{\"field\":\"color\"},\"height\":{\"field\":\"height\",\"units\":\"data\"},\"line_color\":{\"field\":\"line_color\"},\"width\":{\"field\":\"width\",\"units\":\"data\"},\"x\":{\"field\":\"x\"},\"y\":{\"field\":\"y\"}},\"id\":\"d7f5ab27-1fd1-4f38-a5fd-58ba0c683778\",\"type\":\"Rect\"},{\"attributes\":{\"data_source\":{\"id\":\"b2083384-b0b2-4f7d-86a7-05397b510568\",\"type\":\"ColumnDataSource\"},\"glyph\":{\"id\":\"63240f2f-e6dc-481d-822f-a5acbc456900\",\"type\":\"Rect\"},\"hover_glyph\":null,\"nonselection_glyph\":null,\"selection_glyph\":null},\"id\":\"e10af107-c6ca-4fb0-ad11-9e8a2e782507\",\"type\":\"GlyphRenderer\"},{\"attributes\":{\"callback\":null,\"column_names\":[\"line_alpha\",\"color\",\"height\",\"y\",\"label\",\"fill_alpha\",\"x\",\"width\",\"line_color\"],\"data\":{\"chart_index\":[{\"labels\":\"Wyoming\"}],\"color\":[\"#f22c40\"],\"fill_alpha\":[0.8],\"height\":[2.0],\"label\":[{\"labels\":\"Wyoming\"}],\"labels\":[\"Wyoming\"],\"line_alpha\":[1.0],\"line_color\":[\"white\"],\"width\":[0.8],\"x\":[\"Wyoming\"],\"y\":[1.0]}},\"id\":\"37052440-e679-4400-8d09-33ece146bfb8\",\"type\":\"ColumnDataSource\"},{\"attributes\":{\"below\":[{\"id\":\"e360a350-08f3-4a51-9967-7aa1d8220928\",\"type\":\"CategoricalAxis\"}],\"left\":[{\"id\":\"130e9364-a5a4-49a2-947c-7fe792a592d8\",\"type\":\"LinearAxis\"}],\"plot_width\":900,\"renderers\":[{\"id\":\"0b5a0471-0299-4dd1-9b69-60712f10af5e\",\"type\":\"BoxAnnotation\"},{\"id\":\"a88c80a5-17e9-4216-a08f-6c246eab4f7e\",\"type\":\"GlyphRenderer\"},{\"id\":\"c5b271cb-66fa-4e0a-a1c5-6c77ea126ecf\",\"type\":\"GlyphRenderer\"},{\"id\":\"197a3488-639f-4b85-bdcb-416862ce5bc7\",\"type\":\"GlyphRenderer\"},{\"id\":\"0e489eb2-c086-4e23-ad87-86d9b0c9d339\",\"type\":\"GlyphRenderer\"},{\"id\":\"05d86b04-6aba-4175-9485-7b98e8770561\",\"type\":\"GlyphRenderer\"},{\"id\":\"315ec979-ea0b-4d95-a6bc-be67105c50d7\",\"type\":\"GlyphRenderer\"},{\"id\":\"a1948f3c-95d3-47a7-90b2-9dbbf8ccd777\",\"type\":\"GlyphRenderer\"},{\"id\":\"f41d108d-2e08-46e8-a36d-f0f2653ae833\",\"type\":\"GlyphRenderer\"},{\"id\":\"c9bb4137-d105-4708-99e4-c7b8b77659dc\",\"type\":\"GlyphRenderer\"},{\"id\":\"ec92d4ac-7813-4d1f-85b4-93b2e2593427\",\"type\":\"GlyphRenderer\"},{\"id\":\"c68e2f25-e19f-46b0-b872-32f55bcd1bee\",\"type\":\"GlyphRenderer\"},{\"id\":\"0af915b7-854c-46e4-a1a8-82c7aa5a688d\",\"type\":\"GlyphRenderer\"},{\"id\":\"ef2f15bf-fb7a-4809-af82-294f135fe514\",\"type\":\"GlyphRenderer\"},{\"id\":\"a10a3bb2-417f-4a46-97c2-4985729a73c6\",\"type\":\"GlyphRenderer\"},{\"id\":\"86cbd012-5458-423f-8fbf-52e32538fdeb\",\"type\":\"GlyphRenderer\"},{\"id\":\"88281d40-a333-42b5-a603-4ef5eb429dc5\",\"type\":\"GlyphRenderer\"},{\"id\":\"5ac55d03-49b8-4a7d-aec1-94eee6884307\",\"type\":\"GlyphRenderer\"},{\"id\":\"15b52715-bfde-4fbc-8fcc-0cde6219c7e7\",\"type\":\"GlyphRenderer\"},{\"id\":\"e10af107-c6ca-4fb0-ad11-9e8a2e782507\",\"type\":\"GlyphRenderer\"},{\"id\":\"6a72a759-c9ac-4543-8fa3-1ac2bb62a0a8\",\"type\":\"GlyphRenderer\"},{\"id\":\"da631466-155c-4271-9f13-57bdfa020966\",\"type\":\"GlyphRenderer\"},{\"id\":\"0c6e1d50-b8c9-4430-9bb0-f3a683102f5d\",\"type\":\"GlyphRenderer\"},{\"id\":\"fa2263c0-2aaa-434e-b25c-ab5e9f1251dd\",\"type\":\"GlyphRenderer\"},{\"id\":\"79dcdd44-70b1-42af-bea6-8ce8fca082fb\",\"type\":\"GlyphRenderer\"},{\"id\":\"0115f23a-40b8-4f98-be75-0c5628aae012\",\"type\":\"GlyphRenderer\"},{\"id\":\"a77dd0ea-5fa2-4bd2-845f-6ba0489559c3\",\"type\":\"GlyphRenderer\"},{\"id\":\"d2060b93-b9b2-4c81-8cf6-17ddfbd58433\",\"type\":\"GlyphRenderer\"},{\"id\":\"c53c95d6-66f4-4d68-a3a8-435e32fef99c\",\"type\":\"GlyphRenderer\"},{\"id\":\"e5faa620-b893-4963-b5d2-5093e6b11604\",\"type\":\"GlyphRenderer\"},{\"id\":\"01ed6bb2-944c-4e06-972c-2a5455542e8d\",\"type\":\"GlyphRenderer\"},{\"id\":\"65526349-4403-4820-af29-5b4f44868202\",\"type\":\"GlyphRenderer\"},{\"id\":\"d3232789-91a8-44e7-9be2-9aad84013a74\",\"type\":\"GlyphRenderer\"},{\"id\":\"c880149f-923c-40e3-b541-753a7cb2fade\",\"type\":\"GlyphRenderer\"},{\"id\":\"948c9d66-fd79-4ba4-81e2-1528047fe41d\",\"type\":\"GlyphRenderer\"},{\"id\":\"6e37d6f0-6b9f-4583-be0a-82fcd5feadf6\",\"type\":\"GlyphRenderer\"},{\"id\":\"79e3097b-2d0f-4308-bcd5-1c0a3d201dfc\",\"type\":\"GlyphRenderer\"},{\"id\":\"058c7835-4f43-4dd7-a6ab-d06c7af63d8d\",\"type\":\"GlyphRenderer\"},{\"id\":\"aa3e25e4-66f4-432e-87f9-1ccd580be383\",\"type\":\"GlyphRenderer\"},{\"id\":\"1a50703f-48bf-4626-914f-293d26effe36\",\"type\":\"GlyphRenderer\"},{\"id\":\"da212b07-d54b-4ae9-8edf-760ed28a888d\",\"type\":\"GlyphRenderer\"},{\"id\":\"1089b75d-29be-4147-9fd0-ccd0043be363\",\"type\":\"GlyphRenderer\"},{\"id\":\"56d57ea8-91dc-43ee-b324-3c6ae0515842\",\"type\":\"GlyphRenderer\"},{\"id\":\"b6adface-c9cf-41d5-9aad-e225609edf3e\",\"type\":\"GlyphRenderer\"},{\"id\":\"d91b3fed-cd02-4561-b580-ab2d3710e704\",\"type\":\"GlyphRenderer\"},{\"id\":\"b5e07d95-c98a-4624-8c0f-9d6d88f78395\",\"type\":\"GlyphRenderer\"},{\"id\":\"48800fe3-5023-4b46-a600-f23eeba16ef0\",\"type\":\"GlyphRenderer\"},{\"id\":\"9c22fe87-9b61-4a40-b113-9f6f5d11535f\",\"type\":\"GlyphRenderer\"},{\"id\":\"5a099a0c-4dfd-47f6-9b47-a84fcad7d7d9\",\"type\":\"GlyphRenderer\"},{\"id\":\"df38508f-a040-47a7-8630-266b3a4fa462\",\"type\":\"GlyphRenderer\"},{\"id\":\"fc83e4dc-e01c-4f79-8aba-029bff2c0025\",\"type\":\"GlyphRenderer\"},{\"id\":\"e360a350-08f3-4a51-9967-7aa1d8220928\",\"type\":\"CategoricalAxis\"},{\"id\":\"130e9364-a5a4-49a2-947c-7fe792a592d8\",\"type\":\"LinearAxis\"},{\"id\":\"9fd6c165-0395-4d92-9cf8-71f44114fb6b\",\"type\":\"Grid\"}],\"title\":{\"id\":\"aeed1bff-dfeb-465f-92a6-bfd825a2d210\",\"type\":\"Title\"},\"tool_events\":{\"id\":\"41c31979-c39d-40e0-8655-0e9b62d3b44b\",\"type\":\"ToolEvents\"},\"toolbar\":{\"id\":\"7d434608-ad99-4d53-ae9e-4c3454598b27\",\"type\":\"Toolbar\"},\"x_mapper_type\":\"auto\",\"x_range\":{\"id\":\"e48c15dd-822f-4d52-8fa8-72cc39797e99\",\"type\":\"FactorRange\"},\"y_mapper_type\":\"auto\",\"y_range\":{\"id\":\"013504a8-56cd-457f-a9d0-68ccc83018b2\",\"type\":\"Range1d\"}},\"id\":\"0b92f6e3-021d-4a86-b218-40e95a58275e\",\"subtype\":\"Chart\",\"type\":\"Plot\"},{\"attributes\":{\"callback\":null,\"column_names\":[\"line_alpha\",\"color\",\"height\",\"y\",\"label\",\"fill_alpha\",\"x\",\"width\",\"line_color\"],\"data\":{\"chart_index\":[{\"labels\":\"Pennsylvania\"}],\"color\":[\"#f22c40\"],\"fill_alpha\":[0.8],\"height\":[41.0],\"label\":[{\"labels\":\"Pennsylvania\"}],\"labels\":[\"Pennsylvania\"],\"line_alpha\":[1.0],\"line_color\":[\"white\"],\"width\":[0.8],\"x\":[\"Pennsylvania\"],\"y\":[20.5]}},\"id\":\"56732c80-8562-4d81-9269-8a3c08efea64\",\"type\":\"ColumnDataSource\"},{\"attributes\":{\"callback\":null,\"column_names\":[\"line_alpha\",\"color\",\"height\",\"y\",\"label\",\"fill_alpha\",\"x\",\"width\",\"line_color\"],\"data\":{\"chart_index\":[{\"labels\":\"Maine\"}],\"color\":[\"#f22c40\"],\"fill_alpha\":[0.8],\"height\":[4.0],\"label\":[{\"labels\":\"Maine\"}],\"labels\":[\"Maine\"],\"line_alpha\":[1.0],\"line_color\":[\"white\"],\"width\":[0.8],\"x\":[\"Maine\"],\"y\":[2.0]}},\"id\":\"8b0dd435-1ac2-4e36-8647-0d6af43c56cd\",\"type\":\"ColumnDataSource\"},{\"attributes\":{\"data_source\":{\"id\":\"f3ccd091-080d-48dc-a37d-3e49d134af43\",\"type\":\"ColumnDataSource\"},\"glyph\":{\"id\":\"64024862-41a5-478f-903c-9d91c90ee3b0\",\"type\":\"Rect\"},\"hover_glyph\":null,\"nonselection_glyph\":null,\"selection_glyph\":null},\"id\":\"c53c95d6-66f4-4d68-a3a8-435e32fef99c\",\"type\":\"GlyphRenderer\"},{\"attributes\":{\"fill_alpha\":{\"field\":\"fill_alpha\"},\"fill_color\":{\"field\":\"color\"},\"height\":{\"field\":\"height\",\"units\":\"data\"},\"line_color\":{\"field\":\"line_color\"},\"width\":{\"field\":\"width\",\"units\":\"data\"},\"x\":{\"field\":\"x\"},\"y\":{\"field\":\"y\"}},\"id\":\"f2948079-9a92-4151-bd95-1a94d40ebd26\",\"type\":\"Rect\"},{\"attributes\":{\"callback\":null,\"column_names\":[\"line_alpha\",\"color\",\"height\",\"y\",\"label\",\"fill_alpha\",\"x\",\"width\",\"line_color\"],\"data\":{\"chart_index\":[{\"labels\":\"Alaska\"}],\"color\":[\"#f22c40\"],\"fill_alpha\":[0.8],\"height\":[3.0],\"label\":[{\"labels\":\"Alaska\"}],\"labels\":[\"Alaska\"],\"line_alpha\":[1.0],\"line_color\":[\"white\"],\"width\":[0.8],\"x\":[\"Alaska\"],\"y\":[1.5]}},\"id\":\"1daf672c-ef32-4390-8270-53fe938f4b69\",\"type\":\"ColumnDataSource\"},{\"attributes\":{\"data_source\":{\"id\":\"f6551b8a-e75f-4fae-b502-f9663ce049aa\",\"type\":\"ColumnDataSource\"},\"glyph\":{\"id\":\"6f8bdb85-1c87-43be-adb7-ca8d89e03b77\",\"type\":\"Rect\"},\"hover_glyph\":null,\"nonselection_glyph\":null,\"selection_glyph\":null},\"id\":\"fc83e4dc-e01c-4f79-8aba-029bff2c0025\",\"type\":\"GlyphRenderer\"},{\"attributes\":{\"callback\":null,\"column_names\":[\"line_alpha\",\"color\",\"height\",\"y\",\"label\",\"fill_alpha\",\"x\",\"width\",\"line_color\"],\"data\":{\"chart_index\":[{\"labels\":\"Vermont\"}],\"color\":[\"#f22c40\"],\"fill_alpha\":[0.8],\"height\":[3.0],\"label\":[{\"labels\":\"Vermont\"}],\"labels\":[\"Vermont\"],\"line_alpha\":[1.0],\"line_color\":[\"white\"],\"width\":[0.8],\"x\":[\"Vermont\"],\"y\":[1.5]}},\"id\":\"d7944384-5194-4882-9b8f-f8ef20e32a21\",\"type\":\"ColumnDataSource\"},{\"attributes\":{\"fill_alpha\":{\"field\":\"fill_alpha\"},\"fill_color\":{\"field\":\"color\"},\"height\":{\"field\":\"height\",\"units\":\"data\"},\"line_color\":{\"field\":\"line_color\"},\"width\":{\"field\":\"width\",\"units\":\"data\"},\"x\":{\"field\":\"x\"},\"y\":{\"field\":\"y\"}},\"id\":\"2ec05d32-7ae1-47c5-ada4-c4f5c7b259a9\",\"type\":\"Rect\"},{\"attributes\":{\"callback\":null,\"column_names\":[\"line_alpha\",\"color\",\"height\",\"y\",\"label\",\"fill_alpha\",\"x\",\"width\",\"line_color\"],\"data\":{\"chart_index\":[{\"labels\":\"New Hampshire\"}],\"color\":[\"#f22c40\"],\"fill_alpha\":[0.8],\"height\":[3.0],\"label\":[{\"labels\":\"New Hampshire\"}],\"labels\":[\"New Hampshire\"],\"line_alpha\":[1.0],\"line_color\":[\"white\"],\"width\":[0.8],\"x\":[\"New Hampshire\"],\"y\":[1.5]}},\"id\":\"cd96438d-3a2c-4adf-90c5-b9e8f7e0bc10\",\"type\":\"ColumnDataSource\"},{\"attributes\":{\"data_source\":{\"id\":\"2b4da450-2bfa-477f-952d-156801b6aa53\",\"type\":\"ColumnDataSource\"},\"glyph\":{\"id\":\"f88fceb7-18e4-4d01-8ca2-f0bf888f8685\",\"type\":\"Rect\"},\"hover_glyph\":null,\"nonselection_glyph\":null,\"selection_glyph\":null},\"id\":\"c68e2f25-e19f-46b0-b872-32f55bcd1bee\",\"type\":\"GlyphRenderer\"},{\"attributes\":{\"data_source\":{\"id\":\"e8c7b441-ce18-4e05-b074-858bc63c1173\",\"type\":\"ColumnDataSource\"},\"glyph\":{\"id\":\"4526bf27-273b-4628-bf85-0706fd368a55\",\"type\":\"Rect\"},\"hover_glyph\":null,\"nonselection_glyph\":null,\"selection_glyph\":null},\"id\":\"df38508f-a040-47a7-8630-266b3a4fa462\",\"type\":\"GlyphRenderer\"},{\"attributes\":{\"callback\":null,\"column_names\":[\"line_alpha\",\"color\",\"height\",\"y\",\"label\",\"fill_alpha\",\"x\",\"width\",\"line_color\"],\"data\":{\"chart_index\":[{\"labels\":\"Washington\"}],\"color\":[\"#f22c40\"],\"fill_alpha\":[0.8],\"height\":[20.0],\"label\":[{\"labels\":\"Washington\"}],\"labels\":[\"Washington\"],\"line_alpha\":[1.0],\"line_color\":[\"white\"],\"width\":[0.8],\"x\":[\"Washington\"],\"y\":[10.0]}},\"id\":\"1e339f39-8a46-4a2a-871a-2877bd247057\",\"type\":\"ColumnDataSource\"},{\"attributes\":{\"callback\":null,\"column_names\":[\"line_alpha\",\"color\",\"height\",\"y\",\"label\",\"fill_alpha\",\"x\",\"width\",\"line_color\"],\"data\":{\"chart_index\":[{\"labels\":\"Colorado\"}],\"color\":[\"#f22c40\"],\"fill_alpha\":[0.8],\"height\":[13.0],\"label\":[{\"labels\":\"Colorado\"}],\"labels\":[\"Colorado\"],\"line_alpha\":[1.0],\"line_color\":[\"white\"],\"width\":[0.8],\"x\":[\"Colorado\"],\"y\":[6.5]}},\"id\":\"aad2091a-a40e-471f-9209-aa0c93a8bfbe\",\"type\":\"ColumnDataSource\"},{\"attributes\":{\"fill_alpha\":{\"field\":\"fill_alpha\"},\"fill_color\":{\"field\":\"color\"},\"height\":{\"field\":\"height\",\"units\":\"data\"},\"line_color\":{\"field\":\"line_color\"},\"width\":{\"field\":\"width\",\"units\":\"data\"},\"x\":{\"field\":\"x\"},\"y\":{\"field\":\"y\"}},\"id\":\"0ea27bdc-c21d-4e19-9557-05361ad789d0\",\"type\":\"Rect\"},{\"attributes\":{\"data_source\":{\"id\":\"ac4d1f11-c74e-40e9-9582-c39b5b500d77\",\"type\":\"ColumnDataSource\"},\"glyph\":{\"id\":\"0ab5f769-d8c3-4704-83c8-34846435934e\",\"type\":\"Rect\"},\"hover_glyph\":null,\"nonselection_glyph\":null,\"selection_glyph\":null},\"id\":\"ef2f15bf-fb7a-4809-af82-294f135fe514\",\"type\":\"GlyphRenderer\"},{\"attributes\":{\"callback\":null,\"column_names\":[\"line_alpha\",\"color\",\"height\",\"y\",\"label\",\"fill_alpha\",\"x\",\"width\",\"line_color\"],\"data\":{\"chart_index\":[{\"labels\":\"Utah\"}],\"color\":[\"#f22c40\"],\"fill_alpha\":[0.8],\"height\":[3.0],\"label\":[{\"labels\":\"Utah\"}],\"labels\":[\"Utah\"],\"line_alpha\":[1.0],\"line_color\":[\"white\"],\"width\":[0.8],\"x\":[\"Utah\"],\"y\":[1.5]}},\"id\":\"196703a3-7e39-4167-99ae-885fc64e7f91\",\"type\":\"ColumnDataSource\"},{\"attributes\":{\"data_source\":{\"id\":\"b0d1421c-aa83-406d-9af3-037283669c27\",\"type\":\"ColumnDataSource\"},\"glyph\":{\"id\":\"2644383d-f70f-414f-9de2-435954f7f84f\",\"type\":\"Rect\"},\"hover_glyph\":null,\"nonselection_glyph\":null,\"selection_glyph\":null},\"id\":\"a88c80a5-17e9-4216-a08f-6c246eab4f7e\",\"type\":\"GlyphRenderer\"},{\"attributes\":{\"fill_alpha\":{\"field\":\"fill_alpha\"},\"fill_color\":{\"field\":\"color\"},\"height\":{\"field\":\"height\",\"units\":\"data\"},\"line_color\":{\"field\":\"line_color\"},\"width\":{\"field\":\"width\",\"units\":\"data\"},\"x\":{\"field\":\"x\"},\"y\":{\"field\":\"y\"}},\"id\":\"1a5d276e-1d40-4708-88ed-73269cd8da22\",\"type\":\"Rect\"},{\"attributes\":{\"fill_alpha\":{\"field\":\"fill_alpha\"},\"fill_color\":{\"field\":\"color\"},\"height\":{\"field\":\"height\",\"units\":\"data\"},\"line_color\":{\"field\":\"line_color\"},\"width\":{\"field\":\"width\",\"units\":\"data\"},\"x\":{\"field\":\"x\"},\"y\":{\"field\":\"y\"}},\"id\":\"1ff30bf9-1c9e-435f-b92b-1eea4623eb47\",\"type\":\"Rect\"},{\"attributes\":{\"data_source\":{\"id\":\"1db89e52-4556-49fd-9446-45607f09abbb\",\"type\":\"ColumnDataSource\"},\"glyph\":{\"id\":\"2ec05d32-7ae1-47c5-ada4-c4f5c7b259a9\",\"type\":\"Rect\"},\"hover_glyph\":null,\"nonselection_glyph\":null,\"selection_glyph\":null},\"id\":\"65526349-4403-4820-af29-5b4f44868202\",\"type\":\"GlyphRenderer\"},{\"attributes\":{\"fill_alpha\":{\"field\":\"fill_alpha\"},\"fill_color\":{\"field\":\"color\"},\"height\":{\"field\":\"height\",\"units\":\"data\"},\"line_color\":{\"field\":\"line_color\"},\"width\":{\"field\":\"width\",\"units\":\"data\"},\"x\":{\"field\":\"x\"},\"y\":{\"field\":\"y\"}},\"id\":\"50145f89-cc51-4f51-a9da-2aec5920e280\",\"type\":\"Rect\"},{\"attributes\":{\"fill_alpha\":{\"field\":\"fill_alpha\"},\"fill_color\":{\"field\":\"color\"},\"height\":{\"field\":\"height\",\"units\":\"data\"},\"line_color\":{\"field\":\"line_color\"},\"width\":{\"field\":\"width\",\"units\":\"data\"},\"x\":{\"field\":\"x\"},\"y\":{\"field\":\"y\"}},\"id\":\"2644383d-f70f-414f-9de2-435954f7f84f\",\"type\":\"Rect\"},{\"attributes\":{\"plot\":null,\"text\":\"Number of valid twitts per state\"},\"id\":\"aeed1bff-dfeb-465f-92a6-bfd825a2d210\",\"type\":\"Title\"},{\"attributes\":{\"fill_alpha\":{\"field\":\"fill_alpha\"},\"fill_color\":{\"field\":\"color\"},\"height\":{\"field\":\"height\",\"units\":\"data\"},\"line_color\":{\"field\":\"line_color\"},\"width\":{\"field\":\"width\",\"units\":\"data\"},\"x\":{\"field\":\"x\"},\"y\":{\"field\":\"y\"}},\"id\":\"6f8bdb85-1c87-43be-adb7-ca8d89e03b77\",\"type\":\"Rect\"},{\"attributes\":{\"fill_alpha\":{\"field\":\"fill_alpha\"},\"fill_color\":{\"field\":\"color\"},\"height\":{\"field\":\"height\",\"units\":\"data\"},\"line_color\":{\"field\":\"line_color\"},\"width\":{\"field\":\"width\",\"units\":\"data\"},\"x\":{\"field\":\"x\"},\"y\":{\"field\":\"y\"}},\"id\":\"7c716b08-638c-4620-b1ee-53cfc7fd71c2\",\"type\":\"Rect\"},{\"attributes\":{\"fill_alpha\":{\"field\":\"fill_alpha\"},\"fill_color\":{\"field\":\"color\"},\"height\":{\"field\":\"height\",\"units\":\"data\"},\"line_color\":{\"field\":\"line_color\"},\"width\":{\"field\":\"width\",\"units\":\"data\"},\"x\":{\"field\":\"x\"},\"y\":{\"field\":\"y\"}},\"id\":\"fe37c801-5329-4946-b467-eea2ed1b7334\",\"type\":\"Rect\"},{\"attributes\":{\"fill_alpha\":{\"field\":\"fill_alpha\"},\"fill_color\":{\"field\":\"color\"},\"height\":{\"field\":\"height\",\"units\":\"data\"},\"line_color\":{\"field\":\"line_color\"},\"width\":{\"field\":\"width\",\"units\":\"data\"},\"x\":{\"field\":\"x\"},\"y\":{\"field\":\"y\"}},\"id\":\"f3d3014d-4d94-465d-b078-6082b83905ff\",\"type\":\"Rect\"},{\"attributes\":{},\"id\":\"480bf67e-c61b-45fd-b1d2-9e3bebe602a6\",\"type\":\"BasicTicker\"},{\"attributes\":{\"fill_alpha\":{\"field\":\"fill_alpha\"},\"fill_color\":{\"field\":\"color\"},\"height\":{\"field\":\"height\",\"units\":\"data\"},\"line_color\":{\"field\":\"line_color\"},\"width\":{\"field\":\"width\",\"units\":\"data\"},\"x\":{\"field\":\"x\"},\"y\":{\"field\":\"y\"}},\"id\":\"40bab664-715b-4cb2-837b-030723b3ecdd\",\"type\":\"Rect\"},{\"attributes\":{\"callback\":null,\"column_names\":[\"line_alpha\",\"color\",\"height\",\"y\",\"label\",\"fill_alpha\",\"x\",\"width\",\"line_color\"],\"data\":{\"chart_index\":[{\"labels\":\"Kansas\"}],\"color\":[\"#f22c40\"],\"fill_alpha\":[0.8],\"height\":[11.0],\"label\":[{\"labels\":\"Kansas\"}],\"labels\":[\"Kansas\"],\"line_alpha\":[1.0],\"line_color\":[\"white\"],\"width\":[0.8],\"x\":[\"Kansas\"],\"y\":[5.5]}},\"id\":\"e88f2986-1736-4960-b054-54776f8d7a02\",\"type\":\"ColumnDataSource\"},{\"attributes\":{\"bottom_units\":\"screen\",\"fill_alpha\":{\"value\":0.5},\"fill_color\":{\"value\":\"lightgrey\"},\"left_units\":\"screen\",\"level\":\"overlay\",\"line_alpha\":{\"value\":1.0},\"line_color\":{\"value\":\"black\"},\"line_dash\":[4,4],\"line_width\":{\"value\":2},\"plot\":null,\"render_mode\":\"css\",\"right_units\":\"screen\",\"top_units\":\"screen\"},\"id\":\"0b5a0471-0299-4dd1-9b69-60712f10af5e\",\"type\":\"BoxAnnotation\"},{\"attributes\":{\"callback\":null,\"column_names\":[\"line_alpha\",\"color\",\"height\",\"y\",\"label\",\"fill_alpha\",\"x\",\"width\",\"line_color\"],\"data\":{\"chart_index\":[{\"labels\":\"Iowa\"}],\"color\":[\"#f22c40\"],\"fill_alpha\":[0.8],\"height\":[7.0],\"label\":[{\"labels\":\"Iowa\"}],\"labels\":[\"Iowa\"],\"line_alpha\":[1.0],\"line_color\":[\"white\"],\"width\":[0.8],\"x\":[\"Iowa\"],\"y\":[3.5]}},\"id\":\"927f3949-88b0-411c-81c1-ba5f42f49e53\",\"type\":\"ColumnDataSource\"},{\"attributes\":{\"data_source\":{\"id\":\"1daf672c-ef32-4390-8270-53fe938f4b69\",\"type\":\"ColumnDataSource\"},\"glyph\":{\"id\":\"bbd603d3-483e-4d55-894d-070a1bf157a9\",\"type\":\"Rect\"},\"hover_glyph\":null,\"nonselection_glyph\":null,\"selection_glyph\":null},\"id\":\"0115f23a-40b8-4f98-be75-0c5628aae012\",\"type\":\"GlyphRenderer\"},{\"attributes\":{\"data_source\":{\"id\":\"fa188eb8-beee-4f9b-a32e-41a1df8fa22b\",\"type\":\"ColumnDataSource\"},\"glyph\":{\"id\":\"01f1fd93-cbb9-41f0-8b81-5387c265d227\",\"type\":\"Rect\"},\"hover_glyph\":null,\"nonselection_glyph\":null,\"selection_glyph\":null},\"id\":\"c5b271cb-66fa-4e0a-a1c5-6c77ea126ecf\",\"type\":\"GlyphRenderer\"},{\"attributes\":{\"data_source\":{\"id\":\"0b1fa5fe-1416-4fc7-967e-4e1e21c13c8e\",\"type\":\"ColumnDataSource\"},\"glyph\":{\"id\":\"92bd4724-30e2-4e75-967a-80d23dd19998\",\"type\":\"Rect\"},\"hover_glyph\":null,\"nonselection_glyph\":null,\"selection_glyph\":null},\"id\":\"a1948f3c-95d3-47a7-90b2-9dbbf8ccd777\",\"type\":\"GlyphRenderer\"},{\"attributes\":{\"callback\":null,\"column_names\":[\"line_alpha\",\"color\",\"height\",\"y\",\"label\",\"fill_alpha\",\"x\",\"width\",\"line_color\"],\"data\":{\"chart_index\":[{\"labels\":\"Alabama\"}],\"color\":[\"#f22c40\"],\"fill_alpha\":[0.8],\"height\":[17.0],\"label\":[{\"labels\":\"Alabama\"}],\"labels\":[\"Alabama\"],\"line_alpha\":[1.0],\"line_color\":[\"white\"],\"width\":[0.8],\"x\":[\"Alabama\"],\"y\":[8.5]}},\"id\":\"182f3d97-d028-4013-9141-6ed8813a3162\",\"type\":\"ColumnDataSource\"},{\"attributes\":{\"callback\":null,\"column_names\":[\"line_alpha\",\"color\",\"height\",\"y\",\"label\",\"fill_alpha\",\"x\",\"width\",\"line_color\"],\"data\":{\"chart_index\":[{\"labels\":\"Kentucky\"}],\"color\":[\"#f22c40\"],\"fill_alpha\":[0.8],\"height\":[19.0],\"label\":[{\"labels\":\"Kentucky\"}],\"labels\":[\"Kentucky\"],\"line_alpha\":[1.0],\"line_color\":[\"white\"],\"width\":[0.8],\"x\":[\"Kentucky\"],\"y\":[9.5]}},\"id\":\"0fb3e9f3-6a1a-401e-b059-34a7d94814fd\",\"type\":\"ColumnDataSource\"},{\"attributes\":{\"callback\":null,\"column_names\":[\"line_alpha\",\"color\",\"height\",\"y\",\"label\",\"fill_alpha\",\"x\",\"width\",\"line_color\"],\"data\":{\"chart_index\":[{\"labels\":\"Massachusetts\"}],\"color\":[\"#f22c40\"],\"fill_alpha\":[0.8],\"height\":[32.0],\"label\":[{\"labels\":\"Massachusetts\"}],\"labels\":[\"Massachusetts\"],\"line_alpha\":[1.0],\"line_color\":[\"white\"],\"width\":[0.8],\"x\":[\"Massachusetts\"],\"y\":[16.0]}},\"id\":\"f6551b8a-e75f-4fae-b502-f9663ce049aa\",\"type\":\"ColumnDataSource\"},{\"attributes\":{},\"id\":\"856c98ca-0351-4661-8545-294943e831d8\",\"type\":\"CategoricalTicker\"},{\"attributes\":{\"fill_alpha\":{\"field\":\"fill_alpha\"},\"fill_color\":{\"field\":\"color\"},\"height\":{\"field\":\"height\",\"units\":\"data\"},\"line_color\":{\"field\":\"line_color\"},\"width\":{\"field\":\"width\",\"units\":\"data\"},\"x\":{\"field\":\"x\"},\"y\":{\"field\":\"y\"}},\"id\":\"a353bda0-ebf8-4e6a-bf6d-333e5a9ac225\",\"type\":\"Rect\"},{\"attributes\":{\"fill_alpha\":{\"field\":\"fill_alpha\"},\"fill_color\":{\"field\":\"color\"},\"height\":{\"field\":\"height\",\"units\":\"data\"},\"line_color\":{\"field\":\"line_color\"},\"width\":{\"field\":\"width\",\"units\":\"data\"},\"x\":{\"field\":\"x\"},\"y\":{\"field\":\"y\"}},\"id\":\"92bd4724-30e2-4e75-967a-80d23dd19998\",\"type\":\"Rect\"},{\"attributes\":{\"overlay\":{\"id\":\"0b5a0471-0299-4dd1-9b69-60712f10af5e\",\"type\":\"BoxAnnotation\"},\"plot\":{\"id\":\"0b92f6e3-021d-4a86-b218-40e95a58275e\",\"subtype\":\"Chart\",\"type\":\"Plot\"}},\"id\":\"82755692-034f-4df8-adbd-0a72e2af9d04\",\"type\":\"BoxZoomTool\"},{\"attributes\":{\"data_source\":{\"id\":\"1e339f39-8a46-4a2a-871a-2877bd247057\",\"type\":\"ColumnDataSource\"},\"glyph\":{\"id\":\"9b0fadb4-35cb-4b50-a397-766e463c45c2\",\"type\":\"Rect\"},\"hover_glyph\":null,\"nonselection_glyph\":null,\"selection_glyph\":null},\"id\":\"01ed6bb2-944c-4e06-972c-2a5455542e8d\",\"type\":\"GlyphRenderer\"},{\"attributes\":{\"fill_alpha\":{\"field\":\"fill_alpha\"},\"fill_color\":{\"field\":\"color\"},\"height\":{\"field\":\"height\",\"units\":\"data\"},\"line_color\":{\"field\":\"line_color\"},\"width\":{\"field\":\"width\",\"units\":\"data\"},\"x\":{\"field\":\"x\"},\"y\":{\"field\":\"y\"}},\"id\":\"9b0fadb4-35cb-4b50-a397-766e463c45c2\",\"type\":\"Rect\"},{\"attributes\":{\"fill_alpha\":{\"field\":\"fill_alpha\"},\"fill_color\":{\"field\":\"color\"},\"height\":{\"field\":\"height\",\"units\":\"data\"},\"line_color\":{\"field\":\"line_color\"},\"width\":{\"field\":\"width\",\"units\":\"data\"},\"x\":{\"field\":\"x\"},\"y\":{\"field\":\"y\"}},\"id\":\"00524d38-c0e9-4f21-82a5-fc41e5b8de52\",\"type\":\"Rect\"},{\"attributes\":{\"fill_alpha\":{\"field\":\"fill_alpha\"},\"fill_color\":{\"field\":\"color\"},\"height\":{\"field\":\"height\",\"units\":\"data\"},\"line_color\":{\"field\":\"line_color\"},\"width\":{\"field\":\"width\",\"units\":\"data\"},\"x\":{\"field\":\"x\"},\"y\":{\"field\":\"y\"}},\"id\":\"c28aed80-ba5f-406f-bc89-267206c874cc\",\"type\":\"Rect\"},{\"attributes\":{\"callback\":null,\"column_names\":[\"line_alpha\",\"color\",\"height\",\"y\",\"label\",\"fill_alpha\",\"x\",\"width\",\"line_color\"],\"data\":{\"chart_index\":[{\"labels\":\"Oregon\"}],\"color\":[\"#f22c40\"],\"fill_alpha\":[0.8],\"height\":[11.0],\"label\":[{\"labels\":\"Oregon\"}],\"labels\":[\"Oregon\"],\"line_alpha\":[1.0],\"line_color\":[\"white\"],\"width\":[0.8],\"x\":[\"Oregon\"],\"y\":[5.5]}},\"id\":\"17375595-3ff9-43af-bad8-bddff14c277b\",\"type\":\"ColumnDataSource\"},{\"attributes\":{\"callback\":null,\"column_names\":[\"line_alpha\",\"color\",\"height\",\"y\",\"label\",\"fill_alpha\",\"x\",\"width\",\"line_color\"],\"data\":{\"chart_index\":[{\"labels\":\"Nebraska\"}],\"color\":[\"#f22c40\"],\"fill_alpha\":[0.8],\"height\":[2.0],\"label\":[{\"labels\":\"Nebraska\"}],\"labels\":[\"Nebraska\"],\"line_alpha\":[1.0],\"line_color\":[\"white\"],\"width\":[0.8],\"x\":[\"Nebraska\"],\"y\":[1.0]}},\"id\":\"dc9218b2-111b-420f-b4b9-ab83469a8652\",\"type\":\"ColumnDataSource\"},{\"attributes\":{\"data_source\":{\"id\":\"17375595-3ff9-43af-bad8-bddff14c277b\",\"type\":\"ColumnDataSource\"},\"glyph\":{\"id\":\"0ea27bdc-c21d-4e19-9557-05361ad789d0\",\"type\":\"Rect\"},\"hover_glyph\":null,\"nonselection_glyph\":null,\"selection_glyph\":null},\"id\":\"d91b3fed-cd02-4561-b580-ab2d3710e704\",\"type\":\"GlyphRenderer\"},{\"attributes\":{\"data_source\":{\"id\":\"0ef978a8-92fb-4855-b191-254a37894062\",\"type\":\"ColumnDataSource\"},\"glyph\":{\"id\":\"5bf999f0-5321-4a5b-9b3f-63071aec66ae\",\"type\":\"Rect\"},\"hover_glyph\":null,\"nonselection_glyph\":null,\"selection_glyph\":null},\"id\":\"da631466-155c-4271-9f13-57bdfa020966\",\"type\":\"GlyphRenderer\"},{\"attributes\":{\"callback\":null,\"column_names\":[\"line_alpha\",\"color\",\"height\",\"y\",\"label\",\"fill_alpha\",\"x\",\"width\",\"line_color\"],\"data\":{\"chart_index\":[{\"labels\":\"Indiana\"}],\"color\":[\"#f22c40\"],\"fill_alpha\":[0.8],\"height\":[29.0],\"label\":[{\"labels\":\"Indiana\"}],\"labels\":[\"Indiana\"],\"line_alpha\":[1.0],\"line_color\":[\"white\"],\"width\":[0.8],\"x\":[\"Indiana\"],\"y\":[14.5]}},\"id\":\"fc5c705f-f1f9-4962-b070-0274b6764a24\",\"type\":\"ColumnDataSource\"},{\"attributes\":{\"callback\":null,\"column_names\":[\"line_alpha\",\"color\",\"height\",\"y\",\"label\",\"fill_alpha\",\"x\",\"width\",\"line_color\"],\"data\":{\"chart_index\":[{\"labels\":\"South Carolina\"}],\"color\":[\"#f22c40\"],\"fill_alpha\":[0.8],\"height\":[13.0],\"label\":[{\"labels\":\"South Carolina\"}],\"labels\":[\"South Carolina\"],\"line_alpha\":[1.0],\"line_color\":[\"white\"],\"width\":[0.8],\"x\":[\"South Carolina\"],\"y\":[6.5]}},\"id\":\"0404a03e-a020-4bf2-a8f6-d3aa112dfa6b\",\"type\":\"ColumnDataSource\"},{\"attributes\":{},\"id\":\"41c31979-c39d-40e0-8655-0e9b62d3b44b\",\"type\":\"ToolEvents\"},{\"attributes\":{\"fill_alpha\":{\"field\":\"fill_alpha\"},\"fill_color\":{\"field\":\"color\"},\"height\":{\"field\":\"height\",\"units\":\"data\"},\"line_color\":{\"field\":\"line_color\"},\"width\":{\"field\":\"width\",\"units\":\"data\"},\"x\":{\"field\":\"x\"},\"y\":{\"field\":\"y\"}},\"id\":\"01f1fd93-cbb9-41f0-8b81-5387c265d227\",\"type\":\"Rect\"},{\"attributes\":{\"data_source\":{\"id\":\"37052440-e679-4400-8d09-33ece146bfb8\",\"type\":\"ColumnDataSource\"},\"glyph\":{\"id\":\"be047e51-5b35-4e06-963b-f22425f81ace\",\"type\":\"Rect\"},\"hover_glyph\":null,\"nonselection_glyph\":null,\"selection_glyph\":null},\"id\":\"1089b75d-29be-4147-9fd0-ccd0043be363\",\"type\":\"GlyphRenderer\"},{\"attributes\":{\"data_source\":{\"id\":\"aad2091a-a40e-471f-9209-aa0c93a8bfbe\",\"type\":\"ColumnDataSource\"},\"glyph\":{\"id\":\"00524d38-c0e9-4f21-82a5-fc41e5b8de52\",\"type\":\"Rect\"},\"hover_glyph\":null,\"nonselection_glyph\":null,\"selection_glyph\":null},\"id\":\"948c9d66-fd79-4ba4-81e2-1528047fe41d\",\"type\":\"GlyphRenderer\"},{\"attributes\":{\"plot\":{\"id\":\"0b92f6e3-021d-4a86-b218-40e95a58275e\",\"subtype\":\"Chart\",\"type\":\"Plot\"}},\"id\":\"79b9c183-d305-4253-9753-e7ba705e338f\",\"type\":\"PanTool\"},{\"attributes\":{\"dimension\":1,\"plot\":{\"id\":\"0b92f6e3-021d-4a86-b218-40e95a58275e\",\"subtype\":\"Chart\",\"type\":\"Plot\"},\"ticker\":{\"id\":\"480bf67e-c61b-45fd-b1d2-9e3bebe602a6\",\"type\":\"BasicTicker\"}},\"id\":\"9fd6c165-0395-4d92-9cf8-71f44114fb6b\",\"type\":\"Grid\"},{\"attributes\":{\"callback\":null,\"column_names\":[\"line_alpha\",\"color\",\"height\",\"y\",\"label\",\"fill_alpha\",\"x\",\"width\",\"line_color\"],\"data\":{\"chart_index\":[{\"labels\":\"Louisiana\"}],\"color\":[\"#f22c40\"],\"fill_alpha\":[0.8],\"height\":[29.0],\"label\":[{\"labels\":\"Louisiana\"}],\"labels\":[\"Louisiana\"],\"line_alpha\":[1.0],\"line_color\":[\"white\"],\"width\":[0.8],\"x\":[\"Louisiana\"],\"y\":[14.5]}},\"id\":\"df12e1d4-ad42-47fe-96bf-581b5ecd0bbb\",\"type\":\"ColumnDataSource\"},{\"attributes\":{\"callback\":null,\"column_names\":[\"line_alpha\",\"color\",\"height\",\"y\",\"label\",\"fill_alpha\",\"x\",\"width\",\"line_color\"],\"data\":{\"chart_index\":[{\"labels\":\"Maryland\"}],\"color\":[\"#f22c40\"],\"fill_alpha\":[0.8],\"height\":[28.0],\"label\":[{\"labels\":\"Maryland\"}],\"labels\":[\"Maryland\"],\"line_alpha\":[1.0],\"line_color\":[\"white\"],\"width\":[0.8],\"x\":[\"Maryland\"],\"y\":[14.0]}},\"id\":\"e8c7b441-ce18-4e05-b074-858bc63c1173\",\"type\":\"ColumnDataSource\"},{\"attributes\":{\"fill_alpha\":{\"field\":\"fill_alpha\"},\"fill_color\":{\"field\":\"color\"},\"height\":{\"field\":\"height\",\"units\":\"data\"},\"line_color\":{\"field\":\"line_color\"},\"width\":{\"field\":\"width\",\"units\":\"data\"},\"x\":{\"field\":\"x\"},\"y\":{\"field\":\"y\"}},\"id\":\"3ec0b653-11e9-405f-905a-6f806c8430c8\",\"type\":\"Rect\"},{\"attributes\":{\"callback\":null,\"column_names\":[\"line_alpha\",\"color\",\"height\",\"y\",\"label\",\"fill_alpha\",\"x\",\"width\",\"line_color\"],\"data\":{\"chart_index\":[{\"labels\":\"New Mexico\"}],\"color\":[\"#f22c40\"],\"fill_alpha\":[0.8],\"height\":[5.0],\"label\":[{\"labels\":\"New Mexico\"}],\"labels\":[\"New Mexico\"],\"line_alpha\":[1.0],\"line_color\":[\"white\"],\"width\":[0.8],\"x\":[\"New Mexico\"],\"y\":[2.5]}},\"id\":\"8685eb11-6ba3-408d-823d-8fccbcfbb51f\",\"type\":\"ColumnDataSource\"},{\"attributes\":{\"callback\":null,\"column_names\":[\"line_alpha\",\"color\",\"height\",\"y\",\"label\",\"fill_alpha\",\"x\",\"width\",\"line_color\"],\"data\":{\"chart_index\":[{\"labels\":\"Idaho\"}],\"color\":[\"#f22c40\"],\"fill_alpha\":[0.8],\"height\":[3.0],\"label\":[{\"labels\":\"Idaho\"}],\"labels\":[\"Idaho\"],\"line_alpha\":[1.0],\"line_color\":[\"white\"],\"width\":[0.8],\"x\":[\"Idaho\"],\"y\":[1.5]}},\"id\":\"b0d1421c-aa83-406d-9af3-037283669c27\",\"type\":\"ColumnDataSource\"},{\"attributes\":{\"fill_alpha\":{\"field\":\"fill_alpha\"},\"fill_color\":{\"field\":\"color\"},\"height\":{\"field\":\"height\",\"units\":\"data\"},\"line_color\":{\"field\":\"line_color\"},\"width\":{\"field\":\"width\",\"units\":\"data\"},\"x\":{\"field\":\"x\"},\"y\":{\"field\":\"y\"}},\"id\":\"0ab5f769-d8c3-4704-83c8-34846435934e\",\"type\":\"Rect\"},{\"attributes\":{\"fill_alpha\":{\"field\":\"fill_alpha\"},\"fill_color\":{\"field\":\"color\"},\"height\":{\"field\":\"height\",\"units\":\"data\"},\"line_color\":{\"field\":\"line_color\"},\"width\":{\"field\":\"width\",\"units\":\"data\"},\"x\":{\"field\":\"x\"},\"y\":{\"field\":\"y\"}},\"id\":\"63240f2f-e6dc-481d-822f-a5acbc456900\",\"type\":\"Rect\"},{\"attributes\":{\"data_source\":{\"id\":\"49115015-1e53-41ab-8e4d-70cc6ea733b2\",\"type\":\"ColumnDataSource\"},\"glyph\":{\"id\":\"b00e8419-9eed-413f-984e-9d968d40da74\",\"type\":\"Rect\"},\"hover_glyph\":null,\"nonselection_glyph\":null,\"selection_glyph\":null},\"id\":\"0e489eb2-c086-4e23-ad87-86d9b0c9d339\",\"type\":\"GlyphRenderer\"},{\"attributes\":{\"data_source\":{\"id\":\"0c72046f-ad6d-4977-ab06-4dfe23040ae8\",\"type\":\"ColumnDataSource\"},\"glyph\":{\"id\":\"a9708192-d54e-40b0-a5e0-173e5901c3c7\",\"type\":\"Rect\"},\"hover_glyph\":null,\"nonselection_glyph\":null,\"selection_glyph\":null},\"id\":\"5a099a0c-4dfd-47f6-9b47-a84fcad7d7d9\",\"type\":\"GlyphRenderer\"},{\"attributes\":{\"data_source\":{\"id\":\"56732c80-8562-4d81-9269-8a3c08efea64\",\"type\":\"ColumnDataSource\"},\"glyph\":{\"id\":\"35212c4f-e822-44bd-bdde-a63fdc806ce9\",\"type\":\"Rect\"},\"hover_glyph\":null,\"nonselection_glyph\":null,\"selection_glyph\":null},\"id\":\"6a72a759-c9ac-4543-8fa3-1ac2bb62a0a8\",\"type\":\"GlyphRenderer\"},{\"attributes\":{\"data_source\":{\"id\":\"e398eeb0-0571-4759-a2dd-d43848052ac4\",\"type\":\"ColumnDataSource\"},\"glyph\":{\"id\":\"e5f4356f-a158-421e-8530-151da9e8d0b6\",\"type\":\"Rect\"},\"hover_glyph\":null,\"nonselection_glyph\":null,\"selection_glyph\":null},\"id\":\"05d86b04-6aba-4175-9485-7b98e8770561\",\"type\":\"GlyphRenderer\"},{\"attributes\":{\"callback\":null,\"column_names\":[\"line_alpha\",\"color\",\"height\",\"y\",\"label\",\"fill_alpha\",\"x\",\"width\",\"line_color\"],\"data\":{\"chart_index\":[{\"labels\":\"Ohio\"}],\"color\":[\"#f22c40\"],\"fill_alpha\":[0.8],\"height\":[58.0],\"label\":[{\"labels\":\"Ohio\"}],\"labels\":[\"Ohio\"],\"line_alpha\":[1.0],\"line_color\":[\"white\"],\"width\":[0.8],\"x\":[\"Ohio\"],\"y\":[29.0]}},\"id\":\"a73c6f6f-bd3d-45fa-8931-e6b41e11da22\",\"type\":\"ColumnDataSource\"},{\"attributes\":{\"fill_alpha\":{\"field\":\"fill_alpha\"},\"fill_color\":{\"field\":\"color\"},\"height\":{\"field\":\"height\",\"units\":\"data\"},\"line_color\":{\"field\":\"line_color\"},\"width\":{\"field\":\"width\",\"units\":\"data\"},\"x\":{\"field\":\"x\"},\"y\":{\"field\":\"y\"}},\"id\":\"be047e51-5b35-4e06-963b-f22425f81ace\",\"type\":\"Rect\"},{\"attributes\":{\"fill_alpha\":{\"field\":\"fill_alpha\"},\"fill_color\":{\"field\":\"color\"},\"height\":{\"field\":\"height\",\"units\":\"data\"},\"line_color\":{\"field\":\"line_color\"},\"width\":{\"field\":\"width\",\"units\":\"data\"},\"x\":{\"field\":\"x\"},\"y\":{\"field\":\"y\"}},\"id\":\"0c343f15-11c4-4e59-b7b9-5e3cd9b2432d\",\"type\":\"Rect\"},{\"attributes\":{\"data_source\":{\"id\":\"df12e1d4-ad42-47fe-96bf-581b5ecd0bbb\",\"type\":\"ColumnDataSource\"},\"glyph\":{\"id\":\"ecef5330-ad26-4a68-a4a6-d15c7ded8110\",\"type\":\"Rect\"},\"hover_glyph\":null,\"nonselection_glyph\":null,\"selection_glyph\":null},\"id\":\"da212b07-d54b-4ae9-8edf-760ed28a888d\",\"type\":\"GlyphRenderer\"},{\"attributes\":{\"callback\":null,\"column_names\":[\"line_alpha\",\"color\",\"height\",\"y\",\"label\",\"fill_alpha\",\"x\",\"width\",\"line_color\"],\"data\":{\"chart_index\":[{\"labels\":\"Illinois\"}],\"color\":[\"#f22c40\"],\"fill_alpha\":[0.8],\"height\":[43.0],\"label\":[{\"labels\":\"Illinois\"}],\"labels\":[\"Illinois\"],\"line_alpha\":[1.0],\"line_color\":[\"white\"],\"width\":[0.8],\"x\":[\"Illinois\"],\"y\":[21.5]}},\"id\":\"4e1e9e57-7dd5-48d2-b90d-0e4c1acd60af\",\"type\":\"ColumnDataSource\"},{\"attributes\":{},\"id\":\"4a70d8f1-14d2-4bcb-b840-851abbf5010a\",\"type\":\"BasicTickFormatter\"},{\"attributes\":{\"callback\":null,\"column_names\":[\"line_alpha\",\"color\",\"height\",\"y\",\"label\",\"fill_alpha\",\"x\",\"width\",\"line_color\"],\"data\":{\"chart_index\":[{\"labels\":\"Delaware\"}],\"color\":[\"#f22c40\"],\"fill_alpha\":[0.8],\"height\":[3.0],\"label\":[{\"labels\":\"Delaware\"}],\"labels\":[\"Delaware\"],\"line_alpha\":[1.0],\"line_color\":[\"white\"],\"width\":[0.8],\"x\":[\"Delaware\"],\"y\":[1.5]}},\"id\":\"2b4da450-2bfa-477f-952d-156801b6aa53\",\"type\":\"ColumnDataSource\"},{\"attributes\":{\"data_source\":{\"id\":\"30ab4c2a-074f-4bcd-b6dd-8478c7ba0275\",\"type\":\"ColumnDataSource\"},\"glyph\":{\"id\":\"d104a2a5-9b98-463d-9da7-fedd6a090a6a\",\"type\":\"Rect\"},\"hover_glyph\":null,\"nonselection_glyph\":null,\"selection_glyph\":null},\"id\":\"0af915b7-854c-46e4-a1a8-82c7aa5a688d\",\"type\":\"GlyphRenderer\"},{\"attributes\":{\"callback\":null,\"column_names\":[\"line_alpha\",\"color\",\"height\",\"y\",\"label\",\"fill_alpha\",\"x\",\"width\",\"line_color\"],\"data\":{\"chart_index\":[{\"labels\":\"North Dakota\"}],\"color\":[\"#f22c40\"],\"fill_alpha\":[0.8],\"height\":[3.0],\"label\":[{\"labels\":\"North Dakota\"}],\"labels\":[\"North Dakota\"],\"line_alpha\":[1.0],\"line_color\":[\"white\"],\"width\":[0.8],\"x\":[\"North Dakota\"],\"y\":[1.5]}},\"id\":\"f3ccd091-080d-48dc-a37d-3e49d134af43\",\"type\":\"ColumnDataSource\"},{\"attributes\":{},\"id\":\"4acdd86e-a8ac-4dcb-9cca-65b7199e2b1c\",\"type\":\"CategoricalTickFormatter\"},{\"attributes\":{\"callback\":null,\"column_names\":[\"line_alpha\",\"color\",\"height\",\"y\",\"label\",\"fill_alpha\",\"x\",\"width\",\"line_color\"],\"data\":{\"chart_index\":[{\"labels\":\"Michigan\"}],\"color\":[\"#f22c40\"],\"fill_alpha\":[0.8],\"height\":[32.0],\"label\":[{\"labels\":\"Michigan\"}],\"labels\":[\"Michigan\"],\"line_alpha\":[1.0],\"line_color\":[\"white\"],\"width\":[0.8],\"x\":[\"Michigan\"],\"y\":[16.0]}},\"id\":\"0ef978a8-92fb-4855-b191-254a37894062\",\"type\":\"ColumnDataSource\"},{\"attributes\":{\"callback\":null,\"column_names\":[\"line_alpha\",\"color\",\"height\",\"y\",\"label\",\"fill_alpha\",\"x\",\"width\",\"line_color\"],\"data\":{\"chart_index\":[{\"labels\":\"Arkansas\"}],\"color\":[\"#f22c40\"],\"fill_alpha\":[0.8],\"height\":[6.0],\"label\":[{\"labels\":\"Arkansas\"}],\"labels\":[\"Arkansas\"],\"line_alpha\":[1.0],\"line_color\":[\"white\"],\"width\":[0.8],\"x\":[\"Arkansas\"],\"y\":[3.0]}},\"id\":\"b2083384-b0b2-4f7d-86a7-05397b510568\",\"type\":\"ColumnDataSource\"},{\"attributes\":{\"fill_alpha\":{\"field\":\"fill_alpha\"},\"fill_color\":{\"field\":\"color\"},\"height\":{\"field\":\"height\",\"units\":\"data\"},\"line_color\":{\"field\":\"line_color\"},\"width\":{\"field\":\"width\",\"units\":\"data\"},\"x\":{\"field\":\"x\"},\"y\":{\"field\":\"y\"}},\"id\":\"4526bf27-273b-4628-bf85-0706fd368a55\",\"type\":\"Rect\"},{\"attributes\":{\"callback\":null,\"column_names\":[\"line_alpha\",\"color\",\"height\",\"y\",\"label\",\"fill_alpha\",\"x\",\"width\",\"line_color\"],\"data\":{\"chart_index\":[{\"labels\":\"Rhode Island\"}],\"color\":[\"#f22c40\"],\"fill_alpha\":[0.8],\"height\":[3.0],\"label\":[{\"labels\":\"Rhode Island\"}],\"labels\":[\"Rhode Island\"],\"line_alpha\":[1.0],\"line_color\":[\"white\"],\"width\":[0.8],\"x\":[\"Rhode Island\"],\"y\":[1.5]}},\"id\":\"e398eeb0-0571-4759-a2dd-d43848052ac4\",\"type\":\"ColumnDataSource\"},{\"attributes\":{\"callback\":null,\"column_names\":[\"line_alpha\",\"color\",\"height\",\"y\",\"label\",\"fill_alpha\",\"x\",\"width\",\"line_color\"],\"data\":{\"chart_index\":[{\"labels\":\"Hawaii\"}],\"color\":[\"#f22c40\"],\"fill_alpha\":[0.8],\"height\":[5.0],\"label\":[{\"labels\":\"Hawaii\"}],\"labels\":[\"Hawaii\"],\"line_alpha\":[1.0],\"line_color\":[\"white\"],\"width\":[0.8],\"x\":[\"Hawaii\"],\"y\":[2.5]}},\"id\":\"ab6b83ad-96a4-4a7a-956c-9a6f6f365ca0\",\"type\":\"ColumnDataSource\"},{\"attributes\":{\"data_source\":{\"id\":\"0c4cdf5c-a620-4df9-9724-ce43db7b4fcb\",\"type\":\"ColumnDataSource\"},\"glyph\":{\"id\":\"50145f89-cc51-4f51-a9da-2aec5920e280\",\"type\":\"Rect\"},\"hover_glyph\":null,\"nonselection_glyph\":null,\"selection_glyph\":null},\"id\":\"e5faa620-b893-4963-b5d2-5093e6b11604\",\"type\":\"GlyphRenderer\"},{\"attributes\":{\"callback\":null,\"factors\":[\"Alabama\",\"Alaska\",\"Arizona\",\"Arkansas\",\"California\",\"Colorado\",\"Connecticut\",\"Delaware\",\"Florida\",\"Georgia\",\"Hawaii\",\"Idaho\",\"Illinois\",\"Indiana\",\"Iowa\",\"Kansas\",\"Kentucky\",\"Louisiana\",\"Maine\",\"Maryland\",\"Massachusetts\",\"Michigan\",\"Minnesota\",\"Mississippi\",\"Missouri\",\"Montana\",\"Nebraska\",\"Nevada\",\"New Hampshire\",\"New Jersey\",\"New Mexico\",\"New York\",\"North Carolina\",\"North Dakota\",\"Ohio\",\"Oklahoma\",\"Oregon\",\"Pennsylvania\",\"Rhode Island\",\"South Carolina\",\"South Dakota\",\"Tennessee\",\"Texas\",\"Utah\",\"Vermont\",\"Virginia\",\"Washington\",\"West Virginia\",\"Wisconsin\",\"Wyoming\"]},\"id\":\"e48c15dd-822f-4d52-8fa8-72cc39797e99\",\"type\":\"FactorRange\"},{\"attributes\":{\"callback\":null,\"column_names\":[\"line_alpha\",\"color\",\"height\",\"y\",\"label\",\"fill_alpha\",\"x\",\"width\",\"line_color\"],\"data\":{\"chart_index\":[{\"labels\":\"New York\"}],\"color\":[\"#f22c40\"],\"fill_alpha\":[0.8],\"height\":[76.0],\"label\":[{\"labels\":\"New York\"}],\"labels\":[\"New York\"],\"line_alpha\":[1.0],\"line_color\":[\"white\"],\"width\":[0.8],\"x\":[\"New York\"],\"y\":[38.0]}},\"id\":\"0b1fa5fe-1416-4fc7-967e-4e1e21c13c8e\",\"type\":\"ColumnDataSource\"},{\"attributes\":{\"fill_alpha\":{\"field\":\"fill_alpha\"},\"fill_color\":{\"field\":\"color\"},\"height\":{\"field\":\"height\",\"units\":\"data\"},\"line_color\":{\"field\":\"line_color\"},\"width\":{\"field\":\"width\",\"units\":\"data\"},\"x\":{\"field\":\"x\"},\"y\":{\"field\":\"y\"}},\"id\":\"64024862-41a5-478f-903c-9d91c90ee3b0\",\"type\":\"Rect\"},{\"attributes\":{\"callback\":null,\"end\":124.95},\"id\":\"013504a8-56cd-457f-a9d0-68ccc83018b2\",\"type\":\"Range1d\"},{\"attributes\":{\"data_source\":{\"id\":\"196703a3-7e39-4167-99ae-885fc64e7f91\",\"type\":\"ColumnDataSource\"},\"glyph\":{\"id\":\"1a5d276e-1d40-4708-88ed-73269cd8da22\",\"type\":\"Rect\"},\"hover_glyph\":null,\"nonselection_glyph\":null,\"selection_glyph\":null},\"id\":\"79dcdd44-70b1-42af-bea6-8ce8fca082fb\",\"type\":\"GlyphRenderer\"},{\"attributes\":{\"data_source\":{\"id\":\"a73c6f6f-bd3d-45fa-8931-e6b41e11da22\",\"type\":\"ColumnDataSource\"},\"glyph\":{\"id\":\"e0ae32eb-1ebe-4d2f-ae5e-05c395e1be42\",\"type\":\"Rect\"},\"hover_glyph\":null,\"nonselection_glyph\":null,\"selection_glyph\":null},\"id\":\"f41d108d-2e08-46e8-a36d-f0f2653ae833\",\"type\":\"GlyphRenderer\"},{\"attributes\":{\"data_source\":{\"id\":\"4e1e9e57-7dd5-48d2-b90d-0e4c1acd60af\",\"type\":\"ColumnDataSource\"},\"glyph\":{\"id\":\"0775a210-c401-4e05-ba3c-d5366a343017\",\"type\":\"Rect\"},\"hover_glyph\":null,\"nonselection_glyph\":null,\"selection_glyph\":null},\"id\":\"ec92d4ac-7813-4d1f-85b4-93b2e2593427\",\"type\":\"GlyphRenderer\"},{\"attributes\":{\"data_source\":{\"id\":\"cea09ed1-6a4c-40a4-8bf7-b3d0b1e03528\",\"type\":\"ColumnDataSource\"},\"glyph\":{\"id\":\"1ff30bf9-1c9e-435f-b92b-1eea4623eb47\",\"type\":\"Rect\"},\"hover_glyph\":null,\"nonselection_glyph\":null,\"selection_glyph\":null},\"id\":\"197a3488-639f-4b85-bdcb-416862ce5bc7\",\"type\":\"GlyphRenderer\"},{\"attributes\":{\"data_source\":{\"id\":\"59a7379a-4826-4939-8467-53cc0ebc18f9\",\"type\":\"ColumnDataSource\"},\"glyph\":{\"id\":\"a353bda0-ebf8-4e6a-bf6d-333e5a9ac225\",\"type\":\"Rect\"},\"hover_glyph\":null,\"nonselection_glyph\":null,\"selection_glyph\":null},\"id\":\"d3232789-91a8-44e7-9be2-9aad84013a74\",\"type\":\"GlyphRenderer\"},{\"attributes\":{\"fill_alpha\":{\"field\":\"fill_alpha\"},\"fill_color\":{\"field\":\"color\"},\"height\":{\"field\":\"height\",\"units\":\"data\"},\"line_color\":{\"field\":\"line_color\"},\"width\":{\"field\":\"width\",\"units\":\"data\"},\"x\":{\"field\":\"x\"},\"y\":{\"field\":\"y\"}},\"id\":\"99723b75-6033-4ec0-9aac-7d52a51caa2e\",\"type\":\"Rect\"},{\"attributes\":{\"fill_alpha\":{\"field\":\"fill_alpha\"},\"fill_color\":{\"field\":\"color\"},\"height\":{\"field\":\"height\",\"units\":\"data\"},\"line_color\":{\"field\":\"line_color\"},\"width\":{\"field\":\"width\",\"units\":\"data\"},\"x\":{\"field\":\"x\"},\"y\":{\"field\":\"y\"}},\"id\":\"234da9dc-347d-4c93-97cf-2fe00c4f437b\",\"type\":\"Rect\"},{\"attributes\":{\"data_source\":{\"id\":\"a617b236-c52c-48d0-8a4b-6dc5cbbbefc4\",\"type\":\"ColumnDataSource\"},\"glyph\":{\"id\":\"3ec0b653-11e9-405f-905a-6f806c8430c8\",\"type\":\"Rect\"},\"hover_glyph\":null,\"nonselection_glyph\":null,\"selection_glyph\":null},\"id\":\"48800fe3-5023-4b46-a600-f23eeba16ef0\",\"type\":\"GlyphRenderer\"},{\"attributes\":{\"callback\":null,\"column_names\":[\"line_alpha\",\"color\",\"height\",\"y\",\"label\",\"fill_alpha\",\"x\",\"width\",\"line_color\"],\"data\":{\"chart_index\":[{\"labels\":\"Virginia\"}],\"color\":[\"#f22c40\"],\"fill_alpha\":[0.8],\"height\":[26.0],\"label\":[{\"labels\":\"Virginia\"}],\"labels\":[\"Virginia\"],\"line_alpha\":[1.0],\"line_color\":[\"white\"],\"width\":[0.8],\"x\":[\"Virginia\"],\"y\":[13.0]}},\"id\":\"c91af6ea-5ea8-4add-bfa0-423141094ef4\",\"type\":\"ColumnDataSource\"},{\"attributes\":{\"callback\":null,\"column_names\":[\"line_alpha\",\"color\",\"height\",\"y\",\"label\",\"fill_alpha\",\"x\",\"width\",\"line_color\"],\"data\":{\"chart_index\":[{\"labels\":\"Mississippi\"}],\"color\":[\"#f22c40\"],\"fill_alpha\":[0.8],\"height\":[7.0],\"label\":[{\"labels\":\"Mississippi\"}],\"labels\":[\"Mississippi\"],\"line_alpha\":[1.0],\"line_color\":[\"white\"],\"width\":[0.8],\"x\":[\"Mississippi\"],\"y\":[3.5]}},\"id\":\"1fe1360a-26da-454c-8f6a-d0e34b188fe8\",\"type\":\"ColumnDataSource\"},{\"attributes\":{\"fill_alpha\":{\"field\":\"fill_alpha\"},\"fill_color\":{\"field\":\"color\"},\"height\":{\"field\":\"height\",\"units\":\"data\"},\"line_color\":{\"field\":\"line_color\"},\"width\":{\"field\":\"width\",\"units\":\"data\"},\"x\":{\"field\":\"x\"},\"y\":{\"field\":\"y\"}},\"id\":\"31ac1c71-9728-4efe-8706-7612ae4d2b25\",\"type\":\"Rect\"},{\"attributes\":{\"data_source\":{\"id\":\"be33e7e3-188d-4d88-9eb5-5a8af4ddaa0c\",\"type\":\"ColumnDataSource\"},\"glyph\":{\"id\":\"43fc62ca-0480-487b-894f-7ac6871cc7ce\",\"type\":\"Rect\"},\"hover_glyph\":null,\"nonselection_glyph\":null,\"selection_glyph\":null},\"id\":\"1a50703f-48bf-4626-914f-293d26effe36\",\"type\":\"GlyphRenderer\"},{\"attributes\":{\"data_source\":{\"id\":\"1fe1360a-26da-454c-8f6a-d0e34b188fe8\",\"type\":\"ColumnDataSource\"},\"glyph\":{\"id\":\"5c8e5263-b9f4-4a45-a380-061d276bc1c0\",\"type\":\"Rect\"},\"hover_glyph\":null,\"nonselection_glyph\":null,\"selection_glyph\":null},\"id\":\"a10a3bb2-417f-4a46-97c2-4985729a73c6\",\"type\":\"GlyphRenderer\"},{\"attributes\":{\"fill_alpha\":{\"field\":\"fill_alpha\"},\"fill_color\":{\"field\":\"color\"},\"height\":{\"field\":\"height\",\"units\":\"data\"},\"line_color\":{\"field\":\"line_color\"},\"width\":{\"field\":\"width\",\"units\":\"data\"},\"x\":{\"field\":\"x\"},\"y\":{\"field\":\"y\"}},\"id\":\"e99d3103-9b52-4399-80ed-52f5b747fabc\",\"type\":\"Rect\"},{\"attributes\":{\"callback\":null,\"column_names\":[\"line_alpha\",\"color\",\"height\",\"y\",\"label\",\"fill_alpha\",\"x\",\"width\",\"line_color\"],\"data\":{\"chart_index\":[{\"labels\":\"South Dakota\"}],\"color\":[\"#f22c40\"],\"fill_alpha\":[0.8],\"height\":[0.0],\"label\":[{\"labels\":\"South Dakota\"}],\"labels\":[\"South Dakota\"],\"line_alpha\":[1.0],\"line_color\":[\"white\"],\"width\":[0.8],\"x\":[\"South Dakota\"],\"y\":[0.0]}},\"id\":\"1db89e52-4556-49fd-9446-45607f09abbb\",\"type\":\"ColumnDataSource\"},{\"attributes\":{\"fill_alpha\":{\"field\":\"fill_alpha\"},\"fill_color\":{\"field\":\"color\"},\"height\":{\"field\":\"height\",\"units\":\"data\"},\"line_color\":{\"field\":\"line_color\"},\"width\":{\"field\":\"width\",\"units\":\"data\"},\"x\":{\"field\":\"x\"},\"y\":{\"field\":\"y\"}},\"id\":\"5bf999f0-5321-4a5b-9b3f-63071aec66ae\",\"type\":\"Rect\"},{\"attributes\":{\"data_source\":{\"id\":\"bf58e38d-c6df-401f-8bdc-cb1858a65a82\",\"type\":\"ColumnDataSource\"},\"glyph\":{\"id\":\"9e948199-8ba7-4bd1-87d9-79e13275a236\",\"type\":\"Rect\"},\"hover_glyph\":null,\"nonselection_glyph\":null,\"selection_glyph\":null},\"id\":\"c880149f-923c-40e3-b541-753a7cb2fade\",\"type\":\"GlyphRenderer\"},{\"attributes\":{\"fill_alpha\":{\"field\":\"fill_alpha\"},\"fill_color\":{\"field\":\"color\"},\"height\":{\"field\":\"height\",\"units\":\"data\"},\"line_color\":{\"field\":\"line_color\"},\"width\":{\"field\":\"width\",\"units\":\"data\"},\"x\":{\"field\":\"x\"},\"y\":{\"field\":\"y\"}},\"id\":\"e0ae32eb-1ebe-4d2f-ae5e-05c395e1be42\",\"type\":\"Rect\"},{\"attributes\":{\"callback\":null,\"column_names\":[\"line_alpha\",\"color\",\"height\",\"y\",\"label\",\"fill_alpha\",\"x\",\"width\",\"line_color\"],\"data\":{\"chart_index\":[{\"labels\":\"Minnesota\"}],\"color\":[\"#f22c40\"],\"fill_alpha\":[0.8],\"height\":[14.0],\"label\":[{\"labels\":\"Minnesota\"}],\"labels\":[\"Minnesota\"],\"line_alpha\":[1.0],\"line_color\":[\"white\"],\"width\":[0.8],\"x\":[\"Minnesota\"],\"y\":[7.0]}},\"id\":\"0c72046f-ad6d-4977-ab06-4dfe23040ae8\",\"type\":\"ColumnDataSource\"},{\"attributes\":{\"data_source\":{\"id\":\"ab6b83ad-96a4-4a7a-956c-9a6f6f365ca0\",\"type\":\"ColumnDataSource\"},\"glyph\":{\"id\":\"ea831bcc-34b6-4ad0-ade7-2a6bdb0a7d26\",\"type\":\"Rect\"},\"hover_glyph\":null,\"nonselection_glyph\":null,\"selection_glyph\":null},\"id\":\"0c6e1d50-b8c9-4430-9bb0-f3a683102f5d\",\"type\":\"GlyphRenderer\"},{\"attributes\":{\"fill_alpha\":{\"field\":\"fill_alpha\"},\"fill_color\":{\"field\":\"color\"},\"height\":{\"field\":\"height\",\"units\":\"data\"},\"line_color\":{\"field\":\"line_color\"},\"width\":{\"field\":\"width\",\"units\":\"data\"},\"x\":{\"field\":\"x\"},\"y\":{\"field\":\"y\"}},\"id\":\"f88fceb7-18e4-4d01-8ca2-f0bf888f8685\",\"type\":\"Rect\"},{\"attributes\":{\"fill_alpha\":{\"field\":\"fill_alpha\"},\"fill_color\":{\"field\":\"color\"},\"height\":{\"field\":\"height\",\"units\":\"data\"},\"line_color\":{\"field\":\"line_color\"},\"width\":{\"field\":\"width\",\"units\":\"data\"},\"x\":{\"field\":\"x\"},\"y\":{\"field\":\"y\"}},\"id\":\"a9708192-d54e-40b0-a5e0-173e5901c3c7\",\"type\":\"Rect\"},{\"attributes\":{\"data_source\":{\"id\":\"c91af6ea-5ea8-4add-bfa0-423141094ef4\",\"type\":\"ColumnDataSource\"},\"glyph\":{\"id\":\"899803a4-bea2-4cfa-8583-b10e5e81ee96\",\"type\":\"Rect\"},\"hover_glyph\":null,\"nonselection_glyph\":null,\"selection_glyph\":null},\"id\":\"fa2263c0-2aaa-434e-b25c-ab5e9f1251dd\",\"type\":\"GlyphRenderer\"},{\"attributes\":{\"fill_alpha\":{\"field\":\"fill_alpha\"},\"fill_color\":{\"field\":\"color\"},\"height\":{\"field\":\"height\",\"units\":\"data\"},\"line_color\":{\"field\":\"line_color\"},\"width\":{\"field\":\"width\",\"units\":\"data\"},\"x\":{\"field\":\"x\"},\"y\":{\"field\":\"y\"}},\"id\":\"b00e8419-9eed-413f-984e-9d968d40da74\",\"type\":\"Rect\"},{\"attributes\":{\"fill_alpha\":{\"field\":\"fill_alpha\"},\"fill_color\":{\"field\":\"color\"},\"height\":{\"field\":\"height\",\"units\":\"data\"},\"line_color\":{\"field\":\"line_color\"},\"width\":{\"field\":\"width\",\"units\":\"data\"},\"x\":{\"field\":\"x\"},\"y\":{\"field\":\"y\"}},\"id\":\"d104a2a5-9b98-463d-9da7-fedd6a090a6a\",\"type\":\"Rect\"},{\"attributes\":{\"fill_alpha\":{\"field\":\"fill_alpha\"},\"fill_color\":{\"field\":\"color\"},\"height\":{\"field\":\"height\",\"units\":\"data\"},\"line_color\":{\"field\":\"line_color\"},\"width\":{\"field\":\"width\",\"units\":\"data\"},\"x\":{\"field\":\"x\"},\"y\":{\"field\":\"y\"}},\"id\":\"e5f4356f-a158-421e-8530-151da9e8d0b6\",\"type\":\"Rect\"},{\"attributes\":{\"callback\":null,\"column_names\":[\"line_alpha\",\"color\",\"height\",\"y\",\"label\",\"fill_alpha\",\"x\",\"width\",\"line_color\"],\"data\":{\"chart_index\":[{\"labels\":\"North Carolina\"}],\"color\":[\"#f22c40\"],\"fill_alpha\":[0.8],\"height\":[35.0],\"label\":[{\"labels\":\"North Carolina\"}],\"labels\":[\"North Carolina\"],\"line_alpha\":[1.0],\"line_color\":[\"white\"],\"width\":[0.8],\"x\":[\"North Carolina\"],\"y\":[17.5]}},\"id\":\"30ab4c2a-074f-4bcd-b6dd-8478c7ba0275\",\"type\":\"ColumnDataSource\"},{\"attributes\":{\"data_source\":{\"id\":\"927f3949-88b0-411c-81c1-ba5f42f49e53\",\"type\":\"ColumnDataSource\"},\"glyph\":{\"id\":\"e99d3103-9b52-4399-80ed-52f5b747fabc\",\"type\":\"Rect\"},\"hover_glyph\":null,\"nonselection_glyph\":null,\"selection_glyph\":null},\"id\":\"56d57ea8-91dc-43ee-b324-3c6ae0515842\",\"type\":\"GlyphRenderer\"},{\"attributes\":{\"data_source\":{\"id\":\"0404a03e-a020-4bf2-a8f6-d3aa112dfa6b\",\"type\":\"ColumnDataSource\"},\"glyph\":{\"id\":\"99723b75-6033-4ec0-9aac-7d52a51caa2e\",\"type\":\"Rect\"},\"hover_glyph\":null,\"nonselection_glyph\":null,\"selection_glyph\":null},\"id\":\"b5e07d95-c98a-4624-8c0f-9d6d88f78395\",\"type\":\"GlyphRenderer\"},{\"attributes\":{\"data_source\":{\"id\":\"8685eb11-6ba3-408d-823d-8fccbcfbb51f\",\"type\":\"ColumnDataSource\"},\"glyph\":{\"id\":\"0c343f15-11c4-4e59-b7b9-5e3cd9b2432d\",\"type\":\"Rect\"},\"hover_glyph\":null,\"nonselection_glyph\":null,\"selection_glyph\":null},\"id\":\"c9bb4137-d105-4708-99e4-c7b8b77659dc\",\"type\":\"GlyphRenderer\"},{\"attributes\":{\"data_source\":{\"id\":\"8b0dd435-1ac2-4e36-8647-0d6af43c56cd\",\"type\":\"ColumnDataSource\"},\"glyph\":{\"id\":\"7c716b08-638c-4620-b1ee-53cfc7fd71c2\",\"type\":\"Rect\"},\"hover_glyph\":null,\"nonselection_glyph\":null,\"selection_glyph\":null},\"id\":\"86cbd012-5458-423f-8fbf-52e32538fdeb\",\"type\":\"GlyphRenderer\"},{\"attributes\":{\"data_source\":{\"id\":\"e88f2986-1736-4960-b054-54776f8d7a02\",\"type\":\"ColumnDataSource\"},\"glyph\":{\"id\":\"31ac1c71-9728-4efe-8706-7612ae4d2b25\",\"type\":\"Rect\"},\"hover_glyph\":null,\"nonselection_glyph\":null,\"selection_glyph\":null},\"id\":\"88281d40-a333-42b5-a603-4ef5eb429dc5\",\"type\":\"GlyphRenderer\"},{\"attributes\":{\"callback\":null,\"column_names\":[\"line_alpha\",\"color\",\"height\",\"y\",\"label\",\"fill_alpha\",\"x\",\"width\",\"line_color\"],\"data\":{\"chart_index\":[{\"labels\":\"Nevada\"}],\"color\":[\"#f22c40\"],\"fill_alpha\":[0.8],\"height\":[11.0],\"label\":[{\"labels\":\"Nevada\"}],\"labels\":[\"Nevada\"],\"line_alpha\":[1.0],\"line_color\":[\"white\"],\"width\":[0.8],\"x\":[\"Nevada\"],\"y\":[5.5]}},\"id\":\"49115015-1e53-41ab-8e4d-70cc6ea733b2\",\"type\":\"ColumnDataSource\"},{\"attributes\":{\"callback\":null,\"column_names\":[\"line_alpha\",\"color\",\"height\",\"y\",\"label\",\"fill_alpha\",\"x\",\"width\",\"line_color\"],\"data\":{\"chart_index\":[{\"labels\":\"Connecticut\"}],\"color\":[\"#f22c40\"],\"fill_alpha\":[0.8],\"height\":[11.0],\"label\":[{\"labels\":\"Connecticut\"}],\"labels\":[\"Connecticut\"],\"line_alpha\":[1.0],\"line_color\":[\"white\"],\"width\":[0.8],\"x\":[\"Connecticut\"],\"y\":[5.5]}},\"id\":\"fa188eb8-beee-4f9b-a32e-41a1df8fa22b\",\"type\":\"ColumnDataSource\"},{\"attributes\":{\"callback\":null,\"column_names\":[\"line_alpha\",\"color\",\"height\",\"y\",\"label\",\"fill_alpha\",\"x\",\"width\",\"line_color\"],\"data\":{\"chart_index\":[{\"labels\":\"Florida\"}],\"color\":[\"#f22c40\"],\"fill_alpha\":[0.8],\"height\":[72.0],\"label\":[{\"labels\":\"Florida\"}],\"labels\":[\"Florida\"],\"line_alpha\":[1.0],\"line_color\":[\"white\"],\"width\":[0.8],\"x\":[\"Florida\"],\"y\":[36.0]}},\"id\":\"be33e7e3-188d-4d88-9eb5-5a8af4ddaa0c\",\"type\":\"ColumnDataSource\"},{\"attributes\":{\"axis_label\":\"Labels\",\"formatter\":{\"id\":\"4acdd86e-a8ac-4dcb-9cca-65b7199e2b1c\",\"type\":\"CategoricalTickFormatter\"},\"major_label_orientation\":0.7853981633974483,\"plot\":{\"id\":\"0b92f6e3-021d-4a86-b218-40e95a58275e\",\"subtype\":\"Chart\",\"type\":\"Plot\"},\"ticker\":{\"id\":\"856c98ca-0351-4661-8545-294943e831d8\",\"type\":\"CategoricalTicker\"}},\"id\":\"e360a350-08f3-4a51-9967-7aa1d8220928\",\"type\":\"CategoricalAxis\"},{\"attributes\":{\"fill_alpha\":{\"field\":\"fill_alpha\"},\"fill_color\":{\"field\":\"color\"},\"height\":{\"field\":\"height\",\"units\":\"data\"},\"line_color\":{\"field\":\"line_color\"},\"width\":{\"field\":\"width\",\"units\":\"data\"},\"x\":{\"field\":\"x\"},\"y\":{\"field\":\"y\"}},\"id\":\"899803a4-bea2-4cfa-8583-b10e5e81ee96\",\"type\":\"Rect\"},{\"attributes\":{\"plot\":{\"id\":\"0b92f6e3-021d-4a86-b218-40e95a58275e\",\"subtype\":\"Chart\",\"type\":\"Plot\"}},\"id\":\"d58552b7-b97c-4991-b4c1-7315598f873f\",\"type\":\"SaveTool\"},{\"attributes\":{\"fill_alpha\":{\"field\":\"fill_alpha\"},\"fill_color\":{\"field\":\"color\"},\"height\":{\"field\":\"height\",\"units\":\"data\"},\"line_color\":{\"field\":\"line_color\"},\"width\":{\"field\":\"width\",\"units\":\"data\"},\"x\":{\"field\":\"x\"},\"y\":{\"field\":\"y\"}},\"id\":\"34cd2a36-ffdc-407a-9d79-00540fe70dae\",\"type\":\"Rect\"},{\"attributes\":{\"callback\":null,\"column_names\":[\"line_alpha\",\"color\",\"height\",\"y\",\"label\",\"fill_alpha\",\"x\",\"width\",\"line_color\"],\"data\":{\"chart_index\":[{\"labels\":\"Montana\"}],\"color\":[\"#f22c40\"],\"fill_alpha\":[0.8],\"height\":[3.0],\"label\":[{\"labels\":\"Montana\"}],\"labels\":[\"Montana\"],\"line_alpha\":[1.0],\"line_color\":[\"white\"],\"width\":[0.8],\"x\":[\"Montana\"],\"y\":[1.5]}},\"id\":\"0c4cdf5c-a620-4df9-9724-ce43db7b4fcb\",\"type\":\"ColumnDataSource\"},{\"attributes\":{\"fill_alpha\":{\"field\":\"fill_alpha\"},\"fill_color\":{\"field\":\"color\"},\"height\":{\"field\":\"height\",\"units\":\"data\"},\"line_color\":{\"field\":\"line_color\"},\"width\":{\"field\":\"width\",\"units\":\"data\"},\"x\":{\"field\":\"x\"},\"y\":{\"field\":\"y\"}},\"id\":\"bbd603d3-483e-4d55-894d-070a1bf157a9\",\"type\":\"Rect\"},{\"attributes\":{\"plot\":{\"id\":\"0b92f6e3-021d-4a86-b218-40e95a58275e\",\"subtype\":\"Chart\",\"type\":\"Plot\"}},\"id\":\"588cd478-3dff-4a51-80bb-7cc360172f4b\",\"type\":\"HelpTool\"},{\"attributes\":{\"fill_alpha\":{\"field\":\"fill_alpha\"},\"fill_color\":{\"field\":\"color\"},\"height\":{\"field\":\"height\",\"units\":\"data\"},\"line_color\":{\"field\":\"line_color\"},\"width\":{\"field\":\"width\",\"units\":\"data\"},\"x\":{\"field\":\"x\"},\"y\":{\"field\":\"y\"}},\"id\":\"43fc62ca-0480-487b-894f-7ac6871cc7ce\",\"type\":\"Rect\"},{\"attributes\":{\"data_source\":{\"id\":\"e51b4123-a9c4-4e20-b454-87831a65b8b4\",\"type\":\"ColumnDataSource\"},\"glyph\":{\"id\":\"34cd2a36-ffdc-407a-9d79-00540fe70dae\",\"type\":\"Rect\"},\"hover_glyph\":null,\"nonselection_glyph\":null,\"selection_glyph\":null},\"id\":\"9c22fe87-9b61-4a40-b113-9f6f5d11535f\",\"type\":\"GlyphRenderer\"},{\"attributes\":{\"data_source\":{\"id\":\"d6ffe5ec-63cf-4bd3-bb38-24d21cb76ffe\",\"type\":\"ColumnDataSource\"},\"glyph\":{\"id\":\"f3d3014d-4d94-465d-b078-6082b83905ff\",\"type\":\"Rect\"},\"hover_glyph\":null,\"nonselection_glyph\":null,\"selection_glyph\":null},\"id\":\"79e3097b-2d0f-4308-bcd5-1c0a3d201dfc\",\"type\":\"GlyphRenderer\"},{\"attributes\":{\"data_source\":{\"id\":\"179cbbf0-7597-4317-ad11-67a1a6e707c7\",\"type\":\"ColumnDataSource\"},\"glyph\":{\"id\":\"01587ee0-8dc4-4851-b2e7-96069bf92155\",\"type\":\"Rect\"},\"hover_glyph\":null,\"nonselection_glyph\":null,\"selection_glyph\":null},\"id\":\"15b52715-bfde-4fbc-8fcc-0cde6219c7e7\",\"type\":\"GlyphRenderer\"},{\"attributes\":{\"fill_alpha\":{\"field\":\"fill_alpha\"},\"fill_color\":{\"field\":\"color\"},\"height\":{\"field\":\"height\",\"units\":\"data\"},\"line_color\":{\"field\":\"line_color\"},\"width\":{\"field\":\"width\",\"units\":\"data\"},\"x\":{\"field\":\"x\"},\"y\":{\"field\":\"y\"}},\"id\":\"5c8e5263-b9f4-4a45-a380-061d276bc1c0\",\"type\":\"Rect\"},{\"attributes\":{\"fill_alpha\":{\"field\":\"fill_alpha\"},\"fill_color\":{\"field\":\"color\"},\"height\":{\"field\":\"height\",\"units\":\"data\"},\"line_color\":{\"field\":\"line_color\"},\"width\":{\"field\":\"width\",\"units\":\"data\"},\"x\":{\"field\":\"x\"},\"y\":{\"field\":\"y\"}},\"id\":\"8016e0da-98b4-4e4c-8cfc-84f8109f1666\",\"type\":\"Rect\"}],\"root_ids\":[\"0b92f6e3-021d-4a86-b218-40e95a58275e\"]},\"title\":\"Bokeh Application\",\"version\":\"0.12.0\"}};\n",
       "            var render_items = [{\"docid\":\"3471c5f4-9038-4054-89a3-bb0824f0958d\",\"elementid\":\"acca909b-702a-45a3-843f-9b0d2e620ae7\",\"modelid\":\"0b92f6e3-021d-4a86-b218-40e95a58275e\",\"notebook_comms_target\":\"ed147d2c-762a-46a1-a598-8529c83b1643\"}];\n",
       "            \n",
       "            Bokeh.embed.embed_items(docs_json, render_items);\n",
       "        });\n",
       "      },\n",
       "      function(Bokeh) {\n",
       "      }\n",
       "    ];\n",
       "  \n",
       "    function run_inline_js() {\n",
       "      for (var i = 0; i < inline_js.length; i++) {\n",
       "        inline_js[i](window.Bokeh);\n",
       "      }\n",
       "    }\n",
       "  \n",
       "    if (window._bokeh_is_loading === 0) {\n",
       "      console.log(\"Bokeh: BokehJS loaded, going straight to plotting\");\n",
       "      run_inline_js();\n",
       "    } else {\n",
       "      load_libs(js_urls, function() {\n",
       "        console.log(\"Bokeh: BokehJS plotting callback run at\", now());\n",
       "        run_inline_js();\n",
       "      });\n",
       "    }\n",
       "  }(this));\n",
       "</script>"
      ]
     },
     "metadata": {},
     "output_type": "display_data"
    }
   ],
   "source": [
    "valid_twitts = 0\n",
    "for each_state in number_twitts_by_state:\n",
    "    valid_twitts += number_twitts_by_state[each_state]\n",
    "\n",
    "print('------------------------------------------------------------')\n",
    "print()\n",
    "print('Number of twitts evaluated: ' + str(number_twitts_evaluated))\n",
    "print('Number of twitts with valid information: ' + str(valid_twitts))\n",
    "print()\n",
    "print('------------------------------------------------------------')\n",
    "print()\n",
    "print('Percentage of valid twitts: ' + \"{0:.2f}\".format(100 * valid_twitts/number_twitts_evaluated) + '%')\n",
    "print()\n",
    "\n",
    "states = []\n",
    "number_twitts_per_state_array = []\n",
    "\n",
    "for each_state in number_twitts_by_state:\n",
    "    states.append(states_by_code[each_state])\n",
    "    number_twitts_per_state_array.append(number_twitts_by_state[each_state])\n",
    "\n",
    "plot_bar_chart('Number of valid twitts per state', {\n",
    "    'values': number_twitts_per_state_array,\n",
    "    'labels': states\n",
    "}, 'values', 'labels')   "
   ]
  },
  {
   "cell_type": "markdown",
   "metadata": {},
   "source": [
    "\n",
    "\n",
    "***\n",
    "\n",
    "### 5. Results: Happiness of twitter users in USA by states ###\n",
    "\n",
    "The results obtained are the following."
   ]
  },
  {
   "cell_type": "code",
   "execution_count": 141,
   "metadata": {
    "collapsed": false
   },
   "outputs": [
    {
     "data": {
      "text/html": [
       "\n",
       "    <div class=\"bk-root\">\n",
       "        <a href=\"http://bokeh.pydata.org\" target=\"_blank\" class=\"bk-logo bk-logo-small bk-logo-notebook\"></a>\n",
       "        <span id=\"03ba09e0-1862-4749-b71c-21ffd3f03539\">Loading BokehJS ...</span>\n",
       "    </div>"
      ]
     },
     "metadata": {},
     "output_type": "display_data"
    },
    {
     "data": {
      "application/javascript": [
       "\n",
       "(function(global) {\n",
       "  function now() {\n",
       "    return new Date();\n",
       "  }\n",
       "\n",
       "  if (typeof (window._bokeh_onload_callbacks) === \"undefined\") {\n",
       "    window._bokeh_onload_callbacks = [];\n",
       "  }\n",
       "\n",
       "  function run_callbacks() {\n",
       "    window._bokeh_onload_callbacks.forEach(function(callback) { callback() });\n",
       "    delete window._bokeh_onload_callbacks\n",
       "    console.info(\"Bokeh: all callbacks have finished\");\n",
       "  }\n",
       "\n",
       "  function load_libs(js_urls, callback) {\n",
       "    window._bokeh_onload_callbacks.push(callback);\n",
       "    if (window._bokeh_is_loading > 0) {\n",
       "      console.log(\"Bokeh: BokehJS is being loaded, scheduling callback at\", now());\n",
       "      return null;\n",
       "    }\n",
       "    if (js_urls == null || js_urls.length === 0) {\n",
       "      run_callbacks();\n",
       "      return null;\n",
       "    }\n",
       "    console.log(\"Bokeh: BokehJS not loaded, scheduling load and callback at\", now());\n",
       "    window._bokeh_is_loading = js_urls.length;\n",
       "    for (var i = 0; i < js_urls.length; i++) {\n",
       "      var url = js_urls[i];\n",
       "      var s = document.createElement('script');\n",
       "      s.src = url;\n",
       "      s.async = false;\n",
       "      s.onreadystatechange = s.onload = function() {\n",
       "        window._bokeh_is_loading--;\n",
       "        if (window._bokeh_is_loading === 0) {\n",
       "          console.log(\"Bokeh: all BokehJS libraries loaded\");\n",
       "          run_callbacks()\n",
       "        }\n",
       "      };\n",
       "      s.onerror = function() {\n",
       "        console.warn(\"failed to load library \" + url);\n",
       "      };\n",
       "      console.log(\"Bokeh: injecting script tag for BokehJS library: \", url);\n",
       "      document.getElementsByTagName(\"head\")[0].appendChild(s);\n",
       "    }\n",
       "  };\n",
       "\n",
       "  var js_urls = ['https://cdn.pydata.org/bokeh/release/bokeh-0.12.0.min.js', 'https://cdn.pydata.org/bokeh/release/bokeh-widgets-0.12.0.min.js', 'https://cdn.pydata.org/bokeh/release/bokeh-compiler-0.12.0.min.js'];\n",
       "\n",
       "  var inline_js = [\n",
       "    function(Bokeh) {\n",
       "      Bokeh.set_log_level(\"info\");\n",
       "    },\n",
       "    \n",
       "    function(Bokeh) {\n",
       "      Bokeh.$(\"#03ba09e0-1862-4749-b71c-21ffd3f03539\").text(\"BokehJS successfully loaded\");\n",
       "    },\n",
       "    function(Bokeh) {\n",
       "      console.log(\"Bokeh: injecting CSS: https://cdn.pydata.org/bokeh/release/bokeh-0.12.0.min.css\");\n",
       "      Bokeh.embed.inject_css(\"https://cdn.pydata.org/bokeh/release/bokeh-0.12.0.min.css\");\n",
       "      console.log(\"Bokeh: injecting CSS: https://cdn.pydata.org/bokeh/release/bokeh-widgets-0.12.0.min.css\");\n",
       "      Bokeh.embed.inject_css(\"https://cdn.pydata.org/bokeh/release/bokeh-widgets-0.12.0.min.css\");\n",
       "    }\n",
       "  ];\n",
       "\n",
       "  function run_inline_js() {\n",
       "    for (var i = 0; i < inline_js.length; i++) {\n",
       "      inline_js[i](window.Bokeh);\n",
       "    }\n",
       "  }\n",
       "\n",
       "  if (window._bokeh_is_loading === 0) {\n",
       "    console.log(\"Bokeh: BokehJS loaded, going straight to plotting\");\n",
       "    run_inline_js();\n",
       "  } else {\n",
       "    load_libs(js_urls, function() {\n",
       "      console.log(\"Bokeh: BokehJS plotting callback run at\", now());\n",
       "      run_inline_js();\n",
       "    });\n",
       "  }\n",
       "}(this));"
      ]
     },
     "metadata": {},
     "output_type": "display_data"
    },
    {
     "data": {
      "text/html": [
       "\n",
       "\n",
       "    <div class=\"bk-root\">\n",
       "        <div class=\"plotdiv\" id=\"bf5cadbe-d33a-4b7f-a496-d3cc3da05432\"></div>\n",
       "    </div>\n",
       "<script type=\"text/javascript\">\n",
       "  \n",
       "  (function(global) {\n",
       "    function now() {\n",
       "      return new Date();\n",
       "    }\n",
       "  \n",
       "    if (typeof (window._bokeh_onload_callbacks) === \"undefined\") {\n",
       "      window._bokeh_onload_callbacks = [];\n",
       "    }\n",
       "  \n",
       "    function run_callbacks() {\n",
       "      window._bokeh_onload_callbacks.forEach(function(callback) { callback() });\n",
       "      delete window._bokeh_onload_callbacks\n",
       "      console.info(\"Bokeh: all callbacks have finished\");\n",
       "    }\n",
       "  \n",
       "    function load_libs(js_urls, callback) {\n",
       "      window._bokeh_onload_callbacks.push(callback);\n",
       "      if (window._bokeh_is_loading > 0) {\n",
       "        console.log(\"Bokeh: BokehJS is being loaded, scheduling callback at\", now());\n",
       "        return null;\n",
       "      }\n",
       "      if (js_urls == null || js_urls.length === 0) {\n",
       "        run_callbacks();\n",
       "        return null;\n",
       "      }\n",
       "      console.log(\"Bokeh: BokehJS not loaded, scheduling load and callback at\", now());\n",
       "      window._bokeh_is_loading = js_urls.length;\n",
       "      for (var i = 0; i < js_urls.length; i++) {\n",
       "        var url = js_urls[i];\n",
       "        var s = document.createElement('script');\n",
       "        s.src = url;\n",
       "        s.async = false;\n",
       "        s.onreadystatechange = s.onload = function() {\n",
       "          window._bokeh_is_loading--;\n",
       "          if (window._bokeh_is_loading === 0) {\n",
       "            console.log(\"Bokeh: all BokehJS libraries loaded\");\n",
       "            run_callbacks()\n",
       "          }\n",
       "        };\n",
       "        s.onerror = function() {\n",
       "          console.warn(\"failed to load library \" + url);\n",
       "        };\n",
       "        console.log(\"Bokeh: injecting script tag for BokehJS library: \", url);\n",
       "        document.getElementsByTagName(\"head\")[0].appendChild(s);\n",
       "      }\n",
       "    };var element = document.getElementById(\"bf5cadbe-d33a-4b7f-a496-d3cc3da05432\");\n",
       "    if (element == null) {\n",
       "      console.log(\"Bokeh: ERROR: autoload.js configured with elementid 'bf5cadbe-d33a-4b7f-a496-d3cc3da05432' but no matching script tag was found. \")\n",
       "      return false;\n",
       "    }\n",
       "  \n",
       "    var js_urls = [];\n",
       "  \n",
       "    var inline_js = [\n",
       "      function(Bokeh) {\n",
       "        Bokeh.$(function() {\n",
       "            var docs_json = {\"886ec602-f27a-49f8-92b6-18d6aeeec220\":{\"roots\":{\"references\":[{\"attributes\":{\"data_source\":{\"id\":\"d0c44df5-f51a-4cec-b943-4500aee7a222\",\"type\":\"ColumnDataSource\"},\"glyph\":{\"id\":\"719d6752-0dae-486f-bf78-d55780e68065\",\"type\":\"Rect\"},\"hover_glyph\":null,\"nonselection_glyph\":null,\"selection_glyph\":null},\"id\":\"701dd3af-0351-4f1b-ba26-67e5e6264f8e\",\"type\":\"GlyphRenderer\"},{\"attributes\":{\"callback\":null,\"column_names\":[\"line_alpha\",\"color\",\"height\",\"y\",\"label\",\"fill_alpha\",\"x\",\"width\",\"line_color\"],\"data\":{\"chart_index\":[{\"state\":\"37 Tennessee\"}],\"color\":[\"#f22c40\"],\"fill_alpha\":[0.8],\"height\":[0.13043478260869565],\"label\":[{\"state\":\"37 Tennessee\"}],\"line_alpha\":[1.0],\"line_color\":[\"white\"],\"state\":[\"37 Tennessee\"],\"width\":[0.8],\"x\":[\"37 Tennessee\"],\"y\":[0.06521739130434782]}},\"id\":\"c3f1c6b1-34b6-4295-8f4a-f138716cb59a\",\"type\":\"ColumnDataSource\"},{\"attributes\":{\"fill_alpha\":{\"field\":\"fill_alpha\"},\"fill_color\":{\"field\":\"color\"},\"height\":{\"field\":\"height\",\"units\":\"data\"},\"line_color\":{\"field\":\"line_color\"},\"width\":{\"field\":\"width\",\"units\":\"data\"},\"x\":{\"field\":\"x\"},\"y\":{\"field\":\"y\"}},\"id\":\"39f84433-0ba6-48f2-b4f2-9f63541d6954\",\"type\":\"Rect\"},{\"attributes\":{\"fill_alpha\":{\"field\":\"fill_alpha\"},\"fill_color\":{\"field\":\"color\"},\"height\":{\"field\":\"height\",\"units\":\"data\"},\"line_color\":{\"field\":\"line_color\"},\"width\":{\"field\":\"width\",\"units\":\"data\"},\"x\":{\"field\":\"x\"},\"y\":{\"field\":\"y\"}},\"id\":\"7858c78b-8cbe-4477-8610-6e7f095a2eed\",\"type\":\"Rect\"},{\"attributes\":{\"data_source\":{\"id\":\"1259c8b6-e0fa-4d54-87ba-4104652ccea2\",\"type\":\"ColumnDataSource\"},\"glyph\":{\"id\":\"1d573517-e569-463b-bc75-90d135dd1d81\",\"type\":\"Rect\"},\"hover_glyph\":null,\"nonselection_glyph\":null,\"selection_glyph\":null},\"id\":\"15612467-0ea4-4164-9fe2-f9f7a11e1671\",\"type\":\"GlyphRenderer\"},{\"attributes\":{\"data_source\":{\"id\":\"8b2ce36c-a3bb-40a6-895f-d4e56ee8b93c\",\"type\":\"ColumnDataSource\"},\"glyph\":{\"id\":\"4dcc5e6e-37a9-41e4-acae-47d099e74853\",\"type\":\"Rect\"},\"hover_glyph\":null,\"nonselection_glyph\":null,\"selection_glyph\":null},\"id\":\"29e769da-d883-4cff-a42d-df8beee6b27f\",\"type\":\"GlyphRenderer\"},{\"attributes\":{\"callback\":null,\"column_names\":[\"line_alpha\",\"color\",\"height\",\"y\",\"label\",\"fill_alpha\",\"x\",\"width\",\"line_color\"],\"data\":{\"chart_index\":[{\"state\":\"27 Nevada\"}],\"color\":[\"#f22c40\"],\"fill_alpha\":[0.8],\"height\":[0.45454545454545453],\"label\":[{\"state\":\"27 Nevada\"}],\"line_alpha\":[1.0],\"line_color\":[\"white\"],\"state\":[\"27 Nevada\"],\"width\":[0.8],\"x\":[\"27 Nevada\"],\"y\":[0.22727272727272727]}},\"id\":\"4c909603-9228-499c-927c-f2fd16d25541\",\"type\":\"ColumnDataSource\"},{\"attributes\":{\"data_source\":{\"id\":\"3cd1c877-c6c1-4961-9651-9b265e285f0f\",\"type\":\"ColumnDataSource\"},\"glyph\":{\"id\":\"92a706e7-6a3e-4672-a0e9-aadc9307baa8\",\"type\":\"Rect\"},\"hover_glyph\":null,\"nonselection_glyph\":null,\"selection_glyph\":null},\"id\":\"5af65518-b2b0-42cb-9d7f-389a76c27b31\",\"type\":\"GlyphRenderer\"},{\"attributes\":{\"callback\":null,\"column_names\":[\"line_alpha\",\"color\",\"height\",\"y\",\"label\",\"fill_alpha\",\"x\",\"width\",\"line_color\"],\"data\":{\"chart_index\":[{\"state\":\"09 New York\"}],\"color\":[\"#f22c40\"],\"fill_alpha\":[0.8],\"height\":[1.605263157894737],\"label\":[{\"state\":\"09 New York\"}],\"line_alpha\":[1.0],\"line_color\":[\"white\"],\"state\":[\"09 New York\"],\"width\":[0.8],\"x\":[\"09 New York\"],\"y\":[0.8026315789473685]}},\"id\":\"5f0e5a62-72fd-4f5d-849e-ac686cb63d37\",\"type\":\"ColumnDataSource\"},{\"attributes\":{\"data_source\":{\"id\":\"3596b11a-576e-4ebb-b03e-c3b0aa1b2ccb\",\"type\":\"ColumnDataSource\"},\"glyph\":{\"id\":\"1001b11b-7a4a-4865-81ac-c28fbc458c07\",\"type\":\"Rect\"},\"hover_glyph\":null,\"nonselection_glyph\":null,\"selection_glyph\":null},\"id\":\"e25c4775-f74b-4e70-ae2c-ee26dcf5050d\",\"type\":\"GlyphRenderer\"},{\"attributes\":{\"fill_alpha\":{\"field\":\"fill_alpha\"},\"fill_color\":{\"field\":\"color\"},\"height\":{\"field\":\"height\",\"units\":\"data\"},\"line_color\":{\"field\":\"line_color\"},\"width\":{\"field\":\"width\",\"units\":\"data\"},\"x\":{\"field\":\"x\"},\"y\":{\"field\":\"y\"}},\"id\":\"a689696c-b8fb-4d1b-ad06-c55edc1c58da\",\"type\":\"Rect\"},{\"attributes\":{\"callback\":null,\"column_names\":[\"line_alpha\",\"color\",\"height\",\"y\",\"label\",\"fill_alpha\",\"x\",\"width\",\"line_color\"],\"data\":{\"chart_index\":[{\"state\":\"38 Missouri\"}],\"color\":[\"#f22c40\"],\"fill_alpha\":[0.8],\"height\":[0.058823529411764705],\"label\":[{\"state\":\"38 Missouri\"}],\"line_alpha\":[1.0],\"line_color\":[\"white\"],\"state\":[\"38 Missouri\"],\"width\":[0.8],\"x\":[\"38 Missouri\"],\"y\":[0.029411764705882353]}},\"id\":\"d823f133-7048-4fc6-b8bf-d521a5078589\",\"type\":\"ColumnDataSource\"},{\"attributes\":{\"fill_alpha\":{\"field\":\"fill_alpha\"},\"fill_color\":{\"field\":\"color\"},\"height\":{\"field\":\"height\",\"units\":\"data\"},\"line_color\":{\"field\":\"line_color\"},\"width\":{\"field\":\"width\",\"units\":\"data\"},\"x\":{\"field\":\"x\"},\"y\":{\"field\":\"y\"}},\"id\":\"0dd87a32-01f6-4be0-acbd-804aa28834a0\",\"type\":\"Rect\"},{\"attributes\":{\"fill_alpha\":{\"field\":\"fill_alpha\"},\"fill_color\":{\"field\":\"color\"},\"height\":{\"field\":\"height\",\"units\":\"data\"},\"line_color\":{\"field\":\"line_color\"},\"width\":{\"field\":\"width\",\"units\":\"data\"},\"x\":{\"field\":\"x\"},\"y\":{\"field\":\"y\"}},\"id\":\"f7aa119d-52f8-47bc-bfb5-9e859f9891b6\",\"type\":\"Rect\"},{\"attributes\":{\"callback\":null,\"column_names\":[\"line_alpha\",\"color\",\"height\",\"y\",\"label\",\"fill_alpha\",\"x\",\"width\",\"line_color\"],\"data\":{\"chart_index\":[{\"state\":\"06 West Virginia\"}],\"color\":[\"#f22c40\"],\"fill_alpha\":[0.8],\"height\":[1.7142857142857142],\"label\":[{\"state\":\"06 West Virginia\"}],\"line_alpha\":[1.0],\"line_color\":[\"white\"],\"state\":[\"06 West Virginia\"],\"width\":[0.8],\"x\":[\"06 West Virginia\"],\"y\":[0.8571428571428571]}},\"id\":\"d25abcaa-5c6e-4c26-94d0-a7f7f78554d1\",\"type\":\"ColumnDataSource\"},{\"attributes\":{\"data_source\":{\"id\":\"1919e7e4-a0b9-4628-a590-1f57394aaf3f\",\"type\":\"ColumnDataSource\"},\"glyph\":{\"id\":\"0cc41f0e-e87e-49cc-a323-db9b892df422\",\"type\":\"Rect\"},\"hover_glyph\":null,\"nonselection_glyph\":null,\"selection_glyph\":null},\"id\":\"2dd449c1-41af-4f75-aa2a-5654080c6bbc\",\"type\":\"GlyphRenderer\"},{\"attributes\":{\"data_source\":{\"id\":\"4acafd65-4635-4560-981c-5a1fa9b3625e\",\"type\":\"ColumnDataSource\"},\"glyph\":{\"id\":\"7858c78b-8cbe-4477-8610-6e7f095a2eed\",\"type\":\"Rect\"},\"hover_glyph\":null,\"nonselection_glyph\":null,\"selection_glyph\":null},\"id\":\"170ed024-44d6-415a-808f-d0f23200a5aa\",\"type\":\"GlyphRenderer\"},{\"attributes\":{\"data_source\":{\"id\":\"158f9dc3-924b-43ef-886d-cbf7c25fd4a7\",\"type\":\"ColumnDataSource\"},\"glyph\":{\"id\":\"0dd87a32-01f6-4be0-acbd-804aa28834a0\",\"type\":\"Rect\"},\"hover_glyph\":null,\"nonselection_glyph\":null,\"selection_glyph\":null},\"id\":\"37849bf2-59ae-4bbf-84fa-990886fd400c\",\"type\":\"GlyphRenderer\"},{\"attributes\":{\"data_source\":{\"id\":\"256f4004-1df7-4679-9106-1d5bbfa615de\",\"type\":\"ColumnDataSource\"},\"glyph\":{\"id\":\"79c81875-abf0-431e-b1e8-5787fa51debb\",\"type\":\"Rect\"},\"hover_glyph\":null,\"nonselection_glyph\":null,\"selection_glyph\":null},\"id\":\"a11b09bf-08ae-4754-aa6c-cd13d98874fd\",\"type\":\"GlyphRenderer\"},{\"attributes\":{\"fill_alpha\":{\"field\":\"fill_alpha\"},\"fill_color\":{\"field\":\"color\"},\"height\":{\"field\":\"height\",\"units\":\"data\"},\"line_color\":{\"field\":\"line_color\"},\"width\":{\"field\":\"width\",\"units\":\"data\"},\"x\":{\"field\":\"x\"},\"y\":{\"field\":\"y\"}},\"id\":\"712408b5-3c39-4f78-9a0d-df139762c812\",\"type\":\"Rect\"},{\"attributes\":{\"callback\":null,\"column_names\":[\"line_alpha\",\"color\",\"height\",\"y\",\"label\",\"fill_alpha\",\"x\",\"width\",\"line_color\"],\"data\":{\"chart_index\":[{\"state\":\"05 Iowa\"}],\"color\":[\"#f22c40\"],\"fill_alpha\":[0.8],\"height\":[2.2857142857142856],\"label\":[{\"state\":\"05 Iowa\"}],\"line_alpha\":[1.0],\"line_color\":[\"white\"],\"state\":[\"05 Iowa\"],\"width\":[0.8],\"x\":[\"05 Iowa\"],\"y\":[1.1428571428571428]}},\"id\":\"7df748ab-73f3-47a1-97c4-c0a150ce0a49\",\"type\":\"ColumnDataSource\"},{\"attributes\":{\"dimension\":1,\"plot\":{\"id\":\"62ae41d3-03d9-4477-bd8b-b71e235e52cd\",\"subtype\":\"Chart\",\"type\":\"Plot\"},\"ticker\":{\"id\":\"58cddcea-26f8-4738-af75-8ed9e314195f\",\"type\":\"BasicTicker\"}},\"id\":\"db7389b3-e3fe-4de7-9c9f-fa0de4201b7f\",\"type\":\"Grid\"},{\"attributes\":{\"callback\":null,\"column_names\":[\"line_alpha\",\"color\",\"height\",\"y\",\"label\",\"fill_alpha\",\"x\",\"width\",\"line_color\"],\"data\":{\"chart_index\":[{\"state\":\"44 New Jersey\"}],\"color\":[\"#f22c40\"],\"fill_alpha\":[0.8],\"height\":[-0.6285714285714286],\"label\":[{\"state\":\"44 New Jersey\"}],\"line_alpha\":[1.0],\"line_color\":[\"white\"],\"state\":[\"44 New Jersey\"],\"width\":[0.8],\"x\":[\"44 New Jersey\"],\"y\":[-0.3142857142857143]}},\"id\":\"1919e7e4-a0b9-4628-a590-1f57394aaf3f\",\"type\":\"ColumnDataSource\"},{\"attributes\":{\"callback\":null,\"column_names\":[\"line_alpha\",\"color\",\"height\",\"y\",\"label\",\"fill_alpha\",\"x\",\"width\",\"line_color\"],\"data\":{\"chart_index\":[{\"state\":\"31 Kentucky\"}],\"color\":[\"#f22c40\"],\"fill_alpha\":[0.8],\"height\":[0.2631578947368421],\"label\":[{\"state\":\"31 Kentucky\"}],\"line_alpha\":[1.0],\"line_color\":[\"white\"],\"state\":[\"31 Kentucky\"],\"width\":[0.8],\"x\":[\"31 Kentucky\"],\"y\":[0.13157894736842105]}},\"id\":\"1222c99e-704d-4625-a3c6-018b8e1fec56\",\"type\":\"ColumnDataSource\"},{\"attributes\":{\"below\":[{\"id\":\"014d0b5c-56c9-44d9-bbad-0bd77efa8954\",\"type\":\"CategoricalAxis\"}],\"left\":[{\"id\":\"21183fae-d97c-4a2b-818f-2a8357f47392\",\"type\":\"LinearAxis\"}],\"plot_width\":900,\"renderers\":[{\"id\":\"380cc2e3-c982-42fa-9e54-dcb09c41197a\",\"type\":\"BoxAnnotation\"},{\"id\":\"1d971307-fcf2-40bf-a569-36d3219f6d66\",\"type\":\"GlyphRenderer\"},{\"id\":\"15612467-0ea4-4164-9fe2-f9f7a11e1671\",\"type\":\"GlyphRenderer\"},{\"id\":\"9b9922f1-1da4-4163-9d88-235fc9130e6f\",\"type\":\"GlyphRenderer\"},{\"id\":\"37849bf2-59ae-4bbf-84fa-990886fd400c\",\"type\":\"GlyphRenderer\"},{\"id\":\"f4e50812-6f70-4f67-a1f6-9919f236e8c4\",\"type\":\"GlyphRenderer\"},{\"id\":\"e4cff0b4-221e-44da-b790-be2d6606ec6e\",\"type\":\"GlyphRenderer\"},{\"id\":\"68cab1c3-6cef-49b1-b6dc-fba2aa9f3a39\",\"type\":\"GlyphRenderer\"},{\"id\":\"2013170f-523c-453d-8504-6c280ff2f17b\",\"type\":\"GlyphRenderer\"},{\"id\":\"8bafeb16-2672-448c-bfde-db0bcdf9a6d6\",\"type\":\"GlyphRenderer\"},{\"id\":\"cd352bb1-c669-474a-a7c8-52d9c60fb561\",\"type\":\"GlyphRenderer\"},{\"id\":\"8e088e5b-5e59-4dec-b472-07a01276b7d4\",\"type\":\"GlyphRenderer\"},{\"id\":\"4d2f30b4-4198-4366-a5a3-dc1b077f8334\",\"type\":\"GlyphRenderer\"},{\"id\":\"4c3c929e-43f5-42e1-bb23-72ed099c2c86\",\"type\":\"GlyphRenderer\"},{\"id\":\"453f9771-e7b3-4d36-897b-ed1b38219686\",\"type\":\"GlyphRenderer\"},{\"id\":\"e25c4775-f74b-4e70-ae2c-ee26dcf5050d\",\"type\":\"GlyphRenderer\"},{\"id\":\"5ba472bd-6353-46b1-89ee-ba96a705b133\",\"type\":\"GlyphRenderer\"},{\"id\":\"35960fac-350b-4c8c-99a2-cb2f10e3b25a\",\"type\":\"GlyphRenderer\"},{\"id\":\"701dd3af-0351-4f1b-ba26-67e5e6264f8e\",\"type\":\"GlyphRenderer\"},{\"id\":\"29e769da-d883-4cff-a42d-df8beee6b27f\",\"type\":\"GlyphRenderer\"},{\"id\":\"869983cc-2eaf-4503-8e80-bea2b007f352\",\"type\":\"GlyphRenderer\"},{\"id\":\"74e28bfe-4724-44ea-aaba-81a29ac3337d\",\"type\":\"GlyphRenderer\"},{\"id\":\"170ed024-44d6-415a-808f-d0f23200a5aa\",\"type\":\"GlyphRenderer\"},{\"id\":\"02449767-a89b-4c64-968c-67acb4f818ea\",\"type\":\"GlyphRenderer\"},{\"id\":\"9d2831c9-6101-497c-916f-84eeda6b904e\",\"type\":\"GlyphRenderer\"},{\"id\":\"a11b09bf-08ae-4754-aa6c-cd13d98874fd\",\"type\":\"GlyphRenderer\"},{\"id\":\"11b852ea-cd0d-4b10-b14a-cf3e8b567e6f\",\"type\":\"GlyphRenderer\"},{\"id\":\"473cd039-ac8c-4bb0-b61c-d559626964e8\",\"type\":\"GlyphRenderer\"},{\"id\":\"39e7ecfa-fd61-4e6b-8b06-f020bad8cd5a\",\"type\":\"GlyphRenderer\"},{\"id\":\"edacc04d-08d2-45f2-b1ee-6d33ce40f82a\",\"type\":\"GlyphRenderer\"},{\"id\":\"e4edb140-986a-402d-a81d-c8a047468bbd\",\"type\":\"GlyphRenderer\"},{\"id\":\"4e52e63a-feda-49ac-8dc9-50279dd5de46\",\"type\":\"GlyphRenderer\"},{\"id\":\"703d73bd-fcfc-4f30-8ddf-6b7170e0c3a4\",\"type\":\"GlyphRenderer\"},{\"id\":\"c852ffcb-b117-4dfa-9469-8c15e3cf3120\",\"type\":\"GlyphRenderer\"},{\"id\":\"8a9d3e61-b677-4b4e-991a-bbc4b81138d9\",\"type\":\"GlyphRenderer\"},{\"id\":\"31dabed5-87b2-4c4d-ad0e-5e7622520822\",\"type\":\"GlyphRenderer\"},{\"id\":\"3c420ce8-cab2-4179-b13b-1e1320b259ea\",\"type\":\"GlyphRenderer\"},{\"id\":\"3d5cc783-e64d-47c1-8f81-8f628678a215\",\"type\":\"GlyphRenderer\"},{\"id\":\"e0e00404-96fa-4089-9caf-4d6baab514c8\",\"type\":\"GlyphRenderer\"},{\"id\":\"c3c7fc6b-c35e-4d13-b29a-686be260385e\",\"type\":\"GlyphRenderer\"},{\"id\":\"3765cec1-b60f-4804-8500-8201e3527270\",\"type\":\"GlyphRenderer\"},{\"id\":\"52c2dcff-759c-48b0-8361-d19797b9b926\",\"type\":\"GlyphRenderer\"},{\"id\":\"5af65518-b2b0-42cb-9d7f-389a76c27b31\",\"type\":\"GlyphRenderer\"},{\"id\":\"b12c375d-d29c-4777-bdc7-573235312b4b\",\"type\":\"GlyphRenderer\"},{\"id\":\"2dd449c1-41af-4f75-aa2a-5654080c6bbc\",\"type\":\"GlyphRenderer\"},{\"id\":\"d3fa6ca9-8f2e-4ab7-bb3c-d1a2e808ee1a\",\"type\":\"GlyphRenderer\"},{\"id\":\"a22d5b39-8530-4bfe-81a2-0aa7cfe1385e\",\"type\":\"GlyphRenderer\"},{\"id\":\"c24b620e-e1dd-42e8-8b3b-c62692a9d967\",\"type\":\"GlyphRenderer\"},{\"id\":\"8cb31676-02a8-4e44-be52-a2f137c56862\",\"type\":\"GlyphRenderer\"},{\"id\":\"9fd203c8-225f-4288-b40b-125a07de09dc\",\"type\":\"GlyphRenderer\"},{\"id\":\"2a4666ab-c9bb-4ca0-b7a8-327192cf8a5e\",\"type\":\"GlyphRenderer\"},{\"id\":\"014d0b5c-56c9-44d9-bbad-0bd77efa8954\",\"type\":\"CategoricalAxis\"},{\"id\":\"21183fae-d97c-4a2b-818f-2a8357f47392\",\"type\":\"LinearAxis\"},{\"id\":\"db7389b3-e3fe-4de7-9c9f-fa0de4201b7f\",\"type\":\"Grid\"}],\"title\":{\"id\":\"ea3619a4-2923-4f51-9090-9dc4b292fe34\",\"type\":\"Title\"},\"tool_events\":{\"id\":\"e2ec72af-d5d7-47ef-a7e6-0dbf9eb85533\",\"type\":\"ToolEvents\"},\"toolbar\":{\"id\":\"8d5188d0-adf4-4282-8f59-71fdc68b26d7\",\"type\":\"Toolbar\"},\"x_mapper_type\":\"auto\",\"x_range\":{\"id\":\"4fcf49e0-5b71-4dcf-ad39-e03c180a282c\",\"type\":\"FactorRange\"},\"y_mapper_type\":\"auto\",\"y_range\":{\"id\":\"75566dd4-00a1-43ac-8685-3d1907b1500e\",\"type\":\"Range1d\"}},\"id\":\"62ae41d3-03d9-4477-bd8b-b71e235e52cd\",\"subtype\":\"Chart\",\"type\":\"Plot\"},{\"attributes\":{\"callback\":null,\"column_names\":[\"line_alpha\",\"color\",\"height\",\"y\",\"label\",\"fill_alpha\",\"x\",\"width\",\"line_color\"],\"data\":{\"chart_index\":[{\"state\":\"40 South Dakota\"}],\"color\":[\"#f22c40\"],\"fill_alpha\":[0.8],\"height\":[0.0],\"label\":[{\"state\":\"40 South Dakota\"}],\"line_alpha\":[1.0],\"line_color\":[\"white\"],\"state\":[\"40 South Dakota\"],\"width\":[0.8],\"x\":[\"40 South Dakota\"],\"y\":[0.0]}},\"id\":\"f0ae0194-5f73-420a-9fe4-8dbcf02b83f4\",\"type\":\"ColumnDataSource\"},{\"attributes\":{\"fill_alpha\":{\"field\":\"fill_alpha\"},\"fill_color\":{\"field\":\"color\"},\"height\":{\"field\":\"height\",\"units\":\"data\"},\"line_color\":{\"field\":\"line_color\"},\"width\":{\"field\":\"width\",\"units\":\"data\"},\"x\":{\"field\":\"x\"},\"y\":{\"field\":\"y\"}},\"id\":\"88cbdd0b-4dde-4e71-b37d-e6cb90a0df5d\",\"type\":\"Rect\"},{\"attributes\":{\"data_source\":{\"id\":\"d0936399-9645-4bc7-a6be-bbb0463b6506\",\"type\":\"ColumnDataSource\"},\"glyph\":{\"id\":\"41ccf3e8-d2c2-4cea-822d-7eaaa18771bf\",\"type\":\"Rect\"},\"hover_glyph\":null,\"nonselection_glyph\":null,\"selection_glyph\":null},\"id\":\"31dabed5-87b2-4c4d-ad0e-5e7622520822\",\"type\":\"GlyphRenderer\"},{\"attributes\":{},\"id\":\"e2ec72af-d5d7-47ef-a7e6-0dbf9eb85533\",\"type\":\"ToolEvents\"},{\"attributes\":{\"fill_alpha\":{\"field\":\"fill_alpha\"},\"fill_color\":{\"field\":\"color\"},\"height\":{\"field\":\"height\",\"units\":\"data\"},\"line_color\":{\"field\":\"line_color\"},\"width\":{\"field\":\"width\",\"units\":\"data\"},\"x\":{\"field\":\"x\"},\"y\":{\"field\":\"y\"}},\"id\":\"92a706e7-6a3e-4672-a0e9-aadc9307baa8\",\"type\":\"Rect\"},{\"attributes\":{\"fill_alpha\":{\"field\":\"fill_alpha\"},\"fill_color\":{\"field\":\"color\"},\"height\":{\"field\":\"height\",\"units\":\"data\"},\"line_color\":{\"field\":\"line_color\"},\"width\":{\"field\":\"width\",\"units\":\"data\"},\"x\":{\"field\":\"x\"},\"y\":{\"field\":\"y\"}},\"id\":\"f2e6071a-7be9-4697-986b-7e945e233753\",\"type\":\"Rect\"},{\"attributes\":{\"callback\":null,\"factors\":[\"01 Vermont\",\"02 Nebraska\",\"03 Alaska\",\"04 Montana\",\"05 Iowa\",\"06 West Virginia\",\"07 Arkansas\",\"08 North Dakota\",\"09 New York\",\"10 Oklahoma\",\"11 Washington\",\"12 Indiana\",\"13 Mississippi\",\"14 North Carolina\",\"15 Ohio\",\"16 Florida\",\"17 Hawaii\",\"18 Colorado\",\"19 Alabama\",\"20 Connecticut\",\"21 New Mexico\",\"22 Minnesota\",\"23 South Carolina\",\"24 Maryland\",\"25 Utah\",\"26 Pennsylvania\",\"27 Nevada\",\"28 California\",\"29 Illinois\",\"30 Idaho\",\"31 Kentucky\",\"32 Texas\",\"33 Virginia\",\"34 Oregon\",\"35 Louisiana\",\"36 Massachusetts\",\"37 Tennessee\",\"38 Missouri\",\"39 Maine\",\"40 South Dakota\",\"41 Kansas\",\"42 Georgia\",\"43 Wisconsin\",\"44 New Jersey\",\"45 Michigan\",\"46 Arizona\",\"47 Wyoming\",\"48 New Hampshire\",\"49 Rhode Island\",\"50 Delaware\"]},\"id\":\"4fcf49e0-5b71-4dcf-ad39-e03c180a282c\",\"type\":\"FactorRange\"},{\"attributes\":{\"callback\":null,\"column_names\":[\"line_alpha\",\"color\",\"height\",\"y\",\"label\",\"fill_alpha\",\"x\",\"width\",\"line_color\"],\"data\":{\"chart_index\":[{\"state\":\"45 Michigan\"}],\"color\":[\"#f22c40\"],\"fill_alpha\":[0.8],\"height\":[-0.71875],\"label\":[{\"state\":\"45 Michigan\"}],\"line_alpha\":[1.0],\"line_color\":[\"white\"],\"state\":[\"45 Michigan\"],\"width\":[0.8],\"x\":[\"45 Michigan\"],\"y\":[-0.359375]}},\"id\":\"5274d86a-e648-45a6-9cbd-2514555ec0fe\",\"type\":\"ColumnDataSource\"},{\"attributes\":{\"fill_alpha\":{\"field\":\"fill_alpha\"},\"fill_color\":{\"field\":\"color\"},\"height\":{\"field\":\"height\",\"units\":\"data\"},\"line_color\":{\"field\":\"line_color\"},\"width\":{\"field\":\"width\",\"units\":\"data\"},\"x\":{\"field\":\"x\"},\"y\":{\"field\":\"y\"}},\"id\":\"01b25981-e412-4644-bf87-5a5bcdea9604\",\"type\":\"Rect\"},{\"attributes\":{\"data_source\":{\"id\":\"01ee34c0-54bd-49e4-a34a-f532a5806809\",\"type\":\"ColumnDataSource\"},\"glyph\":{\"id\":\"465e7fd7-6e56-447c-bc56-f652ff4e540d\",\"type\":\"Rect\"},\"hover_glyph\":null,\"nonselection_glyph\":null,\"selection_glyph\":null},\"id\":\"cd352bb1-c669-474a-a7c8-52d9c60fb561\",\"type\":\"GlyphRenderer\"},{\"attributes\":{\"data_source\":{\"id\":\"768d6805-4b16-482f-a7b7-e6151b5b88d3\",\"type\":\"ColumnDataSource\"},\"glyph\":{\"id\":\"0c334d03-489a-4b6f-b16f-16300f895eed\",\"type\":\"Rect\"},\"hover_glyph\":null,\"nonselection_glyph\":null,\"selection_glyph\":null},\"id\":\"2013170f-523c-453d-8504-6c280ff2f17b\",\"type\":\"GlyphRenderer\"},{\"attributes\":{\"data_source\":{\"id\":\"b692b7d4-1813-4e39-98b4-23264ff11e2b\",\"type\":\"ColumnDataSource\"},\"glyph\":{\"id\":\"88cbdd0b-4dde-4e71-b37d-e6cb90a0df5d\",\"type\":\"Rect\"},\"hover_glyph\":null,\"nonselection_glyph\":null,\"selection_glyph\":null},\"id\":\"68cab1c3-6cef-49b1-b6dc-fba2aa9f3a39\",\"type\":\"GlyphRenderer\"},{\"attributes\":{\"callback\":null,\"column_names\":[\"line_alpha\",\"color\",\"height\",\"y\",\"label\",\"fill_alpha\",\"x\",\"width\",\"line_color\"],\"data\":{\"chart_index\":[{\"state\":\"01 Vermont\"}],\"color\":[\"#f22c40\"],\"fill_alpha\":[0.8],\"height\":[3.3333333333333335],\"label\":[{\"state\":\"01 Vermont\"}],\"line_alpha\":[1.0],\"line_color\":[\"white\"],\"state\":[\"01 Vermont\"],\"width\":[0.8],\"x\":[\"01 Vermont\"],\"y\":[1.6666666666666667]}},\"id\":\"fce3928e-b6bd-4ce0-aa5c-d80ade6d4142\",\"type\":\"ColumnDataSource\"},{\"attributes\":{\"data_source\":{\"id\":\"d823f133-7048-4fc6-b8bf-d521a5078589\",\"type\":\"ColumnDataSource\"},\"glyph\":{\"id\":\"0237e566-ea67-4a8a-9c42-ced8ed31ccd2\",\"type\":\"Rect\"},\"hover_glyph\":null,\"nonselection_glyph\":null,\"selection_glyph\":null},\"id\":\"e0e00404-96fa-4089-9caf-4d6baab514c8\",\"type\":\"GlyphRenderer\"},{\"attributes\":{\"fill_alpha\":{\"field\":\"fill_alpha\"},\"fill_color\":{\"field\":\"color\"},\"height\":{\"field\":\"height\",\"units\":\"data\"},\"line_color\":{\"field\":\"line_color\"},\"width\":{\"field\":\"width\",\"units\":\"data\"},\"x\":{\"field\":\"x\"},\"y\":{\"field\":\"y\"}},\"id\":\"a6f3b735-cce3-4fd1-b26b-65a587a9d959\",\"type\":\"Rect\"},{\"attributes\":{\"fill_alpha\":{\"field\":\"fill_alpha\"},\"fill_color\":{\"field\":\"color\"},\"height\":{\"field\":\"height\",\"units\":\"data\"},\"line_color\":{\"field\":\"line_color\"},\"width\":{\"field\":\"width\",\"units\":\"data\"},\"x\":{\"field\":\"x\"},\"y\":{\"field\":\"y\"}},\"id\":\"0bbb22fc-a924-4b24-a42d-8b094e4e18d9\",\"type\":\"Rect\"},{\"attributes\":{\"data_source\":{\"id\":\"42c4cc97-a595-4443-a091-e60136502d72\",\"type\":\"ColumnDataSource\"},\"glyph\":{\"id\":\"d70241bc-8e28-4a55-b24d-755e561804ce\",\"type\":\"Rect\"},\"hover_glyph\":null,\"nonselection_glyph\":null,\"selection_glyph\":null},\"id\":\"c24b620e-e1dd-42e8-8b3b-c62692a9d967\",\"type\":\"GlyphRenderer\"},{\"attributes\":{\"data_source\":{\"id\":\"d25abcaa-5c6e-4c26-94d0-a7f7f78554d1\",\"type\":\"ColumnDataSource\"},\"glyph\":{\"id\":\"ae8b5b5e-3d90-41ca-8b0b-07ce7ab891c4\",\"type\":\"Rect\"},\"hover_glyph\":null,\"nonselection_glyph\":null,\"selection_glyph\":null},\"id\":\"e4cff0b4-221e-44da-b790-be2d6606ec6e\",\"type\":\"GlyphRenderer\"},{\"attributes\":{\"callback\":null,\"end\":3.4333333333333336,\"start\":-1.4333333333333333},\"id\":\"75566dd4-00a1-43ac-8685-3d1907b1500e\",\"type\":\"Range1d\"},{\"attributes\":{\"fill_alpha\":{\"field\":\"fill_alpha\"},\"fill_color\":{\"field\":\"color\"},\"height\":{\"field\":\"height\",\"units\":\"data\"},\"line_color\":{\"field\":\"line_color\"},\"width\":{\"field\":\"width\",\"units\":\"data\"},\"x\":{\"field\":\"x\"},\"y\":{\"field\":\"y\"}},\"id\":\"56f09027-8022-45ec-b784-a08628f9b21b\",\"type\":\"Rect\"},{\"attributes\":{\"callback\":null,\"column_names\":[\"line_alpha\",\"color\",\"height\",\"y\",\"label\",\"fill_alpha\",\"x\",\"width\",\"line_color\"],\"data\":{\"chart_index\":[{\"state\":\"49 Rhode Island\"}],\"color\":[\"#f22c40\"],\"fill_alpha\":[0.8],\"height\":[-1.3333333333333333],\"label\":[{\"state\":\"49 Rhode Island\"}],\"line_alpha\":[1.0],\"line_color\":[\"white\"],\"state\":[\"49 Rhode Island\"],\"width\":[0.8],\"x\":[\"49 Rhode Island\"],\"y\":[-0.6666666666666666]}},\"id\":\"e2382b35-55bd-4013-b1b6-88261797b02f\",\"type\":\"ColumnDataSource\"},{\"attributes\":{\"axis_label\":\"Sum( Happiness )\",\"formatter\":{\"id\":\"53a39c67-c465-4f15-9cdb-05fef7823e02\",\"type\":\"BasicTickFormatter\"},\"plot\":{\"id\":\"62ae41d3-03d9-4477-bd8b-b71e235e52cd\",\"subtype\":\"Chart\",\"type\":\"Plot\"},\"ticker\":{\"id\":\"58cddcea-26f8-4738-af75-8ed9e314195f\",\"type\":\"BasicTicker\"}},\"id\":\"21183fae-d97c-4a2b-818f-2a8357f47392\",\"type\":\"LinearAxis\"},{\"attributes\":{\"fill_alpha\":{\"field\":\"fill_alpha\"},\"fill_color\":{\"field\":\"color\"},\"height\":{\"field\":\"height\",\"units\":\"data\"},\"line_color\":{\"field\":\"line_color\"},\"width\":{\"field\":\"width\",\"units\":\"data\"},\"x\":{\"field\":\"x\"},\"y\":{\"field\":\"y\"}},\"id\":\"b4e74e82-e205-4d7a-8b1a-2d95edfff34c\",\"type\":\"Rect\"},{\"attributes\":{\"fill_alpha\":{\"field\":\"fill_alpha\"},\"fill_color\":{\"field\":\"color\"},\"height\":{\"field\":\"height\",\"units\":\"data\"},\"line_color\":{\"field\":\"line_color\"},\"width\":{\"field\":\"width\",\"units\":\"data\"},\"x\":{\"field\":\"x\"},\"y\":{\"field\":\"y\"}},\"id\":\"4732cdf5-26f5-432b-8da0-1b771e40f6b3\",\"type\":\"Rect\"},{\"attributes\":{\"fill_alpha\":{\"field\":\"fill_alpha\"},\"fill_color\":{\"field\":\"color\"},\"height\":{\"field\":\"height\",\"units\":\"data\"},\"line_color\":{\"field\":\"line_color\"},\"width\":{\"field\":\"width\",\"units\":\"data\"},\"x\":{\"field\":\"x\"},\"y\":{\"field\":\"y\"}},\"id\":\"3a2764bf-3de0-499d-8e7e-0108c5968183\",\"type\":\"Rect\"},{\"attributes\":{\"fill_alpha\":{\"field\":\"fill_alpha\"},\"fill_color\":{\"field\":\"color\"},\"height\":{\"field\":\"height\",\"units\":\"data\"},\"line_color\":{\"field\":\"line_color\"},\"width\":{\"field\":\"width\",\"units\":\"data\"},\"x\":{\"field\":\"x\"},\"y\":{\"field\":\"y\"}},\"id\":\"0c334d03-489a-4b6f-b16f-16300f895eed\",\"type\":\"Rect\"},{\"attributes\":{\"data_source\":{\"id\":\"ccf27034-ce2b-4df2-87db-3af5f7da13f9\",\"type\":\"ColumnDataSource\"},\"glyph\":{\"id\":\"6ca1c2a2-6858-4782-9a65-62641d1df903\",\"type\":\"Rect\"},\"hover_glyph\":null,\"nonselection_glyph\":null,\"selection_glyph\":null},\"id\":\"703d73bd-fcfc-4f30-8ddf-6b7170e0c3a4\",\"type\":\"GlyphRenderer\"},{\"attributes\":{\"data_source\":{\"id\":\"6ac11723-6f03-4c54-9af7-9461bf7edc0b\",\"type\":\"ColumnDataSource\"},\"glyph\":{\"id\":\"36a2b7e7-0455-461b-afac-3c03b8145349\",\"type\":\"Rect\"},\"hover_glyph\":null,\"nonselection_glyph\":null,\"selection_glyph\":null},\"id\":\"4d2f30b4-4198-4366-a5a3-dc1b077f8334\",\"type\":\"GlyphRenderer\"},{\"attributes\":{\"bottom_units\":\"screen\",\"fill_alpha\":{\"value\":0.5},\"fill_color\":{\"value\":\"lightgrey\"},\"left_units\":\"screen\",\"level\":\"overlay\",\"line_alpha\":{\"value\":1.0},\"line_color\":{\"value\":\"black\"},\"line_dash\":[4,4],\"line_width\":{\"value\":2},\"plot\":null,\"render_mode\":\"css\",\"right_units\":\"screen\",\"top_units\":\"screen\"},\"id\":\"380cc2e3-c982-42fa-9e54-dcb09c41197a\",\"type\":\"BoxAnnotation\"},{\"attributes\":{\"plot\":{\"id\":\"62ae41d3-03d9-4477-bd8b-b71e235e52cd\",\"subtype\":\"Chart\",\"type\":\"Plot\"}},\"id\":\"e10f3bcd-ec87-4fc8-9113-82381608f97b\",\"type\":\"PanTool\"},{\"attributes\":{\"data_source\":{\"id\":\"8c5a7be8-cd7e-4c4c-acd2-6be1b04d4f89\",\"type\":\"ColumnDataSource\"},\"glyph\":{\"id\":\"c5a2616e-9f6c-40bc-8ed4-56f625637a6c\",\"type\":\"Rect\"},\"hover_glyph\":null,\"nonselection_glyph\":null,\"selection_glyph\":null},\"id\":\"8a9d3e61-b677-4b4e-991a-bbc4b81138d9\",\"type\":\"GlyphRenderer\"},{\"attributes\":{\"fill_alpha\":{\"field\":\"fill_alpha\"},\"fill_color\":{\"field\":\"color\"},\"height\":{\"field\":\"height\",\"units\":\"data\"},\"line_color\":{\"field\":\"line_color\"},\"width\":{\"field\":\"width\",\"units\":\"data\"},\"x\":{\"field\":\"x\"},\"y\":{\"field\":\"y\"}},\"id\":\"9d2439a5-bcf7-43dc-b509-f46fb12287d5\",\"type\":\"Rect\"},{\"attributes\":{\"callback\":null,\"column_names\":[\"line_alpha\",\"color\",\"height\",\"y\",\"label\",\"fill_alpha\",\"x\",\"width\",\"line_color\"],\"data\":{\"chart_index\":[{\"state\":\"11 Washington\"}],\"color\":[\"#f22c40\"],\"fill_alpha\":[0.8],\"height\":[1.55],\"label\":[{\"state\":\"11 Washington\"}],\"line_alpha\":[1.0],\"line_color\":[\"white\"],\"state\":[\"11 Washington\"],\"width\":[0.8],\"x\":[\"11 Washington\"],\"y\":[0.775]}},\"id\":\"34c41ee8-dd48-493a-84dd-07f85ce6559c\",\"type\":\"ColumnDataSource\"},{\"attributes\":{\"plot\":null,\"text\":\"Happiness of twitter users in USA by states\"},\"id\":\"ea3619a4-2923-4f51-9090-9dc4b292fe34\",\"type\":\"Title\"},{\"attributes\":{\"data_source\":{\"id\":\"e2382b35-55bd-4013-b1b6-88261797b02f\",\"type\":\"ColumnDataSource\"},\"glyph\":{\"id\":\"102d9c85-2a37-4263-a3e2-8fde5fedafbe\",\"type\":\"Rect\"},\"hover_glyph\":null,\"nonselection_glyph\":null,\"selection_glyph\":null},\"id\":\"9fd203c8-225f-4288-b40b-125a07de09dc\",\"type\":\"GlyphRenderer\"},{\"attributes\":{\"callback\":null,\"column_names\":[\"line_alpha\",\"color\",\"height\",\"y\",\"label\",\"fill_alpha\",\"x\",\"width\",\"line_color\"],\"data\":{\"chart_index\":[{\"state\":\"21 New Mexico\"}],\"color\":[\"#f22c40\"],\"fill_alpha\":[0.8],\"height\":[0.8],\"label\":[{\"state\":\"21 New Mexico\"}],\"line_alpha\":[1.0],\"line_color\":[\"white\"],\"state\":[\"21 New Mexico\"],\"width\":[0.8],\"x\":[\"21 New Mexico\"],\"y\":[0.4]}},\"id\":\"fc6b7d31-07de-490e-93e3-e9ab581f2218\",\"type\":\"ColumnDataSource\"},{\"attributes\":{\"callback\":null,\"column_names\":[\"line_alpha\",\"color\",\"height\",\"y\",\"label\",\"fill_alpha\",\"x\",\"width\",\"line_color\"],\"data\":{\"chart_index\":[{\"state\":\"33 Virginia\"}],\"color\":[\"#f22c40\"],\"fill_alpha\":[0.8],\"height\":[0.23076923076923078],\"label\":[{\"state\":\"33 Virginia\"}],\"line_alpha\":[1.0],\"line_color\":[\"white\"],\"state\":[\"33 Virginia\"],\"width\":[0.8],\"x\":[\"33 Virginia\"],\"y\":[0.11538461538461539]}},\"id\":\"70347bd7-3c2e-4586-a3e2-212b391a3117\",\"type\":\"ColumnDataSource\"},{\"attributes\":{\"fill_alpha\":{\"field\":\"fill_alpha\"},\"fill_color\":{\"field\":\"color\"},\"height\":{\"field\":\"height\",\"units\":\"data\"},\"line_color\":{\"field\":\"line_color\"},\"width\":{\"field\":\"width\",\"units\":\"data\"},\"x\":{\"field\":\"x\"},\"y\":{\"field\":\"y\"}},\"id\":\"79c81875-abf0-431e-b1e8-5787fa51debb\",\"type\":\"Rect\"},{\"attributes\":{\"callback\":null,\"column_names\":[\"line_alpha\",\"color\",\"height\",\"y\",\"label\",\"fill_alpha\",\"x\",\"width\",\"line_color\"],\"data\":{\"chart_index\":[{\"state\":\"25 Utah\"}],\"color\":[\"#f22c40\"],\"fill_alpha\":[0.8],\"height\":[0.6666666666666666],\"label\":[{\"state\":\"25 Utah\"}],\"line_alpha\":[1.0],\"line_color\":[\"white\"],\"state\":[\"25 Utah\"],\"width\":[0.8],\"x\":[\"25 Utah\"],\"y\":[0.3333333333333333]}},\"id\":\"256f4004-1df7-4679-9106-1d5bbfa615de\",\"type\":\"ColumnDataSource\"},{\"attributes\":{\"callback\":null,\"column_names\":[\"line_alpha\",\"color\",\"height\",\"y\",\"label\",\"fill_alpha\",\"x\",\"width\",\"line_color\"],\"data\":{\"chart_index\":[{\"state\":\"50 Delaware\"}],\"color\":[\"#f22c40\"],\"fill_alpha\":[0.8],\"height\":[-1.3333333333333333],\"label\":[{\"state\":\"50 Delaware\"}],\"line_alpha\":[1.0],\"line_color\":[\"white\"],\"state\":[\"50 Delaware\"],\"width\":[0.8],\"x\":[\"50 Delaware\"],\"y\":[-0.6666666666666666]}},\"id\":\"7bc4729e-b978-4679-b41f-4e411045c21b\",\"type\":\"ColumnDataSource\"},{\"attributes\":{\"fill_alpha\":{\"field\":\"fill_alpha\"},\"fill_color\":{\"field\":\"color\"},\"height\":{\"field\":\"height\",\"units\":\"data\"},\"line_color\":{\"field\":\"line_color\"},\"width\":{\"field\":\"width\",\"units\":\"data\"},\"x\":{\"field\":\"x\"},\"y\":{\"field\":\"y\"}},\"id\":\"9ff17e10-b25f-47f5-8a66-eec1e883f688\",\"type\":\"Rect\"},{\"attributes\":{\"fill_alpha\":{\"field\":\"fill_alpha\"},\"fill_color\":{\"field\":\"color\"},\"height\":{\"field\":\"height\",\"units\":\"data\"},\"line_color\":{\"field\":\"line_color\"},\"width\":{\"field\":\"width\",\"units\":\"data\"},\"x\":{\"field\":\"x\"},\"y\":{\"field\":\"y\"}},\"id\":\"869b2a1d-92dd-42f7-9ae3-a282c3c4972f\",\"type\":\"Rect\"},{\"attributes\":{\"overlay\":{\"id\":\"380cc2e3-c982-42fa-9e54-dcb09c41197a\",\"type\":\"BoxAnnotation\"},\"plot\":{\"id\":\"62ae41d3-03d9-4477-bd8b-b71e235e52cd\",\"subtype\":\"Chart\",\"type\":\"Plot\"}},\"id\":\"4d155a25-4743-47e5-8352-7a0374d86eeb\",\"type\":\"BoxZoomTool\"},{\"attributes\":{\"fill_alpha\":{\"field\":\"fill_alpha\"},\"fill_color\":{\"field\":\"color\"},\"height\":{\"field\":\"height\",\"units\":\"data\"},\"line_color\":{\"field\":\"line_color\"},\"width\":{\"field\":\"width\",\"units\":\"data\"},\"x\":{\"field\":\"x\"},\"y\":{\"field\":\"y\"}},\"id\":\"1d573517-e569-463b-bc75-90d135dd1d81\",\"type\":\"Rect\"},{\"attributes\":{\"callback\":null,\"column_names\":[\"line_alpha\",\"color\",\"height\",\"y\",\"label\",\"fill_alpha\",\"x\",\"width\",\"line_color\"],\"data\":{\"chart_index\":[{\"state\":\"26 Pennsylvania\"}],\"color\":[\"#f22c40\"],\"fill_alpha\":[0.8],\"height\":[0.6341463414634146],\"label\":[{\"state\":\"26 Pennsylvania\"}],\"line_alpha\":[1.0],\"line_color\":[\"white\"],\"state\":[\"26 Pennsylvania\"],\"width\":[0.8],\"x\":[\"26 Pennsylvania\"],\"y\":[0.3170731707317073]}},\"id\":\"d170014b-04b2-441d-9500-d1a687a8c480\",\"type\":\"ColumnDataSource\"},{\"attributes\":{\"fill_alpha\":{\"field\":\"fill_alpha\"},\"fill_color\":{\"field\":\"color\"},\"height\":{\"field\":\"height\",\"units\":\"data\"},\"line_color\":{\"field\":\"line_color\"},\"width\":{\"field\":\"width\",\"units\":\"data\"},\"x\":{\"field\":\"x\"},\"y\":{\"field\":\"y\"}},\"id\":\"0237e566-ea67-4a8a-9c42-ced8ed31ccd2\",\"type\":\"Rect\"},{\"attributes\":{\"callback\":null,\"column_names\":[\"line_alpha\",\"color\",\"height\",\"y\",\"label\",\"fill_alpha\",\"x\",\"width\",\"line_color\"],\"data\":{\"chart_index\":[{\"state\":\"23 South Carolina\"}],\"color\":[\"#f22c40\"],\"fill_alpha\":[0.8],\"height\":[0.7692307692307693],\"label\":[{\"state\":\"23 South Carolina\"}],\"line_alpha\":[1.0],\"line_color\":[\"white\"],\"state\":[\"23 South Carolina\"],\"width\":[0.8],\"x\":[\"23 South Carolina\"],\"y\":[0.38461538461538464]}},\"id\":\"9eb95c59-64b1-4260-92d9-8b34a9d279ef\",\"type\":\"ColumnDataSource\"},{\"attributes\":{\"data_source\":{\"id\":\"43b2ab32-6371-4d8b-9b72-90b70981f9f5\",\"type\":\"ColumnDataSource\"},\"glyph\":{\"id\":\"dac6a0d6-7597-422d-b5c7-c53604b71d75\",\"type\":\"Rect\"},\"hover_glyph\":null,\"nonselection_glyph\":null,\"selection_glyph\":null},\"id\":\"453f9771-e7b3-4d36-897b-ed1b38219686\",\"type\":\"GlyphRenderer\"},{\"attributes\":{\"callback\":null,\"column_names\":[\"line_alpha\",\"color\",\"height\",\"y\",\"label\",\"fill_alpha\",\"x\",\"width\",\"line_color\"],\"data\":{\"chart_index\":[{\"state\":\"34 Oregon\"}],\"color\":[\"#f22c40\"],\"fill_alpha\":[0.8],\"height\":[0.18181818181818182],\"label\":[{\"state\":\"34 Oregon\"}],\"line_alpha\":[1.0],\"line_color\":[\"white\"],\"state\":[\"34 Oregon\"],\"width\":[0.8],\"x\":[\"34 Oregon\"],\"y\":[0.09090909090909091]}},\"id\":\"8c5a7be8-cd7e-4c4c-acd2-6be1b04d4f89\",\"type\":\"ColumnDataSource\"},{\"attributes\":{\"fill_alpha\":{\"field\":\"fill_alpha\"},\"fill_color\":{\"field\":\"color\"},\"height\":{\"field\":\"height\",\"units\":\"data\"},\"line_color\":{\"field\":\"line_color\"},\"width\":{\"field\":\"width\",\"units\":\"data\"},\"x\":{\"field\":\"x\"},\"y\":{\"field\":\"y\"}},\"id\":\"0cc41f0e-e87e-49cc-a323-db9b892df422\",\"type\":\"Rect\"},{\"attributes\":{\"data_source\":{\"id\":\"4abddc5a-ea12-4b37-8f4f-c763fb16dc0e\",\"type\":\"ColumnDataSource\"},\"glyph\":{\"id\":\"2505869f-d095-4da0-92b7-c9d4cf094e3e\",\"type\":\"Rect\"},\"hover_glyph\":null,\"nonselection_glyph\":null,\"selection_glyph\":null},\"id\":\"e4edb140-986a-402d-a81d-c8a047468bbd\",\"type\":\"GlyphRenderer\"},{\"attributes\":{\"callback\":null,\"column_names\":[\"line_alpha\",\"color\",\"height\",\"y\",\"label\",\"fill_alpha\",\"x\",\"width\",\"line_color\"],\"data\":{\"chart_index\":[{\"state\":\"03 Alaska\"}],\"color\":[\"#f22c40\"],\"fill_alpha\":[0.8],\"height\":[2.6666666666666665],\"label\":[{\"state\":\"03 Alaska\"}],\"line_alpha\":[1.0],\"line_color\":[\"white\"],\"state\":[\"03 Alaska\"],\"width\":[0.8],\"x\":[\"03 Alaska\"],\"y\":[1.3333333333333333]}},\"id\":\"f5d79ca4-69cf-4db4-9e0f-a5fc9bdd3184\",\"type\":\"ColumnDataSource\"},{\"attributes\":{\"data_source\":{\"id\":\"f5d79ca4-69cf-4db4-9e0f-a5fc9bdd3184\",\"type\":\"ColumnDataSource\"},\"glyph\":{\"id\":\"869b2a1d-92dd-42f7-9ae3-a282c3c4972f\",\"type\":\"Rect\"},\"hover_glyph\":null,\"nonselection_glyph\":null,\"selection_glyph\":null},\"id\":\"9b9922f1-1da4-4163-9d88-235fc9130e6f\",\"type\":\"GlyphRenderer\"},{\"attributes\":{\"plot\":{\"id\":\"62ae41d3-03d9-4477-bd8b-b71e235e52cd\",\"subtype\":\"Chart\",\"type\":\"Plot\"}},\"id\":\"a7810df6-e765-4ea1-97ed-b7f3f18eaa69\",\"type\":\"SaveTool\"},{\"attributes\":{\"data_source\":{\"id\":\"34c41ee8-dd48-493a-84dd-07f85ce6559c\",\"type\":\"ColumnDataSource\"},\"glyph\":{\"id\":\"4485cfe5-c01f-473e-ac22-c87dc01b75d3\",\"type\":\"Rect\"},\"hover_glyph\":null,\"nonselection_glyph\":null,\"selection_glyph\":null},\"id\":\"8e088e5b-5e59-4dec-b472-07a01276b7d4\",\"type\":\"GlyphRenderer\"},{\"attributes\":{\"callback\":null,\"column_names\":[\"line_alpha\",\"color\",\"height\",\"y\",\"label\",\"fill_alpha\",\"x\",\"width\",\"line_color\"],\"data\":{\"chart_index\":[{\"state\":\"35 Louisiana\"}],\"color\":[\"#f22c40\"],\"fill_alpha\":[0.8],\"height\":[0.1724137931034483],\"label\":[{\"state\":\"35 Louisiana\"}],\"line_alpha\":[1.0],\"line_color\":[\"white\"],\"state\":[\"35 Louisiana\"],\"width\":[0.8],\"x\":[\"35 Louisiana\"],\"y\":[0.08620689655172414]}},\"id\":\"d0936399-9645-4bc7-a6be-bbb0463b6506\",\"type\":\"ColumnDataSource\"},{\"attributes\":{\"data_source\":{\"id\":\"5274d86a-e648-45a6-9cbd-2514555ec0fe\",\"type\":\"ColumnDataSource\"},\"glyph\":{\"id\":\"7a5b8b60-28a2-411f-bc03-fb79783cfeb0\",\"type\":\"Rect\"},\"hover_glyph\":null,\"nonselection_glyph\":null,\"selection_glyph\":null},\"id\":\"d3fa6ca9-8f2e-4ab7-bb3c-d1a2e808ee1a\",\"type\":\"GlyphRenderer\"},{\"attributes\":{\"data_source\":{\"id\":\"e655a86f-3805-4050-899c-a7fc17762cc4\",\"type\":\"ColumnDataSource\"},\"glyph\":{\"id\":\"9ff17e10-b25f-47f5-8a66-eec1e883f688\",\"type\":\"Rect\"},\"hover_glyph\":null,\"nonselection_glyph\":null,\"selection_glyph\":null},\"id\":\"c3c7fc6b-c35e-4d13-b29a-686be260385e\",\"type\":\"GlyphRenderer\"},{\"attributes\":{\"axis_label\":\"State\",\"formatter\":{\"id\":\"1cd67462-e722-4323-8acb-24b05957745a\",\"type\":\"CategoricalTickFormatter\"},\"major_label_orientation\":0.7853981633974483,\"plot\":{\"id\":\"62ae41d3-03d9-4477-bd8b-b71e235e52cd\",\"subtype\":\"Chart\",\"type\":\"Plot\"},\"ticker\":{\"id\":\"0f50bb95-1347-4484-873b-ae26a83a457f\",\"type\":\"CategoricalTicker\"}},\"id\":\"014d0b5c-56c9-44d9-bbad-0bd77efa8954\",\"type\":\"CategoricalAxis\"},{\"attributes\":{},\"id\":\"1cd67462-e722-4323-8acb-24b05957745a\",\"type\":\"CategoricalTickFormatter\"},{\"attributes\":{\"callback\":null,\"column_names\":[\"line_alpha\",\"color\",\"height\",\"y\",\"label\",\"fill_alpha\",\"x\",\"width\",\"line_color\"],\"data\":{\"chart_index\":[{\"state\":\"36 Massachusetts\"}],\"color\":[\"#f22c40\"],\"fill_alpha\":[0.8],\"height\":[0.15625],\"label\":[{\"state\":\"36 Massachusetts\"}],\"line_alpha\":[1.0],\"line_color\":[\"white\"],\"state\":[\"36 Massachusetts\"],\"width\":[0.8],\"x\":[\"36 Massachusetts\"],\"y\":[0.078125]}},\"id\":\"efff603d-61db-414b-a43a-4d8268919456\",\"type\":\"ColumnDataSource\"},{\"attributes\":{\"callback\":null,\"column_names\":[\"line_alpha\",\"color\",\"height\",\"y\",\"label\",\"fill_alpha\",\"x\",\"width\",\"line_color\"],\"data\":{\"chart_index\":[{\"state\":\"32 Texas\"}],\"color\":[\"#f22c40\"],\"fill_alpha\":[0.8],\"height\":[0.23529411764705882],\"label\":[{\"state\":\"32 Texas\"}],\"line_alpha\":[1.0],\"line_color\":[\"white\"],\"state\":[\"32 Texas\"],\"width\":[0.8],\"x\":[\"32 Texas\"],\"y\":[0.11764705882352941]}},\"id\":\"ccf27034-ce2b-4df2-87db-3af5f7da13f9\",\"type\":\"ColumnDataSource\"},{\"attributes\":{\"fill_alpha\":{\"field\":\"fill_alpha\"},\"fill_color\":{\"field\":\"color\"},\"height\":{\"field\":\"height\",\"units\":\"data\"},\"line_color\":{\"field\":\"line_color\"},\"width\":{\"field\":\"width\",\"units\":\"data\"},\"x\":{\"field\":\"x\"},\"y\":{\"field\":\"y\"}},\"id\":\"102d9c85-2a37-4263-a3e2-8fde5fedafbe\",\"type\":\"Rect\"},{\"attributes\":{\"fill_alpha\":{\"field\":\"fill_alpha\"},\"fill_color\":{\"field\":\"color\"},\"height\":{\"field\":\"height\",\"units\":\"data\"},\"line_color\":{\"field\":\"line_color\"},\"width\":{\"field\":\"width\",\"units\":\"data\"},\"x\":{\"field\":\"x\"},\"y\":{\"field\":\"y\"}},\"id\":\"ae8b5b5e-3d90-41ca-8b0b-07ce7ab891c4\",\"type\":\"Rect\"},{\"attributes\":{\"callback\":null,\"column_names\":[\"line_alpha\",\"color\",\"height\",\"y\",\"label\",\"fill_alpha\",\"x\",\"width\",\"line_color\"],\"data\":{\"chart_index\":[{\"state\":\"13 Mississippi\"}],\"color\":[\"#f22c40\"],\"fill_alpha\":[0.8],\"height\":[1.4285714285714286],\"label\":[{\"state\":\"13 Mississippi\"}],\"line_alpha\":[1.0],\"line_color\":[\"white\"],\"state\":[\"13 Mississippi\"],\"width\":[0.8],\"x\":[\"13 Mississippi\"],\"y\":[0.7142857142857143]}},\"id\":\"d224309a-09e8-4a69-9aa4-d3249263ae34\",\"type\":\"ColumnDataSource\"},{\"attributes\":{\"callback\":null,\"column_names\":[\"line_alpha\",\"color\",\"height\",\"y\",\"label\",\"fill_alpha\",\"x\",\"width\",\"line_color\"],\"data\":{\"chart_index\":[{\"state\":\"19 Alabama\"}],\"color\":[\"#f22c40\"],\"fill_alpha\":[0.8],\"height\":[0.9411764705882353],\"label\":[{\"state\":\"19 Alabama\"}],\"line_alpha\":[1.0],\"line_color\":[\"white\"],\"state\":[\"19 Alabama\"],\"width\":[0.8],\"x\":[\"19 Alabama\"],\"y\":[0.47058823529411764]}},\"id\":\"8b2ce36c-a3bb-40a6-895f-d4e56ee8b93c\",\"type\":\"ColumnDataSource\"},{\"attributes\":{\"data_source\":{\"id\":\"35992bc9-f5c9-4bfa-a95f-14c1d737863a\",\"type\":\"ColumnDataSource\"},\"glyph\":{\"id\":\"0bbb22fc-a924-4b24-a42d-8b094e4e18d9\",\"type\":\"Rect\"},\"hover_glyph\":null,\"nonselection_glyph\":null,\"selection_glyph\":null},\"id\":\"869983cc-2eaf-4503-8e80-bea2b007f352\",\"type\":\"GlyphRenderer\"},{\"attributes\":{\"fill_alpha\":{\"field\":\"fill_alpha\"},\"fill_color\":{\"field\":\"color\"},\"height\":{\"field\":\"height\",\"units\":\"data\"},\"line_color\":{\"field\":\"line_color\"},\"width\":{\"field\":\"width\",\"units\":\"data\"},\"x\":{\"field\":\"x\"},\"y\":{\"field\":\"y\"}},\"id\":\"1001b11b-7a4a-4865-81ac-c28fbc458c07\",\"type\":\"Rect\"},{\"attributes\":{\"fill_alpha\":{\"field\":\"fill_alpha\"},\"fill_color\":{\"field\":\"color\"},\"height\":{\"field\":\"height\",\"units\":\"data\"},\"line_color\":{\"field\":\"line_color\"},\"width\":{\"field\":\"width\",\"units\":\"data\"},\"x\":{\"field\":\"x\"},\"y\":{\"field\":\"y\"}},\"id\":\"465e7fd7-6e56-447c-bc56-f652ff4e540d\",\"type\":\"Rect\"},{\"attributes\":{\"fill_alpha\":{\"field\":\"fill_alpha\"},\"fill_color\":{\"field\":\"color\"},\"height\":{\"field\":\"height\",\"units\":\"data\"},\"line_color\":{\"field\":\"line_color\"},\"width\":{\"field\":\"width\",\"units\":\"data\"},\"x\":{\"field\":\"x\"},\"y\":{\"field\":\"y\"}},\"id\":\"aabb0cfc-f43f-42e9-9744-a04053eba203\",\"type\":\"Rect\"},{\"attributes\":{\"data_source\":{\"id\":\"4c909603-9228-499c-927c-f2fd16d25541\",\"type\":\"ColumnDataSource\"},\"glyph\":{\"id\":\"4732cdf5-26f5-432b-8da0-1b771e40f6b3\",\"type\":\"Rect\"},\"hover_glyph\":null,\"nonselection_glyph\":null,\"selection_glyph\":null},\"id\":\"473cd039-ac8c-4bb0-b61c-d559626964e8\",\"type\":\"GlyphRenderer\"},{\"attributes\":{\"callback\":null,\"column_names\":[\"line_alpha\",\"color\",\"height\",\"y\",\"label\",\"fill_alpha\",\"x\",\"width\",\"line_color\"],\"data\":{\"chart_index\":[{\"state\":\"16 Florida\"}],\"color\":[\"#f22c40\"],\"fill_alpha\":[0.8],\"height\":[1.0138888888888888],\"label\":[{\"state\":\"16 Florida\"}],\"line_alpha\":[1.0],\"line_color\":[\"white\"],\"state\":[\"16 Florida\"],\"width\":[0.8],\"x\":[\"16 Florida\"],\"y\":[0.5069444444444444]}},\"id\":\"09b970fd-e47d-47ee-bced-4df521e783bf\",\"type\":\"ColumnDataSource\"},{\"attributes\":{\"fill_alpha\":{\"field\":\"fill_alpha\"},\"fill_color\":{\"field\":\"color\"},\"height\":{\"field\":\"height\",\"units\":\"data\"},\"line_color\":{\"field\":\"line_color\"},\"width\":{\"field\":\"width\",\"units\":\"data\"},\"x\":{\"field\":\"x\"},\"y\":{\"field\":\"y\"}},\"id\":\"3c15ec57-4b83-4023-b12d-29e3a08749bb\",\"type\":\"Rect\"},{\"attributes\":{\"callback\":null,\"column_names\":[\"line_alpha\",\"color\",\"height\",\"y\",\"label\",\"fill_alpha\",\"x\",\"width\",\"line_color\"],\"data\":{\"chart_index\":[{\"state\":\"43 Wisconsin\"}],\"color\":[\"#f22c40\"],\"fill_alpha\":[0.8],\"height\":[-0.13333333333333333],\"label\":[{\"state\":\"43 Wisconsin\"}],\"line_alpha\":[1.0],\"line_color\":[\"white\"],\"state\":[\"43 Wisconsin\"],\"width\":[0.8],\"x\":[\"43 Wisconsin\"],\"y\":[-0.06666666666666667]}},\"id\":\"9c778267-e677-4839-99de-9da9e5243348\",\"type\":\"ColumnDataSource\"},{\"attributes\":{\"callback\":null,\"column_names\":[\"line_alpha\",\"color\",\"height\",\"y\",\"label\",\"fill_alpha\",\"x\",\"width\",\"line_color\"],\"data\":{\"chart_index\":[{\"state\":\"39 Maine\"}],\"color\":[\"#f22c40\"],\"fill_alpha\":[0.8],\"height\":[0.0],\"label\":[{\"state\":\"39 Maine\"}],\"line_alpha\":[1.0],\"line_color\":[\"white\"],\"state\":[\"39 Maine\"],\"width\":[0.8],\"x\":[\"39 Maine\"],\"y\":[0.0]}},\"id\":\"e655a86f-3805-4050-899c-a7fc17762cc4\",\"type\":\"ColumnDataSource\"},{\"attributes\":{\"fill_alpha\":{\"field\":\"fill_alpha\"},\"fill_color\":{\"field\":\"color\"},\"height\":{\"field\":\"height\",\"units\":\"data\"},\"line_color\":{\"field\":\"line_color\"},\"width\":{\"field\":\"width\",\"units\":\"data\"},\"x\":{\"field\":\"x\"},\"y\":{\"field\":\"y\"}},\"id\":\"41ccf3e8-d2c2-4cea-822d-7eaaa18771bf\",\"type\":\"Rect\"},{\"attributes\":{\"callback\":null,\"column_names\":[\"line_alpha\",\"color\",\"height\",\"y\",\"label\",\"fill_alpha\",\"x\",\"width\",\"line_color\"],\"data\":{\"chart_index\":[{\"state\":\"22 Minnesota\"}],\"color\":[\"#f22c40\"],\"fill_alpha\":[0.8],\"height\":[0.7857142857142857],\"label\":[{\"state\":\"22 Minnesota\"}],\"line_alpha\":[1.0],\"line_color\":[\"white\"],\"state\":[\"22 Minnesota\"],\"width\":[0.8],\"x\":[\"22 Minnesota\"],\"y\":[0.39285714285714285]}},\"id\":\"4acafd65-4635-4560-981c-5a1fa9b3625e\",\"type\":\"ColumnDataSource\"},{\"attributes\":{\"data_source\":{\"id\":\"c3f1c6b1-34b6-4295-8f4a-f138716cb59a\",\"type\":\"ColumnDataSource\"},\"glyph\":{\"id\":\"3a2764bf-3de0-499d-8e7e-0108c5968183\",\"type\":\"Rect\"},\"hover_glyph\":null,\"nonselection_glyph\":null,\"selection_glyph\":null},\"id\":\"3d5cc783-e64d-47c1-8f81-8f628678a215\",\"type\":\"GlyphRenderer\"},{\"attributes\":{\"data_source\":{\"id\":\"1222c99e-704d-4625-a3c6-018b8e1fec56\",\"type\":\"ColumnDataSource\"},\"glyph\":{\"id\":\"eafdbbec-8ac0-419f-b8eb-d4ed75e6383f\",\"type\":\"Rect\"},\"hover_glyph\":null,\"nonselection_glyph\":null,\"selection_glyph\":null},\"id\":\"4e52e63a-feda-49ac-8dc9-50279dd5de46\",\"type\":\"GlyphRenderer\"},{\"attributes\":{},\"id\":\"58cddcea-26f8-4738-af75-8ed9e314195f\",\"type\":\"BasicTicker\"},{\"attributes\":{\"fill_alpha\":{\"field\":\"fill_alpha\"},\"fill_color\":{\"field\":\"color\"},\"height\":{\"field\":\"height\",\"units\":\"data\"},\"line_color\":{\"field\":\"line_color\"},\"width\":{\"field\":\"width\",\"units\":\"data\"},\"x\":{\"field\":\"x\"},\"y\":{\"field\":\"y\"}},\"id\":\"bb9655f3-5452-4ffa-97fe-db1714b09aab\",\"type\":\"Rect\"},{\"attributes\":{\"fill_alpha\":{\"field\":\"fill_alpha\"},\"fill_color\":{\"field\":\"color\"},\"height\":{\"field\":\"height\",\"units\":\"data\"},\"line_color\":{\"field\":\"line_color\"},\"width\":{\"field\":\"width\",\"units\":\"data\"},\"x\":{\"field\":\"x\"},\"y\":{\"field\":\"y\"}},\"id\":\"a2d0dfdf-86a9-4c7f-b8c7-9c9ab67c88aa\",\"type\":\"Rect\"},{\"attributes\":{},\"id\":\"53a39c67-c465-4f15-9cdb-05fef7823e02\",\"type\":\"BasicTickFormatter\"},{\"attributes\":{\"data_source\":{\"id\":\"5dda2b35-70b6-4f8e-b276-fc7e93bb935d\",\"type\":\"ColumnDataSource\"},\"glyph\":{\"id\":\"71db1deb-2c85-47a9-aed3-361453ba2256\",\"type\":\"Rect\"},\"hover_glyph\":null,\"nonselection_glyph\":null,\"selection_glyph\":null},\"id\":\"a22d5b39-8530-4bfe-81a2-0aa7cfe1385e\",\"type\":\"GlyphRenderer\"},{\"attributes\":{\"callback\":null,\"column_names\":[\"line_alpha\",\"color\",\"height\",\"y\",\"label\",\"fill_alpha\",\"x\",\"width\",\"line_color\"],\"data\":{\"chart_index\":[{\"state\":\"02 Nebraska\"}],\"color\":[\"#f22c40\"],\"fill_alpha\":[0.8],\"height\":[3.0],\"label\":[{\"state\":\"02 Nebraska\"}],\"line_alpha\":[1.0],\"line_color\":[\"white\"],\"state\":[\"02 Nebraska\"],\"width\":[0.8],\"x\":[\"02 Nebraska\"],\"y\":[1.5]}},\"id\":\"1259c8b6-e0fa-4d54-87ba-4104652ccea2\",\"type\":\"ColumnDataSource\"},{\"attributes\":{\"data_source\":{\"id\":\"47845d0e-f369-44b1-9402-0472db1df2b2\",\"type\":\"ColumnDataSource\"},\"glyph\":{\"id\":\"b4e74e82-e205-4d7a-8b1a-2d95edfff34c\",\"type\":\"Rect\"},\"hover_glyph\":null,\"nonselection_glyph\":null,\"selection_glyph\":null},\"id\":\"39e7ecfa-fd61-4e6b-8b06-f020bad8cd5a\",\"type\":\"GlyphRenderer\"},{\"attributes\":{\"data_source\":{\"id\":\"5f0e5a62-72fd-4f5d-849e-ac686cb63d37\",\"type\":\"ColumnDataSource\"},\"glyph\":{\"id\":\"a2d0dfdf-86a9-4c7f-b8c7-9c9ab67c88aa\",\"type\":\"Rect\"},\"hover_glyph\":null,\"nonselection_glyph\":null,\"selection_glyph\":null},\"id\":\"8bafeb16-2672-448c-bfde-db0bcdf9a6d6\",\"type\":\"GlyphRenderer\"},{\"attributes\":{\"callback\":null,\"column_names\":[\"line_alpha\",\"color\",\"height\",\"y\",\"label\",\"fill_alpha\",\"x\",\"width\",\"line_color\"],\"data\":{\"chart_index\":[{\"state\":\"18 Colorado\"}],\"color\":[\"#f22c40\"],\"fill_alpha\":[0.8],\"height\":[1.0],\"label\":[{\"state\":\"18 Colorado\"}],\"line_alpha\":[1.0],\"line_color\":[\"white\"],\"state\":[\"18 Colorado\"],\"width\":[0.8],\"x\":[\"18 Colorado\"],\"y\":[0.5]}},\"id\":\"d0c44df5-f51a-4cec-b943-4500aee7a222\",\"type\":\"ColumnDataSource\"},{\"attributes\":{\"data_source\":{\"id\":\"a820c245-6f9d-4dee-89fe-ee6a1dc2514a\",\"type\":\"ColumnDataSource\"},\"glyph\":{\"id\":\"ba4a355c-c56d-4bf8-a531-7567445d69b2\",\"type\":\"Rect\"},\"hover_glyph\":null,\"nonselection_glyph\":null,\"selection_glyph\":null},\"id\":\"35960fac-350b-4c8c-99a2-cb2f10e3b25a\",\"type\":\"GlyphRenderer\"},{\"attributes\":{\"data_source\":{\"id\":\"41a86b4d-3956-450d-af12-c4f1cb216620\",\"type\":\"ColumnDataSource\"},\"glyph\":{\"id\":\"a023a038-396c-4586-ae64-85bdc0f1fc57\",\"type\":\"Rect\"},\"hover_glyph\":null,\"nonselection_glyph\":null,\"selection_glyph\":null},\"id\":\"8cb31676-02a8-4e44-be52-a2f137c56862\",\"type\":\"GlyphRenderer\"},{\"attributes\":{\"data_source\":{\"id\":\"fce3928e-b6bd-4ce0-aa5c-d80ade6d4142\",\"type\":\"ColumnDataSource\"},\"glyph\":{\"id\":\"56f09027-8022-45ec-b784-a08628f9b21b\",\"type\":\"Rect\"},\"hover_glyph\":null,\"nonselection_glyph\":null,\"selection_glyph\":null},\"id\":\"1d971307-fcf2-40bf-a569-36d3219f6d66\",\"type\":\"GlyphRenderer\"},{\"attributes\":{\"callback\":null,\"column_names\":[\"line_alpha\",\"color\",\"height\",\"y\",\"label\",\"fill_alpha\",\"x\",\"width\",\"line_color\"],\"data\":{\"chart_index\":[{\"state\":\"41 Kansas\"}],\"color\":[\"#f22c40\"],\"fill_alpha\":[0.8],\"height\":[-0.09090909090909091],\"label\":[{\"state\":\"41 Kansas\"}],\"line_alpha\":[1.0],\"line_color\":[\"white\"],\"state\":[\"41 Kansas\"],\"width\":[0.8],\"x\":[\"41 Kansas\"],\"y\":[-0.045454545454545456]}},\"id\":\"cfc43bdf-f0a8-4fad-80f5-79e14309f004\",\"type\":\"ColumnDataSource\"},{\"attributes\":{\"callback\":null,\"column_names\":[\"line_alpha\",\"color\",\"height\",\"y\",\"label\",\"fill_alpha\",\"x\",\"width\",\"line_color\"],\"data\":{\"chart_index\":[{\"state\":\"14 North Carolina\"}],\"color\":[\"#f22c40\"],\"fill_alpha\":[0.8],\"height\":[1.3142857142857143],\"label\":[{\"state\":\"14 North Carolina\"}],\"line_alpha\":[1.0],\"line_color\":[\"white\"],\"state\":[\"14 North Carolina\"],\"width\":[0.8],\"x\":[\"14 North Carolina\"],\"y\":[0.6571428571428571]}},\"id\":\"43b2ab32-6371-4d8b-9b72-90b70981f9f5\",\"type\":\"ColumnDataSource\"},{\"attributes\":{\"callback\":null,\"column_names\":[\"line_alpha\",\"color\",\"height\",\"y\",\"label\",\"fill_alpha\",\"x\",\"width\",\"line_color\"],\"data\":{\"chart_index\":[{\"state\":\"24 Maryland\"}],\"color\":[\"#f22c40\"],\"fill_alpha\":[0.8],\"height\":[0.7142857142857143],\"label\":[{\"state\":\"24 Maryland\"}],\"line_alpha\":[1.0],\"line_color\":[\"white\"],\"state\":[\"24 Maryland\"],\"width\":[0.8],\"x\":[\"24 Maryland\"],\"y\":[0.35714285714285715]}},\"id\":\"861f8db6-4995-4bea-8ace-b09c36688bb5\",\"type\":\"ColumnDataSource\"},{\"attributes\":{\"fill_alpha\":{\"field\":\"fill_alpha\"},\"fill_color\":{\"field\":\"color\"},\"height\":{\"field\":\"height\",\"units\":\"data\"},\"line_color\":{\"field\":\"line_color\"},\"width\":{\"field\":\"width\",\"units\":\"data\"},\"x\":{\"field\":\"x\"},\"y\":{\"field\":\"y\"}},\"id\":\"36a2b7e7-0455-461b-afac-3c03b8145349\",\"type\":\"Rect\"},{\"attributes\":{\"fill_alpha\":{\"field\":\"fill_alpha\"},\"fill_color\":{\"field\":\"color\"},\"height\":{\"field\":\"height\",\"units\":\"data\"},\"line_color\":{\"field\":\"line_color\"},\"width\":{\"field\":\"width\",\"units\":\"data\"},\"x\":{\"field\":\"x\"},\"y\":{\"field\":\"y\"}},\"id\":\"4485cfe5-c01f-473e-ac22-c87dc01b75d3\",\"type\":\"Rect\"},{\"attributes\":{\"data_source\":{\"id\":\"fc6b7d31-07de-490e-93e3-e9ab581f2218\",\"type\":\"ColumnDataSource\"},\"glyph\":{\"id\":\"a689696c-b8fb-4d1b-ad06-c55edc1c58da\",\"type\":\"Rect\"},\"hover_glyph\":null,\"nonselection_glyph\":null,\"selection_glyph\":null},\"id\":\"74e28bfe-4724-44ea-aaba-81a29ac3337d\",\"type\":\"GlyphRenderer\"},{\"attributes\":{\"data_source\":{\"id\":\"cfc43bdf-f0a8-4fad-80f5-79e14309f004\",\"type\":\"ColumnDataSource\"},\"glyph\":{\"id\":\"319d1a84-b5ab-4d8e-ba29-c397a0f551b8\",\"type\":\"Rect\"},\"hover_glyph\":null,\"nonselection_glyph\":null,\"selection_glyph\":null},\"id\":\"52c2dcff-759c-48b0-8361-d19797b9b926\",\"type\":\"GlyphRenderer\"},{\"attributes\":{\"data_source\":{\"id\":\"2264b434-607c-4db0-9b09-4bc774e056a6\",\"type\":\"ColumnDataSource\"},\"glyph\":{\"id\":\"aabb0cfc-f43f-42e9-9744-a04053eba203\",\"type\":\"Rect\"},\"hover_glyph\":null,\"nonselection_glyph\":null,\"selection_glyph\":null},\"id\":\"edacc04d-08d2-45f2-b1ee-6d33ce40f82a\",\"type\":\"GlyphRenderer\"},{\"attributes\":{\"fill_alpha\":{\"field\":\"fill_alpha\"},\"fill_color\":{\"field\":\"color\"},\"height\":{\"field\":\"height\",\"units\":\"data\"},\"line_color\":{\"field\":\"line_color\"},\"width\":{\"field\":\"width\",\"units\":\"data\"},\"x\":{\"field\":\"x\"},\"y\":{\"field\":\"y\"}},\"id\":\"ba4a355c-c56d-4bf8-a531-7567445d69b2\",\"type\":\"Rect\"},{\"attributes\":{\"callback\":null,\"column_names\":[\"line_alpha\",\"color\",\"height\",\"y\",\"label\",\"fill_alpha\",\"x\",\"width\",\"line_color\"],\"data\":{\"chart_index\":[{\"state\":\"20 Connecticut\"}],\"color\":[\"#f22c40\"],\"fill_alpha\":[0.8],\"height\":[0.9090909090909091],\"label\":[{\"state\":\"20 Connecticut\"}],\"line_alpha\":[1.0],\"line_color\":[\"white\"],\"state\":[\"20 Connecticut\"],\"width\":[0.8],\"x\":[\"20 Connecticut\"],\"y\":[0.45454545454545453]}},\"id\":\"35992bc9-f5c9-4bfa-a95f-14c1d737863a\",\"type\":\"ColumnDataSource\"},{\"attributes\":{\"data_source\":{\"id\":\"d170014b-04b2-441d-9500-d1a687a8c480\",\"type\":\"ColumnDataSource\"},\"glyph\":{\"id\":\"a6f3b735-cce3-4fd1-b26b-65a587a9d959\",\"type\":\"Rect\"},\"hover_glyph\":null,\"nonselection_glyph\":null,\"selection_glyph\":null},\"id\":\"11b852ea-cd0d-4b10-b14a-cf3e8b567e6f\",\"type\":\"GlyphRenderer\"},{\"attributes\":{\"fill_alpha\":{\"field\":\"fill_alpha\"},\"fill_color\":{\"field\":\"color\"},\"height\":{\"field\":\"height\",\"units\":\"data\"},\"line_color\":{\"field\":\"line_color\"},\"width\":{\"field\":\"width\",\"units\":\"data\"},\"x\":{\"field\":\"x\"},\"y\":{\"field\":\"y\"}},\"id\":\"eafdbbec-8ac0-419f-b8eb-d4ed75e6383f\",\"type\":\"Rect\"},{\"attributes\":{},\"id\":\"0f50bb95-1347-4484-873b-ae26a83a457f\",\"type\":\"CategoricalTicker\"},{\"attributes\":{\"fill_alpha\":{\"field\":\"fill_alpha\"},\"fill_color\":{\"field\":\"color\"},\"height\":{\"field\":\"height\",\"units\":\"data\"},\"line_color\":{\"field\":\"line_color\"},\"width\":{\"field\":\"width\",\"units\":\"data\"},\"x\":{\"field\":\"x\"},\"y\":{\"field\":\"y\"}},\"id\":\"319d1a84-b5ab-4d8e-ba29-c397a0f551b8\",\"type\":\"Rect\"},{\"attributes\":{\"fill_alpha\":{\"field\":\"fill_alpha\"},\"fill_color\":{\"field\":\"color\"},\"height\":{\"field\":\"height\",\"units\":\"data\"},\"line_color\":{\"field\":\"line_color\"},\"width\":{\"field\":\"width\",\"units\":\"data\"},\"x\":{\"field\":\"x\"},\"y\":{\"field\":\"y\"}},\"id\":\"6ca1c2a2-6858-4782-9a65-62641d1df903\",\"type\":\"Rect\"},{\"attributes\":{\"data_source\":{\"id\":\"861f8db6-4995-4bea-8ace-b09c36688bb5\",\"type\":\"ColumnDataSource\"},\"glyph\":{\"id\":\"2ac47bfa-8498-488d-949d-70950a9e4bbb\",\"type\":\"Rect\"},\"hover_glyph\":null,\"nonselection_glyph\":null,\"selection_glyph\":null},\"id\":\"9d2831c9-6101-497c-916f-84eeda6b904e\",\"type\":\"GlyphRenderer\"},{\"attributes\":{\"callback\":null,\"column_names\":[\"line_alpha\",\"color\",\"height\",\"y\",\"label\",\"fill_alpha\",\"x\",\"width\",\"line_color\"],\"data\":{\"chart_index\":[{\"state\":\"10 Oklahoma\"}],\"color\":[\"#f22c40\"],\"fill_alpha\":[0.8],\"height\":[1.5555555555555556],\"label\":[{\"state\":\"10 Oklahoma\"}],\"line_alpha\":[1.0],\"line_color\":[\"white\"],\"state\":[\"10 Oklahoma\"],\"width\":[0.8],\"x\":[\"10 Oklahoma\"],\"y\":[0.7777777777777778]}},\"id\":\"01ee34c0-54bd-49e4-a34a-f532a5806809\",\"type\":\"ColumnDataSource\"},{\"attributes\":{\"callback\":null,\"column_names\":[\"line_alpha\",\"color\",\"height\",\"y\",\"label\",\"fill_alpha\",\"x\",\"width\",\"line_color\"],\"data\":{\"chart_index\":[{\"state\":\"17 Hawaii\"}],\"color\":[\"#f22c40\"],\"fill_alpha\":[0.8],\"height\":[1.0],\"label\":[{\"state\":\"17 Hawaii\"}],\"line_alpha\":[1.0],\"line_color\":[\"white\"],\"state\":[\"17 Hawaii\"],\"width\":[0.8],\"x\":[\"17 Hawaii\"],\"y\":[0.5]}},\"id\":\"a820c245-6f9d-4dee-89fe-ee6a1dc2514a\",\"type\":\"ColumnDataSource\"},{\"attributes\":{\"fill_alpha\":{\"field\":\"fill_alpha\"},\"fill_color\":{\"field\":\"color\"},\"height\":{\"field\":\"height\",\"units\":\"data\"},\"line_color\":{\"field\":\"line_color\"},\"width\":{\"field\":\"width\",\"units\":\"data\"},\"x\":{\"field\":\"x\"},\"y\":{\"field\":\"y\"}},\"id\":\"2505869f-d095-4da0-92b7-c9d4cf094e3e\",\"type\":\"Rect\"},{\"attributes\":{\"callback\":null,\"column_names\":[\"line_alpha\",\"color\",\"height\",\"y\",\"label\",\"fill_alpha\",\"x\",\"width\",\"line_color\"],\"data\":{\"chart_index\":[{\"state\":\"47 Wyoming\"}],\"color\":[\"#f22c40\"],\"fill_alpha\":[0.8],\"height\":[-1.0],\"label\":[{\"state\":\"47 Wyoming\"}],\"line_alpha\":[1.0],\"line_color\":[\"white\"],\"state\":[\"47 Wyoming\"],\"width\":[0.8],\"x\":[\"47 Wyoming\"],\"y\":[-0.5]}},\"id\":\"42c4cc97-a595-4443-a091-e60136502d72\",\"type\":\"ColumnDataSource\"},{\"attributes\":{\"fill_alpha\":{\"field\":\"fill_alpha\"},\"fill_color\":{\"field\":\"color\"},\"height\":{\"field\":\"height\",\"units\":\"data\"},\"line_color\":{\"field\":\"line_color\"},\"width\":{\"field\":\"width\",\"units\":\"data\"},\"x\":{\"field\":\"x\"},\"y\":{\"field\":\"y\"}},\"id\":\"71db1deb-2c85-47a9-aed3-361453ba2256\",\"type\":\"Rect\"},{\"attributes\":{\"callback\":null,\"column_names\":[\"line_alpha\",\"color\",\"height\",\"y\",\"label\",\"fill_alpha\",\"x\",\"width\",\"line_color\"],\"data\":{\"chart_index\":[{\"state\":\"29 Illinois\"}],\"color\":[\"#f22c40\"],\"fill_alpha\":[0.8],\"height\":[0.3488372093023256],\"label\":[{\"state\":\"29 Illinois\"}],\"line_alpha\":[1.0],\"line_color\":[\"white\"],\"state\":[\"29 Illinois\"],\"width\":[0.8],\"x\":[\"29 Illinois\"],\"y\":[0.1744186046511628]}},\"id\":\"2264b434-607c-4db0-9b09-4bc774e056a6\",\"type\":\"ColumnDataSource\"},{\"attributes\":{\"plot\":{\"id\":\"62ae41d3-03d9-4477-bd8b-b71e235e52cd\",\"subtype\":\"Chart\",\"type\":\"Plot\"}},\"id\":\"fe97d892-186c-4b43-9609-3cdc8b7e240e\",\"type\":\"HelpTool\"},{\"attributes\":{\"plot\":{\"id\":\"62ae41d3-03d9-4477-bd8b-b71e235e52cd\",\"subtype\":\"Chart\",\"type\":\"Plot\"}},\"id\":\"8010c451-6ae3-482a-b28d-55d1484945db\",\"type\":\"WheelZoomTool\"},{\"attributes\":{\"data_source\":{\"id\":\"09b970fd-e47d-47ee-bced-4df521e783bf\",\"type\":\"ColumnDataSource\"},\"glyph\":{\"id\":\"f2e6071a-7be9-4697-986b-7e945e233753\",\"type\":\"Rect\"},\"hover_glyph\":null,\"nonselection_glyph\":null,\"selection_glyph\":null},\"id\":\"5ba472bd-6353-46b1-89ee-ba96a705b133\",\"type\":\"GlyphRenderer\"},{\"attributes\":{\"plot\":{\"id\":\"62ae41d3-03d9-4477-bd8b-b71e235e52cd\",\"subtype\":\"Chart\",\"type\":\"Plot\"}},\"id\":\"206cb0d0-8e77-4f2e-bda4-42105b58e3ee\",\"type\":\"ResetTool\"},{\"attributes\":{\"callback\":null,\"column_names\":[\"line_alpha\",\"color\",\"height\",\"y\",\"label\",\"fill_alpha\",\"x\",\"width\",\"line_color\"],\"data\":{\"chart_index\":[{\"state\":\"12 Indiana\"}],\"color\":[\"#f22c40\"],\"fill_alpha\":[0.8],\"height\":[1.4482758620689655],\"label\":[{\"state\":\"12 Indiana\"}],\"line_alpha\":[1.0],\"line_color\":[\"white\"],\"state\":[\"12 Indiana\"],\"width\":[0.8],\"x\":[\"12 Indiana\"],\"y\":[0.7241379310344828]}},\"id\":\"6ac11723-6f03-4c54-9af7-9461bf7edc0b\",\"type\":\"ColumnDataSource\"},{\"attributes\":{\"fill_alpha\":{\"field\":\"fill_alpha\"},\"fill_color\":{\"field\":\"color\"},\"height\":{\"field\":\"height\",\"units\":\"data\"},\"line_color\":{\"field\":\"line_color\"},\"width\":{\"field\":\"width\",\"units\":\"data\"},\"x\":{\"field\":\"x\"},\"y\":{\"field\":\"y\"}},\"id\":\"2ac47bfa-8498-488d-949d-70950a9e4bbb\",\"type\":\"Rect\"},{\"attributes\":{\"fill_alpha\":{\"field\":\"fill_alpha\"},\"fill_color\":{\"field\":\"color\"},\"height\":{\"field\":\"height\",\"units\":\"data\"},\"line_color\":{\"field\":\"line_color\"},\"width\":{\"field\":\"width\",\"units\":\"data\"},\"x\":{\"field\":\"x\"},\"y\":{\"field\":\"y\"}},\"id\":\"b6ff95ef-4854-4a50-b0ac-63d6edbe6744\",\"type\":\"Rect\"},{\"attributes\":{\"callback\":null,\"column_names\":[\"line_alpha\",\"color\",\"height\",\"y\",\"label\",\"fill_alpha\",\"x\",\"width\",\"line_color\"],\"data\":{\"chart_index\":[{\"state\":\"15 Ohio\"}],\"color\":[\"#f22c40\"],\"fill_alpha\":[0.8],\"height\":[1.0862068965517242],\"label\":[{\"state\":\"15 Ohio\"}],\"line_alpha\":[1.0],\"line_color\":[\"white\"],\"state\":[\"15 Ohio\"],\"width\":[0.8],\"x\":[\"15 Ohio\"],\"y\":[0.5431034482758621]}},\"id\":\"3596b11a-576e-4ebb-b03e-c3b0aa1b2ccb\",\"type\":\"ColumnDataSource\"},{\"attributes\":{\"callback\":null,\"column_names\":[\"line_alpha\",\"color\",\"height\",\"y\",\"label\",\"fill_alpha\",\"x\",\"width\",\"line_color\"],\"data\":{\"chart_index\":[{\"state\":\"48 New Hampshire\"}],\"color\":[\"#f22c40\"],\"fill_alpha\":[0.8],\"height\":[-1.0],\"label\":[{\"state\":\"48 New Hampshire\"}],\"line_alpha\":[1.0],\"line_color\":[\"white\"],\"state\":[\"48 New Hampshire\"],\"width\":[0.8],\"x\":[\"48 New Hampshire\"],\"y\":[-0.5]}},\"id\":\"41a86b4d-3956-450d-af12-c4f1cb216620\",\"type\":\"ColumnDataSource\"},{\"attributes\":{\"callback\":null,\"column_names\":[\"line_alpha\",\"color\",\"height\",\"y\",\"label\",\"fill_alpha\",\"x\",\"width\",\"line_color\"],\"data\":{\"chart_index\":[{\"state\":\"04 Montana\"}],\"color\":[\"#f22c40\"],\"fill_alpha\":[0.8],\"height\":[2.6666666666666665],\"label\":[{\"state\":\"04 Montana\"}],\"line_alpha\":[1.0],\"line_color\":[\"white\"],\"state\":[\"04 Montana\"],\"width\":[0.8],\"x\":[\"04 Montana\"],\"y\":[1.3333333333333333]}},\"id\":\"158f9dc3-924b-43ef-886d-cbf7c25fd4a7\",\"type\":\"ColumnDataSource\"},{\"attributes\":{\"data_source\":{\"id\":\"efff603d-61db-414b-a43a-4d8268919456\",\"type\":\"ColumnDataSource\"},\"glyph\":{\"id\":\"b6ff95ef-4854-4a50-b0ac-63d6edbe6744\",\"type\":\"Rect\"},\"hover_glyph\":null,\"nonselection_glyph\":null,\"selection_glyph\":null},\"id\":\"3c420ce8-cab2-4179-b13b-1e1320b259ea\",\"type\":\"GlyphRenderer\"},{\"attributes\":{\"fill_alpha\":{\"field\":\"fill_alpha\"},\"fill_color\":{\"field\":\"color\"},\"height\":{\"field\":\"height\",\"units\":\"data\"},\"line_color\":{\"field\":\"line_color\"},\"width\":{\"field\":\"width\",\"units\":\"data\"},\"x\":{\"field\":\"x\"},\"y\":{\"field\":\"y\"}},\"id\":\"719d6752-0dae-486f-bf78-d55780e68065\",\"type\":\"Rect\"},{\"attributes\":{\"data_source\":{\"id\":\"70347bd7-3c2e-4586-a3e2-212b391a3117\",\"type\":\"ColumnDataSource\"},\"glyph\":{\"id\":\"9d2439a5-bcf7-43dc-b509-f46fb12287d5\",\"type\":\"Rect\"},\"hover_glyph\":null,\"nonselection_glyph\":null,\"selection_glyph\":null},\"id\":\"c852ffcb-b117-4dfa-9469-8c15e3cf3120\",\"type\":\"GlyphRenderer\"},{\"attributes\":{\"data_source\":{\"id\":\"9eb95c59-64b1-4260-92d9-8b34a9d279ef\",\"type\":\"ColumnDataSource\"},\"glyph\":{\"id\":\"bb9655f3-5452-4ffa-97fe-db1714b09aab\",\"type\":\"Rect\"},\"hover_glyph\":null,\"nonselection_glyph\":null,\"selection_glyph\":null},\"id\":\"02449767-a89b-4c64-968c-67acb4f818ea\",\"type\":\"GlyphRenderer\"},{\"attributes\":{\"callback\":null,\"column_names\":[\"line_alpha\",\"color\",\"height\",\"y\",\"label\",\"fill_alpha\",\"x\",\"width\",\"line_color\"],\"data\":{\"chart_index\":[{\"state\":\"07 Arkansas\"}],\"color\":[\"#f22c40\"],\"fill_alpha\":[0.8],\"height\":[1.6666666666666667],\"label\":[{\"state\":\"07 Arkansas\"}],\"line_alpha\":[1.0],\"line_color\":[\"white\"],\"state\":[\"07 Arkansas\"],\"width\":[0.8],\"x\":[\"07 Arkansas\"],\"y\":[0.8333333333333334]}},\"id\":\"b692b7d4-1813-4e39-98b4-23264ff11e2b\",\"type\":\"ColumnDataSource\"},{\"attributes\":{\"data_source\":{\"id\":\"d224309a-09e8-4a69-9aa4-d3249263ae34\",\"type\":\"ColumnDataSource\"},\"glyph\":{\"id\":\"f7aa119d-52f8-47bc-bfb5-9e859f9891b6\",\"type\":\"Rect\"},\"hover_glyph\":null,\"nonselection_glyph\":null,\"selection_glyph\":null},\"id\":\"4c3c929e-43f5-42e1-bb23-72ed099c2c86\",\"type\":\"GlyphRenderer\"},{\"attributes\":{\"fill_alpha\":{\"field\":\"fill_alpha\"},\"fill_color\":{\"field\":\"color\"},\"height\":{\"field\":\"height\",\"units\":\"data\"},\"line_color\":{\"field\":\"line_color\"},\"width\":{\"field\":\"width\",\"units\":\"data\"},\"x\":{\"field\":\"x\"},\"y\":{\"field\":\"y\"}},\"id\":\"dac6a0d6-7597-422d-b5c7-c53604b71d75\",\"type\":\"Rect\"},{\"attributes\":{\"fill_alpha\":{\"field\":\"fill_alpha\"},\"fill_color\":{\"field\":\"color\"},\"height\":{\"field\":\"height\",\"units\":\"data\"},\"line_color\":{\"field\":\"line_color\"},\"width\":{\"field\":\"width\",\"units\":\"data\"},\"x\":{\"field\":\"x\"},\"y\":{\"field\":\"y\"}},\"id\":\"c5a2616e-9f6c-40bc-8ed4-56f625637a6c\",\"type\":\"Rect\"},{\"attributes\":{\"callback\":null,\"column_names\":[\"line_alpha\",\"color\",\"height\",\"y\",\"label\",\"fill_alpha\",\"x\",\"width\",\"line_color\"],\"data\":{\"chart_index\":[{\"state\":\"46 Arizona\"}],\"color\":[\"#f22c40\"],\"fill_alpha\":[0.8],\"height\":[-0.7894736842105263],\"label\":[{\"state\":\"46 Arizona\"}],\"line_alpha\":[1.0],\"line_color\":[\"white\"],\"state\":[\"46 Arizona\"],\"width\":[0.8],\"x\":[\"46 Arizona\"],\"y\":[-0.39473684210526316]}},\"id\":\"5dda2b35-70b6-4f8e-b276-fc7e93bb935d\",\"type\":\"ColumnDataSource\"},{\"attributes\":{\"callback\":null,\"column_names\":[\"line_alpha\",\"color\",\"height\",\"y\",\"label\",\"fill_alpha\",\"x\",\"width\",\"line_color\"],\"data\":{\"chart_index\":[{\"state\":\"08 North Dakota\"}],\"color\":[\"#f22c40\"],\"fill_alpha\":[0.8],\"height\":[1.6666666666666667],\"label\":[{\"state\":\"08 North Dakota\"}],\"line_alpha\":[1.0],\"line_color\":[\"white\"],\"state\":[\"08 North Dakota\"],\"width\":[0.8],\"x\":[\"08 North Dakota\"],\"y\":[0.8333333333333334]}},\"id\":\"768d6805-4b16-482f-a7b7-e6151b5b88d3\",\"type\":\"ColumnDataSource\"},{\"attributes\":{\"callback\":null,\"column_names\":[\"line_alpha\",\"color\",\"height\",\"y\",\"label\",\"fill_alpha\",\"x\",\"width\",\"line_color\"],\"data\":{\"chart_index\":[{\"state\":\"30 Idaho\"}],\"color\":[\"#f22c40\"],\"fill_alpha\":[0.8],\"height\":[0.3333333333333333],\"label\":[{\"state\":\"30 Idaho\"}],\"line_alpha\":[1.0],\"line_color\":[\"white\"],\"state\":[\"30 Idaho\"],\"width\":[0.8],\"x\":[\"30 Idaho\"],\"y\":[0.16666666666666666]}},\"id\":\"4abddc5a-ea12-4b37-8f4f-c763fb16dc0e\",\"type\":\"ColumnDataSource\"},{\"attributes\":{\"callback\":null,\"column_names\":[\"line_alpha\",\"color\",\"height\",\"y\",\"label\",\"fill_alpha\",\"x\",\"width\",\"line_color\"],\"data\":{\"chart_index\":[{\"state\":\"42 Georgia\"}],\"color\":[\"#f22c40\"],\"fill_alpha\":[0.8],\"height\":[-0.125],\"label\":[{\"state\":\"42 Georgia\"}],\"line_alpha\":[1.0],\"line_color\":[\"white\"],\"state\":[\"42 Georgia\"],\"width\":[0.8],\"x\":[\"42 Georgia\"],\"y\":[-0.0625]}},\"id\":\"3cd1c877-c6c1-4961-9651-9b265e285f0f\",\"type\":\"ColumnDataSource\"},{\"attributes\":{\"fill_alpha\":{\"field\":\"fill_alpha\"},\"fill_color\":{\"field\":\"color\"},\"height\":{\"field\":\"height\",\"units\":\"data\"},\"line_color\":{\"field\":\"line_color\"},\"width\":{\"field\":\"width\",\"units\":\"data\"},\"x\":{\"field\":\"x\"},\"y\":{\"field\":\"y\"}},\"id\":\"a023a038-396c-4586-ae64-85bdc0f1fc57\",\"type\":\"Rect\"},{\"attributes\":{\"data_source\":{\"id\":\"7df748ab-73f3-47a1-97c4-c0a150ce0a49\",\"type\":\"ColumnDataSource\"},\"glyph\":{\"id\":\"712408b5-3c39-4f78-9a0d-df139762c812\",\"type\":\"Rect\"},\"hover_glyph\":null,\"nonselection_glyph\":null,\"selection_glyph\":null},\"id\":\"f4e50812-6f70-4f67-a1f6-9919f236e8c4\",\"type\":\"GlyphRenderer\"},{\"attributes\":{\"fill_alpha\":{\"field\":\"fill_alpha\"},\"fill_color\":{\"field\":\"color\"},\"height\":{\"field\":\"height\",\"units\":\"data\"},\"line_color\":{\"field\":\"line_color\"},\"width\":{\"field\":\"width\",\"units\":\"data\"},\"x\":{\"field\":\"x\"},\"y\":{\"field\":\"y\"}},\"id\":\"d70241bc-8e28-4a55-b24d-755e561804ce\",\"type\":\"Rect\"},{\"attributes\":{\"fill_alpha\":{\"field\":\"fill_alpha\"},\"fill_color\":{\"field\":\"color\"},\"height\":{\"field\":\"height\",\"units\":\"data\"},\"line_color\":{\"field\":\"line_color\"},\"width\":{\"field\":\"width\",\"units\":\"data\"},\"x\":{\"field\":\"x\"},\"y\":{\"field\":\"y\"}},\"id\":\"7a5b8b60-28a2-411f-bc03-fb79783cfeb0\",\"type\":\"Rect\"},{\"attributes\":{\"data_source\":{\"id\":\"f0ae0194-5f73-420a-9fe4-8dbcf02b83f4\",\"type\":\"ColumnDataSource\"},\"glyph\":{\"id\":\"39f84433-0ba6-48f2-b4f2-9f63541d6954\",\"type\":\"Rect\"},\"hover_glyph\":null,\"nonselection_glyph\":null,\"selection_glyph\":null},\"id\":\"3765cec1-b60f-4804-8500-8201e3527270\",\"type\":\"GlyphRenderer\"},{\"attributes\":{\"data_source\":{\"id\":\"7bc4729e-b978-4679-b41f-4e411045c21b\",\"type\":\"ColumnDataSource\"},\"glyph\":{\"id\":\"3c15ec57-4b83-4023-b12d-29e3a08749bb\",\"type\":\"Rect\"},\"hover_glyph\":null,\"nonselection_glyph\":null,\"selection_glyph\":null},\"id\":\"2a4666ab-c9bb-4ca0-b7a8-327192cf8a5e\",\"type\":\"GlyphRenderer\"},{\"attributes\":{\"active_drag\":\"auto\",\"active_scroll\":\"auto\",\"active_tap\":\"auto\",\"tools\":[{\"id\":\"e10f3bcd-ec87-4fc8-9113-82381608f97b\",\"type\":\"PanTool\"},{\"id\":\"8010c451-6ae3-482a-b28d-55d1484945db\",\"type\":\"WheelZoomTool\"},{\"id\":\"4d155a25-4743-47e5-8352-7a0374d86eeb\",\"type\":\"BoxZoomTool\"},{\"id\":\"a7810df6-e765-4ea1-97ed-b7f3f18eaa69\",\"type\":\"SaveTool\"},{\"id\":\"206cb0d0-8e77-4f2e-bda4-42105b58e3ee\",\"type\":\"ResetTool\"},{\"id\":\"fe97d892-186c-4b43-9609-3cdc8b7e240e\",\"type\":\"HelpTool\"}]},\"id\":\"8d5188d0-adf4-4282-8f59-71fdc68b26d7\",\"type\":\"Toolbar\"},{\"attributes\":{\"data_source\":{\"id\":\"9c778267-e677-4839-99de-9da9e5243348\",\"type\":\"ColumnDataSource\"},\"glyph\":{\"id\":\"01b25981-e412-4644-bf87-5a5bcdea9604\",\"type\":\"Rect\"},\"hover_glyph\":null,\"nonselection_glyph\":null,\"selection_glyph\":null},\"id\":\"b12c375d-d29c-4777-bdc7-573235312b4b\",\"type\":\"GlyphRenderer\"},{\"attributes\":{\"fill_alpha\":{\"field\":\"fill_alpha\"},\"fill_color\":{\"field\":\"color\"},\"height\":{\"field\":\"height\",\"units\":\"data\"},\"line_color\":{\"field\":\"line_color\"},\"width\":{\"field\":\"width\",\"units\":\"data\"},\"x\":{\"field\":\"x\"},\"y\":{\"field\":\"y\"}},\"id\":\"4dcc5e6e-37a9-41e4-acae-47d099e74853\",\"type\":\"Rect\"},{\"attributes\":{\"callback\":null,\"column_names\":[\"line_alpha\",\"color\",\"height\",\"y\",\"label\",\"fill_alpha\",\"x\",\"width\",\"line_color\"],\"data\":{\"chart_index\":[{\"state\":\"28 California\"}],\"color\":[\"#f22c40\"],\"fill_alpha\":[0.8],\"height\":[0.4358974358974359],\"label\":[{\"state\":\"28 California\"}],\"line_alpha\":[1.0],\"line_color\":[\"white\"],\"state\":[\"28 California\"],\"width\":[0.8],\"x\":[\"28 California\"],\"y\":[0.21794871794871795]}},\"id\":\"47845d0e-f369-44b1-9402-0472db1df2b2\",\"type\":\"ColumnDataSource\"}],\"root_ids\":[\"62ae41d3-03d9-4477-bd8b-b71e235e52cd\"]},\"title\":\"Bokeh Application\",\"version\":\"0.12.0\"}};\n",
       "            var render_items = [{\"docid\":\"886ec602-f27a-49f8-92b6-18d6aeeec220\",\"elementid\":\"bf5cadbe-d33a-4b7f-a496-d3cc3da05432\",\"modelid\":\"62ae41d3-03d9-4477-bd8b-b71e235e52cd\",\"notebook_comms_target\":\"7fe92d8d-8139-44a4-8517-645af019a2e9\"}];\n",
       "            \n",
       "            Bokeh.embed.embed_items(docs_json, render_items);\n",
       "        });\n",
       "      },\n",
       "      function(Bokeh) {\n",
       "      }\n",
       "    ];\n",
       "  \n",
       "    function run_inline_js() {\n",
       "      for (var i = 0; i < inline_js.length; i++) {\n",
       "        inline_js[i](window.Bokeh);\n",
       "      }\n",
       "    }\n",
       "  \n",
       "    if (window._bokeh_is_loading === 0) {\n",
       "      console.log(\"Bokeh: BokehJS loaded, going straight to plotting\");\n",
       "      run_inline_js();\n",
       "    } else {\n",
       "      load_libs(js_urls, function() {\n",
       "        console.log(\"Bokeh: BokehJS plotting callback run at\", now());\n",
       "        run_inline_js();\n",
       "      });\n",
       "    }\n",
       "  }(this));\n",
       "</script>"
      ]
     },
     "metadata": {},
     "output_type": "display_data"
    }
   ],
   "source": [
    "happiness = initialize_dictionary(states_dictionary)\n",
    "for each_state in happiness:\n",
    "    if number_twitts_by_state[each_state] == 0:\n",
    "        happiness[each_state] = 0\n",
    "    else:     \n",
    "        happiness[each_state] = happiness_by_state[each_state] / number_twitts_by_state[each_state]\n",
    "\n",
    "states_sorted = []\n",
    "happiness_sorted = []\n",
    "i = 1\n",
    "for k in sorted(happiness, key=happiness.get, reverse=True):\n",
    "    if i < 10:\n",
    "        states_sorted.append('0' + str(i) + \" \" + states_by_code[k])\n",
    "    else:\n",
    "        states_sorted.append(str(i) + \" \" + states_by_code[k])\n",
    "    happiness_sorted.append(happiness[k])\n",
    "    i+=1\n",
    "    \n",
    "plot_happiness('Happiness of twitter users in USA by states', {\n",
    "    'state': states_sorted,\n",
    "    'happiness': happiness_sorted\n",
    "}, 'happiness', 'state')"
   ]
  },
  {
   "cell_type": "markdown",
   "metadata": {},
   "source": [
    "\n",
    "\n",
    "***\n",
    "\n",
    "\n",
    "### 6. Conclusions and observations ###\n",
    "\n",
    "The porpouse of this work is to practice with python and it is not intented to actually analyze the happiness of the USA users of twitter. This analysis is not valid because the sample is too small and it is not uniformly distributed through the different states because some states are sampled in different hours."
   ]
  }
 ],
 "metadata": {
  "anaconda-cloud": {},
  "kernelspec": {
   "display_name": "Python [Root]",
   "language": "python",
   "name": "Python [Root]"
  },
  "language_info": {
   "codemirror_mode": {
    "name": "ipython",
    "version": 3
   },
   "file_extension": ".py",
   "mimetype": "text/x-python",
   "name": "python",
   "nbconvert_exporter": "python",
   "pygments_lexer": "ipython3",
   "version": "3.5.2"
  },
  "nbpresent": {
   "slides": {
    "1b34e7f1-4f77-4bfe-971e-ecc3635d6e13": {
     "id": "1b34e7f1-4f77-4bfe-971e-ecc3635d6e13",
     "prev": null,
     "regions": {
      "741da302-e7da-4e37-a87f-eac4122921c8": {
       "attrs": {
        "height": 0.8,
        "width": 0.8,
        "x": 0.1,
        "y": 0.1
       },
       "content": {
        "cell": "6c10e8af-33e7-4c50-ba43-497b008f4f08",
        "part": "whole"
       },
       "id": "741da302-e7da-4e37-a87f-eac4122921c8"
      }
     }
    },
    "1c5f526e-f1ef-4694-8385-8eefb882f3dc": {
     "id": "1c5f526e-f1ef-4694-8385-8eefb882f3dc",
     "prev": "1b34e7f1-4f77-4bfe-971e-ecc3635d6e13",
     "regions": {
      "06d9a43f-00e6-4fe4-8591-d6978f3b771c": {
       "attrs": {
        "height": 0.8,
        "width": 0.8,
        "x": 0.1,
        "y": 0.1
       },
       "content": {
        "cell": "2bce6d5c-1cdf-4b34-a07f-48cedbb7ad89",
        "part": "whole"
       },
       "id": "06d9a43f-00e6-4fe4-8591-d6978f3b771c"
      }
     }
    },
    "53021ce6-3980-42ba-8e02-ef353318f006": {
     "id": "53021ce6-3980-42ba-8e02-ef353318f006",
     "prev": "1c5f526e-f1ef-4694-8385-8eefb882f3dc",
     "regions": {
      "908b0d7d-3210-4e64-98d5-1422f3aacf9e": {
       "attrs": {
        "height": 0.8,
        "width": 0.8,
        "x": 0.1,
        "y": 0.1
       },
       "content": {
        "cell": "c82dc840-9cbc-4af5-b97a-758bd12021ec",
        "part": "whole"
       },
       "id": "908b0d7d-3210-4e64-98d5-1422f3aacf9e"
      }
     }
    }
   },
   "themes": {}
  }
 },
 "nbformat": 4,
 "nbformat_minor": 0
}
