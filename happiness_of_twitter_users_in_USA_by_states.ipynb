{
 "cells": [
  {
   "cell_type": "markdown",
   "metadata": {
    "nbpresent": {
     "id": "6c10e8af-33e7-4c50-ba43-497b008f4f08"
    }
   },
   "source": [
    "\n",
    "                                              Python 3\n",
    "                                            23-09-2016\n",
    "Happiness of twitter users in USA by states\n",
    "============\n",
    "\n",
    "> Author: **Gabriel Piles González**\n",
    "\n",
    "\n",
    "***\n",
    "\n",
    "\n",
    "The porpouse of this notebook is to compare the happiness of the twitter users in the USA by states. The sample is obtain by the API of twitter. It is going to be follow the following points.\n",
    "\n",
    "1. Load files: states list and words ratings\n",
    "2. Helper functions\n",
    "3. Execute analysis\n",
    "4. Results: Numbers of twitts\n",
    "5. Results: Happiness of twitter users in USA by states\n",
    "6. Conclusions and observations\n",
    "\n",
    "\n",
    "***\n",
    "\n",
    "\n",
    "### 1. Load files: states list and words ratings ###"
   ]
  },
  {
   "cell_type": "code",
   "execution_count": 1,
   "metadata": {
    "collapsed": false
   },
   "outputs": [],
   "source": [
    "# To load the states from a file\n",
    "\n",
    "states_text = open('USA_states.txt', 'r')\n",
    "states_dictionary = {}\n",
    "for each_state_text in states_text:\n",
    "    tokens=each_state_text.split(\"\\t\")\n",
    "    states_dictionary[tokens[1]] = tokens[0]\n",
    "\n",
    "states_text = open('USA_states.txt', 'r')\n",
    "states_by_code = {}\n",
    "for each_state_text in states_text:\n",
    "    tokens=each_state_text.split(\"\\t\")\n",
    "    states_by_code[tokens[0]] = tokens[1]\n"
   ]
  },
  {
   "cell_type": "code",
   "execution_count": 2,
   "metadata": {
    "collapsed": false
   },
   "outputs": [
    {
     "name": "stdout",
     "output_type": "stream",
     "text": [
      "abandon -2\n",
      "abandoned -2\n",
      "abandons -2\n",
      "abducted -2\n",
      "abduction -2\n",
      "-3\n"
     ]
    }
   ],
   "source": [
    "# To load the word rating happiness\n",
    "\n",
    "words_ratings = open('AFINN-111.txt', 'r')\n",
    "words_ratings_dictionary = {}\n",
    "for each_rating in words_ratings:\n",
    "    tokens=each_rating.split(\"\\t\")\n",
    "    words_ratings_dictionary[tokens[0]] = int(tokens[1])\n",
    "\n",
    "for key in sorted(words_ratings_dictionary)[:5]:\n",
    "    print(key, str(words_ratings_dictionary[key]))\n",
    "print(words_ratings_dictionary[\"can't stand\"])"
   ]
  },
  {
   "cell_type": "markdown",
   "metadata": {},
   "source": [
    "\n",
    "\n",
    "***\n",
    "\n",
    "\n",
    "### 2. Helper functions ###\n",
    "\n",
    "It is going to be defined 6 functions in order to help to do the analysis.\n",
    "\n",
    "1. **initialize_dictionary:** for initiate a states dictionary\n",
    "2. **USA_twitt:** return true if it is a twitt from USA and false otherwise\n",
    "3. **get_state_of_USA:** return the state of the twitt passed as a parameter\n",
    "4. **twitt_evaluation:** return a number that reperesents the happiness of a twitt\n",
    "5. **plot_happiness:** create a bar chart\n",
    "6. **check_happiness:** this function loops through the lines of a file that contains twitts and store the number of twitts per state and the total happiness per state. It returns the number of twitts evaluated.\n"
   ]
  },
  {
   "cell_type": "code",
   "execution_count": 3,
   "metadata": {
    "collapsed": false
   },
   "outputs": [],
   "source": [
    "def initialize_dictionary(dictionary):\n",
    "    dictionary_out = {}\n",
    "    for each_key, each_value in dictionary.items():\n",
    "        dictionary_out[each_value] = 0\n",
    "    return dictionary_out"
   ]
  },
  {
   "cell_type": "code",
   "execution_count": 4,
   "metadata": {
    "collapsed": true
   },
   "outputs": [],
   "source": [
    "import json\n",
    "\n",
    "def USA_twitt(twitt):\n",
    "    place = twitt.get('place')\n",
    "    if not place:\n",
    "        return False\n",
    "    countrie_code = twitt.get('place').get('country_code')\n",
    "    if countrie_code == \"US\":\n",
    "        return True\n",
    "    return False\n"
   ]
  },
  {
   "cell_type": "code",
   "execution_count": 5,
   "metadata": {
    "collapsed": false
   },
   "outputs": [],
   "source": [
    "def get_state_of_USA(twitt):\n",
    "    place_full_text = twitt.get('place').get('full_name')\n",
    "    tokens = place_full_text.split(', ')\n",
    "    if len(tokens) < 2:\n",
    "        return None\n",
    "    if tokens[1] == \"USA\":\n",
    "        if tokens[0] in states_dictionary:\n",
    "            return states_dictionary[tokens[0]]\n",
    "        else:\n",
    "            return None\n",
    "    return tokens[1]"
   ]
  },
  {
   "cell_type": "code",
   "execution_count": 6,
   "metadata": {
    "collapsed": false
   },
   "outputs": [
    {
     "data": {
      "text/plain": [
       "-3"
      ]
     },
     "execution_count": 6,
     "metadata": {},
     "output_type": "execute_result"
    }
   ],
   "source": [
    "import re\n",
    "def twitt_evaluation(twitt_text):\n",
    "    rating = 0\n",
    "    words = twitt_text.split(' ')\n",
    "    for each_word in words:\n",
    "        clean_word = re.sub('\\W+','', each_word )\n",
    "        if clean_word in words_ratings_dictionary:\n",
    "            rating += words_ratings_dictionary[clean_word]\n",
    "    return rating\n",
    "twitt_evaluation('well! surprise bad man!!!')"
   ]
  },
  {
   "cell_type": "code",
   "execution_count": 7,
   "metadata": {
    "collapsed": true
   },
   "outputs": [],
   "source": [
    "from bokeh.charts import Bar, output_notebook, show\n",
    "\n",
    "def plot_bar_chart(name, data, values, labels):\n",
    "        # It is going to be plot in the notebook\n",
    "        output_notebook()\n",
    "\n",
    "        fig = Bar(data, values=values, label=labels, title=name, plot_width=900, legend=False)\n",
    "        \n",
    "        show(fig)"
   ]
  },
  {
   "cell_type": "code",
   "execution_count": 8,
   "metadata": {
    "collapsed": true
   },
   "outputs": [],
   "source": [
    "import os.path\n",
    "\n",
    "def check_happiness(file, happiness_by_state, number_twitts_by_state):\n",
    "    twitts_data = open(file, 'r')\n",
    "    number_twitts=0\n",
    "    for each_twitt in twitts_data:\n",
    "        number_twitts+=1\n",
    "        twitt_json = json.loads(each_twitt)\n",
    "        if not USA_twitt(twitt_json):\n",
    "            continue\n",
    "        rating = twitt_evaluation(twitt_json.get('text'))\n",
    "        if rating == 0:\n",
    "            continue\n",
    "        state = get_state_of_USA(twitt_json)\n",
    "        if not state:\n",
    "            continue\n",
    "        if state in happiness_by_state:\n",
    "            happiness_by_state[state] += rating\n",
    "            number_twitts_by_state[state] +=1\n",
    "    return(number_twitts)"
   ]
  },
  {
   "cell_type": "markdown",
   "metadata": {},
   "source": [
    "\n",
    "***\n",
    "\n",
    "### 3. Execute analysis ###\n",
    "\n",
    "The next section loops through a set of files containing lines of twitts and evaluate each file"
   ]
  },
  {
   "cell_type": "code",
   "execution_count": 9,
   "metadata": {
    "collapsed": false,
    "nbpresent": {
     "id": "c82dc840-9cbc-4af5-b97a-758bd12021ec"
    }
   },
   "outputs": [],
   "source": [
    "happiness_by_state = initialize_dictionary(states_dictionary)\n",
    "number_twitts_by_state = initialize_dictionary(states_dictionary)\n",
    "\n",
    "number_twitts_evaluated = 0\n",
    "number_files = 0\n",
    "for i in range(209):\n",
    "    file_name = \"twitts_sample_\" + str(i)\n",
    "    if os.path.exists(file_name):\n",
    "        number_files += 1\n",
    "        number_twitts_evaluated += check_happiness(file_name, happiness_by_state, number_twitts_by_state)"
   ]
  },
  {
   "cell_type": "markdown",
   "metadata": {},
   "source": [
    "\n",
    "***\n",
    "\n",
    "### 4. Results: Numbers of twitts ###\n",
    "\n",
    "The results obtained are the following."
   ]
  },
  {
   "cell_type": "code",
   "execution_count": 10,
   "metadata": {
    "collapsed": false
   },
   "outputs": [
    {
     "name": "stdout",
     "output_type": "stream",
     "text": [
      "------------------------------------------------------------\n",
      "\n",
      "Number of twitts evaluated: 241941\n",
      "Number of twitts with valid information: 1107\n",
      "\n",
      "------------------------------------------------------------\n",
      "\n",
      "Percentage of valid twitts: 0.46%\n",
      "\n"
     ]
    },
    {
     "data": {
      "text/html": [
       "\n",
       "    <div class=\"bk-root\">\n",
       "        <a href=\"http://bokeh.pydata.org\" target=\"_blank\" class=\"bk-logo bk-logo-small bk-logo-notebook\"></a>\n",
       "        <span id=\"f99a1d64-edeb-4df2-832e-64c12e281090\">Loading BokehJS ...</span>\n",
       "    </div>"
      ]
     },
     "metadata": {},
     "output_type": "display_data"
    },
    {
     "data": {
      "application/javascript": [
       "\n",
       "(function(global) {\n",
       "  function now() {\n",
       "    return new Date();\n",
       "  }\n",
       "\n",
       "  if (typeof (window._bokeh_onload_callbacks) === \"undefined\") {\n",
       "    window._bokeh_onload_callbacks = [];\n",
       "  }\n",
       "\n",
       "  function run_callbacks() {\n",
       "    window._bokeh_onload_callbacks.forEach(function(callback) { callback() });\n",
       "    delete window._bokeh_onload_callbacks\n",
       "    console.info(\"Bokeh: all callbacks have finished\");\n",
       "  }\n",
       "\n",
       "  function load_libs(js_urls, callback) {\n",
       "    window._bokeh_onload_callbacks.push(callback);\n",
       "    if (window._bokeh_is_loading > 0) {\n",
       "      console.log(\"Bokeh: BokehJS is being loaded, scheduling callback at\", now());\n",
       "      return null;\n",
       "    }\n",
       "    if (js_urls == null || js_urls.length === 0) {\n",
       "      run_callbacks();\n",
       "      return null;\n",
       "    }\n",
       "    console.log(\"Bokeh: BokehJS not loaded, scheduling load and callback at\", now());\n",
       "    window._bokeh_is_loading = js_urls.length;\n",
       "    for (var i = 0; i < js_urls.length; i++) {\n",
       "      var url = js_urls[i];\n",
       "      var s = document.createElement('script');\n",
       "      s.src = url;\n",
       "      s.async = false;\n",
       "      s.onreadystatechange = s.onload = function() {\n",
       "        window._bokeh_is_loading--;\n",
       "        if (window._bokeh_is_loading === 0) {\n",
       "          console.log(\"Bokeh: all BokehJS libraries loaded\");\n",
       "          run_callbacks()\n",
       "        }\n",
       "      };\n",
       "      s.onerror = function() {\n",
       "        console.warn(\"failed to load library \" + url);\n",
       "      };\n",
       "      console.log(\"Bokeh: injecting script tag for BokehJS library: \", url);\n",
       "      document.getElementsByTagName(\"head\")[0].appendChild(s);\n",
       "    }\n",
       "  };\n",
       "\n",
       "  var js_urls = ['https://cdn.pydata.org/bokeh/release/bokeh-0.12.0.min.js', 'https://cdn.pydata.org/bokeh/release/bokeh-widgets-0.12.0.min.js', 'https://cdn.pydata.org/bokeh/release/bokeh-compiler-0.12.0.min.js'];\n",
       "\n",
       "  var inline_js = [\n",
       "    function(Bokeh) {\n",
       "      Bokeh.set_log_level(\"info\");\n",
       "    },\n",
       "    \n",
       "    function(Bokeh) {\n",
       "      Bokeh.$(\"#f99a1d64-edeb-4df2-832e-64c12e281090\").text(\"BokehJS successfully loaded\");\n",
       "    },\n",
       "    function(Bokeh) {\n",
       "      console.log(\"Bokeh: injecting CSS: https://cdn.pydata.org/bokeh/release/bokeh-0.12.0.min.css\");\n",
       "      Bokeh.embed.inject_css(\"https://cdn.pydata.org/bokeh/release/bokeh-0.12.0.min.css\");\n",
       "      console.log(\"Bokeh: injecting CSS: https://cdn.pydata.org/bokeh/release/bokeh-widgets-0.12.0.min.css\");\n",
       "      Bokeh.embed.inject_css(\"https://cdn.pydata.org/bokeh/release/bokeh-widgets-0.12.0.min.css\");\n",
       "    }\n",
       "  ];\n",
       "\n",
       "  function run_inline_js() {\n",
       "    for (var i = 0; i < inline_js.length; i++) {\n",
       "      inline_js[i](window.Bokeh);\n",
       "    }\n",
       "  }\n",
       "\n",
       "  if (window._bokeh_is_loading === 0) {\n",
       "    console.log(\"Bokeh: BokehJS loaded, going straight to plotting\");\n",
       "    run_inline_js();\n",
       "  } else {\n",
       "    load_libs(js_urls, function() {\n",
       "      console.log(\"Bokeh: BokehJS plotting callback run at\", now());\n",
       "      run_inline_js();\n",
       "    });\n",
       "  }\n",
       "}(this));"
      ]
     },
     "metadata": {},
     "output_type": "display_data"
    },
    {
     "data": {
      "text/html": [
       "\n",
       "\n",
       "    <div class=\"bk-root\">\n",
       "        <div class=\"plotdiv\" id=\"e72563f0-a437-4c3f-bc3b-947f99145bb5\"></div>\n",
       "    </div>\n",
       "<script type=\"text/javascript\">\n",
       "  \n",
       "  (function(global) {\n",
       "    function now() {\n",
       "      return new Date();\n",
       "    }\n",
       "  \n",
       "    if (typeof (window._bokeh_onload_callbacks) === \"undefined\") {\n",
       "      window._bokeh_onload_callbacks = [];\n",
       "    }\n",
       "  \n",
       "    function run_callbacks() {\n",
       "      window._bokeh_onload_callbacks.forEach(function(callback) { callback() });\n",
       "      delete window._bokeh_onload_callbacks\n",
       "      console.info(\"Bokeh: all callbacks have finished\");\n",
       "    }\n",
       "  \n",
       "    function load_libs(js_urls, callback) {\n",
       "      window._bokeh_onload_callbacks.push(callback);\n",
       "      if (window._bokeh_is_loading > 0) {\n",
       "        console.log(\"Bokeh: BokehJS is being loaded, scheduling callback at\", now());\n",
       "        return null;\n",
       "      }\n",
       "      if (js_urls == null || js_urls.length === 0) {\n",
       "        run_callbacks();\n",
       "        return null;\n",
       "      }\n",
       "      console.log(\"Bokeh: BokehJS not loaded, scheduling load and callback at\", now());\n",
       "      window._bokeh_is_loading = js_urls.length;\n",
       "      for (var i = 0; i < js_urls.length; i++) {\n",
       "        var url = js_urls[i];\n",
       "        var s = document.createElement('script');\n",
       "        s.src = url;\n",
       "        s.async = false;\n",
       "        s.onreadystatechange = s.onload = function() {\n",
       "          window._bokeh_is_loading--;\n",
       "          if (window._bokeh_is_loading === 0) {\n",
       "            console.log(\"Bokeh: all BokehJS libraries loaded\");\n",
       "            run_callbacks()\n",
       "          }\n",
       "        };\n",
       "        s.onerror = function() {\n",
       "          console.warn(\"failed to load library \" + url);\n",
       "        };\n",
       "        console.log(\"Bokeh: injecting script tag for BokehJS library: \", url);\n",
       "        document.getElementsByTagName(\"head\")[0].appendChild(s);\n",
       "      }\n",
       "    };var element = document.getElementById(\"e72563f0-a437-4c3f-bc3b-947f99145bb5\");\n",
       "    if (element == null) {\n",
       "      console.log(\"Bokeh: ERROR: autoload.js configured with elementid 'e72563f0-a437-4c3f-bc3b-947f99145bb5' but no matching script tag was found. \")\n",
       "      return false;\n",
       "    }\n",
       "  \n",
       "    var js_urls = [];\n",
       "  \n",
       "    var inline_js = [\n",
       "      function(Bokeh) {\n",
       "        Bokeh.$(function() {\n",
       "            var docs_json = {\"15eb0728-595b-4237-a0e7-ef938f2b3c8a\":{\"roots\":{\"references\":[{\"attributes\":{\"callback\":null,\"column_names\":[\"line_alpha\",\"line_color\",\"x\",\"label\",\"height\",\"fill_alpha\",\"y\",\"width\",\"color\"],\"data\":{\"chart_index\":[{\"labels\":\"Hawaii\"}],\"color\":[\"#f22c40\"],\"fill_alpha\":[0.8],\"height\":[5.0],\"label\":[{\"labels\":\"Hawaii\"}],\"labels\":[\"Hawaii\"],\"line_alpha\":[1.0],\"line_color\":[\"white\"],\"width\":[0.8],\"x\":[\"Hawaii\"],\"y\":[2.5]}},\"id\":\"ef28d54b-ed75-4bce-81fc-2be8cf2fdcbe\",\"type\":\"ColumnDataSource\"},{\"attributes\":{},\"id\":\"601ae597-31c0-4ac5-b6f0-a0e2427bc0e9\",\"type\":\"ToolEvents\"},{\"attributes\":{\"fill_alpha\":{\"field\":\"fill_alpha\"},\"fill_color\":{\"field\":\"color\"},\"height\":{\"field\":\"height\",\"units\":\"data\"},\"line_color\":{\"field\":\"line_color\"},\"width\":{\"field\":\"width\",\"units\":\"data\"},\"x\":{\"field\":\"x\"},\"y\":{\"field\":\"y\"}},\"id\":\"dcffb952-c918-4825-9f51-5c1867f671f4\",\"type\":\"Rect\"},{\"attributes\":{\"data_source\":{\"id\":\"409c80b1-2b5f-42ae-aa09-671844e801e4\",\"type\":\"ColumnDataSource\"},\"glyph\":{\"id\":\"7d835ea6-1f49-4a4c-9e55-3d8ce720f7b7\",\"type\":\"Rect\"},\"hover_glyph\":null,\"nonselection_glyph\":null,\"selection_glyph\":null},\"id\":\"80f916ad-8509-4fca-b5e0-cc97461b27de\",\"type\":\"GlyphRenderer\"},{\"attributes\":{\"fill_alpha\":{\"field\":\"fill_alpha\"},\"fill_color\":{\"field\":\"color\"},\"height\":{\"field\":\"height\",\"units\":\"data\"},\"line_color\":{\"field\":\"line_color\"},\"width\":{\"field\":\"width\",\"units\":\"data\"},\"x\":{\"field\":\"x\"},\"y\":{\"field\":\"y\"}},\"id\":\"c65f0bc4-c08c-400f-aa05-66ef2ce26d49\",\"type\":\"Rect\"},{\"attributes\":{\"callback\":null,\"column_names\":[\"line_alpha\",\"line_color\",\"x\",\"label\",\"height\",\"fill_alpha\",\"y\",\"width\",\"color\"],\"data\":{\"chart_index\":[{\"labels\":\"Oregon\"}],\"color\":[\"#f22c40\"],\"fill_alpha\":[0.8],\"height\":[11.0],\"label\":[{\"labels\":\"Oregon\"}],\"labels\":[\"Oregon\"],\"line_alpha\":[1.0],\"line_color\":[\"white\"],\"width\":[0.8],\"x\":[\"Oregon\"],\"y\":[5.5]}},\"id\":\"409c80b1-2b5f-42ae-aa09-671844e801e4\",\"type\":\"ColumnDataSource\"},{\"attributes\":{\"fill_alpha\":{\"field\":\"fill_alpha\"},\"fill_color\":{\"field\":\"color\"},\"height\":{\"field\":\"height\",\"units\":\"data\"},\"line_color\":{\"field\":\"line_color\"},\"width\":{\"field\":\"width\",\"units\":\"data\"},\"x\":{\"field\":\"x\"},\"y\":{\"field\":\"y\"}},\"id\":\"7d835ea6-1f49-4a4c-9e55-3d8ce720f7b7\",\"type\":\"Rect\"},{\"attributes\":{\"callback\":null,\"column_names\":[\"line_alpha\",\"line_color\",\"x\",\"label\",\"height\",\"fill_alpha\",\"y\",\"width\",\"color\"],\"data\":{\"chart_index\":[{\"labels\":\"Delaware\"}],\"color\":[\"#f22c40\"],\"fill_alpha\":[0.8],\"height\":[3.0],\"label\":[{\"labels\":\"Delaware\"}],\"labels\":[\"Delaware\"],\"line_alpha\":[1.0],\"line_color\":[\"white\"],\"width\":[0.8],\"x\":[\"Delaware\"],\"y\":[1.5]}},\"id\":\"76f6a970-6aab-4e52-9295-fd30d4f76848\",\"type\":\"ColumnDataSource\"},{\"attributes\":{\"data_source\":{\"id\":\"d1d0d168-495e-425a-ae7d-a543ff5fc4da\",\"type\":\"ColumnDataSource\"},\"glyph\":{\"id\":\"61df6110-725d-4e7f-80d3-e4b673d868e1\",\"type\":\"Rect\"},\"hover_glyph\":null,\"nonselection_glyph\":null,\"selection_glyph\":null},\"id\":\"059167dc-8e54-48df-b79e-e57ae7f98bc9\",\"type\":\"GlyphRenderer\"},{\"attributes\":{\"callback\":null,\"column_names\":[\"line_alpha\",\"line_color\",\"x\",\"label\",\"height\",\"fill_alpha\",\"y\",\"width\",\"color\"],\"data\":{\"chart_index\":[{\"labels\":\"Illinois\"}],\"color\":[\"#f22c40\"],\"fill_alpha\":[0.8],\"height\":[43.0],\"label\":[{\"labels\":\"Illinois\"}],\"labels\":[\"Illinois\"],\"line_alpha\":[1.0],\"line_color\":[\"white\"],\"width\":[0.8],\"x\":[\"Illinois\"],\"y\":[21.5]}},\"id\":\"1d3588b9-66ba-4cb6-a838-b239986cef3f\",\"type\":\"ColumnDataSource\"},{\"attributes\":{\"fill_alpha\":{\"field\":\"fill_alpha\"},\"fill_color\":{\"field\":\"color\"},\"height\":{\"field\":\"height\",\"units\":\"data\"},\"line_color\":{\"field\":\"line_color\"},\"width\":{\"field\":\"width\",\"units\":\"data\"},\"x\":{\"field\":\"x\"},\"y\":{\"field\":\"y\"}},\"id\":\"973ad15f-ad4b-44f8-8929-4e18759da0da\",\"type\":\"Rect\"},{\"attributes\":{\"callback\":null,\"column_names\":[\"line_alpha\",\"line_color\",\"x\",\"label\",\"height\",\"fill_alpha\",\"y\",\"width\",\"color\"],\"data\":{\"chart_index\":[{\"labels\":\"Minnesota\"}],\"color\":[\"#f22c40\"],\"fill_alpha\":[0.8],\"height\":[14.0],\"label\":[{\"labels\":\"Minnesota\"}],\"labels\":[\"Minnesota\"],\"line_alpha\":[1.0],\"line_color\":[\"white\"],\"width\":[0.8],\"x\":[\"Minnesota\"],\"y\":[7.0]}},\"id\":\"9a96fea4-0d57-4aed-9e7e-8d410eeb5933\",\"type\":\"ColumnDataSource\"},{\"attributes\":{\"data_source\":{\"id\":\"a797b124-d8b8-429a-a558-419a88b58b34\",\"type\":\"ColumnDataSource\"},\"glyph\":{\"id\":\"7fd67f39-e98f-4096-9f34-ff4d6f99c51f\",\"type\":\"Rect\"},\"hover_glyph\":null,\"nonselection_glyph\":null,\"selection_glyph\":null},\"id\":\"3fdcb136-daec-4adf-b6cc-3a5224237e3e\",\"type\":\"GlyphRenderer\"},{\"attributes\":{},\"id\":\"9bad8ddb-4339-45f5-93d6-b435dccea320\",\"type\":\"BasicTickFormatter\"},{\"attributes\":{\"active_drag\":\"auto\",\"active_scroll\":\"auto\",\"active_tap\":\"auto\",\"tools\":[{\"id\":\"5f55b822-bb06-4531-910e-0536e7d36b4e\",\"type\":\"PanTool\"},{\"id\":\"98b170e8-4850-43c5-b1a8-3fa8900afae8\",\"type\":\"WheelZoomTool\"},{\"id\":\"053c97b2-5aa5-4d37-a41c-d7c7b323cd34\",\"type\":\"BoxZoomTool\"},{\"id\":\"9d5aac92-2ae5-4ae9-a28f-2d3715789046\",\"type\":\"SaveTool\"},{\"id\":\"9b286360-85cf-4662-b572-ca84644c618b\",\"type\":\"ResetTool\"},{\"id\":\"d2301db5-3ed7-4335-9859-cd864556e089\",\"type\":\"HelpTool\"}]},\"id\":\"8c2d0aba-d868-47ad-a7b1-81ba058f183b\",\"type\":\"Toolbar\"},{\"attributes\":{\"data_source\":{\"id\":\"76f6a970-6aab-4e52-9295-fd30d4f76848\",\"type\":\"ColumnDataSource\"},\"glyph\":{\"id\":\"973ad15f-ad4b-44f8-8929-4e18759da0da\",\"type\":\"Rect\"},\"hover_glyph\":null,\"nonselection_glyph\":null,\"selection_glyph\":null},\"id\":\"868b2f60-e639-4809-ac9f-babcbaf95ef4\",\"type\":\"GlyphRenderer\"},{\"attributes\":{\"callback\":null,\"column_names\":[\"line_alpha\",\"line_color\",\"x\",\"label\",\"height\",\"fill_alpha\",\"y\",\"width\",\"color\"],\"data\":{\"chart_index\":[{\"labels\":\"Florida\"}],\"color\":[\"#f22c40\"],\"fill_alpha\":[0.8],\"height\":[72.0],\"label\":[{\"labels\":\"Florida\"}],\"labels\":[\"Florida\"],\"line_alpha\":[1.0],\"line_color\":[\"white\"],\"width\":[0.8],\"x\":[\"Florida\"],\"y\":[36.0]}},\"id\":\"b7151c17-ec62-4a25-988a-6ba5f7285767\",\"type\":\"ColumnDataSource\"},{\"attributes\":{\"axis_label\":\"Sum( Values )\",\"formatter\":{\"id\":\"9bad8ddb-4339-45f5-93d6-b435dccea320\",\"type\":\"BasicTickFormatter\"},\"plot\":{\"id\":\"87ae9e00-67fe-48e2-9328-57d751f6de34\",\"subtype\":\"Chart\",\"type\":\"Plot\"},\"ticker\":{\"id\":\"49ccdb24-fba8-4e82-a08c-fa3dc2aae9e9\",\"type\":\"BasicTicker\"}},\"id\":\"dde10cc1-b8ad-4845-a3ea-3f55d4fd0420\",\"type\":\"LinearAxis\"},{\"attributes\":{\"callback\":null,\"column_names\":[\"line_alpha\",\"line_color\",\"x\",\"label\",\"height\",\"fill_alpha\",\"y\",\"width\",\"color\"],\"data\":{\"chart_index\":[{\"labels\":\"Idaho\"}],\"color\":[\"#f22c40\"],\"fill_alpha\":[0.8],\"height\":[3.0],\"label\":[{\"labels\":\"Idaho\"}],\"labels\":[\"Idaho\"],\"line_alpha\":[1.0],\"line_color\":[\"white\"],\"width\":[0.8],\"x\":[\"Idaho\"],\"y\":[1.5]}},\"id\":\"a797b124-d8b8-429a-a558-419a88b58b34\",\"type\":\"ColumnDataSource\"},{\"attributes\":{\"fill_alpha\":{\"field\":\"fill_alpha\"},\"fill_color\":{\"field\":\"color\"},\"height\":{\"field\":\"height\",\"units\":\"data\"},\"line_color\":{\"field\":\"line_color\"},\"width\":{\"field\":\"width\",\"units\":\"data\"},\"x\":{\"field\":\"x\"},\"y\":{\"field\":\"y\"}},\"id\":\"bf86edb8-f4d4-4ece-a9c5-5bb958f9ebaa\",\"type\":\"Rect\"},{\"attributes\":{\"data_source\":{\"id\":\"d1e6169f-950b-459c-a9b5-3278121921df\",\"type\":\"ColumnDataSource\"},\"glyph\":{\"id\":\"c65f0bc4-c08c-400f-aa05-66ef2ce26d49\",\"type\":\"Rect\"},\"hover_glyph\":null,\"nonselection_glyph\":null,\"selection_glyph\":null},\"id\":\"52649c6c-0344-4128-b3d2-832753cef847\",\"type\":\"GlyphRenderer\"},{\"attributes\":{\"data_source\":{\"id\":\"aaadab17-72e7-4c6f-b296-60afed10d001\",\"type\":\"ColumnDataSource\"},\"glyph\":{\"id\":\"1a92b165-7ab5-4201-af95-cc60fcc5d79f\",\"type\":\"Rect\"},\"hover_glyph\":null,\"nonselection_glyph\":null,\"selection_glyph\":null},\"id\":\"f22525bc-754e-47dd-a014-c4e0ca405946\",\"type\":\"GlyphRenderer\"},{\"attributes\":{\"fill_alpha\":{\"field\":\"fill_alpha\"},\"fill_color\":{\"field\":\"color\"},\"height\":{\"field\":\"height\",\"units\":\"data\"},\"line_color\":{\"field\":\"line_color\"},\"width\":{\"field\":\"width\",\"units\":\"data\"},\"x\":{\"field\":\"x\"},\"y\":{\"field\":\"y\"}},\"id\":\"7708df87-3903-41ef-a9d1-6756655c8940\",\"type\":\"Rect\"},{\"attributes\":{\"data_source\":{\"id\":\"b7151c17-ec62-4a25-988a-6ba5f7285767\",\"type\":\"ColumnDataSource\"},\"glyph\":{\"id\":\"78520f99-18f6-4a0c-b1af-66fb35dd358b\",\"type\":\"Rect\"},\"hover_glyph\":null,\"nonselection_glyph\":null,\"selection_glyph\":null},\"id\":\"01baf3c4-f65c-4be7-a23d-198c1e86f33e\",\"type\":\"GlyphRenderer\"},{\"attributes\":{\"data_source\":{\"id\":\"0bf1554f-81c0-41b8-a184-97b145f63daf\",\"type\":\"ColumnDataSource\"},\"glyph\":{\"id\":\"97f3e0cd-8d36-40ff-a802-d60c3c000c0e\",\"type\":\"Rect\"},\"hover_glyph\":null,\"nonselection_glyph\":null,\"selection_glyph\":null},\"id\":\"7cb8ef72-631b-4590-8ca1-5f85da633cb5\",\"type\":\"GlyphRenderer\"},{\"attributes\":{\"data_source\":{\"id\":\"e0f15f89-84e1-4c0c-8b35-c5462dd87b7d\",\"type\":\"ColumnDataSource\"},\"glyph\":{\"id\":\"af382839-a518-4501-8c4d-92736620771a\",\"type\":\"Rect\"},\"hover_glyph\":null,\"nonselection_glyph\":null,\"selection_glyph\":null},\"id\":\"8a3c1369-965b-40d5-a111-929a269c1433\",\"type\":\"GlyphRenderer\"},{\"attributes\":{\"data_source\":{\"id\":\"17d0e13b-9dcb-4d7a-a9a7-67f427bafba6\",\"type\":\"ColumnDataSource\"},\"glyph\":{\"id\":\"1e4c0fcc-9c21-4cfa-912f-29eb670a58da\",\"type\":\"Rect\"},\"hover_glyph\":null,\"nonselection_glyph\":null,\"selection_glyph\":null},\"id\":\"2d975985-aa15-4b53-b412-214bf0f6f122\",\"type\":\"GlyphRenderer\"},{\"attributes\":{\"fill_alpha\":{\"field\":\"fill_alpha\"},\"fill_color\":{\"field\":\"color\"},\"height\":{\"field\":\"height\",\"units\":\"data\"},\"line_color\":{\"field\":\"line_color\"},\"width\":{\"field\":\"width\",\"units\":\"data\"},\"x\":{\"field\":\"x\"},\"y\":{\"field\":\"y\"}},\"id\":\"1e4c0fcc-9c21-4cfa-912f-29eb670a58da\",\"type\":\"Rect\"},{\"attributes\":{\"callback\":null,\"column_names\":[\"line_alpha\",\"line_color\",\"x\",\"label\",\"height\",\"fill_alpha\",\"y\",\"width\",\"color\"],\"data\":{\"chart_index\":[{\"labels\":\"New Mexico\"}],\"color\":[\"#f22c40\"],\"fill_alpha\":[0.8],\"height\":[5.0],\"label\":[{\"labels\":\"New Mexico\"}],\"labels\":[\"New Mexico\"],\"line_alpha\":[1.0],\"line_color\":[\"white\"],\"width\":[0.8],\"x\":[\"New Mexico\"],\"y\":[2.5]}},\"id\":\"d1d0d168-495e-425a-ae7d-a543ff5fc4da\",\"type\":\"ColumnDataSource\"},{\"attributes\":{\"fill_alpha\":{\"field\":\"fill_alpha\"},\"fill_color\":{\"field\":\"color\"},\"height\":{\"field\":\"height\",\"units\":\"data\"},\"line_color\":{\"field\":\"line_color\"},\"width\":{\"field\":\"width\",\"units\":\"data\"},\"x\":{\"field\":\"x\"},\"y\":{\"field\":\"y\"}},\"id\":\"78520f99-18f6-4a0c-b1af-66fb35dd358b\",\"type\":\"Rect\"},{\"attributes\":{\"fill_alpha\":{\"field\":\"fill_alpha\"},\"fill_color\":{\"field\":\"color\"},\"height\":{\"field\":\"height\",\"units\":\"data\"},\"line_color\":{\"field\":\"line_color\"},\"width\":{\"field\":\"width\",\"units\":\"data\"},\"x\":{\"field\":\"x\"},\"y\":{\"field\":\"y\"}},\"id\":\"97f3e0cd-8d36-40ff-a802-d60c3c000c0e\",\"type\":\"Rect\"},{\"attributes\":{\"callback\":null,\"column_names\":[\"line_alpha\",\"line_color\",\"x\",\"label\",\"height\",\"fill_alpha\",\"y\",\"width\",\"color\"],\"data\":{\"chart_index\":[{\"labels\":\"Wisconsin\"}],\"color\":[\"#f22c40\"],\"fill_alpha\":[0.8],\"height\":[15.0],\"label\":[{\"labels\":\"Wisconsin\"}],\"labels\":[\"Wisconsin\"],\"line_alpha\":[1.0],\"line_color\":[\"white\"],\"width\":[0.8],\"x\":[\"Wisconsin\"],\"y\":[7.5]}},\"id\":\"b5b2d5e7-d8f8-4c70-8f79-dc72638e6758\",\"type\":\"ColumnDataSource\"},{\"attributes\":{\"callback\":null,\"column_names\":[\"line_alpha\",\"line_color\",\"x\",\"label\",\"height\",\"fill_alpha\",\"y\",\"width\",\"color\"],\"data\":{\"chart_index\":[{\"labels\":\"South Carolina\"}],\"color\":[\"#f22c40\"],\"fill_alpha\":[0.8],\"height\":[13.0],\"label\":[{\"labels\":\"South Carolina\"}],\"labels\":[\"South Carolina\"],\"line_alpha\":[1.0],\"line_color\":[\"white\"],\"width\":[0.8],\"x\":[\"South Carolina\"],\"y\":[6.5]}},\"id\":\"dc5de982-d490-4d72-b904-6e1e45818c91\",\"type\":\"ColumnDataSource\"},{\"attributes\":{\"fill_alpha\":{\"field\":\"fill_alpha\"},\"fill_color\":{\"field\":\"color\"},\"height\":{\"field\":\"height\",\"units\":\"data\"},\"line_color\":{\"field\":\"line_color\"},\"width\":{\"field\":\"width\",\"units\":\"data\"},\"x\":{\"field\":\"x\"},\"y\":{\"field\":\"y\"}},\"id\":\"8ff5bfb9-bd79-4c00-9cd3-f9a02d3b1c25\",\"type\":\"Rect\"},{\"attributes\":{\"fill_alpha\":{\"field\":\"fill_alpha\"},\"fill_color\":{\"field\":\"color\"},\"height\":{\"field\":\"height\",\"units\":\"data\"},\"line_color\":{\"field\":\"line_color\"},\"width\":{\"field\":\"width\",\"units\":\"data\"},\"x\":{\"field\":\"x\"},\"y\":{\"field\":\"y\"}},\"id\":\"8f78185e-3ce4-40a3-b313-6faea185e428\",\"type\":\"Rect\"},{\"attributes\":{\"data_source\":{\"id\":\"310ecc1b-c8ed-457a-b0ee-12cc6ab38cc4\",\"type\":\"ColumnDataSource\"},\"glyph\":{\"id\":\"0f360c77-d3c2-44e1-a8f0-820dc41ab126\",\"type\":\"Rect\"},\"hover_glyph\":null,\"nonselection_glyph\":null,\"selection_glyph\":null},\"id\":\"826893ee-c6eb-4d01-9f24-5509a30bfc7c\",\"type\":\"GlyphRenderer\"},{\"attributes\":{\"data_source\":{\"id\":\"1d3588b9-66ba-4cb6-a838-b239986cef3f\",\"type\":\"ColumnDataSource\"},\"glyph\":{\"id\":\"2d3674b8-0a38-423f-b4a4-3edacbd8a3b7\",\"type\":\"Rect\"},\"hover_glyph\":null,\"nonselection_glyph\":null,\"selection_glyph\":null},\"id\":\"5d3fc449-9163-42a2-b175-cd2bebec1f36\",\"type\":\"GlyphRenderer\"},{\"attributes\":{\"fill_alpha\":{\"field\":\"fill_alpha\"},\"fill_color\":{\"field\":\"color\"},\"height\":{\"field\":\"height\",\"units\":\"data\"},\"line_color\":{\"field\":\"line_color\"},\"width\":{\"field\":\"width\",\"units\":\"data\"},\"x\":{\"field\":\"x\"},\"y\":{\"field\":\"y\"}},\"id\":\"87e38c02-96f3-4bc0-8159-ef6e2b151ab1\",\"type\":\"Rect\"},{\"attributes\":{\"fill_alpha\":{\"field\":\"fill_alpha\"},\"fill_color\":{\"field\":\"color\"},\"height\":{\"field\":\"height\",\"units\":\"data\"},\"line_color\":{\"field\":\"line_color\"},\"width\":{\"field\":\"width\",\"units\":\"data\"},\"x\":{\"field\":\"x\"},\"y\":{\"field\":\"y\"}},\"id\":\"a9079bf5-74e5-4613-a91c-15fbb6b91dd2\",\"type\":\"Rect\"},{\"attributes\":{\"fill_alpha\":{\"field\":\"fill_alpha\"},\"fill_color\":{\"field\":\"color\"},\"height\":{\"field\":\"height\",\"units\":\"data\"},\"line_color\":{\"field\":\"line_color\"},\"width\":{\"field\":\"width\",\"units\":\"data\"},\"x\":{\"field\":\"x\"},\"y\":{\"field\":\"y\"}},\"id\":\"d03b6413-520c-44db-94b6-34ba8e883837\",\"type\":\"Rect\"},{\"attributes\":{\"data_source\":{\"id\":\"bba30a42-0a21-49f5-b819-a225f02654b8\",\"type\":\"ColumnDataSource\"},\"glyph\":{\"id\":\"e2f6cbc0-ab41-42a0-9958-3aac7d4319ca\",\"type\":\"Rect\"},\"hover_glyph\":null,\"nonselection_glyph\":null,\"selection_glyph\":null},\"id\":\"ba04f152-3948-4c69-9e48-975cb5d6af6e\",\"type\":\"GlyphRenderer\"},{\"attributes\":{\"callback\":null,\"column_names\":[\"line_alpha\",\"line_color\",\"x\",\"label\",\"height\",\"fill_alpha\",\"y\",\"width\",\"color\"],\"data\":{\"chart_index\":[{\"labels\":\"Maryland\"}],\"color\":[\"#f22c40\"],\"fill_alpha\":[0.8],\"height\":[28.0],\"label\":[{\"labels\":\"Maryland\"}],\"labels\":[\"Maryland\"],\"line_alpha\":[1.0],\"line_color\":[\"white\"],\"width\":[0.8],\"x\":[\"Maryland\"],\"y\":[14.0]}},\"id\":\"9b537eed-336d-4c74-b973-8c1133a62995\",\"type\":\"ColumnDataSource\"},{\"attributes\":{\"callback\":null,\"column_names\":[\"line_alpha\",\"line_color\",\"x\",\"label\",\"height\",\"fill_alpha\",\"y\",\"width\",\"color\"],\"data\":{\"chart_index\":[{\"labels\":\"Alaska\"}],\"color\":[\"#f22c40\"],\"fill_alpha\":[0.8],\"height\":[3.0],\"label\":[{\"labels\":\"Alaska\"}],\"labels\":[\"Alaska\"],\"line_alpha\":[1.0],\"line_color\":[\"white\"],\"width\":[0.8],\"x\":[\"Alaska\"],\"y\":[1.5]}},\"id\":\"475ec797-5364-4116-874d-bfc69a21f14b\",\"type\":\"ColumnDataSource\"},{\"attributes\":{\"axis_label\":\"Labels\",\"formatter\":{\"id\":\"8ba21033-8ef5-42a0-a345-90b55d46be6f\",\"type\":\"CategoricalTickFormatter\"},\"major_label_orientation\":0.7853981633974483,\"plot\":{\"id\":\"87ae9e00-67fe-48e2-9328-57d751f6de34\",\"subtype\":\"Chart\",\"type\":\"Plot\"},\"ticker\":{\"id\":\"28254152-23d7-44e5-93dd-58d11bd431a4\",\"type\":\"CategoricalTicker\"}},\"id\":\"a92c8cc5-1931-426b-b641-242fcbc48ac2\",\"type\":\"CategoricalAxis\"},{\"attributes\":{\"data_source\":{\"id\":\"4b313fe7-27d4-4df0-9828-5b2f16271ef3\",\"type\":\"ColumnDataSource\"},\"glyph\":{\"id\":\"92451095-65a8-4405-ac7a-980578737f97\",\"type\":\"Rect\"},\"hover_glyph\":null,\"nonselection_glyph\":null,\"selection_glyph\":null},\"id\":\"9cd35688-f9a9-43a6-9ff4-1db9d963c989\",\"type\":\"GlyphRenderer\"},{\"attributes\":{\"data_source\":{\"id\":\"e0bfa9a7-b143-4d7d-9441-a3af59f39179\",\"type\":\"ColumnDataSource\"},\"glyph\":{\"id\":\"87015ce0-e640-49f0-88c0-da0d0582d172\",\"type\":\"Rect\"},\"hover_glyph\":null,\"nonselection_glyph\":null,\"selection_glyph\":null},\"id\":\"91ec86f6-6e44-434b-ba5d-24a3a4d87300\",\"type\":\"GlyphRenderer\"},{\"attributes\":{\"plot\":{\"id\":\"87ae9e00-67fe-48e2-9328-57d751f6de34\",\"subtype\":\"Chart\",\"type\":\"Plot\"}},\"id\":\"5f55b822-bb06-4531-910e-0536e7d36b4e\",\"type\":\"PanTool\"},{\"attributes\":{\"fill_alpha\":{\"field\":\"fill_alpha\"},\"fill_color\":{\"field\":\"color\"},\"height\":{\"field\":\"height\",\"units\":\"data\"},\"line_color\":{\"field\":\"line_color\"},\"width\":{\"field\":\"width\",\"units\":\"data\"},\"x\":{\"field\":\"x\"},\"y\":{\"field\":\"y\"}},\"id\":\"2431c030-9fb3-481d-9071-5b5383a17377\",\"type\":\"Rect\"},{\"attributes\":{},\"id\":\"49ccdb24-fba8-4e82-a08c-fa3dc2aae9e9\",\"type\":\"BasicTicker\"},{\"attributes\":{\"data_source\":{\"id\":\"6ec305fd-798f-46e8-bae0-ed19db9e1a7c\",\"type\":\"ColumnDataSource\"},\"glyph\":{\"id\":\"775c479e-5b79-4b99-839f-c570b27786b4\",\"type\":\"Rect\"},\"hover_glyph\":null,\"nonselection_glyph\":null,\"selection_glyph\":null},\"id\":\"78dd1d63-8db3-43a6-9fd3-18c71cab46e3\",\"type\":\"GlyphRenderer\"},{\"attributes\":{\"callback\":null,\"column_names\":[\"line_alpha\",\"line_color\",\"x\",\"label\",\"height\",\"fill_alpha\",\"y\",\"width\",\"color\"],\"data\":{\"chart_index\":[{\"labels\":\"Missouri\"}],\"color\":[\"#f22c40\"],\"fill_alpha\":[0.8],\"height\":[17.0],\"label\":[{\"labels\":\"Missouri\"}],\"labels\":[\"Missouri\"],\"line_alpha\":[1.0],\"line_color\":[\"white\"],\"width\":[0.8],\"x\":[\"Missouri\"],\"y\":[8.5]}},\"id\":\"71893f6b-0b50-4be2-ad47-cf5fb13037e0\",\"type\":\"ColumnDataSource\"},{\"attributes\":{\"fill_alpha\":{\"field\":\"fill_alpha\"},\"fill_color\":{\"field\":\"color\"},\"height\":{\"field\":\"height\",\"units\":\"data\"},\"line_color\":{\"field\":\"line_color\"},\"width\":{\"field\":\"width\",\"units\":\"data\"},\"x\":{\"field\":\"x\"},\"y\":{\"field\":\"y\"}},\"id\":\"5b286d3d-97b6-41ef-9432-dcd5f82c82ee\",\"type\":\"Rect\"},{\"attributes\":{\"callback\":null,\"column_names\":[\"line_alpha\",\"line_color\",\"x\",\"label\",\"height\",\"fill_alpha\",\"y\",\"width\",\"color\"],\"data\":{\"chart_index\":[{\"labels\":\"Tennessee\"}],\"color\":[\"#f22c40\"],\"fill_alpha\":[0.8],\"height\":[23.0],\"label\":[{\"labels\":\"Tennessee\"}],\"labels\":[\"Tennessee\"],\"line_alpha\":[1.0],\"line_color\":[\"white\"],\"width\":[0.8],\"x\":[\"Tennessee\"],\"y\":[11.5]}},\"id\":\"f5327639-5ed6-4039-89a2-98e0d9ce6c3f\",\"type\":\"ColumnDataSource\"},{\"attributes\":{\"callback\":null,\"column_names\":[\"line_alpha\",\"line_color\",\"x\",\"label\",\"height\",\"fill_alpha\",\"y\",\"width\",\"color\"],\"data\":{\"chart_index\":[{\"labels\":\"Kentucky\"}],\"color\":[\"#f22c40\"],\"fill_alpha\":[0.8],\"height\":[19.0],\"label\":[{\"labels\":\"Kentucky\"}],\"labels\":[\"Kentucky\"],\"line_alpha\":[1.0],\"line_color\":[\"white\"],\"width\":[0.8],\"x\":[\"Kentucky\"],\"y\":[9.5]}},\"id\":\"ca57d56f-3923-4715-bdf5-a9d70ebb2b17\",\"type\":\"ColumnDataSource\"},{\"attributes\":{\"fill_alpha\":{\"field\":\"fill_alpha\"},\"fill_color\":{\"field\":\"color\"},\"height\":{\"field\":\"height\",\"units\":\"data\"},\"line_color\":{\"field\":\"line_color\"},\"width\":{\"field\":\"width\",\"units\":\"data\"},\"x\":{\"field\":\"x\"},\"y\":{\"field\":\"y\"}},\"id\":\"486b99c0-53ab-41be-a43b-29db56d0bdc1\",\"type\":\"Rect\"},{\"attributes\":{\"callback\":null,\"column_names\":[\"line_alpha\",\"line_color\",\"x\",\"label\",\"height\",\"fill_alpha\",\"y\",\"width\",\"color\"],\"data\":{\"chart_index\":[{\"labels\":\"Arizona\"}],\"color\":[\"#f22c40\"],\"fill_alpha\":[0.8],\"height\":[19.0],\"label\":[{\"labels\":\"Arizona\"}],\"labels\":[\"Arizona\"],\"line_alpha\":[1.0],\"line_color\":[\"white\"],\"width\":[0.8],\"x\":[\"Arizona\"],\"y\":[9.5]}},\"id\":\"17d0e13b-9dcb-4d7a-a9a7-67f427bafba6\",\"type\":\"ColumnDataSource\"},{\"attributes\":{\"data_source\":{\"id\":\"475ec797-5364-4116-874d-bfc69a21f14b\",\"type\":\"ColumnDataSource\"},\"glyph\":{\"id\":\"0c1daa03-b38a-4a88-8424-089b6331f665\",\"type\":\"Rect\"},\"hover_glyph\":null,\"nonselection_glyph\":null,\"selection_glyph\":null},\"id\":\"0c8f0288-b92d-4c30-8024-1d4cedfd7a8a\",\"type\":\"GlyphRenderer\"},{\"attributes\":{\"data_source\":{\"id\":\"4d824261-2c3e-4b54-a4ea-b100ca16327b\",\"type\":\"ColumnDataSource\"},\"glyph\":{\"id\":\"7708df87-3903-41ef-a9d1-6756655c8940\",\"type\":\"Rect\"},\"hover_glyph\":null,\"nonselection_glyph\":null,\"selection_glyph\":null},\"id\":\"6475c930-8246-4186-84e5-9a2fd64b422b\",\"type\":\"GlyphRenderer\"},{\"attributes\":{\"data_source\":{\"id\":\"c103e47d-8997-4d31-954c-3a3a4bddebde\",\"type\":\"ColumnDataSource\"},\"glyph\":{\"id\":\"46b4f4fa-714c-44fa-a032-9f5a79b379b3\",\"type\":\"Rect\"},\"hover_glyph\":null,\"nonselection_glyph\":null,\"selection_glyph\":null},\"id\":\"a9b1161b-da1a-4c92-ab85-d2876a749cff\",\"type\":\"GlyphRenderer\"},{\"attributes\":{\"data_source\":{\"id\":\"44bc2392-7ef8-49ca-a258-06600ca07948\",\"type\":\"ColumnDataSource\"},\"glyph\":{\"id\":\"463bb55f-30aa-468d-aad4-6ff37d3f642c\",\"type\":\"Rect\"},\"hover_glyph\":null,\"nonselection_glyph\":null,\"selection_glyph\":null},\"id\":\"9fd3526f-703c-4e8f-bfd8-06dcea571f62\",\"type\":\"GlyphRenderer\"},{\"attributes\":{\"data_source\":{\"id\":\"b891474d-3b1e-4ba9-8601-0f4a24769a92\",\"type\":\"ColumnDataSource\"},\"glyph\":{\"id\":\"d484e278-cb06-4939-a5ae-a8d16012b9ba\",\"type\":\"Rect\"},\"hover_glyph\":null,\"nonselection_glyph\":null,\"selection_glyph\":null},\"id\":\"b36eb1f7-4f82-4ffb-b5c0-87f46b4b5e8f\",\"type\":\"GlyphRenderer\"},{\"attributes\":{\"callback\":null,\"column_names\":[\"line_alpha\",\"line_color\",\"x\",\"label\",\"height\",\"fill_alpha\",\"y\",\"width\",\"color\"],\"data\":{\"chart_index\":[{\"labels\":\"Arkansas\"}],\"color\":[\"#f22c40\"],\"fill_alpha\":[0.8],\"height\":[6.0],\"label\":[{\"labels\":\"Arkansas\"}],\"labels\":[\"Arkansas\"],\"line_alpha\":[1.0],\"line_color\":[\"white\"],\"width\":[0.8],\"x\":[\"Arkansas\"],\"y\":[3.0]}},\"id\":\"c61c3af7-40b9-40ae-b014-9a97756bad17\",\"type\":\"ColumnDataSource\"},{\"attributes\":{\"fill_alpha\":{\"field\":\"fill_alpha\"},\"fill_color\":{\"field\":\"color\"},\"height\":{\"field\":\"height\",\"units\":\"data\"},\"line_color\":{\"field\":\"line_color\"},\"width\":{\"field\":\"width\",\"units\":\"data\"},\"x\":{\"field\":\"x\"},\"y\":{\"field\":\"y\"}},\"id\":\"961c4c69-63b8-43c4-ab77-7dc8e9b7afbf\",\"type\":\"Rect\"},{\"attributes\":{\"fill_alpha\":{\"field\":\"fill_alpha\"},\"fill_color\":{\"field\":\"color\"},\"height\":{\"field\":\"height\",\"units\":\"data\"},\"line_color\":{\"field\":\"line_color\"},\"width\":{\"field\":\"width\",\"units\":\"data\"},\"x\":{\"field\":\"x\"},\"y\":{\"field\":\"y\"}},\"id\":\"e2f6cbc0-ab41-42a0-9958-3aac7d4319ca\",\"type\":\"Rect\"},{\"attributes\":{\"data_source\":{\"id\":\"afea87f8-b11c-46a4-96e8-05564391afe2\",\"type\":\"ColumnDataSource\"},\"glyph\":{\"id\":\"97e42fc6-c158-47e9-802b-49734ad76fa6\",\"type\":\"Rect\"},\"hover_glyph\":null,\"nonselection_glyph\":null,\"selection_glyph\":null},\"id\":\"8fde5652-e1e9-4b55-a6d5-f173fba13f1b\",\"type\":\"GlyphRenderer\"},{\"attributes\":{\"callback\":null,\"column_names\":[\"line_alpha\",\"line_color\",\"x\",\"label\",\"height\",\"fill_alpha\",\"y\",\"width\",\"color\"],\"data\":{\"chart_index\":[{\"labels\":\"Kansas\"}],\"color\":[\"#f22c40\"],\"fill_alpha\":[0.8],\"height\":[11.0],\"label\":[{\"labels\":\"Kansas\"}],\"labels\":[\"Kansas\"],\"line_alpha\":[1.0],\"line_color\":[\"white\"],\"width\":[0.8],\"x\":[\"Kansas\"],\"y\":[5.5]}},\"id\":\"4d824261-2c3e-4b54-a4ea-b100ca16327b\",\"type\":\"ColumnDataSource\"},{\"attributes\":{\"plot\":null,\"text\":\"Number of valid twitts per state\"},\"id\":\"b08b0fca-25ac-4dc5-82bf-dbcbb4fdd99f\",\"type\":\"Title\"},{\"attributes\":{\"data_source\":{\"id\":\"71893f6b-0b50-4be2-ad47-cf5fb13037e0\",\"type\":\"ColumnDataSource\"},\"glyph\":{\"id\":\"36fd8a9a-f414-403c-8159-734709780343\",\"type\":\"Rect\"},\"hover_glyph\":null,\"nonselection_glyph\":null,\"selection_glyph\":null},\"id\":\"c8a983a9-f859-4e13-a3c5-1576ab79a5f1\",\"type\":\"GlyphRenderer\"},{\"attributes\":{\"callback\":null,\"column_names\":[\"line_alpha\",\"line_color\",\"x\",\"label\",\"height\",\"fill_alpha\",\"y\",\"width\",\"color\"],\"data\":{\"chart_index\":[{\"labels\":\"Iowa\"}],\"color\":[\"#f22c40\"],\"fill_alpha\":[0.8],\"height\":[7.0],\"label\":[{\"labels\":\"Iowa\"}],\"labels\":[\"Iowa\"],\"line_alpha\":[1.0],\"line_color\":[\"white\"],\"width\":[0.8],\"x\":[\"Iowa\"],\"y\":[3.5]}},\"id\":\"5d3d9325-a2f3-4f10-acca-3374f0d9bd69\",\"type\":\"ColumnDataSource\"},{\"attributes\":{\"data_source\":{\"id\":\"f5327639-5ed6-4039-89a2-98e0d9ce6c3f\",\"type\":\"ColumnDataSource\"},\"glyph\":{\"id\":\"385b86cc-5551-4407-815a-adce5fa141ff\",\"type\":\"Rect\"},\"hover_glyph\":null,\"nonselection_glyph\":null,\"selection_glyph\":null},\"id\":\"0285ad50-053a-4e59-ac38-92dd93e4f52d\",\"type\":\"GlyphRenderer\"},{\"attributes\":{\"data_source\":{\"id\":\"ca57d56f-3923-4715-bdf5-a9d70ebb2b17\",\"type\":\"ColumnDataSource\"},\"glyph\":{\"id\":\"87e38c02-96f3-4bc0-8159-ef6e2b151ab1\",\"type\":\"Rect\"},\"hover_glyph\":null,\"nonselection_glyph\":null,\"selection_glyph\":null},\"id\":\"3f5409d2-bef3-4cc0-9de4-b7163918eb00\",\"type\":\"GlyphRenderer\"},{\"attributes\":{\"callback\":null,\"column_names\":[\"line_alpha\",\"line_color\",\"x\",\"label\",\"height\",\"fill_alpha\",\"y\",\"width\",\"color\"],\"data\":{\"chart_index\":[{\"labels\":\"New Jersey\"}],\"color\":[\"#f22c40\"],\"fill_alpha\":[0.8],\"height\":[35.0],\"label\":[{\"labels\":\"New Jersey\"}],\"labels\":[\"New Jersey\"],\"line_alpha\":[1.0],\"line_color\":[\"white\"],\"width\":[0.8],\"x\":[\"New Jersey\"],\"y\":[17.5]}},\"id\":\"eeaa8629-de71-4c18-8133-94f762ec858d\",\"type\":\"ColumnDataSource\"},{\"attributes\":{\"data_source\":{\"id\":\"803db88e-3eb1-4b77-8172-c99dc8230828\",\"type\":\"ColumnDataSource\"},\"glyph\":{\"id\":\"d03b6413-520c-44db-94b6-34ba8e883837\",\"type\":\"Rect\"},\"hover_glyph\":null,\"nonselection_glyph\":null,\"selection_glyph\":null},\"id\":\"23d3cb67-0f00-4c5e-a4a6-86a3dcb987f0\",\"type\":\"GlyphRenderer\"},{\"attributes\":{\"callback\":null,\"column_names\":[\"line_alpha\",\"line_color\",\"x\",\"label\",\"height\",\"fill_alpha\",\"y\",\"width\",\"color\"],\"data\":{\"chart_index\":[{\"labels\":\"Ohio\"}],\"color\":[\"#f22c40\"],\"fill_alpha\":[0.8],\"height\":[58.0],\"label\":[{\"labels\":\"Ohio\"}],\"labels\":[\"Ohio\"],\"line_alpha\":[1.0],\"line_color\":[\"white\"],\"width\":[0.8],\"x\":[\"Ohio\"],\"y\":[29.0]}},\"id\":\"e9a826bd-6a69-4dbd-98d4-d209e746f917\",\"type\":\"ColumnDataSource\"},{\"attributes\":{\"fill_alpha\":{\"field\":\"fill_alpha\"},\"fill_color\":{\"field\":\"color\"},\"height\":{\"field\":\"height\",\"units\":\"data\"},\"line_color\":{\"field\":\"line_color\"},\"width\":{\"field\":\"width\",\"units\":\"data\"},\"x\":{\"field\":\"x\"},\"y\":{\"field\":\"y\"}},\"id\":\"2ded9e20-d2a6-4744-8c06-67507eeeb271\",\"type\":\"Rect\"},{\"attributes\":{\"data_source\":{\"id\":\"1cda6bf4-d14a-4133-9707-37bae140dd35\",\"type\":\"ColumnDataSource\"},\"glyph\":{\"id\":\"3b651695-349e-4e02-be83-3db1515d3b6a\",\"type\":\"Rect\"},\"hover_glyph\":null,\"nonselection_glyph\":null,\"selection_glyph\":null},\"id\":\"e085f0ed-c90e-42a1-8f84-7d0d509f5485\",\"type\":\"GlyphRenderer\"},{\"attributes\":{\"plot\":{\"id\":\"87ae9e00-67fe-48e2-9328-57d751f6de34\",\"subtype\":\"Chart\",\"type\":\"Plot\"}},\"id\":\"9d5aac92-2ae5-4ae9-a28f-2d3715789046\",\"type\":\"SaveTool\"},{\"attributes\":{\"bottom_units\":\"screen\",\"fill_alpha\":{\"value\":0.5},\"fill_color\":{\"value\":\"lightgrey\"},\"left_units\":\"screen\",\"level\":\"overlay\",\"line_alpha\":{\"value\":1.0},\"line_color\":{\"value\":\"black\"},\"line_dash\":[4,4],\"line_width\":{\"value\":2},\"plot\":null,\"render_mode\":\"css\",\"right_units\":\"screen\",\"top_units\":\"screen\"},\"id\":\"d9847160-2926-4146-ad02-c802717371d4\",\"type\":\"BoxAnnotation\"},{\"attributes\":{\"fill_alpha\":{\"field\":\"fill_alpha\"},\"fill_color\":{\"field\":\"color\"},\"height\":{\"field\":\"height\",\"units\":\"data\"},\"line_color\":{\"field\":\"line_color\"},\"width\":{\"field\":\"width\",\"units\":\"data\"},\"x\":{\"field\":\"x\"},\"y\":{\"field\":\"y\"}},\"id\":\"e6463bbc-7a3a-4b6f-a0e7-7517d10e01d0\",\"type\":\"Rect\"},{\"attributes\":{\"callback\":null,\"column_names\":[\"line_alpha\",\"line_color\",\"x\",\"label\",\"height\",\"fill_alpha\",\"y\",\"width\",\"color\"],\"data\":{\"chart_index\":[{\"labels\":\"Louisiana\"}],\"color\":[\"#f22c40\"],\"fill_alpha\":[0.8],\"height\":[29.0],\"label\":[{\"labels\":\"Louisiana\"}],\"labels\":[\"Louisiana\"],\"line_alpha\":[1.0],\"line_color\":[\"white\"],\"width\":[0.8],\"x\":[\"Louisiana\"],\"y\":[14.5]}},\"id\":\"e0f15f89-84e1-4c0c-8b35-c5462dd87b7d\",\"type\":\"ColumnDataSource\"},{\"attributes\":{\"fill_alpha\":{\"field\":\"fill_alpha\"},\"fill_color\":{\"field\":\"color\"},\"height\":{\"field\":\"height\",\"units\":\"data\"},\"line_color\":{\"field\":\"line_color\"},\"width\":{\"field\":\"width\",\"units\":\"data\"},\"x\":{\"field\":\"x\"},\"y\":{\"field\":\"y\"}},\"id\":\"1a92b165-7ab5-4201-af95-cc60fcc5d79f\",\"type\":\"Rect\"},{\"attributes\":{\"fill_alpha\":{\"field\":\"fill_alpha\"},\"fill_color\":{\"field\":\"color\"},\"height\":{\"field\":\"height\",\"units\":\"data\"},\"line_color\":{\"field\":\"line_color\"},\"width\":{\"field\":\"width\",\"units\":\"data\"},\"x\":{\"field\":\"x\"},\"y\":{\"field\":\"y\"}},\"id\":\"d484e278-cb06-4939-a5ae-a8d16012b9ba\",\"type\":\"Rect\"},{\"attributes\":{\"fill_alpha\":{\"field\":\"fill_alpha\"},\"fill_color\":{\"field\":\"color\"},\"height\":{\"field\":\"height\",\"units\":\"data\"},\"line_color\":{\"field\":\"line_color\"},\"width\":{\"field\":\"width\",\"units\":\"data\"},\"x\":{\"field\":\"x\"},\"y\":{\"field\":\"y\"}},\"id\":\"f878aa08-4b1e-449e-af8a-c35afa88970e\",\"type\":\"Rect\"},{\"attributes\":{\"fill_alpha\":{\"field\":\"fill_alpha\"},\"fill_color\":{\"field\":\"color\"},\"height\":{\"field\":\"height\",\"units\":\"data\"},\"line_color\":{\"field\":\"line_color\"},\"width\":{\"field\":\"width\",\"units\":\"data\"},\"x\":{\"field\":\"x\"},\"y\":{\"field\":\"y\"}},\"id\":\"36fd8a9a-f414-403c-8159-734709780343\",\"type\":\"Rect\"},{\"attributes\":{\"fill_alpha\":{\"field\":\"fill_alpha\"},\"fill_color\":{\"field\":\"color\"},\"height\":{\"field\":\"height\",\"units\":\"data\"},\"line_color\":{\"field\":\"line_color\"},\"width\":{\"field\":\"width\",\"units\":\"data\"},\"x\":{\"field\":\"x\"},\"y\":{\"field\":\"y\"}},\"id\":\"7fd67f39-e98f-4096-9f34-ff4d6f99c51f\",\"type\":\"Rect\"},{\"attributes\":{\"callback\":null,\"column_names\":[\"line_alpha\",\"line_color\",\"x\",\"label\",\"height\",\"fill_alpha\",\"y\",\"width\",\"color\"],\"data\":{\"chart_index\":[{\"labels\":\"New York\"}],\"color\":[\"#f22c40\"],\"fill_alpha\":[0.8],\"height\":[76.0],\"label\":[{\"labels\":\"New York\"}],\"labels\":[\"New York\"],\"line_alpha\":[1.0],\"line_color\":[\"white\"],\"width\":[0.8],\"x\":[\"New York\"],\"y\":[38.0]}},\"id\":\"07d055d6-56fe-451b-b314-10c5c0341ce7\",\"type\":\"ColumnDataSource\"},{\"attributes\":{\"callback\":null,\"column_names\":[\"line_alpha\",\"line_color\",\"x\",\"label\",\"height\",\"fill_alpha\",\"y\",\"width\",\"color\"],\"data\":{\"chart_index\":[{\"labels\":\"Michigan\"}],\"color\":[\"#f22c40\"],\"fill_alpha\":[0.8],\"height\":[32.0],\"label\":[{\"labels\":\"Michigan\"}],\"labels\":[\"Michigan\"],\"line_alpha\":[1.0],\"line_color\":[\"white\"],\"width\":[0.8],\"x\":[\"Michigan\"],\"y\":[16.0]}},\"id\":\"0e386e8c-328b-4cc4-bcb8-2f79f90197a3\",\"type\":\"ColumnDataSource\"},{\"attributes\":{\"data_source\":{\"id\":\"0f0eaa3d-0997-434e-bbe7-14e86e2f47cd\",\"type\":\"ColumnDataSource\"},\"glyph\":{\"id\":\"363f866f-8360-45ff-aac7-c9b7e2e2ac5f\",\"type\":\"Rect\"},\"hover_glyph\":null,\"nonselection_glyph\":null,\"selection_glyph\":null},\"id\":\"9350d548-5282-493c-a0df-7c6b571345cc\",\"type\":\"GlyphRenderer\"},{\"attributes\":{\"callback\":null,\"column_names\":[\"line_alpha\",\"line_color\",\"x\",\"label\",\"height\",\"fill_alpha\",\"y\",\"width\",\"color\"],\"data\":{\"chart_index\":[{\"labels\":\"North Carolina\"}],\"color\":[\"#f22c40\"],\"fill_alpha\":[0.8],\"height\":[35.0],\"label\":[{\"labels\":\"North Carolina\"}],\"labels\":[\"North Carolina\"],\"line_alpha\":[1.0],\"line_color\":[\"white\"],\"width\":[0.8],\"x\":[\"North Carolina\"],\"y\":[17.5]}},\"id\":\"55444662-ec09-4e10-9a98-7df7a87a0007\",\"type\":\"ColumnDataSource\"},{\"attributes\":{\"callback\":null,\"column_names\":[\"line_alpha\",\"line_color\",\"x\",\"label\",\"height\",\"fill_alpha\",\"y\",\"width\",\"color\"],\"data\":{\"chart_index\":[{\"labels\":\"Texas\"}],\"color\":[\"#f22c40\"],\"fill_alpha\":[0.8],\"height\":[119.0],\"label\":[{\"labels\":\"Texas\"}],\"labels\":[\"Texas\"],\"line_alpha\":[1.0],\"line_color\":[\"white\"],\"width\":[0.8],\"x\":[\"Texas\"],\"y\":[59.5]}},\"id\":\"ad2b61b9-39dd-49f9-9c2c-14b93c0f82eb\",\"type\":\"ColumnDataSource\"},{\"attributes\":{\"fill_alpha\":{\"field\":\"fill_alpha\"},\"fill_color\":{\"field\":\"color\"},\"height\":{\"field\":\"height\",\"units\":\"data\"},\"line_color\":{\"field\":\"line_color\"},\"width\":{\"field\":\"width\",\"units\":\"data\"},\"x\":{\"field\":\"x\"},\"y\":{\"field\":\"y\"}},\"id\":\"37dee0f2-7218-46e1-9973-1fd1ae18c86f\",\"type\":\"Rect\"},{\"attributes\":{\"data_source\":{\"id\":\"e9a826bd-6a69-4dbd-98d4-d209e746f917\",\"type\":\"ColumnDataSource\"},\"glyph\":{\"id\":\"37dee0f2-7218-46e1-9973-1fd1ae18c86f\",\"type\":\"Rect\"},\"hover_glyph\":null,\"nonselection_glyph\":null,\"selection_glyph\":null},\"id\":\"aef60c1c-c61a-498a-b11b-4831397c527c\",\"type\":\"GlyphRenderer\"},{\"attributes\":{\"callback\":null,\"column_names\":[\"line_alpha\",\"line_color\",\"x\",\"label\",\"height\",\"fill_alpha\",\"y\",\"width\",\"color\"],\"data\":{\"chart_index\":[{\"labels\":\"Utah\"}],\"color\":[\"#f22c40\"],\"fill_alpha\":[0.8],\"height\":[3.0],\"label\":[{\"labels\":\"Utah\"}],\"labels\":[\"Utah\"],\"line_alpha\":[1.0],\"line_color\":[\"white\"],\"width\":[0.8],\"x\":[\"Utah\"],\"y\":[1.5]}},\"id\":\"4b313fe7-27d4-4df0-9828-5b2f16271ef3\",\"type\":\"ColumnDataSource\"},{\"attributes\":{\"callback\":null,\"column_names\":[\"line_alpha\",\"line_color\",\"x\",\"label\",\"height\",\"fill_alpha\",\"y\",\"width\",\"color\"],\"data\":{\"chart_index\":[{\"labels\":\"Montana\"}],\"color\":[\"#f22c40\"],\"fill_alpha\":[0.8],\"height\":[3.0],\"label\":[{\"labels\":\"Montana\"}],\"labels\":[\"Montana\"],\"line_alpha\":[1.0],\"line_color\":[\"white\"],\"width\":[0.8],\"x\":[\"Montana\"],\"y\":[1.5]}},\"id\":\"803db88e-3eb1-4b77-8172-c99dc8230828\",\"type\":\"ColumnDataSource\"},{\"attributes\":{\"callback\":null,\"column_names\":[\"line_alpha\",\"line_color\",\"x\",\"label\",\"height\",\"fill_alpha\",\"y\",\"width\",\"color\"],\"data\":{\"chart_index\":[{\"labels\":\"Pennsylvania\"}],\"color\":[\"#f22c40\"],\"fill_alpha\":[0.8],\"height\":[41.0],\"label\":[{\"labels\":\"Pennsylvania\"}],\"labels\":[\"Pennsylvania\"],\"line_alpha\":[1.0],\"line_color\":[\"white\"],\"width\":[0.8],\"x\":[\"Pennsylvania\"],\"y\":[20.5]}},\"id\":\"d1e6169f-950b-459c-a9b5-3278121921df\",\"type\":\"ColumnDataSource\"},{\"attributes\":{\"callback\":null,\"column_names\":[\"line_alpha\",\"line_color\",\"x\",\"label\",\"height\",\"fill_alpha\",\"y\",\"width\",\"color\"],\"data\":{\"chart_index\":[{\"labels\":\"North Dakota\"}],\"color\":[\"#f22c40\"],\"fill_alpha\":[0.8],\"height\":[3.0],\"label\":[{\"labels\":\"North Dakota\"}],\"labels\":[\"North Dakota\"],\"line_alpha\":[1.0],\"line_color\":[\"white\"],\"width\":[0.8],\"x\":[\"North Dakota\"],\"y\":[1.5]}},\"id\":\"6ec305fd-798f-46e8-bae0-ed19db9e1a7c\",\"type\":\"ColumnDataSource\"},{\"attributes\":{\"fill_alpha\":{\"field\":\"fill_alpha\"},\"fill_color\":{\"field\":\"color\"},\"height\":{\"field\":\"height\",\"units\":\"data\"},\"line_color\":{\"field\":\"line_color\"},\"width\":{\"field\":\"width\",\"units\":\"data\"},\"x\":{\"field\":\"x\"},\"y\":{\"field\":\"y\"}},\"id\":\"af382839-a518-4501-8c4d-92736620771a\",\"type\":\"Rect\"},{\"attributes\":{\"callback\":null,\"column_names\":[\"line_alpha\",\"line_color\",\"x\",\"label\",\"height\",\"fill_alpha\",\"y\",\"width\",\"color\"],\"data\":{\"chart_index\":[{\"labels\":\"Nebraska\"}],\"color\":[\"#f22c40\"],\"fill_alpha\":[0.8],\"height\":[2.0],\"label\":[{\"labels\":\"Nebraska\"}],\"labels\":[\"Nebraska\"],\"line_alpha\":[1.0],\"line_color\":[\"white\"],\"width\":[0.8],\"x\":[\"Nebraska\"],\"y\":[1.0]}},\"id\":\"e0bfa9a7-b143-4d7d-9441-a3af59f39179\",\"type\":\"ColumnDataSource\"},{\"attributes\":{\"data_source\":{\"id\":\"85a38aa8-7c2d-42d3-a1ec-61b3b3ba825a\",\"type\":\"ColumnDataSource\"},\"glyph\":{\"id\":\"8ff5bfb9-bd79-4c00-9cd3-f9a02d3b1c25\",\"type\":\"Rect\"},\"hover_glyph\":null,\"nonselection_glyph\":null,\"selection_glyph\":null},\"id\":\"21203326-48c1-4f2d-9c68-0fb6b3e70812\",\"type\":\"GlyphRenderer\"},{\"attributes\":{\"fill_alpha\":{\"field\":\"fill_alpha\"},\"fill_color\":{\"field\":\"color\"},\"height\":{\"field\":\"height\",\"units\":\"data\"},\"line_color\":{\"field\":\"line_color\"},\"width\":{\"field\":\"width\",\"units\":\"data\"},\"x\":{\"field\":\"x\"},\"y\":{\"field\":\"y\"}},\"id\":\"385b86cc-5551-4407-815a-adce5fa141ff\",\"type\":\"Rect\"},{\"attributes\":{\"data_source\":{\"id\":\"de78546e-e211-4596-9774-fea523072aaf\",\"type\":\"ColumnDataSource\"},\"glyph\":{\"id\":\"7d8ed17a-0d6a-42d0-a794-d7618b2d8553\",\"type\":\"Rect\"},\"hover_glyph\":null,\"nonselection_glyph\":null,\"selection_glyph\":null},\"id\":\"e7a1e272-920e-418a-a85e-c421c058dc2b\",\"type\":\"GlyphRenderer\"},{\"attributes\":{\"fill_alpha\":{\"field\":\"fill_alpha\"},\"fill_color\":{\"field\":\"color\"},\"height\":{\"field\":\"height\",\"units\":\"data\"},\"line_color\":{\"field\":\"line_color\"},\"width\":{\"field\":\"width\",\"units\":\"data\"},\"x\":{\"field\":\"x\"},\"y\":{\"field\":\"y\"}},\"id\":\"ad063af0-0ce4-4a83-b767-58de4a92c067\",\"type\":\"Rect\"},{\"attributes\":{\"data_source\":{\"id\":\"9b537eed-336d-4c74-b973-8c1133a62995\",\"type\":\"ColumnDataSource\"},\"glyph\":{\"id\":\"7c0a5f0d-9c4c-4db8-9586-f2a628ef18cf\",\"type\":\"Rect\"},\"hover_glyph\":null,\"nonselection_glyph\":null,\"selection_glyph\":null},\"id\":\"cc4297dd-884a-43c4-8109-a64c7a5cabaa\",\"type\":\"GlyphRenderer\"},{\"attributes\":{\"fill_alpha\":{\"field\":\"fill_alpha\"},\"fill_color\":{\"field\":\"color\"},\"height\":{\"field\":\"height\",\"units\":\"data\"},\"line_color\":{\"field\":\"line_color\"},\"width\":{\"field\":\"width\",\"units\":\"data\"},\"x\":{\"field\":\"x\"},\"y\":{\"field\":\"y\"}},\"id\":\"87f20af7-961e-4fbb-8a32-558993a84881\",\"type\":\"Rect\"},{\"attributes\":{\"data_source\":{\"id\":\"43212100-05c6-445a-bac7-01f12ba900d6\",\"type\":\"ColumnDataSource\"},\"glyph\":{\"id\":\"a9079bf5-74e5-4613-a91c-15fbb6b91dd2\",\"type\":\"Rect\"},\"hover_glyph\":null,\"nonselection_glyph\":null,\"selection_glyph\":null},\"id\":\"a061362b-5ab4-418c-861c-92d65da723c1\",\"type\":\"GlyphRenderer\"},{\"attributes\":{\"fill_alpha\":{\"field\":\"fill_alpha\"},\"fill_color\":{\"field\":\"color\"},\"height\":{\"field\":\"height\",\"units\":\"data\"},\"line_color\":{\"field\":\"line_color\"},\"width\":{\"field\":\"width\",\"units\":\"data\"},\"x\":{\"field\":\"x\"},\"y\":{\"field\":\"y\"}},\"id\":\"30df3960-a500-40e0-91a9-52226ceb596c\",\"type\":\"Rect\"},{\"attributes\":{\"data_source\":{\"id\":\"f26b028b-f138-428d-aedc-eb152425aa23\",\"type\":\"ColumnDataSource\"},\"glyph\":{\"id\":\"ad063af0-0ce4-4a83-b767-58de4a92c067\",\"type\":\"Rect\"},\"hover_glyph\":null,\"nonselection_glyph\":null,\"selection_glyph\":null},\"id\":\"53dfc88a-c81a-4870-9b1d-0812b4c98fb9\",\"type\":\"GlyphRenderer\"},{\"attributes\":{\"callback\":null,\"column_names\":[\"line_alpha\",\"line_color\",\"x\",\"label\",\"height\",\"fill_alpha\",\"y\",\"width\",\"color\"],\"data\":{\"chart_index\":[{\"labels\":\"Connecticut\"}],\"color\":[\"#f22c40\"],\"fill_alpha\":[0.8],\"height\":[11.0],\"label\":[{\"labels\":\"Connecticut\"}],\"labels\":[\"Connecticut\"],\"line_alpha\":[1.0],\"line_color\":[\"white\"],\"width\":[0.8],\"x\":[\"Connecticut\"],\"y\":[5.5]}},\"id\":\"43212100-05c6-445a-bac7-01f12ba900d6\",\"type\":\"ColumnDataSource\"},{\"attributes\":{\"fill_alpha\":{\"field\":\"fill_alpha\"},\"fill_color\":{\"field\":\"color\"},\"height\":{\"field\":\"height\",\"units\":\"data\"},\"line_color\":{\"field\":\"line_color\"},\"width\":{\"field\":\"width\",\"units\":\"data\"},\"x\":{\"field\":\"x\"},\"y\":{\"field\":\"y\"}},\"id\":\"558e867b-fe58-49b5-9c40-500069426f4b\",\"type\":\"Rect\"},{\"attributes\":{\"callback\":null,\"column_names\":[\"line_alpha\",\"line_color\",\"x\",\"label\",\"height\",\"fill_alpha\",\"y\",\"width\",\"color\"],\"data\":{\"chart_index\":[{\"labels\":\"Rhode Island\"}],\"color\":[\"#f22c40\"],\"fill_alpha\":[0.8],\"height\":[3.0],\"label\":[{\"labels\":\"Rhode Island\"}],\"labels\":[\"Rhode Island\"],\"line_alpha\":[1.0],\"line_color\":[\"white\"],\"width\":[0.8],\"x\":[\"Rhode Island\"],\"y\":[1.5]}},\"id\":\"85a38aa8-7c2d-42d3-a1ec-61b3b3ba825a\",\"type\":\"ColumnDataSource\"},{\"attributes\":{\"fill_alpha\":{\"field\":\"fill_alpha\"},\"fill_color\":{\"field\":\"color\"},\"height\":{\"field\":\"height\",\"units\":\"data\"},\"line_color\":{\"field\":\"line_color\"},\"width\":{\"field\":\"width\",\"units\":\"data\"},\"x\":{\"field\":\"x\"},\"y\":{\"field\":\"y\"}},\"id\":\"0c1daa03-b38a-4a88-8424-089b6331f665\",\"type\":\"Rect\"},{\"attributes\":{\"callback\":null,\"column_names\":[\"line_alpha\",\"line_color\",\"x\",\"label\",\"height\",\"fill_alpha\",\"y\",\"width\",\"color\"],\"data\":{\"chart_index\":[{\"labels\":\"Mississippi\"}],\"color\":[\"#f22c40\"],\"fill_alpha\":[0.8],\"height\":[7.0],\"label\":[{\"labels\":\"Mississippi\"}],\"labels\":[\"Mississippi\"],\"line_alpha\":[1.0],\"line_color\":[\"white\"],\"width\":[0.8],\"x\":[\"Mississippi\"],\"y\":[3.5]}},\"id\":\"bba30a42-0a21-49f5-b819-a225f02654b8\",\"type\":\"ColumnDataSource\"},{\"attributes\":{\"callback\":null,\"column_names\":[\"line_alpha\",\"line_color\",\"x\",\"label\",\"height\",\"fill_alpha\",\"y\",\"width\",\"color\"],\"data\":{\"chart_index\":[{\"labels\":\"Massachusetts\"}],\"color\":[\"#f22c40\"],\"fill_alpha\":[0.8],\"height\":[32.0],\"label\":[{\"labels\":\"Massachusetts\"}],\"labels\":[\"Massachusetts\"],\"line_alpha\":[1.0],\"line_color\":[\"white\"],\"width\":[0.8],\"x\":[\"Massachusetts\"],\"y\":[16.0]}},\"id\":\"b891474d-3b1e-4ba9-8601-0f4a24769a92\",\"type\":\"ColumnDataSource\"},{\"attributes\":{\"plot\":{\"id\":\"87ae9e00-67fe-48e2-9328-57d751f6de34\",\"subtype\":\"Chart\",\"type\":\"Plot\"}},\"id\":\"9b286360-85cf-4662-b572-ca84644c618b\",\"type\":\"ResetTool\"},{\"attributes\":{\"data_source\":{\"id\":\"07d055d6-56fe-451b-b314-10c5c0341ce7\",\"type\":\"ColumnDataSource\"},\"glyph\":{\"id\":\"b2dd5cd2-eeb1-4597-bfd7-e92060d1eb27\",\"type\":\"Rect\"},\"hover_glyph\":null,\"nonselection_glyph\":null,\"selection_glyph\":null},\"id\":\"cf4e8ef8-6a3d-4141-8742-dd35ea9debf9\",\"type\":\"GlyphRenderer\"},{\"attributes\":{\"callback\":null,\"column_names\":[\"line_alpha\",\"line_color\",\"x\",\"label\",\"height\",\"fill_alpha\",\"y\",\"width\",\"color\"],\"data\":{\"chart_index\":[{\"labels\":\"Oklahoma\"}],\"color\":[\"#f22c40\"],\"fill_alpha\":[0.8],\"height\":[9.0],\"label\":[{\"labels\":\"Oklahoma\"}],\"labels\":[\"Oklahoma\"],\"line_alpha\":[1.0],\"line_color\":[\"white\"],\"width\":[0.8],\"x\":[\"Oklahoma\"],\"y\":[4.5]}},\"id\":\"c8aec699-a9af-4e18-ab0f-1b1b83338223\",\"type\":\"ColumnDataSource\"},{\"attributes\":{\"callback\":null,\"column_names\":[\"line_alpha\",\"line_color\",\"x\",\"label\",\"height\",\"fill_alpha\",\"y\",\"width\",\"color\"],\"data\":{\"chart_index\":[{\"labels\":\"Virginia\"}],\"color\":[\"#f22c40\"],\"fill_alpha\":[0.8],\"height\":[26.0],\"label\":[{\"labels\":\"Virginia\"}],\"labels\":[\"Virginia\"],\"line_alpha\":[1.0],\"line_color\":[\"white\"],\"width\":[0.8],\"x\":[\"Virginia\"],\"y\":[13.0]}},\"id\":\"0f0eaa3d-0997-434e-bbe7-14e86e2f47cd\",\"type\":\"ColumnDataSource\"},{\"attributes\":{\"data_source\":{\"id\":\"07a63706-7297-47bb-b217-1a3c555b88a6\",\"type\":\"ColumnDataSource\"},\"glyph\":{\"id\":\"dcffb952-c918-4825-9f51-5c1867f671f4\",\"type\":\"Rect\"},\"hover_glyph\":null,\"nonselection_glyph\":null,\"selection_glyph\":null},\"id\":\"0961990f-a6ab-42d1-bb38-426ae152dfb5\",\"type\":\"GlyphRenderer\"},{\"attributes\":{\"fill_alpha\":{\"field\":\"fill_alpha\"},\"fill_color\":{\"field\":\"color\"},\"height\":{\"field\":\"height\",\"units\":\"data\"},\"line_color\":{\"field\":\"line_color\"},\"width\":{\"field\":\"width\",\"units\":\"data\"},\"x\":{\"field\":\"x\"},\"y\":{\"field\":\"y\"}},\"id\":\"775c479e-5b79-4b99-839f-c570b27786b4\",\"type\":\"Rect\"},{\"attributes\":{\"data_source\":{\"id\":\"ef28d54b-ed75-4bce-81fc-2be8cf2fdcbe\",\"type\":\"ColumnDataSource\"},\"glyph\":{\"id\":\"30df3960-a500-40e0-91a9-52226ceb596c\",\"type\":\"Rect\"},\"hover_glyph\":null,\"nonselection_glyph\":null,\"selection_glyph\":null},\"id\":\"78bbd11a-4fc3-483f-8e89-eda55632c3f9\",\"type\":\"GlyphRenderer\"},{\"attributes\":{\"callback\":null,\"column_names\":[\"line_alpha\",\"line_color\",\"x\",\"label\",\"height\",\"fill_alpha\",\"y\",\"width\",\"color\"],\"data\":{\"chart_index\":[{\"labels\":\"New Hampshire\"}],\"color\":[\"#f22c40\"],\"fill_alpha\":[0.8],\"height\":[3.0],\"label\":[{\"labels\":\"New Hampshire\"}],\"labels\":[\"New Hampshire\"],\"line_alpha\":[1.0],\"line_color\":[\"white\"],\"width\":[0.8],\"x\":[\"New Hampshire\"],\"y\":[1.5]}},\"id\":\"44bc2392-7ef8-49ca-a258-06600ca07948\",\"type\":\"ColumnDataSource\"},{\"attributes\":{\"data_source\":{\"id\":\"b5b2d5e7-d8f8-4c70-8f79-dc72638e6758\",\"type\":\"ColumnDataSource\"},\"glyph\":{\"id\":\"558e867b-fe58-49b5-9c40-500069426f4b\",\"type\":\"Rect\"},\"hover_glyph\":null,\"nonselection_glyph\":null,\"selection_glyph\":null},\"id\":\"02a5c39c-0b7b-4d0e-8ab6-fe86c3b10f01\",\"type\":\"GlyphRenderer\"},{\"attributes\":{\"callback\":null,\"factors\":[\"Alabama\",\"Alaska\",\"Arizona\",\"Arkansas\",\"California\",\"Colorado\",\"Connecticut\",\"Delaware\",\"Florida\",\"Georgia\",\"Hawaii\",\"Idaho\",\"Illinois\",\"Indiana\",\"Iowa\",\"Kansas\",\"Kentucky\",\"Louisiana\",\"Maine\",\"Maryland\",\"Massachusetts\",\"Michigan\",\"Minnesota\",\"Mississippi\",\"Missouri\",\"Montana\",\"Nebraska\",\"Nevada\",\"New Hampshire\",\"New Jersey\",\"New Mexico\",\"New York\",\"North Carolina\",\"North Dakota\",\"Ohio\",\"Oklahoma\",\"Oregon\",\"Pennsylvania\",\"Rhode Island\",\"South Carolina\",\"South Dakota\",\"Tennessee\",\"Texas\",\"Utah\",\"Vermont\",\"Virginia\",\"Washington\",\"West Virginia\",\"Wisconsin\",\"Wyoming\"]},\"id\":\"e90da058-e401-4801-a693-65904e04dca6\",\"type\":\"FactorRange\"},{\"attributes\":{\"data_source\":{\"id\":\"dc5de982-d490-4d72-b904-6e1e45818c91\",\"type\":\"ColumnDataSource\"},\"glyph\":{\"id\":\"961c4c69-63b8-43c4-ab77-7dc8e9b7afbf\",\"type\":\"Rect\"},\"hover_glyph\":null,\"nonselection_glyph\":null,\"selection_glyph\":null},\"id\":\"8a167dff-4065-4831-9e81-9b6d92a1d7ef\",\"type\":\"GlyphRenderer\"},{\"attributes\":{\"callback\":null,\"column_names\":[\"line_alpha\",\"line_color\",\"x\",\"label\",\"height\",\"fill_alpha\",\"y\",\"width\",\"color\"],\"data\":{\"chart_index\":[{\"labels\":\"Georgia\"}],\"color\":[\"#f22c40\"],\"fill_alpha\":[0.8],\"height\":[40.0],\"label\":[{\"labels\":\"Georgia\"}],\"labels\":[\"Georgia\"],\"line_alpha\":[1.0],\"line_color\":[\"white\"],\"width\":[0.8],\"x\":[\"Georgia\"],\"y\":[20.0]}},\"id\":\"07a63706-7297-47bb-b217-1a3c555b88a6\",\"type\":\"ColumnDataSource\"},{\"attributes\":{\"fill_alpha\":{\"field\":\"fill_alpha\"},\"fill_color\":{\"field\":\"color\"},\"height\":{\"field\":\"height\",\"units\":\"data\"},\"line_color\":{\"field\":\"line_color\"},\"width\":{\"field\":\"width\",\"units\":\"data\"},\"x\":{\"field\":\"x\"},\"y\":{\"field\":\"y\"}},\"id\":\"9f7f3433-2a24-4bfc-b547-4deeb694113a\",\"type\":\"Rect\"},{\"attributes\":{\"callback\":null,\"column_names\":[\"line_alpha\",\"line_color\",\"x\",\"label\",\"height\",\"fill_alpha\",\"y\",\"width\",\"color\"],\"data\":{\"chart_index\":[{\"labels\":\"Indiana\"}],\"color\":[\"#f22c40\"],\"fill_alpha\":[0.8],\"height\":[29.0],\"label\":[{\"labels\":\"Indiana\"}],\"labels\":[\"Indiana\"],\"line_alpha\":[1.0],\"line_color\":[\"white\"],\"width\":[0.8],\"x\":[\"Indiana\"],\"y\":[14.5]}},\"id\":\"1cda6bf4-d14a-4133-9707-37bae140dd35\",\"type\":\"ColumnDataSource\"},{\"attributes\":{\"data_source\":{\"id\":\"0e386e8c-328b-4cc4-bcb8-2f79f90197a3\",\"type\":\"ColumnDataSource\"},\"glyph\":{\"id\":\"87f20af7-961e-4fbb-8a32-558993a84881\",\"type\":\"Rect\"},\"hover_glyph\":null,\"nonselection_glyph\":null,\"selection_glyph\":null},\"id\":\"d8f9918b-692a-47a9-86bd-1405bae96df8\",\"type\":\"GlyphRenderer\"},{\"attributes\":{\"data_source\":{\"id\":\"ad2b61b9-39dd-49f9-9c2c-14b93c0f82eb\",\"type\":\"ColumnDataSource\"},\"glyph\":{\"id\":\"5b286d3d-97b6-41ef-9432-dcd5f82c82ee\",\"type\":\"Rect\"},\"hover_glyph\":null,\"nonselection_glyph\":null,\"selection_glyph\":null},\"id\":\"9eb429b5-b690-424d-adbf-c19513300300\",\"type\":\"GlyphRenderer\"},{\"attributes\":{\"data_source\":{\"id\":\"4a8395fa-2aea-434e-9de2-8471a10d5677\",\"type\":\"ColumnDataSource\"},\"glyph\":{\"id\":\"2ded9e20-d2a6-4744-8c06-67507eeeb271\",\"type\":\"Rect\"},\"hover_glyph\":null,\"nonselection_glyph\":null,\"selection_glyph\":null},\"id\":\"68f1a92b-93b0-493d-9d59-86c53f150e8f\",\"type\":\"GlyphRenderer\"},{\"attributes\":{\"data_source\":{\"id\":\"fd1c7684-2c2a-4929-be3c-adc08960fb3b\",\"type\":\"ColumnDataSource\"},\"glyph\":{\"id\":\"9f7f3433-2a24-4bfc-b547-4deeb694113a\",\"type\":\"Rect\"},\"hover_glyph\":null,\"nonselection_glyph\":null,\"selection_glyph\":null},\"id\":\"ab3cc8e6-02ef-422d-b07b-80ed4f5826d3\",\"type\":\"GlyphRenderer\"},{\"attributes\":{},\"id\":\"28254152-23d7-44e5-93dd-58d11bd431a4\",\"type\":\"CategoricalTicker\"},{\"attributes\":{\"plot\":{\"id\":\"87ae9e00-67fe-48e2-9328-57d751f6de34\",\"subtype\":\"Chart\",\"type\":\"Plot\"}},\"id\":\"98b170e8-4850-43c5-b1a8-3fa8900afae8\",\"type\":\"WheelZoomTool\"},{\"attributes\":{\"fill_alpha\":{\"field\":\"fill_alpha\"},\"fill_color\":{\"field\":\"color\"},\"height\":{\"field\":\"height\",\"units\":\"data\"},\"line_color\":{\"field\":\"line_color\"},\"width\":{\"field\":\"width\",\"units\":\"data\"},\"x\":{\"field\":\"x\"},\"y\":{\"field\":\"y\"}},\"id\":\"3b651695-349e-4e02-be83-3db1515d3b6a\",\"type\":\"Rect\"},{\"attributes\":{\"data_source\":{\"id\":\"c61c3af7-40b9-40ae-b014-9a97756bad17\",\"type\":\"ColumnDataSource\"},\"glyph\":{\"id\":\"07d5f1c1-216f-4345-ace8-8ded076d6792\",\"type\":\"Rect\"},\"hover_glyph\":null,\"nonselection_glyph\":null,\"selection_glyph\":null},\"id\":\"8b390f83-1fc0-47d0-96ff-4a01a0623cc2\",\"type\":\"GlyphRenderer\"},{\"attributes\":{\"callback\":null,\"column_names\":[\"line_alpha\",\"line_color\",\"x\",\"label\",\"height\",\"fill_alpha\",\"y\",\"width\",\"color\"],\"data\":{\"chart_index\":[{\"labels\":\"West Virginia\"}],\"color\":[\"#f22c40\"],\"fill_alpha\":[0.8],\"height\":[7.0],\"label\":[{\"labels\":\"West Virginia\"}],\"labels\":[\"West Virginia\"],\"line_alpha\":[1.0],\"line_color\":[\"white\"],\"width\":[0.8],\"x\":[\"West Virginia\"],\"y\":[3.5]}},\"id\":\"4a8395fa-2aea-434e-9de2-8471a10d5677\",\"type\":\"ColumnDataSource\"},{\"attributes\":{\"callback\":null,\"end\":124.95},\"id\":\"f0788d34-4dab-425c-902a-a023913aa552\",\"type\":\"Range1d\"},{\"attributes\":{\"fill_alpha\":{\"field\":\"fill_alpha\"},\"fill_color\":{\"field\":\"color\"},\"height\":{\"field\":\"height\",\"units\":\"data\"},\"line_color\":{\"field\":\"line_color\"},\"width\":{\"field\":\"width\",\"units\":\"data\"},\"x\":{\"field\":\"x\"},\"y\":{\"field\":\"y\"}},\"id\":\"0f360c77-d3c2-44e1-a8f0-820dc41ab126\",\"type\":\"Rect\"},{\"attributes\":{\"fill_alpha\":{\"field\":\"fill_alpha\"},\"fill_color\":{\"field\":\"color\"},\"height\":{\"field\":\"height\",\"units\":\"data\"},\"line_color\":{\"field\":\"line_color\"},\"width\":{\"field\":\"width\",\"units\":\"data\"},\"x\":{\"field\":\"x\"},\"y\":{\"field\":\"y\"}},\"id\":\"7d8ed17a-0d6a-42d0-a794-d7618b2d8553\",\"type\":\"Rect\"},{\"attributes\":{\"data_source\":{\"id\":\"55444662-ec09-4e10-9a98-7df7a87a0007\",\"type\":\"ColumnDataSource\"},\"glyph\":{\"id\":\"e6463bbc-7a3a-4b6f-a0e7-7517d10e01d0\",\"type\":\"Rect\"},\"hover_glyph\":null,\"nonselection_glyph\":null,\"selection_glyph\":null},\"id\":\"b6682f87-47bb-4c17-be42-dfd8df44f6dd\",\"type\":\"GlyphRenderer\"},{\"attributes\":{\"data_source\":{\"id\":\"9a96fea4-0d57-4aed-9e7e-8d410eeb5933\",\"type\":\"ColumnDataSource\"},\"glyph\":{\"id\":\"2431c030-9fb3-481d-9071-5b5383a17377\",\"type\":\"Rect\"},\"hover_glyph\":null,\"nonselection_glyph\":null,\"selection_glyph\":null},\"id\":\"137c1bcb-5b5d-4d71-a964-ac24bf05daab\",\"type\":\"GlyphRenderer\"},{\"attributes\":{\"callback\":null,\"column_names\":[\"line_alpha\",\"line_color\",\"x\",\"label\",\"height\",\"fill_alpha\",\"y\",\"width\",\"color\"],\"data\":{\"chart_index\":[{\"labels\":\"South Dakota\"}],\"color\":[\"#f22c40\"],\"fill_alpha\":[0.8],\"height\":[0.0],\"label\":[{\"labels\":\"South Dakota\"}],\"labels\":[\"South Dakota\"],\"line_alpha\":[1.0],\"line_color\":[\"white\"],\"width\":[0.8],\"x\":[\"South Dakota\"],\"y\":[0.0]}},\"id\":\"afea87f8-b11c-46a4-96e8-05564391afe2\",\"type\":\"ColumnDataSource\"},{\"attributes\":{\"callback\":null,\"column_names\":[\"line_alpha\",\"line_color\",\"x\",\"label\",\"height\",\"fill_alpha\",\"y\",\"width\",\"color\"],\"data\":{\"chart_index\":[{\"labels\":\"Nevada\"}],\"color\":[\"#f22c40\"],\"fill_alpha\":[0.8],\"height\":[11.0],\"label\":[{\"labels\":\"Nevada\"}],\"labels\":[\"Nevada\"],\"line_alpha\":[1.0],\"line_color\":[\"white\"],\"width\":[0.8],\"x\":[\"Nevada\"],\"y\":[5.5]}},\"id\":\"f26b028b-f138-428d-aedc-eb152425aa23\",\"type\":\"ColumnDataSource\"},{\"attributes\":{\"fill_alpha\":{\"field\":\"fill_alpha\"},\"fill_color\":{\"field\":\"color\"},\"height\":{\"field\":\"height\",\"units\":\"data\"},\"line_color\":{\"field\":\"line_color\"},\"width\":{\"field\":\"width\",\"units\":\"data\"},\"x\":{\"field\":\"x\"},\"y\":{\"field\":\"y\"}},\"id\":\"7c0a5f0d-9c4c-4db8-9586-f2a628ef18cf\",\"type\":\"Rect\"},{\"attributes\":{\"fill_alpha\":{\"field\":\"fill_alpha\"},\"fill_color\":{\"field\":\"color\"},\"height\":{\"field\":\"height\",\"units\":\"data\"},\"line_color\":{\"field\":\"line_color\"},\"width\":{\"field\":\"width\",\"units\":\"data\"},\"x\":{\"field\":\"x\"},\"y\":{\"field\":\"y\"}},\"id\":\"2d3674b8-0a38-423f-b4a4-3edacbd8a3b7\",\"type\":\"Rect\"},{\"attributes\":{\"fill_alpha\":{\"field\":\"fill_alpha\"},\"fill_color\":{\"field\":\"color\"},\"height\":{\"field\":\"height\",\"units\":\"data\"},\"line_color\":{\"field\":\"line_color\"},\"width\":{\"field\":\"width\",\"units\":\"data\"},\"x\":{\"field\":\"x\"},\"y\":{\"field\":\"y\"}},\"id\":\"363f866f-8360-45ff-aac7-c9b7e2e2ac5f\",\"type\":\"Rect\"},{\"attributes\":{\"below\":[{\"id\":\"a92c8cc5-1931-426b-b641-242fcbc48ac2\",\"type\":\"CategoricalAxis\"}],\"left\":[{\"id\":\"dde10cc1-b8ad-4845-a3ea-3f55d4fd0420\",\"type\":\"LinearAxis\"}],\"plot_width\":900,\"renderers\":[{\"id\":\"d9847160-2926-4146-ad02-c802717371d4\",\"type\":\"BoxAnnotation\"},{\"id\":\"8b390f83-1fc0-47d0-96ff-4a01a0623cc2\",\"type\":\"GlyphRenderer\"},{\"id\":\"01baf3c4-f65c-4be7-a23d-198c1e86f33e\",\"type\":\"GlyphRenderer\"},{\"id\":\"9350d548-5282-493c-a0df-7c6b571345cc\",\"type\":\"GlyphRenderer\"},{\"id\":\"53dfc88a-c81a-4870-9b1d-0812b4c98fb9\",\"type\":\"GlyphRenderer\"},{\"id\":\"52649c6c-0344-4128-b3d2-832753cef847\",\"type\":\"GlyphRenderer\"},{\"id\":\"f22525bc-754e-47dd-a014-c4e0ca405946\",\"type\":\"GlyphRenderer\"},{\"id\":\"3f5409d2-bef3-4cc0-9de4-b7163918eb00\",\"type\":\"GlyphRenderer\"},{\"id\":\"23d3cb67-0f00-4c5e-a4a6-86a3dcb987f0\",\"type\":\"GlyphRenderer\"},{\"id\":\"e7a1e272-920e-418a-a85e-c421c058dc2b\",\"type\":\"GlyphRenderer\"},{\"id\":\"fe1b16a1-682d-474b-8877-d59066ac3dba\",\"type\":\"GlyphRenderer\"},{\"id\":\"137c1bcb-5b5d-4d71-a964-ac24bf05daab\",\"type\":\"GlyphRenderer\"},{\"id\":\"0961990f-a6ab-42d1-bb38-426ae152dfb5\",\"type\":\"GlyphRenderer\"},{\"id\":\"868b2f60-e639-4809-ac9f-babcbaf95ef4\",\"type\":\"GlyphRenderer\"},{\"id\":\"aef60c1c-c61a-498a-b11b-4831397c527c\",\"type\":\"GlyphRenderer\"},{\"id\":\"7cb8ef72-631b-4590-8ca1-5f85da633cb5\",\"type\":\"GlyphRenderer\"},{\"id\":\"78dd1d63-8db3-43a6-9fd3-18c71cab46e3\",\"type\":\"GlyphRenderer\"},{\"id\":\"ab3cc8e6-02ef-422d-b07b-80ed4f5826d3\",\"type\":\"GlyphRenderer\"},{\"id\":\"78bbd11a-4fc3-483f-8e89-eda55632c3f9\",\"type\":\"GlyphRenderer\"},{\"id\":\"2d975985-aa15-4b53-b412-214bf0f6f122\",\"type\":\"GlyphRenderer\"},{\"id\":\"cc4297dd-884a-43c4-8109-a64c7a5cabaa\",\"type\":\"GlyphRenderer\"},{\"id\":\"3fdcb136-daec-4adf-b6cc-3a5224237e3e\",\"type\":\"GlyphRenderer\"},{\"id\":\"9fd3526f-703c-4e8f-bfd8-06dcea571f62\",\"type\":\"GlyphRenderer\"},{\"id\":\"dbae0d01-36ce-432c-9985-c8415636a422\",\"type\":\"GlyphRenderer\"},{\"id\":\"80f916ad-8509-4fca-b5e0-cc97461b27de\",\"type\":\"GlyphRenderer\"},{\"id\":\"8a3c1369-965b-40d5-a111-929a269c1433\",\"type\":\"GlyphRenderer\"},{\"id\":\"02a5c39c-0b7b-4d0e-8ab6-fe86c3b10f01\",\"type\":\"GlyphRenderer\"},{\"id\":\"059167dc-8e54-48df-b79e-e57ae7f98bc9\",\"type\":\"GlyphRenderer\"},{\"id\":\"b6682f87-47bb-4c17-be42-dfd8df44f6dd\",\"type\":\"GlyphRenderer\"},{\"id\":\"a9b1161b-da1a-4c92-ab85-d2876a749cff\",\"type\":\"GlyphRenderer\"},{\"id\":\"cf4e8ef8-6a3d-4141-8742-dd35ea9debf9\",\"type\":\"GlyphRenderer\"},{\"id\":\"a061362b-5ab4-418c-861c-92d65da723c1\",\"type\":\"GlyphRenderer\"},{\"id\":\"826893ee-c6eb-4d01-9f24-5509a30bfc7c\",\"type\":\"GlyphRenderer\"},{\"id\":\"8a167dff-4065-4831-9e81-9b6d92a1d7ef\",\"type\":\"GlyphRenderer\"},{\"id\":\"2b1aa402-065d-4af5-ac6f-80365a714d99\",\"type\":\"GlyphRenderer\"},{\"id\":\"c8a983a9-f859-4e13-a3c5-1576ab79a5f1\",\"type\":\"GlyphRenderer\"},{\"id\":\"91ec86f6-6e44-434b-ba5d-24a3a4d87300\",\"type\":\"GlyphRenderer\"},{\"id\":\"5d3fc449-9163-42a2-b175-cd2bebec1f36\",\"type\":\"GlyphRenderer\"},{\"id\":\"e243bce9-59d0-4426-84c9-64db1275fe43\",\"type\":\"GlyphRenderer\"},{\"id\":\"6475c930-8246-4186-84e5-9a2fd64b422b\",\"type\":\"GlyphRenderer\"},{\"id\":\"9eb429b5-b690-424d-adbf-c19513300300\",\"type\":\"GlyphRenderer\"},{\"id\":\"e085f0ed-c90e-42a1-8f84-7d0d509f5485\",\"type\":\"GlyphRenderer\"},{\"id\":\"ba04f152-3948-4c69-9e48-975cb5d6af6e\",\"type\":\"GlyphRenderer\"},{\"id\":\"9cd35688-f9a9-43a6-9ff4-1db9d963c989\",\"type\":\"GlyphRenderer\"},{\"id\":\"0285ad50-053a-4e59-ac38-92dd93e4f52d\",\"type\":\"GlyphRenderer\"},{\"id\":\"b36eb1f7-4f82-4ffb-b5c0-87f46b4b5e8f\",\"type\":\"GlyphRenderer\"},{\"id\":\"68f1a92b-93b0-493d-9d59-86c53f150e8f\",\"type\":\"GlyphRenderer\"},{\"id\":\"0c8f0288-b92d-4c30-8024-1d4cedfd7a8a\",\"type\":\"GlyphRenderer\"},{\"id\":\"8fde5652-e1e9-4b55-a6d5-f173fba13f1b\",\"type\":\"GlyphRenderer\"},{\"id\":\"21203326-48c1-4f2d-9c68-0fb6b3e70812\",\"type\":\"GlyphRenderer\"},{\"id\":\"d8f9918b-692a-47a9-86bd-1405bae96df8\",\"type\":\"GlyphRenderer\"},{\"id\":\"a92c8cc5-1931-426b-b641-242fcbc48ac2\",\"type\":\"CategoricalAxis\"},{\"id\":\"dde10cc1-b8ad-4845-a3ea-3f55d4fd0420\",\"type\":\"LinearAxis\"},{\"id\":\"e2805045-f213-4744-b012-b37ca75ee70f\",\"type\":\"Grid\"}],\"title\":{\"id\":\"b08b0fca-25ac-4dc5-82bf-dbcbb4fdd99f\",\"type\":\"Title\"},\"tool_events\":{\"id\":\"601ae597-31c0-4ac5-b6f0-a0e2427bc0e9\",\"type\":\"ToolEvents\"},\"toolbar\":{\"id\":\"8c2d0aba-d868-47ad-a7b1-81ba058f183b\",\"type\":\"Toolbar\"},\"x_mapper_type\":\"auto\",\"x_range\":{\"id\":\"e90da058-e401-4801-a693-65904e04dca6\",\"type\":\"FactorRange\"},\"y_mapper_type\":\"auto\",\"y_range\":{\"id\":\"f0788d34-4dab-425c-902a-a023913aa552\",\"type\":\"Range1d\"}},\"id\":\"87ae9e00-67fe-48e2-9328-57d751f6de34\",\"subtype\":\"Chart\",\"type\":\"Plot\"},{\"attributes\":{\"fill_alpha\":{\"field\":\"fill_alpha\"},\"fill_color\":{\"field\":\"color\"},\"height\":{\"field\":\"height\",\"units\":\"data\"},\"line_color\":{\"field\":\"line_color\"},\"width\":{\"field\":\"width\",\"units\":\"data\"},\"x\":{\"field\":\"x\"},\"y\":{\"field\":\"y\"}},\"id\":\"463bb55f-30aa-468d-aad4-6ff37d3f642c\",\"type\":\"Rect\"},{\"attributes\":{\"callback\":null,\"column_names\":[\"line_alpha\",\"line_color\",\"x\",\"label\",\"height\",\"fill_alpha\",\"y\",\"width\",\"color\"],\"data\":{\"chart_index\":[{\"labels\":\"Vermont\"}],\"color\":[\"#f22c40\"],\"fill_alpha\":[0.8],\"height\":[3.0],\"label\":[{\"labels\":\"Vermont\"}],\"labels\":[\"Vermont\"],\"line_alpha\":[1.0],\"line_color\":[\"white\"],\"width\":[0.8],\"x\":[\"Vermont\"],\"y\":[1.5]}},\"id\":\"aaadab17-72e7-4c6f-b296-60afed10d001\",\"type\":\"ColumnDataSource\"},{\"attributes\":{\"data_source\":{\"id\":\"5d3d9325-a2f3-4f10-acca-3374f0d9bd69\",\"type\":\"ColumnDataSource\"},\"glyph\":{\"id\":\"8f78185e-3ce4-40a3-b313-6faea185e428\",\"type\":\"Rect\"},\"hover_glyph\":null,\"nonselection_glyph\":null,\"selection_glyph\":null},\"id\":\"2b1aa402-065d-4af5-ac6f-80365a714d99\",\"type\":\"GlyphRenderer\"},{\"attributes\":{\"fill_alpha\":{\"field\":\"fill_alpha\"},\"fill_color\":{\"field\":\"color\"},\"height\":{\"field\":\"height\",\"units\":\"data\"},\"line_color\":{\"field\":\"line_color\"},\"width\":{\"field\":\"width\",\"units\":\"data\"},\"x\":{\"field\":\"x\"},\"y\":{\"field\":\"y\"}},\"id\":\"46b4f4fa-714c-44fa-a032-9f5a79b379b3\",\"type\":\"Rect\"},{\"attributes\":{\"callback\":null,\"column_names\":[\"line_alpha\",\"line_color\",\"x\",\"label\",\"height\",\"fill_alpha\",\"y\",\"width\",\"color\"],\"data\":{\"chart_index\":[{\"labels\":\"Washington\"}],\"color\":[\"#f22c40\"],\"fill_alpha\":[0.8],\"height\":[20.0],\"label\":[{\"labels\":\"Washington\"}],\"labels\":[\"Washington\"],\"line_alpha\":[1.0],\"line_color\":[\"white\"],\"width\":[0.8],\"x\":[\"Washington\"],\"y\":[10.0]}},\"id\":\"fd1c7684-2c2a-4929-be3c-adc08960fb3b\",\"type\":\"ColumnDataSource\"},{\"attributes\":{},\"id\":\"8ba21033-8ef5-42a0-a345-90b55d46be6f\",\"type\":\"CategoricalTickFormatter\"},{\"attributes\":{\"data_source\":{\"id\":\"f7e53f36-cc56-4257-9b30-e6493b476b53\",\"type\":\"ColumnDataSource\"},\"glyph\":{\"id\":\"f878aa08-4b1e-449e-af8a-c35afa88970e\",\"type\":\"Rect\"},\"hover_glyph\":null,\"nonselection_glyph\":null,\"selection_glyph\":null},\"id\":\"dbae0d01-36ce-432c-9985-c8415636a422\",\"type\":\"GlyphRenderer\"},{\"attributes\":{\"data_source\":{\"id\":\"c8aec699-a9af-4e18-ab0f-1b1b83338223\",\"type\":\"ColumnDataSource\"},\"glyph\":{\"id\":\"bf86edb8-f4d4-4ece-a9c5-5bb958f9ebaa\",\"type\":\"Rect\"},\"hover_glyph\":null,\"nonselection_glyph\":null,\"selection_glyph\":null},\"id\":\"fe1b16a1-682d-474b-8877-d59066ac3dba\",\"type\":\"GlyphRenderer\"},{\"attributes\":{\"fill_alpha\":{\"field\":\"fill_alpha\"},\"fill_color\":{\"field\":\"color\"},\"height\":{\"field\":\"height\",\"units\":\"data\"},\"line_color\":{\"field\":\"line_color\"},\"width\":{\"field\":\"width\",\"units\":\"data\"},\"x\":{\"field\":\"x\"},\"y\":{\"field\":\"y\"}},\"id\":\"92451095-65a8-4405-ac7a-980578737f97\",\"type\":\"Rect\"},{\"attributes\":{\"fill_alpha\":{\"field\":\"fill_alpha\"},\"fill_color\":{\"field\":\"color\"},\"height\":{\"field\":\"height\",\"units\":\"data\"},\"line_color\":{\"field\":\"line_color\"},\"width\":{\"field\":\"width\",\"units\":\"data\"},\"x\":{\"field\":\"x\"},\"y\":{\"field\":\"y\"}},\"id\":\"87015ce0-e640-49f0-88c0-da0d0582d172\",\"type\":\"Rect\"},{\"attributes\":{\"callback\":null,\"column_names\":[\"line_alpha\",\"line_color\",\"x\",\"label\",\"height\",\"fill_alpha\",\"y\",\"width\",\"color\"],\"data\":{\"chart_index\":[{\"labels\":\"Wyoming\"}],\"color\":[\"#f22c40\"],\"fill_alpha\":[0.8],\"height\":[2.0],\"label\":[{\"labels\":\"Wyoming\"}],\"labels\":[\"Wyoming\"],\"line_alpha\":[1.0],\"line_color\":[\"white\"],\"width\":[0.8],\"x\":[\"Wyoming\"],\"y\":[1.0]}},\"id\":\"de78546e-e211-4596-9774-fea523072aaf\",\"type\":\"ColumnDataSource\"},{\"attributes\":{\"fill_alpha\":{\"field\":\"fill_alpha\"},\"fill_color\":{\"field\":\"color\"},\"height\":{\"field\":\"height\",\"units\":\"data\"},\"line_color\":{\"field\":\"line_color\"},\"width\":{\"field\":\"width\",\"units\":\"data\"},\"x\":{\"field\":\"x\"},\"y\":{\"field\":\"y\"}},\"id\":\"61df6110-725d-4e7f-80d3-e4b673d868e1\",\"type\":\"Rect\"},{\"attributes\":{\"plot\":{\"id\":\"87ae9e00-67fe-48e2-9328-57d751f6de34\",\"subtype\":\"Chart\",\"type\":\"Plot\"}},\"id\":\"d2301db5-3ed7-4335-9859-cd864556e089\",\"type\":\"HelpTool\"},{\"attributes\":{\"fill_alpha\":{\"field\":\"fill_alpha\"},\"fill_color\":{\"field\":\"color\"},\"height\":{\"field\":\"height\",\"units\":\"data\"},\"line_color\":{\"field\":\"line_color\"},\"width\":{\"field\":\"width\",\"units\":\"data\"},\"x\":{\"field\":\"x\"},\"y\":{\"field\":\"y\"}},\"id\":\"b2dd5cd2-eeb1-4597-bfd7-e92060d1eb27\",\"type\":\"Rect\"},{\"attributes\":{\"callback\":null,\"column_names\":[\"line_alpha\",\"line_color\",\"x\",\"label\",\"height\",\"fill_alpha\",\"y\",\"width\",\"color\"],\"data\":{\"chart_index\":[{\"labels\":\"Alabama\"}],\"color\":[\"#f22c40\"],\"fill_alpha\":[0.8],\"height\":[17.0],\"label\":[{\"labels\":\"Alabama\"}],\"labels\":[\"Alabama\"],\"line_alpha\":[1.0],\"line_color\":[\"white\"],\"width\":[0.8],\"x\":[\"Alabama\"],\"y\":[8.5]}},\"id\":\"f7e53f36-cc56-4257-9b30-e6493b476b53\",\"type\":\"ColumnDataSource\"},{\"attributes\":{\"callback\":null,\"column_names\":[\"line_alpha\",\"line_color\",\"x\",\"label\",\"height\",\"fill_alpha\",\"y\",\"width\",\"color\"],\"data\":{\"chart_index\":[{\"labels\":\"California\"}],\"color\":[\"#f22c40\"],\"fill_alpha\":[0.8],\"height\":[117.0],\"label\":[{\"labels\":\"California\"}],\"labels\":[\"California\"],\"line_alpha\":[1.0],\"line_color\":[\"white\"],\"width\":[0.8],\"x\":[\"California\"],\"y\":[58.5]}},\"id\":\"310ecc1b-c8ed-457a-b0ee-12cc6ab38cc4\",\"type\":\"ColumnDataSource\"},{\"attributes\":{\"callback\":null,\"column_names\":[\"line_alpha\",\"line_color\",\"x\",\"label\",\"height\",\"fill_alpha\",\"y\",\"width\",\"color\"],\"data\":{\"chart_index\":[{\"labels\":\"Colorado\"}],\"color\":[\"#f22c40\"],\"fill_alpha\":[0.8],\"height\":[13.0],\"label\":[{\"labels\":\"Colorado\"}],\"labels\":[\"Colorado\"],\"line_alpha\":[1.0],\"line_color\":[\"white\"],\"width\":[0.8],\"x\":[\"Colorado\"],\"y\":[6.5]}},\"id\":\"0bf1554f-81c0-41b8-a184-97b145f63daf\",\"type\":\"ColumnDataSource\"},{\"attributes\":{\"callback\":null,\"column_names\":[\"line_alpha\",\"line_color\",\"x\",\"label\",\"height\",\"fill_alpha\",\"y\",\"width\",\"color\"],\"data\":{\"chart_index\":[{\"labels\":\"Maine\"}],\"color\":[\"#f22c40\"],\"fill_alpha\":[0.8],\"height\":[4.0],\"label\":[{\"labels\":\"Maine\"}],\"labels\":[\"Maine\"],\"line_alpha\":[1.0],\"line_color\":[\"white\"],\"width\":[0.8],\"x\":[\"Maine\"],\"y\":[2.0]}},\"id\":\"c103e47d-8997-4d31-954c-3a3a4bddebde\",\"type\":\"ColumnDataSource\"},{\"attributes\":{\"data_source\":{\"id\":\"eeaa8629-de71-4c18-8133-94f762ec858d\",\"type\":\"ColumnDataSource\"},\"glyph\":{\"id\":\"486b99c0-53ab-41be-a43b-29db56d0bdc1\",\"type\":\"Rect\"},\"hover_glyph\":null,\"nonselection_glyph\":null,\"selection_glyph\":null},\"id\":\"e243bce9-59d0-4426-84c9-64db1275fe43\",\"type\":\"GlyphRenderer\"},{\"attributes\":{\"overlay\":{\"id\":\"d9847160-2926-4146-ad02-c802717371d4\",\"type\":\"BoxAnnotation\"},\"plot\":{\"id\":\"87ae9e00-67fe-48e2-9328-57d751f6de34\",\"subtype\":\"Chart\",\"type\":\"Plot\"}},\"id\":\"053c97b2-5aa5-4d37-a41c-d7c7b323cd34\",\"type\":\"BoxZoomTool\"},{\"attributes\":{\"fill_alpha\":{\"field\":\"fill_alpha\"},\"fill_color\":{\"field\":\"color\"},\"height\":{\"field\":\"height\",\"units\":\"data\"},\"line_color\":{\"field\":\"line_color\"},\"width\":{\"field\":\"width\",\"units\":\"data\"},\"x\":{\"field\":\"x\"},\"y\":{\"field\":\"y\"}},\"id\":\"97e42fc6-c158-47e9-802b-49734ad76fa6\",\"type\":\"Rect\"},{\"attributes\":{\"fill_alpha\":{\"field\":\"fill_alpha\"},\"fill_color\":{\"field\":\"color\"},\"height\":{\"field\":\"height\",\"units\":\"data\"},\"line_color\":{\"field\":\"line_color\"},\"width\":{\"field\":\"width\",\"units\":\"data\"},\"x\":{\"field\":\"x\"},\"y\":{\"field\":\"y\"}},\"id\":\"07d5f1c1-216f-4345-ace8-8ded076d6792\",\"type\":\"Rect\"},{\"attributes\":{\"dimension\":1,\"plot\":{\"id\":\"87ae9e00-67fe-48e2-9328-57d751f6de34\",\"subtype\":\"Chart\",\"type\":\"Plot\"},\"ticker\":{\"id\":\"49ccdb24-fba8-4e82-a08c-fa3dc2aae9e9\",\"type\":\"BasicTicker\"}},\"id\":\"e2805045-f213-4744-b012-b37ca75ee70f\",\"type\":\"Grid\"}],\"root_ids\":[\"87ae9e00-67fe-48e2-9328-57d751f6de34\"]},\"title\":\"Bokeh Application\",\"version\":\"0.12.0\"}};\n",
       "            var render_items = [{\"docid\":\"15eb0728-595b-4237-a0e7-ef938f2b3c8a\",\"elementid\":\"e72563f0-a437-4c3f-bc3b-947f99145bb5\",\"modelid\":\"87ae9e00-67fe-48e2-9328-57d751f6de34\",\"notebook_comms_target\":\"d20f57f0-8ee8-426e-84fa-a3de424f79b8\"}];\n",
       "            \n",
       "            Bokeh.embed.embed_items(docs_json, render_items);\n",
       "        });\n",
       "      },\n",
       "      function(Bokeh) {\n",
       "      }\n",
       "    ];\n",
       "  \n",
       "    function run_inline_js() {\n",
       "      for (var i = 0; i < inline_js.length; i++) {\n",
       "        inline_js[i](window.Bokeh);\n",
       "      }\n",
       "    }\n",
       "  \n",
       "    if (window._bokeh_is_loading === 0) {\n",
       "      console.log(\"Bokeh: BokehJS loaded, going straight to plotting\");\n",
       "      run_inline_js();\n",
       "    } else {\n",
       "      load_libs(js_urls, function() {\n",
       "        console.log(\"Bokeh: BokehJS plotting callback run at\", now());\n",
       "        run_inline_js();\n",
       "      });\n",
       "    }\n",
       "  }(this));\n",
       "</script>"
      ]
     },
     "metadata": {},
     "output_type": "display_data"
    }
   ],
   "source": [
    "valid_twitts = 0\n",
    "for each_state in number_twitts_by_state:\n",
    "    valid_twitts += number_twitts_by_state[each_state]\n",
    "\n",
    "print('------------------------------------------------------------')\n",
    "print()\n",
    "print('Number of twitts evaluated: ' + str(number_twitts_evaluated))\n",
    "print('Number of twitts with valid information: ' + str(valid_twitts))\n",
    "print()\n",
    "print('------------------------------------------------------------')\n",
    "print()\n",
    "print('Percentage of valid twitts: ' + \"{0:.2f}\".format(100 * valid_twitts/number_twitts_evaluated) + '%')\n",
    "print()\n",
    "\n",
    "states = []\n",
    "number_twitts_per_state_array = []\n",
    "\n",
    "for each_state in number_twitts_by_state:\n",
    "    states.append(states_by_code[each_state])\n",
    "    number_twitts_per_state_array.append(number_twitts_by_state[each_state])\n",
    "\n",
    "plot_bar_chart('Number of valid twitts per state', {\n",
    "    'values': number_twitts_per_state_array,\n",
    "    'labels': states\n",
    "}, 'values', 'labels')   "
   ]
  },
  {
   "cell_type": "markdown",
   "metadata": {},
   "source": [
    "\n",
    "\n",
    "***\n",
    "\n",
    "### 5. Results: Happiness of twitter users in USA by states ###\n",
    "\n",
    "The results obtained are the following."
   ]
  },
  {
   "cell_type": "code",
   "execution_count": 13,
   "metadata": {
    "collapsed": false
   },
   "outputs": [
    {
     "data": {
      "text/html": [
       "\n",
       "    <div class=\"bk-root\">\n",
       "        <a href=\"http://bokeh.pydata.org\" target=\"_blank\" class=\"bk-logo bk-logo-small bk-logo-notebook\"></a>\n",
       "        <span id=\"b27f5f9c-9f2e-40ba-9964-80ba422108e7\">Loading BokehJS ...</span>\n",
       "    </div>"
      ]
     },
     "metadata": {},
     "output_type": "display_data"
    },
    {
     "data": {
      "application/javascript": [
       "\n",
       "(function(global) {\n",
       "  function now() {\n",
       "    return new Date();\n",
       "  }\n",
       "\n",
       "  if (typeof (window._bokeh_onload_callbacks) === \"undefined\") {\n",
       "    window._bokeh_onload_callbacks = [];\n",
       "  }\n",
       "\n",
       "  function run_callbacks() {\n",
       "    window._bokeh_onload_callbacks.forEach(function(callback) { callback() });\n",
       "    delete window._bokeh_onload_callbacks\n",
       "    console.info(\"Bokeh: all callbacks have finished\");\n",
       "  }\n",
       "\n",
       "  function load_libs(js_urls, callback) {\n",
       "    window._bokeh_onload_callbacks.push(callback);\n",
       "    if (window._bokeh_is_loading > 0) {\n",
       "      console.log(\"Bokeh: BokehJS is being loaded, scheduling callback at\", now());\n",
       "      return null;\n",
       "    }\n",
       "    if (js_urls == null || js_urls.length === 0) {\n",
       "      run_callbacks();\n",
       "      return null;\n",
       "    }\n",
       "    console.log(\"Bokeh: BokehJS not loaded, scheduling load and callback at\", now());\n",
       "    window._bokeh_is_loading = js_urls.length;\n",
       "    for (var i = 0; i < js_urls.length; i++) {\n",
       "      var url = js_urls[i];\n",
       "      var s = document.createElement('script');\n",
       "      s.src = url;\n",
       "      s.async = false;\n",
       "      s.onreadystatechange = s.onload = function() {\n",
       "        window._bokeh_is_loading--;\n",
       "        if (window._bokeh_is_loading === 0) {\n",
       "          console.log(\"Bokeh: all BokehJS libraries loaded\");\n",
       "          run_callbacks()\n",
       "        }\n",
       "      };\n",
       "      s.onerror = function() {\n",
       "        console.warn(\"failed to load library \" + url);\n",
       "      };\n",
       "      console.log(\"Bokeh: injecting script tag for BokehJS library: \", url);\n",
       "      document.getElementsByTagName(\"head\")[0].appendChild(s);\n",
       "    }\n",
       "  };\n",
       "\n",
       "  var js_urls = ['https://cdn.pydata.org/bokeh/release/bokeh-0.12.0.min.js', 'https://cdn.pydata.org/bokeh/release/bokeh-widgets-0.12.0.min.js', 'https://cdn.pydata.org/bokeh/release/bokeh-compiler-0.12.0.min.js'];\n",
       "\n",
       "  var inline_js = [\n",
       "    function(Bokeh) {\n",
       "      Bokeh.set_log_level(\"info\");\n",
       "    },\n",
       "    \n",
       "    function(Bokeh) {\n",
       "      Bokeh.$(\"#b27f5f9c-9f2e-40ba-9964-80ba422108e7\").text(\"BokehJS successfully loaded\");\n",
       "    },\n",
       "    function(Bokeh) {\n",
       "      console.log(\"Bokeh: injecting CSS: https://cdn.pydata.org/bokeh/release/bokeh-0.12.0.min.css\");\n",
       "      Bokeh.embed.inject_css(\"https://cdn.pydata.org/bokeh/release/bokeh-0.12.0.min.css\");\n",
       "      console.log(\"Bokeh: injecting CSS: https://cdn.pydata.org/bokeh/release/bokeh-widgets-0.12.0.min.css\");\n",
       "      Bokeh.embed.inject_css(\"https://cdn.pydata.org/bokeh/release/bokeh-widgets-0.12.0.min.css\");\n",
       "    }\n",
       "  ];\n",
       "\n",
       "  function run_inline_js() {\n",
       "    for (var i = 0; i < inline_js.length; i++) {\n",
       "      inline_js[i](window.Bokeh);\n",
       "    }\n",
       "  }\n",
       "\n",
       "  if (window._bokeh_is_loading === 0) {\n",
       "    console.log(\"Bokeh: BokehJS loaded, going straight to plotting\");\n",
       "    run_inline_js();\n",
       "  } else {\n",
       "    load_libs(js_urls, function() {\n",
       "      console.log(\"Bokeh: BokehJS plotting callback run at\", now());\n",
       "      run_inline_js();\n",
       "    });\n",
       "  }\n",
       "}(this));"
      ]
     },
     "metadata": {},
     "output_type": "display_data"
    },
    {
     "data": {
      "text/html": [
       "\n",
       "\n",
       "    <div class=\"bk-root\">\n",
       "        <div class=\"plotdiv\" id=\"e1796dcf-7ad6-4f53-9b04-bfcd08bc2bef\"></div>\n",
       "    </div>\n",
       "<script type=\"text/javascript\">\n",
       "  \n",
       "  (function(global) {\n",
       "    function now() {\n",
       "      return new Date();\n",
       "    }\n",
       "  \n",
       "    if (typeof (window._bokeh_onload_callbacks) === \"undefined\") {\n",
       "      window._bokeh_onload_callbacks = [];\n",
       "    }\n",
       "  \n",
       "    function run_callbacks() {\n",
       "      window._bokeh_onload_callbacks.forEach(function(callback) { callback() });\n",
       "      delete window._bokeh_onload_callbacks\n",
       "      console.info(\"Bokeh: all callbacks have finished\");\n",
       "    }\n",
       "  \n",
       "    function load_libs(js_urls, callback) {\n",
       "      window._bokeh_onload_callbacks.push(callback);\n",
       "      if (window._bokeh_is_loading > 0) {\n",
       "        console.log(\"Bokeh: BokehJS is being loaded, scheduling callback at\", now());\n",
       "        return null;\n",
       "      }\n",
       "      if (js_urls == null || js_urls.length === 0) {\n",
       "        run_callbacks();\n",
       "        return null;\n",
       "      }\n",
       "      console.log(\"Bokeh: BokehJS not loaded, scheduling load and callback at\", now());\n",
       "      window._bokeh_is_loading = js_urls.length;\n",
       "      for (var i = 0; i < js_urls.length; i++) {\n",
       "        var url = js_urls[i];\n",
       "        var s = document.createElement('script');\n",
       "        s.src = url;\n",
       "        s.async = false;\n",
       "        s.onreadystatechange = s.onload = function() {\n",
       "          window._bokeh_is_loading--;\n",
       "          if (window._bokeh_is_loading === 0) {\n",
       "            console.log(\"Bokeh: all BokehJS libraries loaded\");\n",
       "            run_callbacks()\n",
       "          }\n",
       "        };\n",
       "        s.onerror = function() {\n",
       "          console.warn(\"failed to load library \" + url);\n",
       "        };\n",
       "        console.log(\"Bokeh: injecting script tag for BokehJS library: \", url);\n",
       "        document.getElementsByTagName(\"head\")[0].appendChild(s);\n",
       "      }\n",
       "    };var element = document.getElementById(\"e1796dcf-7ad6-4f53-9b04-bfcd08bc2bef\");\n",
       "    if (element == null) {\n",
       "      console.log(\"Bokeh: ERROR: autoload.js configured with elementid 'e1796dcf-7ad6-4f53-9b04-bfcd08bc2bef' but no matching script tag was found. \")\n",
       "      return false;\n",
       "    }\n",
       "  \n",
       "    var js_urls = [];\n",
       "  \n",
       "    var inline_js = [\n",
       "      function(Bokeh) {\n",
       "        Bokeh.$(function() {\n",
       "            var docs_json = {\"552d6198-d263-40bc-99bd-b37f7e24b236\":{\"roots\":{\"references\":[{\"attributes\":{\"data_source\":{\"id\":\"621d83e3-65ab-49d3-be38-d9f4640e0307\",\"type\":\"ColumnDataSource\"},\"glyph\":{\"id\":\"b096f986-6a1f-4d91-b78c-cf78f5f87f0e\",\"type\":\"Rect\"},\"hover_glyph\":null,\"nonselection_glyph\":null,\"selection_glyph\":null},\"id\":\"8ac6539a-d298-4d2a-a3ec-c0a7e5945e51\",\"type\":\"GlyphRenderer\"},{\"attributes\":{\"fill_alpha\":{\"field\":\"fill_alpha\"},\"fill_color\":{\"field\":\"color\"},\"height\":{\"field\":\"height\",\"units\":\"data\"},\"line_color\":{\"field\":\"line_color\"},\"width\":{\"field\":\"width\",\"units\":\"data\"},\"x\":{\"field\":\"x\"},\"y\":{\"field\":\"y\"}},\"id\":\"fc2aa045-99ec-4257-b3a5-3d106c731a00\",\"type\":\"Rect\"},{\"attributes\":{\"callback\":null,\"column_names\":[\"line_alpha\",\"line_color\",\"x\",\"label\",\"height\",\"fill_alpha\",\"y\",\"width\",\"color\"],\"data\":{\"chart_index\":[{\"state\":\"04 Alaska\"}],\"color\":[\"#f22c40\"],\"fill_alpha\":[0.8],\"height\":[2.6666666666666665],\"label\":[{\"state\":\"04 Alaska\"}],\"line_alpha\":[1.0],\"line_color\":[\"white\"],\"state\":[\"04 Alaska\"],\"width\":[0.8],\"x\":[\"04 Alaska\"],\"y\":[1.3333333333333333]}},\"id\":\"f3f111c8-6082-4687-9b8f-6d560b4c6fc5\",\"type\":\"ColumnDataSource\"},{\"attributes\":{\"fill_alpha\":{\"field\":\"fill_alpha\"},\"fill_color\":{\"field\":\"color\"},\"height\":{\"field\":\"height\",\"units\":\"data\"},\"line_color\":{\"field\":\"line_color\"},\"width\":{\"field\":\"width\",\"units\":\"data\"},\"x\":{\"field\":\"x\"},\"y\":{\"field\":\"y\"}},\"id\":\"3a4ac9db-67f0-4e2f-9bf6-43d2988fb66b\",\"type\":\"Rect\"},{\"attributes\":{\"data_source\":{\"id\":\"a3df246c-192f-454f-afd4-e1bdcb35237e\",\"type\":\"ColumnDataSource\"},\"glyph\":{\"id\":\"b6d20464-0906-4d54-b8ca-53e548a16048\",\"type\":\"Rect\"},\"hover_glyph\":null,\"nonselection_glyph\":null,\"selection_glyph\":null},\"id\":\"f53ff510-9e00-4ccd-addd-78e4413f1714\",\"type\":\"GlyphRenderer\"},{\"attributes\":{\"fill_alpha\":{\"field\":\"fill_alpha\"},\"fill_color\":{\"field\":\"color\"},\"height\":{\"field\":\"height\",\"units\":\"data\"},\"line_color\":{\"field\":\"line_color\"},\"width\":{\"field\":\"width\",\"units\":\"data\"},\"x\":{\"field\":\"x\"},\"y\":{\"field\":\"y\"}},\"id\":\"63862424-aa38-4337-8711-a87f532c0974\",\"type\":\"Rect\"},{\"attributes\":{\"data_source\":{\"id\":\"ac7c8b20-d5f7-4f9f-aae3-0ab68c0256ba\",\"type\":\"ColumnDataSource\"},\"glyph\":{\"id\":\"e02bf13d-8dbd-49b2-a8f4-9cd3b5a2c58d\",\"type\":\"Rect\"},\"hover_glyph\":null,\"nonselection_glyph\":null,\"selection_glyph\":null},\"id\":\"9a425f5a-9099-4f5f-a3b4-aff7f65bc7eb\",\"type\":\"GlyphRenderer\"},{\"attributes\":{\"fill_alpha\":{\"field\":\"fill_alpha\"},\"fill_color\":{\"field\":\"color\"},\"height\":{\"field\":\"height\",\"units\":\"data\"},\"line_color\":{\"field\":\"line_color\"},\"width\":{\"field\":\"width\",\"units\":\"data\"},\"x\":{\"field\":\"x\"},\"y\":{\"field\":\"y\"}},\"id\":\"fef320af-9d5f-4b21-a0f1-8edcaa6ec3e2\",\"type\":\"Rect\"},{\"attributes\":{\"callback\":null,\"column_names\":[\"line_alpha\",\"line_color\",\"x\",\"label\",\"height\",\"fill_alpha\",\"y\",\"width\",\"color\"],\"data\":{\"chart_index\":[{\"state\":\"48 New Hampshire\"}],\"color\":[\"#f22c40\"],\"fill_alpha\":[0.8],\"height\":[-1.0],\"label\":[{\"state\":\"48 New Hampshire\"}],\"line_alpha\":[1.0],\"line_color\":[\"white\"],\"state\":[\"48 New Hampshire\"],\"width\":[0.8],\"x\":[\"48 New Hampshire\"],\"y\":[-0.5]}},\"id\":\"5d9820f0-1737-40d3-98bc-1d9016607c9a\",\"type\":\"ColumnDataSource\"},{\"attributes\":{\"callback\":null,\"column_names\":[\"line_alpha\",\"line_color\",\"x\",\"label\",\"height\",\"fill_alpha\",\"y\",\"width\",\"color\"],\"data\":{\"chart_index\":[{\"state\":\"07 Arkansas\"}],\"color\":[\"#f22c40\"],\"fill_alpha\":[0.8],\"height\":[1.6666666666666667],\"label\":[{\"state\":\"07 Arkansas\"}],\"line_alpha\":[1.0],\"line_color\":[\"white\"],\"state\":[\"07 Arkansas\"],\"width\":[0.8],\"x\":[\"07 Arkansas\"],\"y\":[0.8333333333333334]}},\"id\":\"58c0d09c-b8e4-400b-85f7-3f10691be57b\",\"type\":\"ColumnDataSource\"},{\"attributes\":{\"fill_alpha\":{\"field\":\"fill_alpha\"},\"fill_color\":{\"field\":\"color\"},\"height\":{\"field\":\"height\",\"units\":\"data\"},\"line_color\":{\"field\":\"line_color\"},\"width\":{\"field\":\"width\",\"units\":\"data\"},\"x\":{\"field\":\"x\"},\"y\":{\"field\":\"y\"}},\"id\":\"10abac5f-725b-4813-a707-2d01a1d3ba03\",\"type\":\"Rect\"},{\"attributes\":{\"callback\":null,\"column_names\":[\"line_alpha\",\"line_color\",\"x\",\"label\",\"height\",\"fill_alpha\",\"y\",\"width\",\"color\"],\"data\":{\"chart_index\":[{\"state\":\"24 Maryland\"}],\"color\":[\"#f22c40\"],\"fill_alpha\":[0.8],\"height\":[0.7142857142857143],\"label\":[{\"state\":\"24 Maryland\"}],\"line_alpha\":[1.0],\"line_color\":[\"white\"],\"state\":[\"24 Maryland\"],\"width\":[0.8],\"x\":[\"24 Maryland\"],\"y\":[0.35714285714285715]}},\"id\":\"3807afdd-62d2-4716-9a27-69313b588e88\",\"type\":\"ColumnDataSource\"},{\"attributes\":{\"callback\":null,\"column_names\":[\"line_alpha\",\"line_color\",\"x\",\"label\",\"height\",\"fill_alpha\",\"y\",\"width\",\"color\"],\"data\":{\"chart_index\":[{\"state\":\"43 Wisconsin\"}],\"color\":[\"#f22c40\"],\"fill_alpha\":[0.8],\"height\":[-0.13333333333333333],\"label\":[{\"state\":\"43 Wisconsin\"}],\"line_alpha\":[1.0],\"line_color\":[\"white\"],\"state\":[\"43 Wisconsin\"],\"width\":[0.8],\"x\":[\"43 Wisconsin\"],\"y\":[-0.06666666666666667]}},\"id\":\"1ce8c959-96af-4798-b046-fc1baa864e00\",\"type\":\"ColumnDataSource\"},{\"attributes\":{\"callback\":null,\"factors\":[\"01 Vermont\",\"02 Nebraska\",\"03 Montana\",\"04 Alaska\",\"05 Iowa\",\"06 West Virginia\",\"07 Arkansas\",\"08 North Dakota\",\"09 New York\",\"10 Oklahoma\",\"11 Washington\",\"12 Indiana\",\"13 Mississippi\",\"14 North Carolina\",\"15 Ohio\",\"16 Florida\",\"17 Colorado\",\"18 Hawaii\",\"19 Alabama\",\"20 Connecticut\",\"21 New Mexico\",\"22 Minnesota\",\"23 South Carolina\",\"24 Maryland\",\"25 Utah\",\"26 Pennsylvania\",\"27 Nevada\",\"28 California\",\"29 Illinois\",\"30 Idaho\",\"31 Kentucky\",\"32 Texas\",\"33 Virginia\",\"34 Oregon\",\"35 Louisiana\",\"36 Massachusetts\",\"37 Tennessee\",\"38 Missouri\",\"39 Maine\",\"40 South Dakota\",\"41 Kansas\",\"42 Georgia\",\"43 Wisconsin\",\"44 New Jersey\",\"45 Michigan\",\"46 Arizona\",\"47 Wyoming\",\"48 New Hampshire\",\"49 Delaware\",\"50 Rhode Island\"]},\"id\":\"e8cd8932-5895-4820-80bf-1a57d71e3dc5\",\"type\":\"FactorRange\"},{\"attributes\":{\"data_source\":{\"id\":\"7e9a0630-beb2-44c5-970f-e55ba50e5054\",\"type\":\"ColumnDataSource\"},\"glyph\":{\"id\":\"3004fa82-50a3-496e-9a42-75549a94f7a9\",\"type\":\"Rect\"},\"hover_glyph\":null,\"nonselection_glyph\":null,\"selection_glyph\":null},\"id\":\"d88308fc-e060-42b1-8aef-1b5a4bed7b13\",\"type\":\"GlyphRenderer\"},{\"attributes\":{\"data_source\":{\"id\":\"1905d7cc-b4ec-48b4-8561-ef82c844d64f\",\"type\":\"ColumnDataSource\"},\"glyph\":{\"id\":\"20766126-9e01-4c19-bf11-187f7f2fb716\",\"type\":\"Rect\"},\"hover_glyph\":null,\"nonselection_glyph\":null,\"selection_glyph\":null},\"id\":\"279230b5-d08c-4bf4-b0f8-f77ba7450c36\",\"type\":\"GlyphRenderer\"},{\"attributes\":{},\"id\":\"f249ae0c-0ea2-4743-b248-0da9863b0fb8\",\"type\":\"CategoricalTickFormatter\"},{\"attributes\":{\"callback\":null,\"column_names\":[\"line_alpha\",\"line_color\",\"x\",\"label\",\"height\",\"fill_alpha\",\"y\",\"width\",\"color\"],\"data\":{\"chart_index\":[{\"state\":\"01 Vermont\"}],\"color\":[\"#f22c40\"],\"fill_alpha\":[0.8],\"height\":[3.3333333333333335],\"label\":[{\"state\":\"01 Vermont\"}],\"line_alpha\":[1.0],\"line_color\":[\"white\"],\"state\":[\"01 Vermont\"],\"width\":[0.8],\"x\":[\"01 Vermont\"],\"y\":[1.6666666666666667]}},\"id\":\"7d767c4d-9eff-4816-856e-01701ac47ee4\",\"type\":\"ColumnDataSource\"},{\"attributes\":{\"data_source\":{\"id\":\"9708d81d-c03b-4214-965c-b398c35a39f2\",\"type\":\"ColumnDataSource\"},\"glyph\":{\"id\":\"3a4ac9db-67f0-4e2f-9bf6-43d2988fb66b\",\"type\":\"Rect\"},\"hover_glyph\":null,\"nonselection_glyph\":null,\"selection_glyph\":null},\"id\":\"80b8bada-7786-4934-8a70-1b45fb1cc976\",\"type\":\"GlyphRenderer\"},{\"attributes\":{\"callback\":null,\"column_names\":[\"line_alpha\",\"line_color\",\"x\",\"label\",\"height\",\"fill_alpha\",\"y\",\"width\",\"color\"],\"data\":{\"chart_index\":[{\"state\":\"34 Oregon\"}],\"color\":[\"#f22c40\"],\"fill_alpha\":[0.8],\"height\":[0.18181818181818182],\"label\":[{\"state\":\"34 Oregon\"}],\"line_alpha\":[1.0],\"line_color\":[\"white\"],\"state\":[\"34 Oregon\"],\"width\":[0.8],\"x\":[\"34 Oregon\"],\"y\":[0.09090909090909091]}},\"id\":\"fd167193-dd0a-4a50-810e-c215930a6d19\",\"type\":\"ColumnDataSource\"},{\"attributes\":{\"data_source\":{\"id\":\"f89b8f46-e793-474b-b8be-7ce3459b6886\",\"type\":\"ColumnDataSource\"},\"glyph\":{\"id\":\"4c57fa42-36b9-446d-b522-f2cd6daaf18f\",\"type\":\"Rect\"},\"hover_glyph\":null,\"nonselection_glyph\":null,\"selection_glyph\":null},\"id\":\"cbf85e74-433c-465b-9d0d-1a1ec132debf\",\"type\":\"GlyphRenderer\"},{\"attributes\":{\"callback\":null,\"column_names\":[\"line_alpha\",\"line_color\",\"x\",\"label\",\"height\",\"fill_alpha\",\"y\",\"width\",\"color\"],\"data\":{\"chart_index\":[{\"state\":\"03 Montana\"}],\"color\":[\"#f22c40\"],\"fill_alpha\":[0.8],\"height\":[2.6666666666666665],\"label\":[{\"state\":\"03 Montana\"}],\"line_alpha\":[1.0],\"line_color\":[\"white\"],\"state\":[\"03 Montana\"],\"width\":[0.8],\"x\":[\"03 Montana\"],\"y\":[1.3333333333333333]}},\"id\":\"0bcdb6ea-1f7d-4a14-a2fa-da20626495a4\",\"type\":\"ColumnDataSource\"},{\"attributes\":{\"data_source\":{\"id\":\"825115f9-8f1b-4997-9859-bca7999e569d\",\"type\":\"ColumnDataSource\"},\"glyph\":{\"id\":\"7c81bd65-3415-4edc-8388-0700043e535c\",\"type\":\"Rect\"},\"hover_glyph\":null,\"nonselection_glyph\":null,\"selection_glyph\":null},\"id\":\"b9d42cb8-6335-47e0-bc69-2056911cc075\",\"type\":\"GlyphRenderer\"},{\"attributes\":{\"data_source\":{\"id\":\"224b5f36-d270-43da-b705-e86787bb61dc\",\"type\":\"ColumnDataSource\"},\"glyph\":{\"id\":\"a1072933-974f-4cc6-a35d-66a8b0c09b7a\",\"type\":\"Rect\"},\"hover_glyph\":null,\"nonselection_glyph\":null,\"selection_glyph\":null},\"id\":\"9282c15a-267a-489e-b34e-598f6ebcd06b\",\"type\":\"GlyphRenderer\"},{\"attributes\":{\"callback\":null,\"column_names\":[\"line_alpha\",\"line_color\",\"x\",\"label\",\"height\",\"fill_alpha\",\"y\",\"width\",\"color\"],\"data\":{\"chart_index\":[{\"state\":\"29 Illinois\"}],\"color\":[\"#f22c40\"],\"fill_alpha\":[0.8],\"height\":[0.3488372093023256],\"label\":[{\"state\":\"29 Illinois\"}],\"line_alpha\":[1.0],\"line_color\":[\"white\"],\"state\":[\"29 Illinois\"],\"width\":[0.8],\"x\":[\"29 Illinois\"],\"y\":[0.1744186046511628]}},\"id\":\"b639f123-3308-4da2-b723-12800e354a57\",\"type\":\"ColumnDataSource\"},{\"attributes\":{\"axis_label\":\"Sum( Happiness )\",\"formatter\":{\"id\":\"975b803f-db62-418b-b79c-8f91ad85a97e\",\"type\":\"BasicTickFormatter\"},\"plot\":{\"id\":\"027f81e7-ed6d-4462-aaad-0b714029641c\",\"subtype\":\"Chart\",\"type\":\"Plot\"},\"ticker\":{\"id\":\"d3056f2c-5e86-496c-afac-bc1cd62e05b1\",\"type\":\"BasicTicker\"}},\"id\":\"b1cdd237-e7ca-4b9e-a74d-859333d9ce0f\",\"type\":\"LinearAxis\"},{\"attributes\":{\"data_source\":{\"id\":\"5e610e24-0103-442c-afb2-f7aea57a2ca2\",\"type\":\"ColumnDataSource\"},\"glyph\":{\"id\":\"90d43058-106c-49c6-a191-77544557ba15\",\"type\":\"Rect\"},\"hover_glyph\":null,\"nonselection_glyph\":null,\"selection_glyph\":null},\"id\":\"cf84dfdc-52c5-4bd2-946e-80606ffcfd3f\",\"type\":\"GlyphRenderer\"},{\"attributes\":{\"fill_alpha\":{\"field\":\"fill_alpha\"},\"fill_color\":{\"field\":\"color\"},\"height\":{\"field\":\"height\",\"units\":\"data\"},\"line_color\":{\"field\":\"line_color\"},\"width\":{\"field\":\"width\",\"units\":\"data\"},\"x\":{\"field\":\"x\"},\"y\":{\"field\":\"y\"}},\"id\":\"e0eaf54c-9c53-4e52-8560-b52bbba364a4\",\"type\":\"Rect\"},{\"attributes\":{\"callback\":null,\"column_names\":[\"line_alpha\",\"line_color\",\"x\",\"label\",\"height\",\"fill_alpha\",\"y\",\"width\",\"color\"],\"data\":{\"chart_index\":[{\"state\":\"14 North Carolina\"}],\"color\":[\"#f22c40\"],\"fill_alpha\":[0.8],\"height\":[1.3142857142857143],\"label\":[{\"state\":\"14 North Carolina\"}],\"line_alpha\":[1.0],\"line_color\":[\"white\"],\"state\":[\"14 North Carolina\"],\"width\":[0.8],\"x\":[\"14 North Carolina\"],\"y\":[0.6571428571428571]}},\"id\":\"b622645c-8a42-4554-a6db-32164d5d0ba3\",\"type\":\"ColumnDataSource\"},{\"attributes\":{\"fill_alpha\":{\"field\":\"fill_alpha\"},\"fill_color\":{\"field\":\"color\"},\"height\":{\"field\":\"height\",\"units\":\"data\"},\"line_color\":{\"field\":\"line_color\"},\"width\":{\"field\":\"width\",\"units\":\"data\"},\"x\":{\"field\":\"x\"},\"y\":{\"field\":\"y\"}},\"id\":\"41436710-947d-4fb0-b99f-c6f92ce43d14\",\"type\":\"Rect\"},{\"attributes\":{\"callback\":null,\"column_names\":[\"line_alpha\",\"line_color\",\"x\",\"label\",\"height\",\"fill_alpha\",\"y\",\"width\",\"color\"],\"data\":{\"chart_index\":[{\"state\":\"25 Utah\"}],\"color\":[\"#f22c40\"],\"fill_alpha\":[0.8],\"height\":[0.6666666666666666],\"label\":[{\"state\":\"25 Utah\"}],\"line_alpha\":[1.0],\"line_color\":[\"white\"],\"state\":[\"25 Utah\"],\"width\":[0.8],\"x\":[\"25 Utah\"],\"y\":[0.3333333333333333]}},\"id\":\"6f3c1fba-c711-4b1f-ab3b-871211a38042\",\"type\":\"ColumnDataSource\"},{\"attributes\":{\"data_source\":{\"id\":\"82de5d9e-fe1d-4170-975e-4bab51adcc68\",\"type\":\"ColumnDataSource\"},\"glyph\":{\"id\":\"762233b3-2f28-419d-9e8b-970c78131057\",\"type\":\"Rect\"},\"hover_glyph\":null,\"nonselection_glyph\":null,\"selection_glyph\":null},\"id\":\"ce15380b-919c-48c3-9f1d-add0319413ac\",\"type\":\"GlyphRenderer\"},{\"attributes\":{\"fill_alpha\":{\"field\":\"fill_alpha\"},\"fill_color\":{\"field\":\"color\"},\"height\":{\"field\":\"height\",\"units\":\"data\"},\"line_color\":{\"field\":\"line_color\"},\"width\":{\"field\":\"width\",\"units\":\"data\"},\"x\":{\"field\":\"x\"},\"y\":{\"field\":\"y\"}},\"id\":\"66ccac07-fae2-4b50-ae99-3e60baea67bf\",\"type\":\"Rect\"},{\"attributes\":{\"fill_alpha\":{\"field\":\"fill_alpha\"},\"fill_color\":{\"field\":\"color\"},\"height\":{\"field\":\"height\",\"units\":\"data\"},\"line_color\":{\"field\":\"line_color\"},\"width\":{\"field\":\"width\",\"units\":\"data\"},\"x\":{\"field\":\"x\"},\"y\":{\"field\":\"y\"}},\"id\":\"74f1e524-27a5-41fc-b09b-47a48c3572a6\",\"type\":\"Rect\"},{\"attributes\":{\"callback\":null,\"column_names\":[\"line_alpha\",\"line_color\",\"x\",\"label\",\"height\",\"fill_alpha\",\"y\",\"width\",\"color\"],\"data\":{\"chart_index\":[{\"state\":\"35 Louisiana\"}],\"color\":[\"#f22c40\"],\"fill_alpha\":[0.8],\"height\":[0.1724137931034483],\"label\":[{\"state\":\"35 Louisiana\"}],\"line_alpha\":[1.0],\"line_color\":[\"white\"],\"state\":[\"35 Louisiana\"],\"width\":[0.8],\"x\":[\"35 Louisiana\"],\"y\":[0.08620689655172414]}},\"id\":\"d111abe1-3829-4dde-ba78-876bf97da4af\",\"type\":\"ColumnDataSource\"},{\"attributes\":{\"data_source\":{\"id\":\"7d767c4d-9eff-4816-856e-01701ac47ee4\",\"type\":\"ColumnDataSource\"},\"glyph\":{\"id\":\"1c07c465-9e75-41d8-979b-895880ba7909\",\"type\":\"Rect\"},\"hover_glyph\":null,\"nonselection_glyph\":null,\"selection_glyph\":null},\"id\":\"1bf10dea-9cba-4d97-afc8-364058ef40be\",\"type\":\"GlyphRenderer\"},{\"attributes\":{\"data_source\":{\"id\":\"d111abe1-3829-4dde-ba78-876bf97da4af\",\"type\":\"ColumnDataSource\"},\"glyph\":{\"id\":\"3b7a0c29-3345-4acb-ad4a-bd9a892c7ab1\",\"type\":\"Rect\"},\"hover_glyph\":null,\"nonselection_glyph\":null,\"selection_glyph\":null},\"id\":\"5ec4c353-7d19-4189-be40-2dd41079dd71\",\"type\":\"GlyphRenderer\"},{\"attributes\":{\"callback\":null,\"column_names\":[\"line_alpha\",\"line_color\",\"x\",\"label\",\"height\",\"fill_alpha\",\"y\",\"width\",\"color\"],\"data\":{\"chart_index\":[{\"state\":\"38 Missouri\"}],\"color\":[\"#f22c40\"],\"fill_alpha\":[0.8],\"height\":[0.058823529411764705],\"label\":[{\"state\":\"38 Missouri\"}],\"line_alpha\":[1.0],\"line_color\":[\"white\"],\"state\":[\"38 Missouri\"],\"width\":[0.8],\"x\":[\"38 Missouri\"],\"y\":[0.029411764705882353]}},\"id\":\"eee60aad-286b-4ff9-91d1-c5229777663b\",\"type\":\"ColumnDataSource\"},{\"attributes\":{\"callback\":null,\"column_names\":[\"line_alpha\",\"line_color\",\"x\",\"label\",\"height\",\"fill_alpha\",\"y\",\"width\",\"color\"],\"data\":{\"chart_index\":[{\"state\":\"36 Massachusetts\"}],\"color\":[\"#f22c40\"],\"fill_alpha\":[0.8],\"height\":[0.15625],\"label\":[{\"state\":\"36 Massachusetts\"}],\"line_alpha\":[1.0],\"line_color\":[\"white\"],\"state\":[\"36 Massachusetts\"],\"width\":[0.8],\"x\":[\"36 Massachusetts\"],\"y\":[0.078125]}},\"id\":\"9d800610-fc69-4970-a3df-aa3c69ac8c49\",\"type\":\"ColumnDataSource\"},{\"attributes\":{\"data_source\":{\"id\":\"5d9820f0-1737-40d3-98bc-1d9016607c9a\",\"type\":\"ColumnDataSource\"},\"glyph\":{\"id\":\"096090e7-00cb-4b24-8247-d1fb51a80821\",\"type\":\"Rect\"},\"hover_glyph\":null,\"nonselection_glyph\":null,\"selection_glyph\":null},\"id\":\"7d172c18-51f1-4b52-8f23-5497514c1ec0\",\"type\":\"GlyphRenderer\"},{\"attributes\":{\"plot\":{\"id\":\"027f81e7-ed6d-4462-aaad-0b714029641c\",\"subtype\":\"Chart\",\"type\":\"Plot\"}},\"id\":\"e03204fc-62d7-4684-b42f-6add266c69f0\",\"type\":\"HelpTool\"},{\"attributes\":{\"fill_alpha\":{\"field\":\"fill_alpha\"},\"fill_color\":{\"field\":\"color\"},\"height\":{\"field\":\"height\",\"units\":\"data\"},\"line_color\":{\"field\":\"line_color\"},\"width\":{\"field\":\"width\",\"units\":\"data\"},\"x\":{\"field\":\"x\"},\"y\":{\"field\":\"y\"}},\"id\":\"55edfa36-7605-4544-bcb0-d99c0e02fdc4\",\"type\":\"Rect\"},{\"attributes\":{\"callback\":null,\"column_names\":[\"line_alpha\",\"line_color\",\"x\",\"label\",\"height\",\"fill_alpha\",\"y\",\"width\",\"color\"],\"data\":{\"chart_index\":[{\"state\":\"39 Maine\"}],\"color\":[\"#f22c40\"],\"fill_alpha\":[0.8],\"height\":[0.0],\"label\":[{\"state\":\"39 Maine\"}],\"line_alpha\":[1.0],\"line_color\":[\"white\"],\"state\":[\"39 Maine\"],\"width\":[0.8],\"x\":[\"39 Maine\"],\"y\":[0.0]}},\"id\":\"7e9a0630-beb2-44c5-970f-e55ba50e5054\",\"type\":\"ColumnDataSource\"},{\"attributes\":{\"callback\":null,\"column_names\":[\"line_alpha\",\"line_color\",\"x\",\"label\",\"height\",\"fill_alpha\",\"y\",\"width\",\"color\"],\"data\":{\"chart_index\":[{\"state\":\"41 Kansas\"}],\"color\":[\"#f22c40\"],\"fill_alpha\":[0.8],\"height\":[-0.09090909090909091],\"label\":[{\"state\":\"41 Kansas\"}],\"line_alpha\":[1.0],\"line_color\":[\"white\"],\"state\":[\"41 Kansas\"],\"width\":[0.8],\"x\":[\"41 Kansas\"],\"y\":[-0.045454545454545456]}},\"id\":\"9f95427b-34c9-41a2-98f6-0c44290ab7cc\",\"type\":\"ColumnDataSource\"},{\"attributes\":{\"fill_alpha\":{\"field\":\"fill_alpha\"},\"fill_color\":{\"field\":\"color\"},\"height\":{\"field\":\"height\",\"units\":\"data\"},\"line_color\":{\"field\":\"line_color\"},\"width\":{\"field\":\"width\",\"units\":\"data\"},\"x\":{\"field\":\"x\"},\"y\":{\"field\":\"y\"}},\"id\":\"3004fa82-50a3-496e-9a42-75549a94f7a9\",\"type\":\"Rect\"},{\"attributes\":{\"callback\":null,\"column_names\":[\"line_alpha\",\"line_color\",\"x\",\"label\",\"height\",\"fill_alpha\",\"y\",\"width\",\"color\"],\"data\":{\"chart_index\":[{\"state\":\"11 Washington\"}],\"color\":[\"#f22c40\"],\"fill_alpha\":[0.8],\"height\":[1.55],\"label\":[{\"state\":\"11 Washington\"}],\"line_alpha\":[1.0],\"line_color\":[\"white\"],\"state\":[\"11 Washington\"],\"width\":[0.8],\"x\":[\"11 Washington\"],\"y\":[0.775]}},\"id\":\"3d09ce4e-3d2a-4030-8914-2abbebbef96b\",\"type\":\"ColumnDataSource\"},{\"attributes\":{\"fill_alpha\":{\"field\":\"fill_alpha\"},\"fill_color\":{\"field\":\"color\"},\"height\":{\"field\":\"height\",\"units\":\"data\"},\"line_color\":{\"field\":\"line_color\"},\"width\":{\"field\":\"width\",\"units\":\"data\"},\"x\":{\"field\":\"x\"},\"y\":{\"field\":\"y\"}},\"id\":\"6f079e9f-b014-4f94-827a-67f8b3f9cea0\",\"type\":\"Rect\"},{\"attributes\":{\"data_source\":{\"id\":\"5ee6868b-f848-4715-b7bb-b2fbc06046e0\",\"type\":\"ColumnDataSource\"},\"glyph\":{\"id\":\"464dedb4-2df8-4d17-8d97-f8be9aea50d8\",\"type\":\"Rect\"},\"hover_glyph\":null,\"nonselection_glyph\":null,\"selection_glyph\":null},\"id\":\"57863f0c-8e35-4676-a699-03afd70c9838\",\"type\":\"GlyphRenderer\"},{\"attributes\":{\"callback\":null,\"column_names\":[\"line_alpha\",\"line_color\",\"x\",\"label\",\"height\",\"fill_alpha\",\"y\",\"width\",\"color\"],\"data\":{\"chart_index\":[{\"state\":\"13 Mississippi\"}],\"color\":[\"#f22c40\"],\"fill_alpha\":[0.8],\"height\":[1.4285714285714286],\"label\":[{\"state\":\"13 Mississippi\"}],\"line_alpha\":[1.0],\"line_color\":[\"white\"],\"state\":[\"13 Mississippi\"],\"width\":[0.8],\"x\":[\"13 Mississippi\"],\"y\":[0.7142857142857143]}},\"id\":\"6e788e81-218f-415e-bc7f-baaa462cd673\",\"type\":\"ColumnDataSource\"},{\"attributes\":{\"fill_alpha\":{\"field\":\"fill_alpha\"},\"fill_color\":{\"field\":\"color\"},\"height\":{\"field\":\"height\",\"units\":\"data\"},\"line_color\":{\"field\":\"line_color\"},\"width\":{\"field\":\"width\",\"units\":\"data\"},\"x\":{\"field\":\"x\"},\"y\":{\"field\":\"y\"}},\"id\":\"d637fb55-8fe1-43d6-b287-8fc70a0cdbbc\",\"type\":\"Rect\"},{\"attributes\":{\"axis_label\":\"State\",\"formatter\":{\"id\":\"f249ae0c-0ea2-4743-b248-0da9863b0fb8\",\"type\":\"CategoricalTickFormatter\"},\"major_label_orientation\":0.7853981633974483,\"plot\":{\"id\":\"027f81e7-ed6d-4462-aaad-0b714029641c\",\"subtype\":\"Chart\",\"type\":\"Plot\"},\"ticker\":{\"id\":\"1f8f0025-de5f-4d55-84d8-e3a71f5315cf\",\"type\":\"CategoricalTicker\"}},\"id\":\"ac37d9f5-0666-47dc-9e06-77dec9075f40\",\"type\":\"CategoricalAxis\"},{\"attributes\":{\"fill_alpha\":{\"field\":\"fill_alpha\"},\"fill_color\":{\"field\":\"color\"},\"height\":{\"field\":\"height\",\"units\":\"data\"},\"line_color\":{\"field\":\"line_color\"},\"width\":{\"field\":\"width\",\"units\":\"data\"},\"x\":{\"field\":\"x\"},\"y\":{\"field\":\"y\"}},\"id\":\"a2d0e79e-0a98-4d30-8248-aaddd04aa0a4\",\"type\":\"Rect\"},{\"attributes\":{\"callback\":null,\"column_names\":[\"line_alpha\",\"line_color\",\"x\",\"label\",\"height\",\"fill_alpha\",\"y\",\"width\",\"color\"],\"data\":{\"chart_index\":[{\"state\":\"37 Tennessee\"}],\"color\":[\"#f22c40\"],\"fill_alpha\":[0.8],\"height\":[0.13043478260869565],\"label\":[{\"state\":\"37 Tennessee\"}],\"line_alpha\":[1.0],\"line_color\":[\"white\"],\"state\":[\"37 Tennessee\"],\"width\":[0.8],\"x\":[\"37 Tennessee\"],\"y\":[0.06521739130434782]}},\"id\":\"621d83e3-65ab-49d3-be38-d9f4640e0307\",\"type\":\"ColumnDataSource\"},{\"attributes\":{\"data_source\":{\"id\":\"6e788e81-218f-415e-bc7f-baaa462cd673\",\"type\":\"ColumnDataSource\"},\"glyph\":{\"id\":\"74f1e524-27a5-41fc-b09b-47a48c3572a6\",\"type\":\"Rect\"},\"hover_glyph\":null,\"nonselection_glyph\":null,\"selection_glyph\":null},\"id\":\"0f00de8a-4562-43c9-b465-e85fd1c60908\",\"type\":\"GlyphRenderer\"},{\"attributes\":{\"callback\":null,\"column_names\":[\"line_alpha\",\"line_color\",\"x\",\"label\",\"height\",\"fill_alpha\",\"y\",\"width\",\"color\"],\"data\":{\"chart_index\":[{\"state\":\"06 West Virginia\"}],\"color\":[\"#f22c40\"],\"fill_alpha\":[0.8],\"height\":[1.7142857142857142],\"label\":[{\"state\":\"06 West Virginia\"}],\"line_alpha\":[1.0],\"line_color\":[\"white\"],\"state\":[\"06 West Virginia\"],\"width\":[0.8],\"x\":[\"06 West Virginia\"],\"y\":[0.8571428571428571]}},\"id\":\"3879ca33-137c-458c-87e6-4d70b1c70b59\",\"type\":\"ColumnDataSource\"},{\"attributes\":{\"callback\":null,\"column_names\":[\"line_alpha\",\"line_color\",\"x\",\"label\",\"height\",\"fill_alpha\",\"y\",\"width\",\"color\"],\"data\":{\"chart_index\":[{\"state\":\"44 New Jersey\"}],\"color\":[\"#f22c40\"],\"fill_alpha\":[0.8],\"height\":[-0.6285714285714286],\"label\":[{\"state\":\"44 New Jersey\"}],\"line_alpha\":[1.0],\"line_color\":[\"white\"],\"state\":[\"44 New Jersey\"],\"width\":[0.8],\"x\":[\"44 New Jersey\"],\"y\":[-0.3142857142857143]}},\"id\":\"92dca22c-f11a-49a8-b7a5-6df8bbd1379c\",\"type\":\"ColumnDataSource\"},{\"attributes\":{\"data_source\":{\"id\":\"037389b0-103a-4857-aef3-ef7943228cf2\",\"type\":\"ColumnDataSource\"},\"glyph\":{\"id\":\"55edfa36-7605-4544-bcb0-d99c0e02fdc4\",\"type\":\"Rect\"},\"hover_glyph\":null,\"nonselection_glyph\":null,\"selection_glyph\":null},\"id\":\"9461c128-0248-43b2-b979-6a7eaa3b68cb\",\"type\":\"GlyphRenderer\"},{\"attributes\":{\"fill_alpha\":{\"field\":\"fill_alpha\"},\"fill_color\":{\"field\":\"color\"},\"height\":{\"field\":\"height\",\"units\":\"data\"},\"line_color\":{\"field\":\"line_color\"},\"width\":{\"field\":\"width\",\"units\":\"data\"},\"x\":{\"field\":\"x\"},\"y\":{\"field\":\"y\"}},\"id\":\"a9b6609b-e9d9-47c7-80f6-a5e0165bc230\",\"type\":\"Rect\"},{\"attributes\":{\"callback\":null,\"column_names\":[\"line_alpha\",\"line_color\",\"x\",\"label\",\"height\",\"fill_alpha\",\"y\",\"width\",\"color\"],\"data\":{\"chart_index\":[{\"state\":\"09 New York\"}],\"color\":[\"#f22c40\"],\"fill_alpha\":[0.8],\"height\":[1.605263157894737],\"label\":[{\"state\":\"09 New York\"}],\"line_alpha\":[1.0],\"line_color\":[\"white\"],\"state\":[\"09 New York\"],\"width\":[0.8],\"x\":[\"09 New York\"],\"y\":[0.8026315789473685]}},\"id\":\"3ae14dc2-d4a8-4598-b09e-650761efe6b9\",\"type\":\"ColumnDataSource\"},{\"attributes\":{\"fill_alpha\":{\"field\":\"fill_alpha\"},\"fill_color\":{\"field\":\"color\"},\"height\":{\"field\":\"height\",\"units\":\"data\"},\"line_color\":{\"field\":\"line_color\"},\"width\":{\"field\":\"width\",\"units\":\"data\"},\"x\":{\"field\":\"x\"},\"y\":{\"field\":\"y\"}},\"id\":\"69bc2b1a-cb5c-42e7-9f20-96abb1f0c26b\",\"type\":\"Rect\"},{\"attributes\":{\"fill_alpha\":{\"field\":\"fill_alpha\"},\"fill_color\":{\"field\":\"color\"},\"height\":{\"field\":\"height\",\"units\":\"data\"},\"line_color\":{\"field\":\"line_color\"},\"width\":{\"field\":\"width\",\"units\":\"data\"},\"x\":{\"field\":\"x\"},\"y\":{\"field\":\"y\"}},\"id\":\"17c33a82-a97c-42b3-8cf3-1cae08970349\",\"type\":\"Rect\"},{\"attributes\":{\"data_source\":{\"id\":\"f3f111c8-6082-4687-9b8f-6d560b4c6fc5\",\"type\":\"ColumnDataSource\"},\"glyph\":{\"id\":\"10abac5f-725b-4813-a707-2d01a1d3ba03\",\"type\":\"Rect\"},\"hover_glyph\":null,\"nonselection_glyph\":null,\"selection_glyph\":null},\"id\":\"4fe98d8b-eb5a-4a48-9ae0-6bd2106b276f\",\"type\":\"GlyphRenderer\"},{\"attributes\":{},\"id\":\"f67ab5bf-7998-4ef4-a571-93210563b9bd\",\"type\":\"ToolEvents\"},{\"attributes\":{\"fill_alpha\":{\"field\":\"fill_alpha\"},\"fill_color\":{\"field\":\"color\"},\"height\":{\"field\":\"height\",\"units\":\"data\"},\"line_color\":{\"field\":\"line_color\"},\"width\":{\"field\":\"width\",\"units\":\"data\"},\"x\":{\"field\":\"x\"},\"y\":{\"field\":\"y\"}},\"id\":\"23c0bbe4-ee9b-420f-bf29-d1ea7343c091\",\"type\":\"Rect\"},{\"attributes\":{\"callback\":null,\"column_names\":[\"line_alpha\",\"line_color\",\"x\",\"label\",\"height\",\"fill_alpha\",\"y\",\"width\",\"color\"],\"data\":{\"chart_index\":[{\"state\":\"47 Wyoming\"}],\"color\":[\"#f22c40\"],\"fill_alpha\":[0.8],\"height\":[-1.0],\"label\":[{\"state\":\"47 Wyoming\"}],\"line_alpha\":[1.0],\"line_color\":[\"white\"],\"state\":[\"47 Wyoming\"],\"width\":[0.8],\"x\":[\"47 Wyoming\"],\"y\":[-0.5]}},\"id\":\"82de5d9e-fe1d-4170-975e-4bab51adcc68\",\"type\":\"ColumnDataSource\"},{\"attributes\":{\"data_source\":{\"id\":\"df61df0f-c493-49da-8a5a-c4fcb9747f30\",\"type\":\"ColumnDataSource\"},\"glyph\":{\"id\":\"1cef14d4-dfcb-4a5a-9f42-c883c5965517\",\"type\":\"Rect\"},\"hover_glyph\":null,\"nonselection_glyph\":null,\"selection_glyph\":null},\"id\":\"20d38d2f-af4b-48f6-a766-33679aa957db\",\"type\":\"GlyphRenderer\"},{\"attributes\":{\"data_source\":{\"id\":\"afc0720e-d1b7-4afe-aff1-8087758cad90\",\"type\":\"ColumnDataSource\"},\"glyph\":{\"id\":\"b7745c84-d170-45e2-a75e-4196ba979575\",\"type\":\"Rect\"},\"hover_glyph\":null,\"nonselection_glyph\":null,\"selection_glyph\":null},\"id\":\"9e9ae494-c6a9-4812-9767-d352107ad8a1\",\"type\":\"GlyphRenderer\"},{\"attributes\":{\"data_source\":{\"id\":\"fea00e3a-d620-41f9-96b3-49bc37731c2d\",\"type\":\"ColumnDataSource\"},\"glyph\":{\"id\":\"a9b6609b-e9d9-47c7-80f6-a5e0165bc230\",\"type\":\"Rect\"},\"hover_glyph\":null,\"nonselection_glyph\":null,\"selection_glyph\":null},\"id\":\"7f2fd462-5907-4b24-9f92-53d7ddcc8347\",\"type\":\"GlyphRenderer\"},{\"attributes\":{\"callback\":null,\"column_names\":[\"line_alpha\",\"line_color\",\"x\",\"label\",\"height\",\"fill_alpha\",\"y\",\"width\",\"color\"],\"data\":{\"chart_index\":[{\"state\":\"16 Florida\"}],\"color\":[\"#f22c40\"],\"fill_alpha\":[0.8],\"height\":[1.0138888888888888],\"label\":[{\"state\":\"16 Florida\"}],\"line_alpha\":[1.0],\"line_color\":[\"white\"],\"state\":[\"16 Florida\"],\"width\":[0.8],\"x\":[\"16 Florida\"],\"y\":[0.5069444444444444]}},\"id\":\"28d01d9b-2ba3-4f1e-b8d9-4a2b4aca6eb2\",\"type\":\"ColumnDataSource\"},{\"attributes\":{\"fill_alpha\":{\"field\":\"fill_alpha\"},\"fill_color\":{\"field\":\"color\"},\"height\":{\"field\":\"height\",\"units\":\"data\"},\"line_color\":{\"field\":\"line_color\"},\"width\":{\"field\":\"width\",\"units\":\"data\"},\"x\":{\"field\":\"x\"},\"y\":{\"field\":\"y\"}},\"id\":\"b7745c84-d170-45e2-a75e-4196ba979575\",\"type\":\"Rect\"},{\"attributes\":{\"fill_alpha\":{\"field\":\"fill_alpha\"},\"fill_color\":{\"field\":\"color\"},\"height\":{\"field\":\"height\",\"units\":\"data\"},\"line_color\":{\"field\":\"line_color\"},\"width\":{\"field\":\"width\",\"units\":\"data\"},\"x\":{\"field\":\"x\"},\"y\":{\"field\":\"y\"}},\"id\":\"762233b3-2f28-419d-9e8b-970c78131057\",\"type\":\"Rect\"},{\"attributes\":{\"fill_alpha\":{\"field\":\"fill_alpha\"},\"fill_color\":{\"field\":\"color\"},\"height\":{\"field\":\"height\",\"units\":\"data\"},\"line_color\":{\"field\":\"line_color\"},\"width\":{\"field\":\"width\",\"units\":\"data\"},\"x\":{\"field\":\"x\"},\"y\":{\"field\":\"y\"}},\"id\":\"7c81bd65-3415-4edc-8388-0700043e535c\",\"type\":\"Rect\"},{\"attributes\":{\"fill_alpha\":{\"field\":\"fill_alpha\"},\"fill_color\":{\"field\":\"color\"},\"height\":{\"field\":\"height\",\"units\":\"data\"},\"line_color\":{\"field\":\"line_color\"},\"width\":{\"field\":\"width\",\"units\":\"data\"},\"x\":{\"field\":\"x\"},\"y\":{\"field\":\"y\"}},\"id\":\"7237c5e5-a471-4e7b-b6c2-e147f7dc3635\",\"type\":\"Rect\"},{\"attributes\":{\"plot\":{\"id\":\"027f81e7-ed6d-4462-aaad-0b714029641c\",\"subtype\":\"Chart\",\"type\":\"Plot\"}},\"id\":\"956cca2c-9664-4c72-b08d-cb1a7938662b\",\"type\":\"SaveTool\"},{\"attributes\":{\"callback\":null,\"column_names\":[\"line_alpha\",\"line_color\",\"x\",\"label\",\"height\",\"fill_alpha\",\"y\",\"width\",\"color\"],\"data\":{\"chart_index\":[{\"state\":\"23 South Carolina\"}],\"color\":[\"#f22c40\"],\"fill_alpha\":[0.8],\"height\":[0.7692307692307693],\"label\":[{\"state\":\"23 South Carolina\"}],\"line_alpha\":[1.0],\"line_color\":[\"white\"],\"state\":[\"23 South Carolina\"],\"width\":[0.8],\"x\":[\"23 South Carolina\"],\"y\":[0.38461538461538464]}},\"id\":\"8bc672cd-e6d3-4aec-880e-3655ac8a2347\",\"type\":\"ColumnDataSource\"},{\"attributes\":{\"overlay\":{\"id\":\"7882c728-08e7-480f-a908-a536d2918bd2\",\"type\":\"BoxAnnotation\"},\"plot\":{\"id\":\"027f81e7-ed6d-4462-aaad-0b714029641c\",\"subtype\":\"Chart\",\"type\":\"Plot\"}},\"id\":\"97611971-ca72-4372-918b-b506f1ac2388\",\"type\":\"BoxZoomTool\"},{\"attributes\":{\"fill_alpha\":{\"field\":\"fill_alpha\"},\"fill_color\":{\"field\":\"color\"},\"height\":{\"field\":\"height\",\"units\":\"data\"},\"line_color\":{\"field\":\"line_color\"},\"width\":{\"field\":\"width\",\"units\":\"data\"},\"x\":{\"field\":\"x\"},\"y\":{\"field\":\"y\"}},\"id\":\"b4f0621c-1115-4da8-af9d-edf011305681\",\"type\":\"Rect\"},{\"attributes\":{\"fill_alpha\":{\"field\":\"fill_alpha\"},\"fill_color\":{\"field\":\"color\"},\"height\":{\"field\":\"height\",\"units\":\"data\"},\"line_color\":{\"field\":\"line_color\"},\"width\":{\"field\":\"width\",\"units\":\"data\"},\"x\":{\"field\":\"x\"},\"y\":{\"field\":\"y\"}},\"id\":\"20766126-9e01-4c19-bf11-187f7f2fb716\",\"type\":\"Rect\"},{\"attributes\":{\"data_source\":{\"id\":\"6f3c1fba-c711-4b1f-ab3b-871211a38042\",\"type\":\"ColumnDataSource\"},\"glyph\":{\"id\":\"bce33ba8-193e-44d1-9768-686f97a1b1c0\",\"type\":\"Rect\"},\"hover_glyph\":null,\"nonselection_glyph\":null,\"selection_glyph\":null},\"id\":\"a0f3c980-6614-4116-8cbb-413432057728\",\"type\":\"GlyphRenderer\"},{\"attributes\":{\"data_source\":{\"id\":\"3d09ce4e-3d2a-4030-8914-2abbebbef96b\",\"type\":\"ColumnDataSource\"},\"glyph\":{\"id\":\"3bc04225-8711-4244-9537-e58de8aa0e96\",\"type\":\"Rect\"},\"hover_glyph\":null,\"nonselection_glyph\":null,\"selection_glyph\":null},\"id\":\"68522e67-9c0e-481a-b02f-5ae28c7ddf66\",\"type\":\"GlyphRenderer\"},{\"attributes\":{\"active_drag\":\"auto\",\"active_scroll\":\"auto\",\"active_tap\":\"auto\",\"tools\":[{\"id\":\"ef671ff0-c3ee-4aad-9421-2beac6fe636e\",\"type\":\"PanTool\"},{\"id\":\"7c2a0b24-f36e-4092-a331-58e6ec7a6bee\",\"type\":\"WheelZoomTool\"},{\"id\":\"97611971-ca72-4372-918b-b506f1ac2388\",\"type\":\"BoxZoomTool\"},{\"id\":\"956cca2c-9664-4c72-b08d-cb1a7938662b\",\"type\":\"SaveTool\"},{\"id\":\"b2f1a503-daf6-4bca-963b-58c21b70436f\",\"type\":\"ResetTool\"},{\"id\":\"e03204fc-62d7-4684-b42f-6add266c69f0\",\"type\":\"HelpTool\"}]},\"id\":\"d2bb479e-bea2-43ba-8872-15be0b281791\",\"type\":\"Toolbar\"},{\"attributes\":{\"data_source\":{\"id\":\"b639f123-3308-4da2-b723-12800e354a57\",\"type\":\"ColumnDataSource\"},\"glyph\":{\"id\":\"fc2aa045-99ec-4257-b3a5-3d106c731a00\",\"type\":\"Rect\"},\"hover_glyph\":null,\"nonselection_glyph\":null,\"selection_glyph\":null},\"id\":\"59c1f74f-9301-429e-815d-51c84b382ef9\",\"type\":\"GlyphRenderer\"},{\"attributes\":{\"data_source\":{\"id\":\"92dca22c-f11a-49a8-b7a5-6df8bbd1379c\",\"type\":\"ColumnDataSource\"},\"glyph\":{\"id\":\"2e8d500e-deda-4b06-9abd-141593d4fdc1\",\"type\":\"Rect\"},\"hover_glyph\":null,\"nonselection_glyph\":null,\"selection_glyph\":null},\"id\":\"1a3e3205-ab0a-4f96-a556-951728669701\",\"type\":\"GlyphRenderer\"},{\"attributes\":{\"callback\":null,\"column_names\":[\"line_alpha\",\"line_color\",\"x\",\"label\",\"height\",\"fill_alpha\",\"y\",\"width\",\"color\"],\"data\":{\"chart_index\":[{\"state\":\"28 California\"}],\"color\":[\"#f22c40\"],\"fill_alpha\":[0.8],\"height\":[0.4358974358974359],\"label\":[{\"state\":\"28 California\"}],\"line_alpha\":[1.0],\"line_color\":[\"white\"],\"state\":[\"28 California\"],\"width\":[0.8],\"x\":[\"28 California\"],\"y\":[0.21794871794871795]}},\"id\":\"de704fc8-83e3-404b-978b-e418eedd0355\",\"type\":\"ColumnDataSource\"},{\"attributes\":{\"callback\":null,\"column_names\":[\"line_alpha\",\"line_color\",\"x\",\"label\",\"height\",\"fill_alpha\",\"y\",\"width\",\"color\"],\"data\":{\"chart_index\":[{\"state\":\"08 North Dakota\"}],\"color\":[\"#f22c40\"],\"fill_alpha\":[0.8],\"height\":[1.6666666666666667],\"label\":[{\"state\":\"08 North Dakota\"}],\"line_alpha\":[1.0],\"line_color\":[\"white\"],\"state\":[\"08 North Dakota\"],\"width\":[0.8],\"x\":[\"08 North Dakota\"],\"y\":[0.8333333333333334]}},\"id\":\"2e40b9ee-49c3-4554-a58c-9e06a0981b4e\",\"type\":\"ColumnDataSource\"},{\"attributes\":{\"data_source\":{\"id\":\"eee60aad-286b-4ff9-91d1-c5229777663b\",\"type\":\"ColumnDataSource\"},\"glyph\":{\"id\":\"41436710-947d-4fb0-b99f-c6f92ce43d14\",\"type\":\"Rect\"},\"hover_glyph\":null,\"nonselection_glyph\":null,\"selection_glyph\":null},\"id\":\"ea21103b-d46a-41c5-a9b8-716cb9ae9994\",\"type\":\"GlyphRenderer\"},{\"attributes\":{\"callback\":null,\"column_names\":[\"line_alpha\",\"line_color\",\"x\",\"label\",\"height\",\"fill_alpha\",\"y\",\"width\",\"color\"],\"data\":{\"chart_index\":[{\"state\":\"21 New Mexico\"}],\"color\":[\"#f22c40\"],\"fill_alpha\":[0.8],\"height\":[0.8],\"label\":[{\"state\":\"21 New Mexico\"}],\"line_alpha\":[1.0],\"line_color\":[\"white\"],\"state\":[\"21 New Mexico\"],\"width\":[0.8],\"x\":[\"21 New Mexico\"],\"y\":[0.4]}},\"id\":\"5e610e24-0103-442c-afb2-f7aea57a2ca2\",\"type\":\"ColumnDataSource\"},{\"attributes\":{\"fill_alpha\":{\"field\":\"fill_alpha\"},\"fill_color\":{\"field\":\"color\"},\"height\":{\"field\":\"height\",\"units\":\"data\"},\"line_color\":{\"field\":\"line_color\"},\"width\":{\"field\":\"width\",\"units\":\"data\"},\"x\":{\"field\":\"x\"},\"y\":{\"field\":\"y\"}},\"id\":\"e02bf13d-8dbd-49b2-a8f4-9cd3b5a2c58d\",\"type\":\"Rect\"},{\"attributes\":{},\"id\":\"1f8f0025-de5f-4d55-84d8-e3a71f5315cf\",\"type\":\"CategoricalTicker\"},{\"attributes\":{\"fill_alpha\":{\"field\":\"fill_alpha\"},\"fill_color\":{\"field\":\"color\"},\"height\":{\"field\":\"height\",\"units\":\"data\"},\"line_color\":{\"field\":\"line_color\"},\"width\":{\"field\":\"width\",\"units\":\"data\"},\"x\":{\"field\":\"x\"},\"y\":{\"field\":\"y\"}},\"id\":\"1d8520ad-24c0-4b45-8058-267586556bf6\",\"type\":\"Rect\"},{\"attributes\":{\"data_source\":{\"id\":\"2e40b9ee-49c3-4554-a58c-9e06a0981b4e\",\"type\":\"ColumnDataSource\"},\"glyph\":{\"id\":\"b4f0621c-1115-4da8-af9d-edf011305681\",\"type\":\"Rect\"},\"hover_glyph\":null,\"nonselection_glyph\":null,\"selection_glyph\":null},\"id\":\"9da35f77-f223-44bf-ab57-1686f6963dfe\",\"type\":\"GlyphRenderer\"},{\"attributes\":{\"fill_alpha\":{\"field\":\"fill_alpha\"},\"fill_color\":{\"field\":\"color\"},\"height\":{\"field\":\"height\",\"units\":\"data\"},\"line_color\":{\"field\":\"line_color\"},\"width\":{\"field\":\"width\",\"units\":\"data\"},\"x\":{\"field\":\"x\"},\"y\":{\"field\":\"y\"}},\"id\":\"0a16c02a-6eac-42e8-8e97-65bcbf848c72\",\"type\":\"Rect\"},{\"attributes\":{\"fill_alpha\":{\"field\":\"fill_alpha\"},\"fill_color\":{\"field\":\"color\"},\"height\":{\"field\":\"height\",\"units\":\"data\"},\"line_color\":{\"field\":\"line_color\"},\"width\":{\"field\":\"width\",\"units\":\"data\"},\"x\":{\"field\":\"x\"},\"y\":{\"field\":\"y\"}},\"id\":\"351798f2-3159-4b49-b6ef-904f90c90ba2\",\"type\":\"Rect\"},{\"attributes\":{\"fill_alpha\":{\"field\":\"fill_alpha\"},\"fill_color\":{\"field\":\"color\"},\"height\":{\"field\":\"height\",\"units\":\"data\"},\"line_color\":{\"field\":\"line_color\"},\"width\":{\"field\":\"width\",\"units\":\"data\"},\"x\":{\"field\":\"x\"},\"y\":{\"field\":\"y\"}},\"id\":\"d70b03ce-b1ad-452c-b91c-98a0aacdbedd\",\"type\":\"Rect\"},{\"attributes\":{\"data_source\":{\"id\":\"0bcdb6ea-1f7d-4a14-a2fa-da20626495a4\",\"type\":\"ColumnDataSource\"},\"glyph\":{\"id\":\"6f079e9f-b014-4f94-827a-67f8b3f9cea0\",\"type\":\"Rect\"},\"hover_glyph\":null,\"nonselection_glyph\":null,\"selection_glyph\":null},\"id\":\"6df1074e-0b4c-4db5-a6a8-a2565a131028\",\"type\":\"GlyphRenderer\"},{\"attributes\":{\"callback\":null,\"column_names\":[\"line_alpha\",\"line_color\",\"x\",\"label\",\"height\",\"fill_alpha\",\"y\",\"width\",\"color\"],\"data\":{\"chart_index\":[{\"state\":\"19 Alabama\"}],\"color\":[\"#f22c40\"],\"fill_alpha\":[0.8],\"height\":[0.9411764705882353],\"label\":[{\"state\":\"19 Alabama\"}],\"line_alpha\":[1.0],\"line_color\":[\"white\"],\"state\":[\"19 Alabama\"],\"width\":[0.8],\"x\":[\"19 Alabama\"],\"y\":[0.47058823529411764]}},\"id\":\"a3df246c-192f-454f-afd4-e1bdcb35237e\",\"type\":\"ColumnDataSource\"},{\"attributes\":{\"fill_alpha\":{\"field\":\"fill_alpha\"},\"fill_color\":{\"field\":\"color\"},\"height\":{\"field\":\"height\",\"units\":\"data\"},\"line_color\":{\"field\":\"line_color\"},\"width\":{\"field\":\"width\",\"units\":\"data\"},\"x\":{\"field\":\"x\"},\"y\":{\"field\":\"y\"}},\"id\":\"4c57fa42-36b9-446d-b522-f2cd6daaf18f\",\"type\":\"Rect\"},{\"attributes\":{\"data_source\":{\"id\":\"9f95427b-34c9-41a2-98f6-0c44290ab7cc\",\"type\":\"ColumnDataSource\"},\"glyph\":{\"id\":\"7237c5e5-a471-4e7b-b6c2-e147f7dc3635\",\"type\":\"Rect\"},\"hover_glyph\":null,\"nonselection_glyph\":null,\"selection_glyph\":null},\"id\":\"24518b13-4031-400f-8440-eb3f3185063b\",\"type\":\"GlyphRenderer\"},{\"attributes\":{\"data_source\":{\"id\":\"3807afdd-62d2-4716-9a27-69313b588e88\",\"type\":\"ColumnDataSource\"},\"glyph\":{\"id\":\"640d2290-ee53-43fb-88d2-ca3ad53ad854\",\"type\":\"Rect\"},\"hover_glyph\":null,\"nonselection_glyph\":null,\"selection_glyph\":null},\"id\":\"05675b6b-64ec-4dbb-8ec9-c632760c9b2a\",\"type\":\"GlyphRenderer\"},{\"attributes\":{\"callback\":null,\"column_names\":[\"line_alpha\",\"line_color\",\"x\",\"label\",\"height\",\"fill_alpha\",\"y\",\"width\",\"color\"],\"data\":{\"chart_index\":[{\"state\":\"02 Nebraska\"}],\"color\":[\"#f22c40\"],\"fill_alpha\":[0.8],\"height\":[3.0],\"label\":[{\"state\":\"02 Nebraska\"}],\"line_alpha\":[1.0],\"line_color\":[\"white\"],\"state\":[\"02 Nebraska\"],\"width\":[0.8],\"x\":[\"02 Nebraska\"],\"y\":[1.5]}},\"id\":\"c8dc4f0d-2448-4066-a310-192b99e573c3\",\"type\":\"ColumnDataSource\"},{\"attributes\":{\"callback\":null,\"column_names\":[\"line_alpha\",\"line_color\",\"x\",\"label\",\"height\",\"fill_alpha\",\"y\",\"width\",\"color\"],\"data\":{\"chart_index\":[{\"state\":\"46 Arizona\"}],\"color\":[\"#f22c40\"],\"fill_alpha\":[0.8],\"height\":[-0.7894736842105263],\"label\":[{\"state\":\"46 Arizona\"}],\"line_alpha\":[1.0],\"line_color\":[\"white\"],\"state\":[\"46 Arizona\"],\"width\":[0.8],\"x\":[\"46 Arizona\"],\"y\":[-0.39473684210526316]}},\"id\":\"1905d7cc-b4ec-48b4-8561-ef82c844d64f\",\"type\":\"ColumnDataSource\"},{\"attributes\":{\"fill_alpha\":{\"field\":\"fill_alpha\"},\"fill_color\":{\"field\":\"color\"},\"height\":{\"field\":\"height\",\"units\":\"data\"},\"line_color\":{\"field\":\"line_color\"},\"width\":{\"field\":\"width\",\"units\":\"data\"},\"x\":{\"field\":\"x\"},\"y\":{\"field\":\"y\"}},\"id\":\"3bc04225-8711-4244-9537-e58de8aa0e96\",\"type\":\"Rect\"},{\"attributes\":{\"callback\":null,\"column_names\":[\"line_alpha\",\"line_color\",\"x\",\"label\",\"height\",\"fill_alpha\",\"y\",\"width\",\"color\"],\"data\":{\"chart_index\":[{\"state\":\"20 Connecticut\"}],\"color\":[\"#f22c40\"],\"fill_alpha\":[0.8],\"height\":[0.9090909090909091],\"label\":[{\"state\":\"20 Connecticut\"}],\"line_alpha\":[1.0],\"line_color\":[\"white\"],\"state\":[\"20 Connecticut\"],\"width\":[0.8],\"x\":[\"20 Connecticut\"],\"y\":[0.45454545454545453]}},\"id\":\"037389b0-103a-4857-aef3-ef7943228cf2\",\"type\":\"ColumnDataSource\"},{\"attributes\":{\"callback\":null,\"column_names\":[\"line_alpha\",\"line_color\",\"x\",\"label\",\"height\",\"fill_alpha\",\"y\",\"width\",\"color\"],\"data\":{\"chart_index\":[{\"state\":\"40 South Dakota\"}],\"color\":[\"#f22c40\"],\"fill_alpha\":[0.8],\"height\":[0.0],\"label\":[{\"state\":\"40 South Dakota\"}],\"line_alpha\":[1.0],\"line_color\":[\"white\"],\"state\":[\"40 South Dakota\"],\"width\":[0.8],\"x\":[\"40 South Dakota\"],\"y\":[0.0]}},\"id\":\"9708d81d-c03b-4214-965c-b398c35a39f2\",\"type\":\"ColumnDataSource\"},{\"attributes\":{\"data_source\":{\"id\":\"b622645c-8a42-4554-a6db-32164d5d0ba3\",\"type\":\"ColumnDataSource\"},\"glyph\":{\"id\":\"b4c55eb7-3d3e-420f-a4b4-d09fef5fb02c\",\"type\":\"Rect\"},\"hover_glyph\":null,\"nonselection_glyph\":null,\"selection_glyph\":null},\"id\":\"d238d21b-03de-48b6-befd-54537754e322\",\"type\":\"GlyphRenderer\"},{\"attributes\":{\"data_source\":{\"id\":\"09ecb5ba-76df-42af-93c4-2ab6a4f79bff\",\"type\":\"ColumnDataSource\"},\"glyph\":{\"id\":\"a2d0e79e-0a98-4d30-8248-aaddd04aa0a4\",\"type\":\"Rect\"},\"hover_glyph\":null,\"nonselection_glyph\":null,\"selection_glyph\":null},\"id\":\"89fd70dc-be21-4228-905a-e1ffd8be0e05\",\"type\":\"GlyphRenderer\"},{\"attributes\":{},\"id\":\"975b803f-db62-418b-b79c-8f91ad85a97e\",\"type\":\"BasicTickFormatter\"},{\"attributes\":{\"callback\":null,\"end\":3.4333333333333336,\"start\":-1.4333333333333333},\"id\":\"83a579f4-9fb3-47f8-869d-1c222ed0f6ab\",\"type\":\"Range1d\"},{\"attributes\":{\"fill_alpha\":{\"field\":\"fill_alpha\"},\"fill_color\":{\"field\":\"color\"},\"height\":{\"field\":\"height\",\"units\":\"data\"},\"line_color\":{\"field\":\"line_color\"},\"width\":{\"field\":\"width\",\"units\":\"data\"},\"x\":{\"field\":\"x\"},\"y\":{\"field\":\"y\"}},\"id\":\"1cef14d4-dfcb-4a5a-9f42-c883c5965517\",\"type\":\"Rect\"},{\"attributes\":{\"fill_alpha\":{\"field\":\"fill_alpha\"},\"fill_color\":{\"field\":\"color\"},\"height\":{\"field\":\"height\",\"units\":\"data\"},\"line_color\":{\"field\":\"line_color\"},\"width\":{\"field\":\"width\",\"units\":\"data\"},\"x\":{\"field\":\"x\"},\"y\":{\"field\":\"y\"}},\"id\":\"464dedb4-2df8-4d17-8d97-f8be9aea50d8\",\"type\":\"Rect\"},{\"attributes\":{\"callback\":null,\"column_names\":[\"line_alpha\",\"line_color\",\"x\",\"label\",\"height\",\"fill_alpha\",\"y\",\"width\",\"color\"],\"data\":{\"chart_index\":[{\"state\":\"18 Hawaii\"}],\"color\":[\"#f22c40\"],\"fill_alpha\":[0.8],\"height\":[1.0],\"label\":[{\"state\":\"18 Hawaii\"}],\"line_alpha\":[1.0],\"line_color\":[\"white\"],\"state\":[\"18 Hawaii\"],\"width\":[0.8],\"x\":[\"18 Hawaii\"],\"y\":[0.5]}},\"id\":\"825115f9-8f1b-4997-9859-bca7999e569d\",\"type\":\"ColumnDataSource\"},{\"attributes\":{\"fill_alpha\":{\"field\":\"fill_alpha\"},\"fill_color\":{\"field\":\"color\"},\"height\":{\"field\":\"height\",\"units\":\"data\"},\"line_color\":{\"field\":\"line_color\"},\"width\":{\"field\":\"width\",\"units\":\"data\"},\"x\":{\"field\":\"x\"},\"y\":{\"field\":\"y\"}},\"id\":\"90d43058-106c-49c6-a191-77544557ba15\",\"type\":\"Rect\"},{\"attributes\":{\"data_source\":{\"id\":\"3879ca33-137c-458c-87e6-4d70b1c70b59\",\"type\":\"ColumnDataSource\"},\"glyph\":{\"id\":\"d70b03ce-b1ad-452c-b91c-98a0aacdbedd\",\"type\":\"Rect\"},\"hover_glyph\":null,\"nonselection_glyph\":null,\"selection_glyph\":null},\"id\":\"18637b10-9273-4552-9d46-5f19c29a66d8\",\"type\":\"GlyphRenderer\"},{\"attributes\":{\"fill_alpha\":{\"field\":\"fill_alpha\"},\"fill_color\":{\"field\":\"color\"},\"height\":{\"field\":\"height\",\"units\":\"data\"},\"line_color\":{\"field\":\"line_color\"},\"width\":{\"field\":\"width\",\"units\":\"data\"},\"x\":{\"field\":\"x\"},\"y\":{\"field\":\"y\"}},\"id\":\"a1072933-974f-4cc6-a35d-66a8b0c09b7a\",\"type\":\"Rect\"},{\"attributes\":{\"data_source\":{\"id\":\"cfae8f6b-d33b-4543-8bbb-24d66cd90d2b\",\"type\":\"ColumnDataSource\"},\"glyph\":{\"id\":\"0a16c02a-6eac-42e8-8e97-65bcbf848c72\",\"type\":\"Rect\"},\"hover_glyph\":null,\"nonselection_glyph\":null,\"selection_glyph\":null},\"id\":\"80d7bc40-34bf-475f-a979-6814c484cdba\",\"type\":\"GlyphRenderer\"},{\"attributes\":{},\"id\":\"d3056f2c-5e86-496c-afac-bc1cd62e05b1\",\"type\":\"BasicTicker\"},{\"attributes\":{\"fill_alpha\":{\"field\":\"fill_alpha\"},\"fill_color\":{\"field\":\"color\"},\"height\":{\"field\":\"height\",\"units\":\"data\"},\"line_color\":{\"field\":\"line_color\"},\"width\":{\"field\":\"width\",\"units\":\"data\"},\"x\":{\"field\":\"x\"},\"y\":{\"field\":\"y\"}},\"id\":\"096090e7-00cb-4b24-8247-d1fb51a80821\",\"type\":\"Rect\"},{\"attributes\":{\"fill_alpha\":{\"field\":\"fill_alpha\"},\"fill_color\":{\"field\":\"color\"},\"height\":{\"field\":\"height\",\"units\":\"data\"},\"line_color\":{\"field\":\"line_color\"},\"width\":{\"field\":\"width\",\"units\":\"data\"},\"x\":{\"field\":\"x\"},\"y\":{\"field\":\"y\"}},\"id\":\"b6d20464-0906-4d54-b8ca-53e548a16048\",\"type\":\"Rect\"},{\"attributes\":{\"fill_alpha\":{\"field\":\"fill_alpha\"},\"fill_color\":{\"field\":\"color\"},\"height\":{\"field\":\"height\",\"units\":\"data\"},\"line_color\":{\"field\":\"line_color\"},\"width\":{\"field\":\"width\",\"units\":\"data\"},\"x\":{\"field\":\"x\"},\"y\":{\"field\":\"y\"}},\"id\":\"ee71338f-fef0-495e-9c4f-021d3c5295b0\",\"type\":\"Rect\"},{\"attributes\":{\"fill_alpha\":{\"field\":\"fill_alpha\"},\"fill_color\":{\"field\":\"color\"},\"height\":{\"field\":\"height\",\"units\":\"data\"},\"line_color\":{\"field\":\"line_color\"},\"width\":{\"field\":\"width\",\"units\":\"data\"},\"x\":{\"field\":\"x\"},\"y\":{\"field\":\"y\"}},\"id\":\"c260b060-a8ef-47ec-acde-9b9fa982693d\",\"type\":\"Rect\"},{\"attributes\":{\"data_source\":{\"id\":\"9d800610-fc69-4970-a3df-aa3c69ac8c49\",\"type\":\"ColumnDataSource\"},\"glyph\":{\"id\":\"17c33a82-a97c-42b3-8cf3-1cae08970349\",\"type\":\"Rect\"},\"hover_glyph\":null,\"nonselection_glyph\":null,\"selection_glyph\":null},\"id\":\"c50bbd49-d9cf-4ade-bd3b-e7780e4b3b59\",\"type\":\"GlyphRenderer\"},{\"attributes\":{\"callback\":null,\"column_names\":[\"line_alpha\",\"line_color\",\"x\",\"label\",\"height\",\"fill_alpha\",\"y\",\"width\",\"color\"],\"data\":{\"chart_index\":[{\"state\":\"32 Texas\"}],\"color\":[\"#f22c40\"],\"fill_alpha\":[0.8],\"height\":[0.23529411764705882],\"label\":[{\"state\":\"32 Texas\"}],\"line_alpha\":[1.0],\"line_color\":[\"white\"],\"state\":[\"32 Texas\"],\"width\":[0.8],\"x\":[\"32 Texas\"],\"y\":[0.11764705882352941]}},\"id\":\"224b5f36-d270-43da-b705-e86787bb61dc\",\"type\":\"ColumnDataSource\"},{\"attributes\":{\"fill_alpha\":{\"field\":\"fill_alpha\"},\"fill_color\":{\"field\":\"color\"},\"height\":{\"field\":\"height\",\"units\":\"data\"},\"line_color\":{\"field\":\"line_color\"},\"width\":{\"field\":\"width\",\"units\":\"data\"},\"x\":{\"field\":\"x\"},\"y\":{\"field\":\"y\"}},\"id\":\"bce33ba8-193e-44d1-9768-686f97a1b1c0\",\"type\":\"Rect\"},{\"attributes\":{\"dimension\":1,\"plot\":{\"id\":\"027f81e7-ed6d-4462-aaad-0b714029641c\",\"subtype\":\"Chart\",\"type\":\"Plot\"},\"ticker\":{\"id\":\"d3056f2c-5e86-496c-afac-bc1cd62e05b1\",\"type\":\"BasicTicker\"}},\"id\":\"4c91dc08-4b43-42dc-b5e8-3c8a699b2480\",\"type\":\"Grid\"},{\"attributes\":{\"fill_alpha\":{\"field\":\"fill_alpha\"},\"fill_color\":{\"field\":\"color\"},\"height\":{\"field\":\"height\",\"units\":\"data\"},\"line_color\":{\"field\":\"line_color\"},\"width\":{\"field\":\"width\",\"units\":\"data\"},\"x\":{\"field\":\"x\"},\"y\":{\"field\":\"y\"}},\"id\":\"640d2290-ee53-43fb-88d2-ca3ad53ad854\",\"type\":\"Rect\"},{\"attributes\":{\"plot\":{\"id\":\"027f81e7-ed6d-4462-aaad-0b714029641c\",\"subtype\":\"Chart\",\"type\":\"Plot\"}},\"id\":\"b2f1a503-daf6-4bca-963b-58c21b70436f\",\"type\":\"ResetTool\"},{\"attributes\":{\"bottom_units\":\"screen\",\"fill_alpha\":{\"value\":0.5},\"fill_color\":{\"value\":\"lightgrey\"},\"left_units\":\"screen\",\"level\":\"overlay\",\"line_alpha\":{\"value\":1.0},\"line_color\":{\"value\":\"black\"},\"line_dash\":[4,4],\"line_width\":{\"value\":2},\"plot\":null,\"render_mode\":\"css\",\"right_units\":\"screen\",\"top_units\":\"screen\"},\"id\":\"7882c728-08e7-480f-a908-a536d2918bd2\",\"type\":\"BoxAnnotation\"},{\"attributes\":{\"fill_alpha\":{\"field\":\"fill_alpha\"},\"fill_color\":{\"field\":\"color\"},\"height\":{\"field\":\"height\",\"units\":\"data\"},\"line_color\":{\"field\":\"line_color\"},\"width\":{\"field\":\"width\",\"units\":\"data\"},\"x\":{\"field\":\"x\"},\"y\":{\"field\":\"y\"}},\"id\":\"b64d21da-064e-44bb-97e9-c89f85e356d4\",\"type\":\"Rect\"},{\"attributes\":{\"callback\":null,\"column_names\":[\"line_alpha\",\"line_color\",\"x\",\"label\",\"height\",\"fill_alpha\",\"y\",\"width\",\"color\"],\"data\":{\"chart_index\":[{\"state\":\"05 Iowa\"}],\"color\":[\"#f22c40\"],\"fill_alpha\":[0.8],\"height\":[2.2857142857142856],\"label\":[{\"state\":\"05 Iowa\"}],\"line_alpha\":[1.0],\"line_color\":[\"white\"],\"state\":[\"05 Iowa\"],\"width\":[0.8],\"x\":[\"05 Iowa\"],\"y\":[1.1428571428571428]}},\"id\":\"afc0720e-d1b7-4afe-aff1-8087758cad90\",\"type\":\"ColumnDataSource\"},{\"attributes\":{\"plot\":{\"id\":\"027f81e7-ed6d-4462-aaad-0b714029641c\",\"subtype\":\"Chart\",\"type\":\"Plot\"}},\"id\":\"7c2a0b24-f36e-4092-a331-58e6ec7a6bee\",\"type\":\"WheelZoomTool\"},{\"attributes\":{\"data_source\":{\"id\":\"fd167193-dd0a-4a50-810e-c215930a6d19\",\"type\":\"ColumnDataSource\"},\"glyph\":{\"id\":\"66ccac07-fae2-4b50-ae99-3e60baea67bf\",\"type\":\"Rect\"},\"hover_glyph\":null,\"nonselection_glyph\":null,\"selection_glyph\":null},\"id\":\"18d780c1-5398-4d0b-90a5-89e113a9719d\",\"type\":\"GlyphRenderer\"},{\"attributes\":{\"data_source\":{\"id\":\"62607f9f-1c5a-41e6-b07b-b208130dec24\",\"type\":\"ColumnDataSource\"},\"glyph\":{\"id\":\"c260b060-a8ef-47ec-acde-9b9fa982693d\",\"type\":\"Rect\"},\"hover_glyph\":null,\"nonselection_glyph\":null,\"selection_glyph\":null},\"id\":\"451fa482-4910-46d1-b4b2-2286771b4120\",\"type\":\"GlyphRenderer\"},{\"attributes\":{\"fill_alpha\":{\"field\":\"fill_alpha\"},\"fill_color\":{\"field\":\"color\"},\"height\":{\"field\":\"height\",\"units\":\"data\"},\"line_color\":{\"field\":\"line_color\"},\"width\":{\"field\":\"width\",\"units\":\"data\"},\"x\":{\"field\":\"x\"},\"y\":{\"field\":\"y\"}},\"id\":\"2e8d500e-deda-4b06-9abd-141593d4fdc1\",\"type\":\"Rect\"},{\"attributes\":{\"callback\":null,\"column_names\":[\"line_alpha\",\"line_color\",\"x\",\"label\",\"height\",\"fill_alpha\",\"y\",\"width\",\"color\"],\"data\":{\"chart_index\":[{\"state\":\"30 Idaho\"}],\"color\":[\"#f22c40\"],\"fill_alpha\":[0.8],\"height\":[0.3333333333333333],\"label\":[{\"state\":\"30 Idaho\"}],\"line_alpha\":[1.0],\"line_color\":[\"white\"],\"state\":[\"30 Idaho\"],\"width\":[0.8],\"x\":[\"30 Idaho\"],\"y\":[0.16666666666666666]}},\"id\":\"cfae8f6b-d33b-4543-8bbb-24d66cd90d2b\",\"type\":\"ColumnDataSource\"},{\"attributes\":{\"fill_alpha\":{\"field\":\"fill_alpha\"},\"fill_color\":{\"field\":\"color\"},\"height\":{\"field\":\"height\",\"units\":\"data\"},\"line_color\":{\"field\":\"line_color\"},\"width\":{\"field\":\"width\",\"units\":\"data\"},\"x\":{\"field\":\"x\"},\"y\":{\"field\":\"y\"}},\"id\":\"00258543-399a-4fe0-873d-da421256f88d\",\"type\":\"Rect\"},{\"attributes\":{\"data_source\":{\"id\":\"3ae14dc2-d4a8-4598-b09e-650761efe6b9\",\"type\":\"ColumnDataSource\"},\"glyph\":{\"id\":\"ee71338f-fef0-495e-9c4f-021d3c5295b0\",\"type\":\"Rect\"},\"hover_glyph\":null,\"nonselection_glyph\":null,\"selection_glyph\":null},\"id\":\"d92a58e5-1154-4fa2-8ec3-cc7bd8d40b39\",\"type\":\"GlyphRenderer\"},{\"attributes\":{\"data_source\":{\"id\":\"1ce8c959-96af-4798-b046-fc1baa864e00\",\"type\":\"ColumnDataSource\"},\"glyph\":{\"id\":\"b64d21da-064e-44bb-97e9-c89f85e356d4\",\"type\":\"Rect\"},\"hover_glyph\":null,\"nonselection_glyph\":null,\"selection_glyph\":null},\"id\":\"83589e97-aec5-4cf1-8f7b-bf7a0f46c4cc\",\"type\":\"GlyphRenderer\"},{\"attributes\":{\"data_source\":{\"id\":\"4ca7b36d-7bf2-4b3a-87a0-aab99205f77a\",\"type\":\"ColumnDataSource\"},\"glyph\":{\"id\":\"644b1ed9-e747-45f7-a9ed-0ca52fe568b9\",\"type\":\"Rect\"},\"hover_glyph\":null,\"nonselection_glyph\":null,\"selection_glyph\":null},\"id\":\"6b089106-0995-4909-b54b-037f2a483f38\",\"type\":\"GlyphRenderer\"},{\"attributes\":{\"fill_alpha\":{\"field\":\"fill_alpha\"},\"fill_color\":{\"field\":\"color\"},\"height\":{\"field\":\"height\",\"units\":\"data\"},\"line_color\":{\"field\":\"line_color\"},\"width\":{\"field\":\"width\",\"units\":\"data\"},\"x\":{\"field\":\"x\"},\"y\":{\"field\":\"y\"}},\"id\":\"3b7a0c29-3345-4acb-ad4a-bd9a892c7ab1\",\"type\":\"Rect\"},{\"attributes\":{\"callback\":null,\"column_names\":[\"line_alpha\",\"line_color\",\"x\",\"label\",\"height\",\"fill_alpha\",\"y\",\"width\",\"color\"],\"data\":{\"chart_index\":[{\"state\":\"27 Nevada\"}],\"color\":[\"#f22c40\"],\"fill_alpha\":[0.8],\"height\":[0.45454545454545453],\"label\":[{\"state\":\"27 Nevada\"}],\"line_alpha\":[1.0],\"line_color\":[\"white\"],\"state\":[\"27 Nevada\"],\"width\":[0.8],\"x\":[\"27 Nevada\"],\"y\":[0.22727272727272727]}},\"id\":\"fea00e3a-d620-41f9-96b3-49bc37731c2d\",\"type\":\"ColumnDataSource\"},{\"attributes\":{\"below\":[{\"id\":\"ac37d9f5-0666-47dc-9e06-77dec9075f40\",\"type\":\"CategoricalAxis\"}],\"left\":[{\"id\":\"b1cdd237-e7ca-4b9e-a74d-859333d9ce0f\",\"type\":\"LinearAxis\"}],\"plot_width\":900,\"renderers\":[{\"id\":\"7882c728-08e7-480f-a908-a536d2918bd2\",\"type\":\"BoxAnnotation\"},{\"id\":\"1bf10dea-9cba-4d97-afc8-364058ef40be\",\"type\":\"GlyphRenderer\"},{\"id\":\"ea343d95-65b6-43db-b636-2172ae11607b\",\"type\":\"GlyphRenderer\"},{\"id\":\"6df1074e-0b4c-4db5-a6a8-a2565a131028\",\"type\":\"GlyphRenderer\"},{\"id\":\"4fe98d8b-eb5a-4a48-9ae0-6bd2106b276f\",\"type\":\"GlyphRenderer\"},{\"id\":\"9e9ae494-c6a9-4812-9767-d352107ad8a1\",\"type\":\"GlyphRenderer\"},{\"id\":\"18637b10-9273-4552-9d46-5f19c29a66d8\",\"type\":\"GlyphRenderer\"},{\"id\":\"00b277db-b9d9-412f-b9a6-1b3edc6d8e58\",\"type\":\"GlyphRenderer\"},{\"id\":\"9da35f77-f223-44bf-ab57-1686f6963dfe\",\"type\":\"GlyphRenderer\"},{\"id\":\"d92a58e5-1154-4fa2-8ec3-cc7bd8d40b39\",\"type\":\"GlyphRenderer\"},{\"id\":\"cbf85e74-433c-465b-9d0d-1a1ec132debf\",\"type\":\"GlyphRenderer\"},{\"id\":\"68522e67-9c0e-481a-b02f-5ae28c7ddf66\",\"type\":\"GlyphRenderer\"},{\"id\":\"89fd70dc-be21-4228-905a-e1ffd8be0e05\",\"type\":\"GlyphRenderer\"},{\"id\":\"0f00de8a-4562-43c9-b465-e85fd1c60908\",\"type\":\"GlyphRenderer\"},{\"id\":\"d238d21b-03de-48b6-befd-54537754e322\",\"type\":\"GlyphRenderer\"},{\"id\":\"ece58979-1c1c-4821-b59f-021cc840b6a4\",\"type\":\"GlyphRenderer\"},{\"id\":\"7f27882d-f196-4c4e-9538-0613c2e88138\",\"type\":\"GlyphRenderer\"},{\"id\":\"76706b7b-05d0-4969-9edf-d88fd6b65381\",\"type\":\"GlyphRenderer\"},{\"id\":\"b9d42cb8-6335-47e0-bc69-2056911cc075\",\"type\":\"GlyphRenderer\"},{\"id\":\"f53ff510-9e00-4ccd-addd-78e4413f1714\",\"type\":\"GlyphRenderer\"},{\"id\":\"9461c128-0248-43b2-b979-6a7eaa3b68cb\",\"type\":\"GlyphRenderer\"},{\"id\":\"cf84dfdc-52c5-4bd2-946e-80606ffcfd3f\",\"type\":\"GlyphRenderer\"},{\"id\":\"20d38d2f-af4b-48f6-a766-33679aa957db\",\"type\":\"GlyphRenderer\"},{\"id\":\"9268ae2e-1436-4516-b162-f93e699124a8\",\"type\":\"GlyphRenderer\"},{\"id\":\"05675b6b-64ec-4dbb-8ec9-c632760c9b2a\",\"type\":\"GlyphRenderer\"},{\"id\":\"a0f3c980-6614-4116-8cbb-413432057728\",\"type\":\"GlyphRenderer\"},{\"id\":\"451fa482-4910-46d1-b4b2-2286771b4120\",\"type\":\"GlyphRenderer\"},{\"id\":\"7f2fd462-5907-4b24-9f92-53d7ddcc8347\",\"type\":\"GlyphRenderer\"},{\"id\":\"22f49a3f-9d71-432d-a842-a0e1f318bb66\",\"type\":\"GlyphRenderer\"},{\"id\":\"59c1f74f-9301-429e-815d-51c84b382ef9\",\"type\":\"GlyphRenderer\"},{\"id\":\"80d7bc40-34bf-475f-a979-6814c484cdba\",\"type\":\"GlyphRenderer\"},{\"id\":\"57863f0c-8e35-4676-a699-03afd70c9838\",\"type\":\"GlyphRenderer\"},{\"id\":\"9282c15a-267a-489e-b34e-598f6ebcd06b\",\"type\":\"GlyphRenderer\"},{\"id\":\"3e5d70a0-6934-4db5-8499-eb214c709b46\",\"type\":\"GlyphRenderer\"},{\"id\":\"18d780c1-5398-4d0b-90a5-89e113a9719d\",\"type\":\"GlyphRenderer\"},{\"id\":\"5ec4c353-7d19-4189-be40-2dd41079dd71\",\"type\":\"GlyphRenderer\"},{\"id\":\"c50bbd49-d9cf-4ade-bd3b-e7780e4b3b59\",\"type\":\"GlyphRenderer\"},{\"id\":\"8ac6539a-d298-4d2a-a3ec-c0a7e5945e51\",\"type\":\"GlyphRenderer\"},{\"id\":\"ea21103b-d46a-41c5-a9b8-716cb9ae9994\",\"type\":\"GlyphRenderer\"},{\"id\":\"d88308fc-e060-42b1-8aef-1b5a4bed7b13\",\"type\":\"GlyphRenderer\"},{\"id\":\"80b8bada-7786-4934-8a70-1b45fb1cc976\",\"type\":\"GlyphRenderer\"},{\"id\":\"24518b13-4031-400f-8440-eb3f3185063b\",\"type\":\"GlyphRenderer\"},{\"id\":\"9a425f5a-9099-4f5f-a3b4-aff7f65bc7eb\",\"type\":\"GlyphRenderer\"},{\"id\":\"83589e97-aec5-4cf1-8f7b-bf7a0f46c4cc\",\"type\":\"GlyphRenderer\"},{\"id\":\"1a3e3205-ab0a-4f96-a556-951728669701\",\"type\":\"GlyphRenderer\"},{\"id\":\"a9c5f84a-11d3-41f1-a6b6-e6703e65a459\",\"type\":\"GlyphRenderer\"},{\"id\":\"279230b5-d08c-4bf4-b0f8-f77ba7450c36\",\"type\":\"GlyphRenderer\"},{\"id\":\"ce15380b-919c-48c3-9f1d-add0319413ac\",\"type\":\"GlyphRenderer\"},{\"id\":\"7d172c18-51f1-4b52-8f23-5497514c1ec0\",\"type\":\"GlyphRenderer\"},{\"id\":\"3739d59f-f045-4af9-8ce4-e6338420b003\",\"type\":\"GlyphRenderer\"},{\"id\":\"6b089106-0995-4909-b54b-037f2a483f38\",\"type\":\"GlyphRenderer\"},{\"id\":\"ac37d9f5-0666-47dc-9e06-77dec9075f40\",\"type\":\"CategoricalAxis\"},{\"id\":\"b1cdd237-e7ca-4b9e-a74d-859333d9ce0f\",\"type\":\"LinearAxis\"},{\"id\":\"4c91dc08-4b43-42dc-b5e8-3c8a699b2480\",\"type\":\"Grid\"}],\"title\":{\"id\":\"c00c3a48-7c8e-4350-a347-da43f141bdf5\",\"type\":\"Title\"},\"tool_events\":{\"id\":\"f67ab5bf-7998-4ef4-a571-93210563b9bd\",\"type\":\"ToolEvents\"},\"toolbar\":{\"id\":\"d2bb479e-bea2-43ba-8872-15be0b281791\",\"type\":\"Toolbar\"},\"x_mapper_type\":\"auto\",\"x_range\":{\"id\":\"e8cd8932-5895-4820-80bf-1a57d71e3dc5\",\"type\":\"FactorRange\"},\"y_mapper_type\":\"auto\",\"y_range\":{\"id\":\"83a579f4-9fb3-47f8-869d-1c222ed0f6ab\",\"type\":\"Range1d\"}},\"id\":\"027f81e7-ed6d-4462-aaad-0b714029641c\",\"subtype\":\"Chart\",\"type\":\"Plot\"},{\"attributes\":{\"fill_alpha\":{\"field\":\"fill_alpha\"},\"fill_color\":{\"field\":\"color\"},\"height\":{\"field\":\"height\",\"units\":\"data\"},\"line_color\":{\"field\":\"line_color\"},\"width\":{\"field\":\"width\",\"units\":\"data\"},\"x\":{\"field\":\"x\"},\"y\":{\"field\":\"y\"}},\"id\":\"b4c55eb7-3d3e-420f-a4b4-d09fef5fb02c\",\"type\":\"Rect\"},{\"attributes\":{\"data_source\":{\"id\":\"28d01d9b-2ba3-4f1e-b8d9-4a2b4aca6eb2\",\"type\":\"ColumnDataSource\"},\"glyph\":{\"id\":\"23c0bbe4-ee9b-420f-bf29-d1ea7343c091\",\"type\":\"Rect\"},\"hover_glyph\":null,\"nonselection_glyph\":null,\"selection_glyph\":null},\"id\":\"7f27882d-f196-4c4e-9538-0613c2e88138\",\"type\":\"GlyphRenderer\"},{\"attributes\":{\"fill_alpha\":{\"field\":\"fill_alpha\"},\"fill_color\":{\"field\":\"color\"},\"height\":{\"field\":\"height\",\"units\":\"data\"},\"line_color\":{\"field\":\"line_color\"},\"width\":{\"field\":\"width\",\"units\":\"data\"},\"x\":{\"field\":\"x\"},\"y\":{\"field\":\"y\"}},\"id\":\"1c07c465-9e75-41d8-979b-895880ba7909\",\"type\":\"Rect\"},{\"attributes\":{\"data_source\":{\"id\":\"017864c9-4f72-4ab1-9882-047a1f918197\",\"type\":\"ColumnDataSource\"},\"glyph\":{\"id\":\"fef320af-9d5f-4b21-a0f1-8edcaa6ec3e2\",\"type\":\"Rect\"},\"hover_glyph\":null,\"nonselection_glyph\":null,\"selection_glyph\":null},\"id\":\"76706b7b-05d0-4969-9edf-d88fd6b65381\",\"type\":\"GlyphRenderer\"},{\"attributes\":{\"callback\":null,\"column_names\":[\"line_alpha\",\"line_color\",\"x\",\"label\",\"height\",\"fill_alpha\",\"y\",\"width\",\"color\"],\"data\":{\"chart_index\":[{\"state\":\"15 Ohio\"}],\"color\":[\"#f22c40\"],\"fill_alpha\":[0.8],\"height\":[1.0862068965517242],\"label\":[{\"state\":\"15 Ohio\"}],\"line_alpha\":[1.0],\"line_color\":[\"white\"],\"state\":[\"15 Ohio\"],\"width\":[0.8],\"x\":[\"15 Ohio\"],\"y\":[0.5431034482758621]}},\"id\":\"14b1f4bc-1aa8-4a1b-9dcc-0aa3e0abeef7\",\"type\":\"ColumnDataSource\"},{\"attributes\":{\"plot\":null,\"text\":\"Happiness of twitter users in USA by states\"},\"id\":\"c00c3a48-7c8e-4350-a347-da43f141bdf5\",\"type\":\"Title\"},{\"attributes\":{\"data_source\":{\"id\":\"af917797-5d11-4b71-803e-80f358af41eb\",\"type\":\"ColumnDataSource\"},\"glyph\":{\"id\":\"d637fb55-8fe1-43d6-b287-8fc70a0cdbbc\",\"type\":\"Rect\"},\"hover_glyph\":null,\"nonselection_glyph\":null,\"selection_glyph\":null},\"id\":\"3e5d70a0-6934-4db5-8499-eb214c709b46\",\"type\":\"GlyphRenderer\"},{\"attributes\":{\"plot\":{\"id\":\"027f81e7-ed6d-4462-aaad-0b714029641c\",\"subtype\":\"Chart\",\"type\":\"Plot\"}},\"id\":\"ef671ff0-c3ee-4aad-9421-2beac6fe636e\",\"type\":\"PanTool\"},{\"attributes\":{\"callback\":null,\"column_names\":[\"line_alpha\",\"line_color\",\"x\",\"label\",\"height\",\"fill_alpha\",\"y\",\"width\",\"color\"],\"data\":{\"chart_index\":[{\"state\":\"17 Colorado\"}],\"color\":[\"#f22c40\"],\"fill_alpha\":[0.8],\"height\":[1.0],\"label\":[{\"state\":\"17 Colorado\"}],\"line_alpha\":[1.0],\"line_color\":[\"white\"],\"state\":[\"17 Colorado\"],\"width\":[0.8],\"x\":[\"17 Colorado\"],\"y\":[0.5]}},\"id\":\"017864c9-4f72-4ab1-9882-047a1f918197\",\"type\":\"ColumnDataSource\"},{\"attributes\":{\"callback\":null,\"column_names\":[\"line_alpha\",\"line_color\",\"x\",\"label\",\"height\",\"fill_alpha\",\"y\",\"width\",\"color\"],\"data\":{\"chart_index\":[{\"state\":\"26 Pennsylvania\"}],\"color\":[\"#f22c40\"],\"fill_alpha\":[0.8],\"height\":[0.6341463414634146],\"label\":[{\"state\":\"26 Pennsylvania\"}],\"line_alpha\":[1.0],\"line_color\":[\"white\"],\"state\":[\"26 Pennsylvania\"],\"width\":[0.8],\"x\":[\"26 Pennsylvania\"],\"y\":[0.3170731707317073]}},\"id\":\"62607f9f-1c5a-41e6-b07b-b208130dec24\",\"type\":\"ColumnDataSource\"},{\"attributes\":{\"callback\":null,\"column_names\":[\"line_alpha\",\"line_color\",\"x\",\"label\",\"height\",\"fill_alpha\",\"y\",\"width\",\"color\"],\"data\":{\"chart_index\":[{\"state\":\"22 Minnesota\"}],\"color\":[\"#f22c40\"],\"fill_alpha\":[0.8],\"height\":[0.7857142857142857],\"label\":[{\"state\":\"22 Minnesota\"}],\"line_alpha\":[1.0],\"line_color\":[\"white\"],\"state\":[\"22 Minnesota\"],\"width\":[0.8],\"x\":[\"22 Minnesota\"],\"y\":[0.39285714285714285]}},\"id\":\"df61df0f-c493-49da-8a5a-c4fcb9747f30\",\"type\":\"ColumnDataSource\"},{\"attributes\":{\"callback\":null,\"column_names\":[\"line_alpha\",\"line_color\",\"x\",\"label\",\"height\",\"fill_alpha\",\"y\",\"width\",\"color\"],\"data\":{\"chart_index\":[{\"state\":\"49 Delaware\"}],\"color\":[\"#f22c40\"],\"fill_alpha\":[0.8],\"height\":[-1.3333333333333333],\"label\":[{\"state\":\"49 Delaware\"}],\"line_alpha\":[1.0],\"line_color\":[\"white\"],\"state\":[\"49 Delaware\"],\"width\":[0.8],\"x\":[\"49 Delaware\"],\"y\":[-0.6666666666666666]}},\"id\":\"7f922eb8-440c-4919-b028-bf94f88eabe5\",\"type\":\"ColumnDataSource\"},{\"attributes\":{\"callback\":null,\"column_names\":[\"line_alpha\",\"line_color\",\"x\",\"label\",\"height\",\"fill_alpha\",\"y\",\"width\",\"color\"],\"data\":{\"chart_index\":[{\"state\":\"31 Kentucky\"}],\"color\":[\"#f22c40\"],\"fill_alpha\":[0.8],\"height\":[0.2631578947368421],\"label\":[{\"state\":\"31 Kentucky\"}],\"line_alpha\":[1.0],\"line_color\":[\"white\"],\"state\":[\"31 Kentucky\"],\"width\":[0.8],\"x\":[\"31 Kentucky\"],\"y\":[0.13157894736842105]}},\"id\":\"5ee6868b-f848-4715-b7bb-b2fbc06046e0\",\"type\":\"ColumnDataSource\"},{\"attributes\":{\"fill_alpha\":{\"field\":\"fill_alpha\"},\"fill_color\":{\"field\":\"color\"},\"height\":{\"field\":\"height\",\"units\":\"data\"},\"line_color\":{\"field\":\"line_color\"},\"width\":{\"field\":\"width\",\"units\":\"data\"},\"x\":{\"field\":\"x\"},\"y\":{\"field\":\"y\"}},\"id\":\"7f54fb13-1180-4ab2-ab16-f0f7fa744029\",\"type\":\"Rect\"},{\"attributes\":{\"callback\":null,\"column_names\":[\"line_alpha\",\"line_color\",\"x\",\"label\",\"height\",\"fill_alpha\",\"y\",\"width\",\"color\"],\"data\":{\"chart_index\":[{\"state\":\"33 Virginia\"}],\"color\":[\"#f22c40\"],\"fill_alpha\":[0.8],\"height\":[0.23076923076923078],\"label\":[{\"state\":\"33 Virginia\"}],\"line_alpha\":[1.0],\"line_color\":[\"white\"],\"state\":[\"33 Virginia\"],\"width\":[0.8],\"x\":[\"33 Virginia\"],\"y\":[0.11538461538461539]}},\"id\":\"af917797-5d11-4b71-803e-80f358af41eb\",\"type\":\"ColumnDataSource\"},{\"attributes\":{\"data_source\":{\"id\":\"8bc672cd-e6d3-4aec-880e-3655ac8a2347\",\"type\":\"ColumnDataSource\"},\"glyph\":{\"id\":\"69bc2b1a-cb5c-42e7-9f20-96abb1f0c26b\",\"type\":\"Rect\"},\"hover_glyph\":null,\"nonselection_glyph\":null,\"selection_glyph\":null},\"id\":\"9268ae2e-1436-4516-b162-f93e699124a8\",\"type\":\"GlyphRenderer\"},{\"attributes\":{\"fill_alpha\":{\"field\":\"fill_alpha\"},\"fill_color\":{\"field\":\"color\"},\"height\":{\"field\":\"height\",\"units\":\"data\"},\"line_color\":{\"field\":\"line_color\"},\"width\":{\"field\":\"width\",\"units\":\"data\"},\"x\":{\"field\":\"x\"},\"y\":{\"field\":\"y\"}},\"id\":\"644b1ed9-e747-45f7-a9ed-0ca52fe568b9\",\"type\":\"Rect\"},{\"attributes\":{\"data_source\":{\"id\":\"7f922eb8-440c-4919-b028-bf94f88eabe5\",\"type\":\"ColumnDataSource\"},\"glyph\":{\"id\":\"7f54fb13-1180-4ab2-ab16-f0f7fa744029\",\"type\":\"Rect\"},\"hover_glyph\":null,\"nonselection_glyph\":null,\"selection_glyph\":null},\"id\":\"3739d59f-f045-4af9-8ce4-e6338420b003\",\"type\":\"GlyphRenderer\"},{\"attributes\":{\"callback\":null,\"column_names\":[\"line_alpha\",\"line_color\",\"x\",\"label\",\"height\",\"fill_alpha\",\"y\",\"width\",\"color\"],\"data\":{\"chart_index\":[{\"state\":\"42 Georgia\"}],\"color\":[\"#f22c40\"],\"fill_alpha\":[0.8],\"height\":[-0.125],\"label\":[{\"state\":\"42 Georgia\"}],\"line_alpha\":[1.0],\"line_color\":[\"white\"],\"state\":[\"42 Georgia\"],\"width\":[0.8],\"x\":[\"42 Georgia\"],\"y\":[-0.0625]}},\"id\":\"ac7c8b20-d5f7-4f9f-aae3-0ab68c0256ba\",\"type\":\"ColumnDataSource\"},{\"attributes\":{\"data_source\":{\"id\":\"58c0d09c-b8e4-400b-85f7-3f10691be57b\",\"type\":\"ColumnDataSource\"},\"glyph\":{\"id\":\"1d8520ad-24c0-4b45-8058-267586556bf6\",\"type\":\"Rect\"},\"hover_glyph\":null,\"nonselection_glyph\":null,\"selection_glyph\":null},\"id\":\"00b277db-b9d9-412f-b9a6-1b3edc6d8e58\",\"type\":\"GlyphRenderer\"},{\"attributes\":{\"callback\":null,\"column_names\":[\"line_alpha\",\"line_color\",\"x\",\"label\",\"height\",\"fill_alpha\",\"y\",\"width\",\"color\"],\"data\":{\"chart_index\":[{\"state\":\"10 Oklahoma\"}],\"color\":[\"#f22c40\"],\"fill_alpha\":[0.8],\"height\":[1.5555555555555556],\"label\":[{\"state\":\"10 Oklahoma\"}],\"line_alpha\":[1.0],\"line_color\":[\"white\"],\"state\":[\"10 Oklahoma\"],\"width\":[0.8],\"x\":[\"10 Oklahoma\"],\"y\":[0.7777777777777778]}},\"id\":\"f89b8f46-e793-474b-b8be-7ce3459b6886\",\"type\":\"ColumnDataSource\"},{\"attributes\":{\"data_source\":{\"id\":\"de704fc8-83e3-404b-978b-e418eedd0355\",\"type\":\"ColumnDataSource\"},\"glyph\":{\"id\":\"351798f2-3159-4b49-b6ef-904f90c90ba2\",\"type\":\"Rect\"},\"hover_glyph\":null,\"nonselection_glyph\":null,\"selection_glyph\":null},\"id\":\"22f49a3f-9d71-432d-a842-a0e1f318bb66\",\"type\":\"GlyphRenderer\"},{\"attributes\":{\"data_source\":{\"id\":\"1d4a934e-a21d-4da4-bc41-ce85bc5e3457\",\"type\":\"ColumnDataSource\"},\"glyph\":{\"id\":\"00258543-399a-4fe0-873d-da421256f88d\",\"type\":\"Rect\"},\"hover_glyph\":null,\"nonselection_glyph\":null,\"selection_glyph\":null},\"id\":\"a9c5f84a-11d3-41f1-a6b6-e6703e65a459\",\"type\":\"GlyphRenderer\"},{\"attributes\":{\"callback\":null,\"column_names\":[\"line_alpha\",\"line_color\",\"x\",\"label\",\"height\",\"fill_alpha\",\"y\",\"width\",\"color\"],\"data\":{\"chart_index\":[{\"state\":\"12 Indiana\"}],\"color\":[\"#f22c40\"],\"fill_alpha\":[0.8],\"height\":[1.4482758620689655],\"label\":[{\"state\":\"12 Indiana\"}],\"line_alpha\":[1.0],\"line_color\":[\"white\"],\"state\":[\"12 Indiana\"],\"width\":[0.8],\"x\":[\"12 Indiana\"],\"y\":[0.7241379310344828]}},\"id\":\"09ecb5ba-76df-42af-93c4-2ab6a4f79bff\",\"type\":\"ColumnDataSource\"},{\"attributes\":{\"callback\":null,\"column_names\":[\"line_alpha\",\"line_color\",\"x\",\"label\",\"height\",\"fill_alpha\",\"y\",\"width\",\"color\"],\"data\":{\"chart_index\":[{\"state\":\"50 Rhode Island\"}],\"color\":[\"#f22c40\"],\"fill_alpha\":[0.8],\"height\":[-1.3333333333333333],\"label\":[{\"state\":\"50 Rhode Island\"}],\"line_alpha\":[1.0],\"line_color\":[\"white\"],\"state\":[\"50 Rhode Island\"],\"width\":[0.8],\"x\":[\"50 Rhode Island\"],\"y\":[-0.6666666666666666]}},\"id\":\"4ca7b36d-7bf2-4b3a-87a0-aab99205f77a\",\"type\":\"ColumnDataSource\"},{\"attributes\":{\"data_source\":{\"id\":\"14b1f4bc-1aa8-4a1b-9dcc-0aa3e0abeef7\",\"type\":\"ColumnDataSource\"},\"glyph\":{\"id\":\"e0eaf54c-9c53-4e52-8560-b52bbba364a4\",\"type\":\"Rect\"},\"hover_glyph\":null,\"nonselection_glyph\":null,\"selection_glyph\":null},\"id\":\"ece58979-1c1c-4821-b59f-021cc840b6a4\",\"type\":\"GlyphRenderer\"},{\"attributes\":{\"callback\":null,\"column_names\":[\"line_alpha\",\"line_color\",\"x\",\"label\",\"height\",\"fill_alpha\",\"y\",\"width\",\"color\"],\"data\":{\"chart_index\":[{\"state\":\"45 Michigan\"}],\"color\":[\"#f22c40\"],\"fill_alpha\":[0.8],\"height\":[-0.71875],\"label\":[{\"state\":\"45 Michigan\"}],\"line_alpha\":[1.0],\"line_color\":[\"white\"],\"state\":[\"45 Michigan\"],\"width\":[0.8],\"x\":[\"45 Michigan\"],\"y\":[-0.359375]}},\"id\":\"1d4a934e-a21d-4da4-bc41-ce85bc5e3457\",\"type\":\"ColumnDataSource\"},{\"attributes\":{\"fill_alpha\":{\"field\":\"fill_alpha\"},\"fill_color\":{\"field\":\"color\"},\"height\":{\"field\":\"height\",\"units\":\"data\"},\"line_color\":{\"field\":\"line_color\"},\"width\":{\"field\":\"width\",\"units\":\"data\"},\"x\":{\"field\":\"x\"},\"y\":{\"field\":\"y\"}},\"id\":\"b096f986-6a1f-4d91-b78c-cf78f5f87f0e\",\"type\":\"Rect\"},{\"attributes\":{\"data_source\":{\"id\":\"c8dc4f0d-2448-4066-a310-192b99e573c3\",\"type\":\"ColumnDataSource\"},\"glyph\":{\"id\":\"63862424-aa38-4337-8711-a87f532c0974\",\"type\":\"Rect\"},\"hover_glyph\":null,\"nonselection_glyph\":null,\"selection_glyph\":null},\"id\":\"ea343d95-65b6-43db-b636-2172ae11607b\",\"type\":\"GlyphRenderer\"}],\"root_ids\":[\"027f81e7-ed6d-4462-aaad-0b714029641c\"]},\"title\":\"Bokeh Application\",\"version\":\"0.12.0\"}};\n",
       "            var render_items = [{\"docid\":\"552d6198-d263-40bc-99bd-b37f7e24b236\",\"elementid\":\"e1796dcf-7ad6-4f53-9b04-bfcd08bc2bef\",\"modelid\":\"027f81e7-ed6d-4462-aaad-0b714029641c\",\"notebook_comms_target\":\"43600d52-6cbe-4f19-b809-fabeed383ccf\"}];\n",
       "            \n",
       "            Bokeh.embed.embed_items(docs_json, render_items);\n",
       "        });\n",
       "      },\n",
       "      function(Bokeh) {\n",
       "      }\n",
       "    ];\n",
       "  \n",
       "    function run_inline_js() {\n",
       "      for (var i = 0; i < inline_js.length; i++) {\n",
       "        inline_js[i](window.Bokeh);\n",
       "      }\n",
       "    }\n",
       "  \n",
       "    if (window._bokeh_is_loading === 0) {\n",
       "      console.log(\"Bokeh: BokehJS loaded, going straight to plotting\");\n",
       "      run_inline_js();\n",
       "    } else {\n",
       "      load_libs(js_urls, function() {\n",
       "        console.log(\"Bokeh: BokehJS plotting callback run at\", now());\n",
       "        run_inline_js();\n",
       "      });\n",
       "    }\n",
       "  }(this));\n",
       "</script>"
      ]
     },
     "metadata": {},
     "output_type": "display_data"
    }
   ],
   "source": [
    "happiness = initialize_dictionary(states_dictionary)\n",
    "for each_state in happiness:\n",
    "    if number_twitts_by_state[each_state] == 0:\n",
    "        happiness[each_state] = 0\n",
    "    else:     \n",
    "        happiness[each_state] = happiness_by_state[each_state] / number_twitts_by_state[each_state]\n",
    "\n",
    "states_sorted = []\n",
    "happiness_sorted = []\n",
    "i = 1\n",
    "for k in sorted(happiness, key=happiness.get, reverse=True):\n",
    "    if i < 10:\n",
    "        states_sorted.append('0' + str(i) + \" \" + states_by_code[k])\n",
    "    else:\n",
    "        states_sorted.append(str(i) + \" \" + states_by_code[k])\n",
    "    happiness_sorted.append(happiness[k])\n",
    "    i+=1\n",
    "    \n",
    "plot_bar_chart('Happiness of twitter users in USA by states', {\n",
    "    'state': states_sorted,\n",
    "    'happiness': happiness_sorted\n",
    "}, 'happiness', 'state')"
   ]
  },
  {
   "cell_type": "markdown",
   "metadata": {},
   "source": [
    "\n",
    "\n",
    "***\n",
    "\n",
    "\n",
    "### 6. Conclusions and observations ###\n",
    "\n",
    "The porpouse of this work is to practice with python and it is not intented to actually analyze the happiness of the USA users of twitter. This analysis is not valid because the sample is too small and it is not uniformly distributed through the different states because some states are sampled in different hours."
   ]
  }
 ],
 "metadata": {
  "anaconda-cloud": {},
  "kernelspec": {
   "display_name": "Python [Root]",
   "language": "python",
   "name": "Python [Root]"
  },
  "language_info": {
   "codemirror_mode": {
    "name": "ipython",
    "version": 3
   },
   "file_extension": ".py",
   "mimetype": "text/x-python",
   "name": "python",
   "nbconvert_exporter": "python",
   "pygments_lexer": "ipython3",
   "version": "3.5.2"
  },
  "nbpresent": {
   "slides": {
    "1b34e7f1-4f77-4bfe-971e-ecc3635d6e13": {
     "id": "1b34e7f1-4f77-4bfe-971e-ecc3635d6e13",
     "prev": null,
     "regions": {
      "741da302-e7da-4e37-a87f-eac4122921c8": {
       "attrs": {
        "height": 0.8,
        "width": 0.8,
        "x": 0.1,
        "y": 0.1
       },
       "content": {
        "cell": "6c10e8af-33e7-4c50-ba43-497b008f4f08",
        "part": "whole"
       },
       "id": "741da302-e7da-4e37-a87f-eac4122921c8"
      }
     }
    },
    "1c5f526e-f1ef-4694-8385-8eefb882f3dc": {
     "id": "1c5f526e-f1ef-4694-8385-8eefb882f3dc",
     "prev": "1b34e7f1-4f77-4bfe-971e-ecc3635d6e13",
     "regions": {
      "06d9a43f-00e6-4fe4-8591-d6978f3b771c": {
       "attrs": {
        "height": 0.8,
        "width": 0.8,
        "x": 0.1,
        "y": 0.1
       },
       "content": {
        "cell": "2bce6d5c-1cdf-4b34-a07f-48cedbb7ad89",
        "part": "whole"
       },
       "id": "06d9a43f-00e6-4fe4-8591-d6978f3b771c"
      }
     }
    },
    "53021ce6-3980-42ba-8e02-ef353318f006": {
     "id": "53021ce6-3980-42ba-8e02-ef353318f006",
     "prev": "1c5f526e-f1ef-4694-8385-8eefb882f3dc",
     "regions": {
      "908b0d7d-3210-4e64-98d5-1422f3aacf9e": {
       "attrs": {
        "height": 0.8,
        "width": 0.8,
        "x": 0.1,
        "y": 0.1
       },
       "content": {
        "cell": "c82dc840-9cbc-4af5-b97a-758bd12021ec",
        "part": "whole"
       },
       "id": "908b0d7d-3210-4e64-98d5-1422f3aacf9e"
      }
     }
    }
   },
   "themes": {}
  }
 },
 "nbformat": 4,
 "nbformat_minor": 0
}
